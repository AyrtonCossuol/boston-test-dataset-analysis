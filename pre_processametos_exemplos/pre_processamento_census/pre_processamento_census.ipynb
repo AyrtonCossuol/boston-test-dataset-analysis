{
  "nbformat": 4,
  "nbformat_minor": 0,
  "metadata": {
    "colab": {
      "name": "pre_processamento_census.ipynb",
      "provenance": []
    },
    "kernelspec": {
      "name": "python3",
      "display_name": "Python 3"
    }
  },
  "cells": [
    {
      "cell_type": "code",
      "metadata": {
        "colab": {
          "base_uri": "https://localhost:8080/"
        },
        "id": "BaXFy2MjhI2I",
        "outputId": "5d99a3d5-ff9c-480a-8cc9-46862655dadf"
      },
      "source": [
        "from google.colab import drive\n",
        "drive.mount('/content/drive')"
      ],
      "execution_count": 1,
      "outputs": [
        {
          "output_type": "stream",
          "text": [
            "Mounted at /content/drive\n"
          ],
          "name": "stdout"
        }
      ]
    },
    {
      "cell_type": "markdown",
      "metadata": {
        "id": "RANA_44xh6ij"
      },
      "source": [
        "# 1 - Importação dos dados"
      ]
    },
    {
      "cell_type": "code",
      "metadata": {
        "id": "6H2DDuT8hevy"
      },
      "source": [
        "import pandas as pd"
      ],
      "execution_count": 2,
      "outputs": []
    },
    {
      "cell_type": "code",
      "metadata": {
        "colab": {
          "base_uri": "https://localhost:8080/",
          "height": 394
        },
        "id": "oogGU3DniL5q",
        "outputId": "72f0fdd6-6be5-43ed-ec13-e060bb732d96"
      },
      "source": [
        "base = pd.read_csv('/content/drive/MyDrive/Colab Notebooks/Machine Learning e Data Science com Python de A a Z/Secao3/census.csv')\n",
        "base.head()"
      ],
      "execution_count": 31,
      "outputs": [
        {
          "output_type": "execute_result",
          "data": {
            "text/html": [
              "<div>\n",
              "<style scoped>\n",
              "    .dataframe tbody tr th:only-of-type {\n",
              "        vertical-align: middle;\n",
              "    }\n",
              "\n",
              "    .dataframe tbody tr th {\n",
              "        vertical-align: top;\n",
              "    }\n",
              "\n",
              "    .dataframe thead th {\n",
              "        text-align: right;\n",
              "    }\n",
              "</style>\n",
              "<table border=\"1\" class=\"dataframe\">\n",
              "  <thead>\n",
              "    <tr style=\"text-align: right;\">\n",
              "      <th></th>\n",
              "      <th>age</th>\n",
              "      <th>workclass</th>\n",
              "      <th>final-weight</th>\n",
              "      <th>education</th>\n",
              "      <th>education-num</th>\n",
              "      <th>marital-status</th>\n",
              "      <th>occupation</th>\n",
              "      <th>relationship</th>\n",
              "      <th>race</th>\n",
              "      <th>sex</th>\n",
              "      <th>capital-gain</th>\n",
              "      <th>capital-loos</th>\n",
              "      <th>hour-per-week</th>\n",
              "      <th>native-country</th>\n",
              "      <th>income</th>\n",
              "    </tr>\n",
              "  </thead>\n",
              "  <tbody>\n",
              "    <tr>\n",
              "      <th>0</th>\n",
              "      <td>39</td>\n",
              "      <td>State-gov</td>\n",
              "      <td>77516</td>\n",
              "      <td>Bachelors</td>\n",
              "      <td>13</td>\n",
              "      <td>Never-married</td>\n",
              "      <td>Adm-clerical</td>\n",
              "      <td>Not-in-family</td>\n",
              "      <td>White</td>\n",
              "      <td>Male</td>\n",
              "      <td>2174</td>\n",
              "      <td>0</td>\n",
              "      <td>40</td>\n",
              "      <td>United-States</td>\n",
              "      <td>&lt;=50K</td>\n",
              "    </tr>\n",
              "    <tr>\n",
              "      <th>1</th>\n",
              "      <td>50</td>\n",
              "      <td>Self-emp-not-inc</td>\n",
              "      <td>83311</td>\n",
              "      <td>Bachelors</td>\n",
              "      <td>13</td>\n",
              "      <td>Married-civ-spouse</td>\n",
              "      <td>Exec-managerial</td>\n",
              "      <td>Husband</td>\n",
              "      <td>White</td>\n",
              "      <td>Male</td>\n",
              "      <td>0</td>\n",
              "      <td>0</td>\n",
              "      <td>13</td>\n",
              "      <td>United-States</td>\n",
              "      <td>&lt;=50K</td>\n",
              "    </tr>\n",
              "    <tr>\n",
              "      <th>2</th>\n",
              "      <td>38</td>\n",
              "      <td>Private</td>\n",
              "      <td>215646</td>\n",
              "      <td>HS-grad</td>\n",
              "      <td>9</td>\n",
              "      <td>Divorced</td>\n",
              "      <td>Handlers-cleaners</td>\n",
              "      <td>Not-in-family</td>\n",
              "      <td>White</td>\n",
              "      <td>Male</td>\n",
              "      <td>0</td>\n",
              "      <td>0</td>\n",
              "      <td>40</td>\n",
              "      <td>United-States</td>\n",
              "      <td>&lt;=50K</td>\n",
              "    </tr>\n",
              "    <tr>\n",
              "      <th>3</th>\n",
              "      <td>53</td>\n",
              "      <td>Private</td>\n",
              "      <td>234721</td>\n",
              "      <td>11th</td>\n",
              "      <td>7</td>\n",
              "      <td>Married-civ-spouse</td>\n",
              "      <td>Handlers-cleaners</td>\n",
              "      <td>Husband</td>\n",
              "      <td>Black</td>\n",
              "      <td>Male</td>\n",
              "      <td>0</td>\n",
              "      <td>0</td>\n",
              "      <td>40</td>\n",
              "      <td>United-States</td>\n",
              "      <td>&lt;=50K</td>\n",
              "    </tr>\n",
              "    <tr>\n",
              "      <th>4</th>\n",
              "      <td>28</td>\n",
              "      <td>Private</td>\n",
              "      <td>338409</td>\n",
              "      <td>Bachelors</td>\n",
              "      <td>13</td>\n",
              "      <td>Married-civ-spouse</td>\n",
              "      <td>Prof-specialty</td>\n",
              "      <td>Wife</td>\n",
              "      <td>Black</td>\n",
              "      <td>Female</td>\n",
              "      <td>0</td>\n",
              "      <td>0</td>\n",
              "      <td>40</td>\n",
              "      <td>Cuba</td>\n",
              "      <td>&lt;=50K</td>\n",
              "    </tr>\n",
              "  </tbody>\n",
              "</table>\n",
              "</div>"
            ],
            "text/plain": [
              "   age          workclass  final-weight  ... hour-per-week  native-country  income\n",
              "0   39          State-gov         77516  ...            40   United-States   <=50K\n",
              "1   50   Self-emp-not-inc         83311  ...            13   United-States   <=50K\n",
              "2   38            Private        215646  ...            40   United-States   <=50K\n",
              "3   53            Private        234721  ...            40   United-States   <=50K\n",
              "4   28            Private        338409  ...            40            Cuba   <=50K\n",
              "\n",
              "[5 rows x 15 columns]"
            ]
          },
          "metadata": {
            "tags": []
          },
          "execution_count": 31
        }
      ]
    },
    {
      "cell_type": "code",
      "metadata": {
        "colab": {
          "base_uri": "https://localhost:8080/"
        },
        "id": "DOfXhOVLiL75",
        "outputId": "d9a04e20-a1de-44e9-a7cd-f22281843286"
      },
      "source": [
        "base.info()"
      ],
      "execution_count": 5,
      "outputs": [
        {
          "output_type": "stream",
          "text": [
            "<class 'pandas.core.frame.DataFrame'>\n",
            "RangeIndex: 32561 entries, 0 to 32560\n",
            "Data columns (total 15 columns):\n",
            " #   Column          Non-Null Count  Dtype \n",
            "---  ------          --------------  ----- \n",
            " 0   age             32561 non-null  int64 \n",
            " 1   workclass       32561 non-null  object\n",
            " 2   final-weight    32561 non-null  int64 \n",
            " 3   education       32561 non-null  object\n",
            " 4   education-num   32561 non-null  int64 \n",
            " 5   marital-status  32561 non-null  object\n",
            " 6   occupation      32561 non-null  object\n",
            " 7   relationship    32561 non-null  object\n",
            " 8   race            32561 non-null  object\n",
            " 9   sex             32561 non-null  object\n",
            " 10  capital-gain    32561 non-null  int64 \n",
            " 11  capital-loos    32561 non-null  int64 \n",
            " 12  hour-per-week   32561 non-null  int64 \n",
            " 13  native-country  32561 non-null  object\n",
            " 14  income          32561 non-null  object\n",
            "dtypes: int64(6), object(9)\n",
            "memory usage: 3.7+ MB\n"
          ],
          "name": "stdout"
        }
      ]
    },
    {
      "cell_type": "markdown",
      "metadata": {
        "id": "xE0Em9QihzKJ"
      },
      "source": [
        "# 2 - Dicionario de dados\n"
      ]
    },
    {
      "cell_type": "markdown",
      "metadata": {
        "id": "50_mz0fZ2Xx0"
      },
      "source": [
        "Detalhes:\n",
        "- age: idade (Variável numérica discreta)\n",
        " \n",
        "- workclass: tipo de emprego (Variável categórica nominal)\n",
        " \n",
        "- final-weight: característica demográfica/socioeconômica (Variável numérica discreta)\n",
        " \n",
        "- education: tipo de educação (Variável categórica ordinal)\n",
        " \n",
        "- education-num: quantidade de anos que a pessoa está estudando (variável numérica discreta)\n",
        " \n",
        "- marital-status: estado civil (Variável categórica ordinal)\n",
        " \n",
        "- occupation: tipo de trabalho (Variável categórica nominal)\n",
        " \n",
        "- relationship: relacionamento (Variável categórica nominal)\n",
        " \n",
        "- race: raça (Variável categórica nominal)\n",
        " \n",
        "- sex: sexo (Variavel categórica nominal)\n",
        " \n",
        "- capital-gain: ganho de capital (Variável numérica contínua)\n",
        " \n",
        "- capital-loss: perda de capital (Variável numérica contínua)\n",
        " \n",
        "- hour-per-week: horas de trabalho por semana (Variável numérica discreta)\n",
        " \n",
        "- native-country: nacionalidade (Variável categórica nominal)\n",
        " \n",
        "- income: renda (Variável categórica nominal)\n"
      ]
    },
    {
      "cell_type": "markdown",
      "metadata": {
        "id": "2UWVZipdii8z"
      },
      "source": [
        "# 3 - Processamento \n",
        " "
      ]
    },
    {
      "cell_type": "markdown",
      "metadata": {
        "id": "hSX-ivPB108F"
      },
      "source": [
        "## 3.1 - Separando a base em previsões e classes"
      ]
    },
    {
      "cell_type": "code",
      "metadata": {
        "colab": {
          "base_uri": "https://localhost:8080/"
        },
        "id": "EpkLk6GvilqR",
        "outputId": "eafbf16d-1941-4677-ac5c-169503de201d"
      },
      "source": [
        "previsores = base.iloc[:, 0:14].values\n",
        "previsores"
      ],
      "execution_count": 32,
      "outputs": [
        {
          "output_type": "execute_result",
          "data": {
            "text/plain": [
              "array([[39, ' State-gov', 77516, ..., 0, 40, ' United-States'],\n",
              "       [50, ' Self-emp-not-inc', 83311, ..., 0, 13, ' United-States'],\n",
              "       [38, ' Private', 215646, ..., 0, 40, ' United-States'],\n",
              "       ...,\n",
              "       [58, ' Private', 151910, ..., 0, 40, ' United-States'],\n",
              "       [22, ' Private', 201490, ..., 0, 20, ' United-States'],\n",
              "       [52, ' Self-emp-inc', 287927, ..., 0, 40, ' United-States']],\n",
              "      dtype=object)"
            ]
          },
          "metadata": {
            "tags": []
          },
          "execution_count": 32
        }
      ]
    },
    {
      "cell_type": "code",
      "metadata": {
        "colab": {
          "base_uri": "https://localhost:8080/"
        },
        "id": "Vv3YUrARju7w",
        "outputId": "a79c06f5-5a77-4cc3-d35b-ddde99177024"
      },
      "source": [
        "classe = base.iloc[:, 14].values\n",
        "classe"
      ],
      "execution_count": 33,
      "outputs": [
        {
          "output_type": "execute_result",
          "data": {
            "text/plain": [
              "array([' <=50K', ' <=50K', ' <=50K', ..., ' <=50K', ' <=50K', ' >50K'],\n",
              "      dtype=object)"
            ]
          },
          "metadata": {
            "tags": []
          },
          "execution_count": 33
        }
      ]
    },
    {
      "cell_type": "markdown",
      "metadata": {
        "id": "b4BvNbuq17O0"
      },
      "source": [
        "## 3.2 - Transformação das variáveis categóricas"
      ]
    },
    {
      "cell_type": "code",
      "metadata": {
        "id": "kpHhxDwUj73C"
      },
      "source": [
        "from sklearn.preprocessing import LabelEncoder, OneHotEncoder"
      ],
      "execution_count": 34,
      "outputs": []
    },
    {
      "cell_type": "code",
      "metadata": {
        "id": "5JQIW5STkIw-"
      },
      "source": [
        "labelEncoder_previsores = LabelEncoder()"
      ],
      "execution_count": 35,
      "outputs": []
    },
    {
      "cell_type": "code",
      "metadata": {
        "id": "IxYVetgGkO6U"
      },
      "source": [
        "# teste\n",
        "# labels = labelEncoder_previsores.fit_transform(previsores[:, 1])\n",
        "# labels"
      ],
      "execution_count": 36,
      "outputs": []
    },
    {
      "cell_type": "code",
      "metadata": {
        "colab": {
          "base_uri": "https://localhost:8080/"
        },
        "id": "cLfHzNNpkYAM",
        "outputId": "1a0912aa-1d0e-418f-a64a-74b97f0115aa"
      },
      "source": [
        "previsores[:, 1] = labelEncoder_previsores.fit_transform(previsores[:, 1])\n",
        "previsores[:, 3] = labelEncoder_previsores.fit_transform(previsores[:, 3])\n",
        "previsores[:, 5] = labelEncoder_previsores.fit_transform(previsores[:, 5])\n",
        "previsores[:, 6] = labelEncoder_previsores.fit_transform(previsores[:, 6])\n",
        "previsores[:, 7] = labelEncoder_previsores.fit_transform(previsores[:, 7])\n",
        "previsores[:, 8] = labelEncoder_previsores.fit_transform(previsores[:, 8])\n",
        "previsores[:, 9] = labelEncoder_previsores.fit_transform(previsores[:, 9])\n",
        "previsores[:, 13] = labelEncoder_previsores.fit_transform(previsores[:, 13])\n",
        "previsores"
      ],
      "execution_count": 37,
      "outputs": [
        {
          "output_type": "execute_result",
          "data": {
            "text/plain": [
              "array([[39, 7, 77516, ..., 0, 40, 39],\n",
              "       [50, 6, 83311, ..., 0, 13, 39],\n",
              "       [38, 4, 215646, ..., 0, 40, 39],\n",
              "       ...,\n",
              "       [58, 4, 151910, ..., 0, 40, 39],\n",
              "       [22, 4, 201490, ..., 0, 20, 39],\n",
              "       [52, 5, 287927, ..., 0, 40, 39]], dtype=object)"
            ]
          },
          "metadata": {
            "tags": []
          },
          "execution_count": 37
        }
      ]
    },
    {
      "cell_type": "code",
      "metadata": {
        "id": "35LklhelpWHP"
      },
      "source": [
        "onehotencoder = OneHotEncoder()"
      ],
      "execution_count": 38,
      "outputs": []
    },
    {
      "cell_type": "code",
      "metadata": {
        "id": "hlH9-ZobvcaZ"
      },
      "source": [
        "previsores = onehotencoder.fit_transform(previsores[:, [1, 3, 5, 6, 7, 8, 9, 13]]).toarray()"
      ],
      "execution_count": 39,
      "outputs": []
    },
    {
      "cell_type": "code",
      "metadata": {
        "colab": {
          "base_uri": "https://localhost:8080/"
        },
        "id": "3i9VboTlvtLC",
        "outputId": "43bc8d23-24e3-45e2-d3d9-47d3aba3ccfc"
      },
      "source": [
        "previsores"
      ],
      "execution_count": 40,
      "outputs": [
        {
          "output_type": "execute_result",
          "data": {
            "text/plain": [
              "array([[0., 0., 0., ..., 1., 0., 0.],\n",
              "       [0., 0., 0., ..., 1., 0., 0.],\n",
              "       [0., 0., 0., ..., 1., 0., 0.],\n",
              "       ...,\n",
              "       [0., 0., 0., ..., 1., 0., 0.],\n",
              "       [0., 0., 0., ..., 1., 0., 0.],\n",
              "       [0., 0., 0., ..., 1., 0., 0.]])"
            ]
          },
          "metadata": {
            "tags": []
          },
          "execution_count": 40
        }
      ]
    },
    {
      "cell_type": "code",
      "metadata": {
        "colab": {
          "base_uri": "https://localhost:8080/"
        },
        "id": "-DmYb19xvuf8",
        "outputId": "e7044084-51de-4887-a98a-8b21ee9c3ec8"
      },
      "source": [
        "previsores.shape"
      ],
      "execution_count": 41,
      "outputs": [
        {
          "output_type": "execute_result",
          "data": {
            "text/plain": [
              "(32561, 102)"
            ]
          },
          "metadata": {
            "tags": []
          },
          "execution_count": 41
        }
      ]
    },
    {
      "cell_type": "code",
      "metadata": {
        "id": "hEHhPqDzvz6E"
      },
      "source": [
        "labelEncoder_classe = LabelEncoder()"
      ],
      "execution_count": 42,
      "outputs": []
    },
    {
      "cell_type": "code",
      "metadata": {
        "colab": {
          "base_uri": "https://localhost:8080/"
        },
        "id": "-aiSmoauwIOl",
        "outputId": "88f4bdad-2706-4581-ef61-b1f32276c201"
      },
      "source": [
        "classe = labelEncoder_classe.fit_transform(classe)\n",
        "classe"
      ],
      "execution_count": 43,
      "outputs": [
        {
          "output_type": "execute_result",
          "data": {
            "text/plain": [
              "array([0, 0, 0, ..., 0, 0, 1])"
            ]
          },
          "metadata": {
            "tags": []
          },
          "execution_count": 43
        }
      ]
    },
    {
      "cell_type": "markdown",
      "metadata": {
        "id": "ygxzqbVT2PBc"
      },
      "source": [
        "## 3.3 - Escalonamento dos valores"
      ]
    },
    {
      "cell_type": "code",
      "metadata": {
        "id": "eIiZjFeqwLvJ"
      },
      "source": [
        "from sklearn.preprocessing import StandardScaler"
      ],
      "execution_count": 44,
      "outputs": []
    },
    {
      "cell_type": "code",
      "metadata": {
        "id": "BwWqPAbI1jzc"
      },
      "source": [
        "scaler = StandardScaler()"
      ],
      "execution_count": 45,
      "outputs": []
    },
    {
      "cell_type": "code",
      "metadata": {
        "colab": {
          "base_uri": "https://localhost:8080/"
        },
        "id": "dTTEovav1lpb",
        "outputId": "6fb65eed-7b76-4508-dda6-3cc5f85248cd"
      },
      "source": [
        "previsores = scaler.fit_transform(previsores)\n",
        "previsores"
      ],
      "execution_count": 46,
      "outputs": [
        {
          "output_type": "execute_result",
          "data": {
            "text/plain": [
              "array([[-0.2444502 , -0.17429511, -0.26209736, ...,  0.34095391,\n",
              "        -0.04540836, -0.02217266],\n",
              "       [-0.2444502 , -0.17429511, -0.26209736, ...,  0.34095391,\n",
              "        -0.04540836, -0.02217266],\n",
              "       [-0.2444502 , -0.17429511, -0.26209736, ...,  0.34095391,\n",
              "        -0.04540836, -0.02217266],\n",
              "       ...,\n",
              "       [-0.2444502 , -0.17429511, -0.26209736, ...,  0.34095391,\n",
              "        -0.04540836, -0.02217266],\n",
              "       [-0.2444502 , -0.17429511, -0.26209736, ...,  0.34095391,\n",
              "        -0.04540836, -0.02217266],\n",
              "       [-0.2444502 , -0.17429511, -0.26209736, ...,  0.34095391,\n",
              "        -0.04540836, -0.02217266]])"
            ]
          },
          "metadata": {
            "tags": []
          },
          "execution_count": 46
        }
      ]
    }
  ]
}