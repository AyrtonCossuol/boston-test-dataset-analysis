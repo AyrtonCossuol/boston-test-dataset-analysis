{
  "nbformat": 4,
  "nbformat_minor": 0,
  "metadata": {
    "colab": {
      "name": "desafio_tractian.ipynb",
      "provenance": []
    },
    "kernelspec": {
      "name": "python3",
      "display_name": "Python 3"
    }
  },
  "cells": [
    {
      "cell_type": "code",
      "metadata": {
        "colab": {
          "base_uri": "https://localhost:8080/"
        },
        "id": "g0I1CSf4axw1",
        "outputId": "48ba2209-055f-4072-b8a8-ef7654d3cd52"
      },
      "source": [
        "from google.colab import drive\r\n",
        "drive.mount('/content/drive')"
      ],
      "execution_count": 1,
      "outputs": [
        {
          "output_type": "stream",
          "text": [
            "Drive already mounted at /content/drive; to attempt to forcibly remount, call drive.mount(\"/content/drive\", force_remount=True).\n"
          ],
          "name": "stdout"
        }
      ]
    },
    {
      "cell_type": "markdown",
      "metadata": {
        "id": "jB5x2slzYQ0L"
      },
      "source": [
        "# 1 - Importação das bibliotecas"
      ]
    },
    {
      "cell_type": "code",
      "metadata": {
        "id": "Z0CX2JcKbAQp"
      },
      "source": [
        "import pandas as pd\r\n",
        "import numpy as np\r\n",
        "\r\n",
        "from numpy.fft import fft, fftfreq, fftshift\r\n",
        "\r\n",
        "import matplotlib.pyplot as plt"
      ],
      "execution_count": 2,
      "outputs": []
    },
    {
      "cell_type": "markdown",
      "metadata": {
        "id": "xf3ApVPgYVAn"
      },
      "source": [
        "# 2 - Importação das base "
      ]
    },
    {
      "cell_type": "code",
      "metadata": {
        "id": "jNy852nZbLsA"
      },
      "source": [
        "path_0 = '/content/drive/MyDrive/Colab Notebooks/Desafio Tractian/Coletas-Geladeira/1589749293-1589749360.csv'\r\n",
        "path_1 = '/content/drive/MyDrive/Colab Notebooks/Desafio Tractian/Coletas-Geladeira/1589745611-1589745678.csv'\r\n",
        "path_2 = '/content/drive/MyDrive/Colab Notebooks/Desafio Tractian/Coletas-Geladeira/1589741926-1589741992.csv'\r\n",
        "path_3 = '/content/drive/MyDrive/Colab Notebooks/Desafio Tractian/Coletas-Geladeira/1589738236-1589738304.csv'\r\n",
        "path_4 = '/content/drive/MyDrive/Colab Notebooks/Desafio Tractian/Coletas-Geladeira/1589734547-1589734613.csv'\r\n",
        "path_5 = '/content/drive/MyDrive/Colab Notebooks/Desafio Tractian/Coletas-Geladeira/1589730864-1589730930.csv'\r\n",
        "path_6 = '/content/drive/MyDrive/Colab Notebooks/Desafio Tractian/Coletas-Geladeira/1589727180-1589727247.csv'\r\n",
        "path_7 = '/content/drive/MyDrive/Colab Notebooks/Desafio Tractian/Coletas-Geladeira/1589723497-1589723562.csv'\r\n",
        "path_8 = '/content/drive/MyDrive/Colab Notebooks/Desafio Tractian/Coletas-Geladeira/1589719814-1589719881.csv'\r\n",
        "path_9 = '/content/drive/MyDrive/Colab Notebooks/Desafio Tractian/Coletas-Geladeira/1589716130-1589716198.csv'\r\n",
        "path_10 = '/content/drive/MyDrive/Colab Notebooks/Desafio Tractian/Coletas-Geladeira/1589712447-1589712513.csv'\r\n",
        "path_11 = '/content/drive/MyDrive/Colab Notebooks/Desafio Tractian/Coletas-Geladeira/1589708764-1589708830.csv'\r\n",
        "path_12 = '/content/drive/MyDrive/Colab Notebooks/Desafio Tractian/Coletas-Geladeira/1589705079-1589705146.csv'\r\n",
        "path_13 = '/content/drive/MyDrive/Colab Notebooks/Desafio Tractian/Coletas-Geladeira/1589701392-1589701458.csv'\r\n",
        "path_14 = '/content/drive/MyDrive/Colab Notebooks/Desafio Tractian/Coletas-Geladeira/1589697708-1589697775.csv'\r\n",
        "path_15 = '/content/drive/MyDrive/Colab Notebooks/Desafio Tractian/Coletas-Geladeira/1589694024-1589694091.csv'\r\n",
        "path_16 = '/content/drive/MyDrive/Colab Notebooks/Desafio Tractian/Coletas-Geladeira/1589690330-1589690396.csv'\r\n",
        "path_17 = '/content/drive/MyDrive/Colab Notebooks/Desafio Tractian/Coletas-Geladeira/1589686645-1589686713.csv'\r\n",
        "path_18 = '/content/drive/MyDrive/Colab Notebooks/Desafio Tractian/Coletas-Geladeira/1589682974-1589683028.csv'\r\n",
        "path_19 = '/content/drive/MyDrive/Colab Notebooks/Desafio Tractian/Coletas-Geladeira/1589679298-1589679343.csv'"
      ],
      "execution_count": 3,
      "outputs": []
    },
    {
      "cell_type": "code",
      "metadata": {
        "id": "F-pKLy0qHBHd"
      },
      "source": [
        "base_0 = pd.read_csv(path_0, names=['x', 'y', 'z', 'temperatura'])\r\n",
        "base_1 = pd.read_csv(path_1, names=['x', 'y', 'z', 'temperatura'])\r\n",
        "base_2 = pd.read_csv(path_2, names=['x', 'y', 'z', 'temperatura'])\r\n",
        "base_3 = pd.read_csv(path_3, names=['x', 'y', 'z', 'temperatura'])\r\n",
        "base_4 = pd.read_csv(path_4, names=['x', 'y', 'z', 'temperatura'])\r\n",
        "base_5 = pd.read_csv(path_5, names=['x', 'y', 'z', 'temperatura'])\r\n",
        "base_6 = pd.read_csv(path_6, names=['x', 'y', 'z', 'temperatura'])\r\n",
        "base_7 = pd.read_csv(path_7, names=['x', 'y', 'z', 'temperatura'])\r\n",
        "base_8 = pd.read_csv(path_8, names=['x', 'y', 'z', 'temperatura'])\r\n",
        "base_9 = pd.read_csv(path_9, names=['x', 'y', 'z', 'temperatura'])\r\n",
        "base_10 = pd.read_csv(path_10, names=['x', 'y', 'z', 'temperatura'])\r\n",
        "base_11 = pd.read_csv(path_11, names=['x', 'y', 'z', 'temperatura'])\r\n",
        "base_12 = pd.read_csv(path_12, names=['x', 'y', 'z', 'temperatura'])\r\n",
        "base_13 = pd.read_csv(path_13, names=['x', 'y', 'z', 'temperatura'])\r\n",
        "base_14 = pd.read_csv(path_14, names=['x', 'y', 'z', 'temperatura'])\r\n",
        "base_15 = pd.read_csv(path_15, names=['x', 'y', 'z', 'temperatura'])\r\n",
        "base_16 = pd.read_csv(path_16, names=['x', 'y', 'z', 'temperatura'])\r\n",
        "base_17 = pd.read_csv(path_17, names=['x', 'y', 'z', 'temperatura'])\r\n",
        "base_18 = pd.read_csv(path_18, names=['x', 'y', 'z', 'temperatura'])\r\n",
        "base_19 = pd.read_csv(path_19, names=['x', 'y', 'z', 'temperatura'])"
      ],
      "execution_count": 4,
      "outputs": []
    },
    {
      "cell_type": "code",
      "metadata": {
        "colab": {
          "base_uri": "https://localhost:8080/",
          "height": 204
        },
        "id": "R-ob-WjUHBJ_",
        "outputId": "3481deae-e9cd-472a-af39-98e30ce7ef63"
      },
      "source": [
        "# Fazendo a união de todas as bases\r\n",
        "df = pd.concat([base_0, base_1,\r\n",
        "                base_2,\r\n",
        "                base_3,\r\n",
        "                base_4,\r\n",
        "                base_5,\r\n",
        "                base_6,\r\n",
        "                base_7,\r\n",
        "                base_8,\r\n",
        "                base_9,\r\n",
        "                base_10,\r\n",
        "                base_11,\r\n",
        "                base_12,\r\n",
        "                base_13,\r\n",
        "                base_14,\r\n",
        "                base_15,\r\n",
        "                base_16,\r\n",
        "                base_17,\r\n",
        "                base_18,\r\n",
        "                base_19])\r\n",
        "\r\n",
        "df.head()"
      ],
      "execution_count": 5,
      "outputs": [
        {
          "output_type": "execute_result",
          "data": {
            "text/html": [
              "<div>\n",
              "<style scoped>\n",
              "    .dataframe tbody tr th:only-of-type {\n",
              "        vertical-align: middle;\n",
              "    }\n",
              "\n",
              "    .dataframe tbody tr th {\n",
              "        vertical-align: top;\n",
              "    }\n",
              "\n",
              "    .dataframe thead th {\n",
              "        text-align: right;\n",
              "    }\n",
              "</style>\n",
              "<table border=\"1\" class=\"dataframe\">\n",
              "  <thead>\n",
              "    <tr style=\"text-align: right;\">\n",
              "      <th></th>\n",
              "      <th>x</th>\n",
              "      <th>y</th>\n",
              "      <th>z</th>\n",
              "      <th>temperatura</th>\n",
              "    </tr>\n",
              "  </thead>\n",
              "  <tbody>\n",
              "    <tr>\n",
              "      <th>0</th>\n",
              "      <td>-9.58</td>\n",
              "      <td>-0.92</td>\n",
              "      <td>-2.36</td>\n",
              "      <td>47.31</td>\n",
              "    </tr>\n",
              "    <tr>\n",
              "      <th>1</th>\n",
              "      <td>-9.67</td>\n",
              "      <td>-1.35</td>\n",
              "      <td>-1.72</td>\n",
              "      <td>47.40</td>\n",
              "    </tr>\n",
              "    <tr>\n",
              "      <th>2</th>\n",
              "      <td>-9.42</td>\n",
              "      <td>-0.38</td>\n",
              "      <td>-0.88</td>\n",
              "      <td>47.31</td>\n",
              "    </tr>\n",
              "    <tr>\n",
              "      <th>3</th>\n",
              "      <td>-9.08</td>\n",
              "      <td>1.30</td>\n",
              "      <td>0.26</td>\n",
              "      <td>47.35</td>\n",
              "    </tr>\n",
              "    <tr>\n",
              "      <th>4</th>\n",
              "      <td>-9.02</td>\n",
              "      <td>1.30</td>\n",
              "      <td>-0.38</td>\n",
              "      <td>47.35</td>\n",
              "    </tr>\n",
              "  </tbody>\n",
              "</table>\n",
              "</div>"
            ],
            "text/plain": [
              "      x     y     z  temperatura\n",
              "0 -9.58 -0.92 -2.36        47.31\n",
              "1 -9.67 -1.35 -1.72        47.40\n",
              "2 -9.42 -0.38 -0.88        47.31\n",
              "3 -9.08  1.30  0.26        47.35\n",
              "4 -9.02  1.30 -0.38        47.35"
            ]
          },
          "metadata": {
            "tags": []
          },
          "execution_count": 5
        }
      ]
    },
    {
      "cell_type": "markdown",
      "metadata": {
        "id": "jzK5rxXYYeEo"
      },
      "source": [
        "# 3 - Dicionário de dados"
      ]
    },
    {
      "cell_type": "markdown",
      "metadata": {
        "id": "sFxYd6C-Yjda"
      },
      "source": [
        "1.  x -> aceleração no eixo x, em m/sˆ2\r\n",
        "2.  y -> aceleração no eixo y, em m/sˆ2\r\n",
        "3.  z -> aceleração no eixo z, em m/sˆ2\r\n",
        "4.  temperatura -> temperatura do mecanismo "
      ]
    },
    {
      "cell_type": "markdown",
      "metadata": {
        "id": "mjrGkBAmZa3g"
      },
      "source": [
        "# 4 - Detalhes e Análises"
      ]
    },
    {
      "cell_type": "code",
      "metadata": {
        "colab": {
          "base_uri": "https://localhost:8080/"
        },
        "id": "kN3e_WZaHBSq",
        "outputId": "3dac214d-8bcc-4e9c-c26a-b5c230330eae"
      },
      "source": [
        "# Quantidade de registros na base analisada \r\n",
        "df.shape"
      ],
      "execution_count": 6,
      "outputs": [
        {
          "output_type": "execute_result",
          "data": {
            "text/plain": [
              "(255125, 4)"
            ]
          },
          "metadata": {
            "tags": []
          },
          "execution_count": 6
        }
      ]
    },
    {
      "cell_type": "code",
      "metadata": {
        "colab": {
          "base_uri": "https://localhost:8080/",
          "height": 204
        },
        "id": "hT-X8AwgcNVP",
        "outputId": "1d59fdc0-8b8c-4ca5-82dd-128c2913253d"
      },
      "source": [
        "# Apagando a coluna temperatura como foi pedido na descrição do desafio\r\n",
        "df.drop('temperatura', axis=1, inplace=True)\r\n",
        "df.head()"
      ],
      "execution_count": 7,
      "outputs": [
        {
          "output_type": "execute_result",
          "data": {
            "text/html": [
              "<div>\n",
              "<style scoped>\n",
              "    .dataframe tbody tr th:only-of-type {\n",
              "        vertical-align: middle;\n",
              "    }\n",
              "\n",
              "    .dataframe tbody tr th {\n",
              "        vertical-align: top;\n",
              "    }\n",
              "\n",
              "    .dataframe thead th {\n",
              "        text-align: right;\n",
              "    }\n",
              "</style>\n",
              "<table border=\"1\" class=\"dataframe\">\n",
              "  <thead>\n",
              "    <tr style=\"text-align: right;\">\n",
              "      <th></th>\n",
              "      <th>x</th>\n",
              "      <th>y</th>\n",
              "      <th>z</th>\n",
              "    </tr>\n",
              "  </thead>\n",
              "  <tbody>\n",
              "    <tr>\n",
              "      <th>0</th>\n",
              "      <td>-9.58</td>\n",
              "      <td>-0.92</td>\n",
              "      <td>-2.36</td>\n",
              "    </tr>\n",
              "    <tr>\n",
              "      <th>1</th>\n",
              "      <td>-9.67</td>\n",
              "      <td>-1.35</td>\n",
              "      <td>-1.72</td>\n",
              "    </tr>\n",
              "    <tr>\n",
              "      <th>2</th>\n",
              "      <td>-9.42</td>\n",
              "      <td>-0.38</td>\n",
              "      <td>-0.88</td>\n",
              "    </tr>\n",
              "    <tr>\n",
              "      <th>3</th>\n",
              "      <td>-9.08</td>\n",
              "      <td>1.30</td>\n",
              "      <td>0.26</td>\n",
              "    </tr>\n",
              "    <tr>\n",
              "      <th>4</th>\n",
              "      <td>-9.02</td>\n",
              "      <td>1.30</td>\n",
              "      <td>-0.38</td>\n",
              "    </tr>\n",
              "  </tbody>\n",
              "</table>\n",
              "</div>"
            ],
            "text/plain": [
              "      x     y     z\n",
              "0 -9.58 -0.92 -2.36\n",
              "1 -9.67 -1.35 -1.72\n",
              "2 -9.42 -0.38 -0.88\n",
              "3 -9.08  1.30  0.26\n",
              "4 -9.02  1.30 -0.38"
            ]
          },
          "metadata": {
            "tags": []
          },
          "execution_count": 7
        }
      ]
    },
    {
      "cell_type": "code",
      "metadata": {
        "colab": {
          "base_uri": "https://localhost:8080/",
          "height": 142
        },
        "id": "VUrXO0lx1B4b",
        "outputId": "375ca4e7-19de-4272-d79e-90b62828d475"
      },
      "source": [
        "df.describe().T"
      ],
      "execution_count": 8,
      "outputs": [
        {
          "output_type": "execute_result",
          "data": {
            "text/html": [
              "<div>\n",
              "<style scoped>\n",
              "    .dataframe tbody tr th:only-of-type {\n",
              "        vertical-align: middle;\n",
              "    }\n",
              "\n",
              "    .dataframe tbody tr th {\n",
              "        vertical-align: top;\n",
              "    }\n",
              "\n",
              "    .dataframe thead th {\n",
              "        text-align: right;\n",
              "    }\n",
              "</style>\n",
              "<table border=\"1\" class=\"dataframe\">\n",
              "  <thead>\n",
              "    <tr style=\"text-align: right;\">\n",
              "      <th></th>\n",
              "      <th>count</th>\n",
              "      <th>mean</th>\n",
              "      <th>std</th>\n",
              "      <th>min</th>\n",
              "      <th>25%</th>\n",
              "      <th>50%</th>\n",
              "      <th>75%</th>\n",
              "      <th>max</th>\n",
              "    </tr>\n",
              "  </thead>\n",
              "  <tbody>\n",
              "    <tr>\n",
              "      <th>x</th>\n",
              "      <td>255125.0</td>\n",
              "      <td>-9.284836</td>\n",
              "      <td>0.285014</td>\n",
              "      <td>-11.77</td>\n",
              "      <td>-9.32</td>\n",
              "      <td>-9.28</td>\n",
              "      <td>-9.24</td>\n",
              "      <td>-6.74</td>\n",
              "    </tr>\n",
              "    <tr>\n",
              "      <th>y</th>\n",
              "      <td>255125.0</td>\n",
              "      <td>0.005739</td>\n",
              "      <td>0.674169</td>\n",
              "      <td>-1.98</td>\n",
              "      <td>-0.03</td>\n",
              "      <td>0.01</td>\n",
              "      <td>0.05</td>\n",
              "      <td>1.98</td>\n",
              "    </tr>\n",
              "    <tr>\n",
              "      <th>z</th>\n",
              "      <td>255125.0</td>\n",
              "      <td>-1.137486</td>\n",
              "      <td>0.789193</td>\n",
              "      <td>-4.99</td>\n",
              "      <td>-1.19</td>\n",
              "      <td>-1.12</td>\n",
              "      <td>-1.06</td>\n",
              "      <td>3.57</td>\n",
              "    </tr>\n",
              "  </tbody>\n",
              "</table>\n",
              "</div>"
            ],
            "text/plain": [
              "      count      mean       std    min   25%   50%   75%   max\n",
              "x  255125.0 -9.284836  0.285014 -11.77 -9.32 -9.28 -9.24 -6.74\n",
              "y  255125.0  0.005739  0.674169  -1.98 -0.03  0.01  0.05  1.98\n",
              "z  255125.0 -1.137486  0.789193  -4.99 -1.19 -1.12 -1.06  3.57"
            ]
          },
          "metadata": {
            "tags": []
          },
          "execution_count": 8
        }
      ]
    },
    {
      "cell_type": "markdown",
      "metadata": {
        "id": "WWOiCRhfZy-x"
      },
      "source": [
        "Algumas informações:\r\n",
        " \r\n",
        "1. As coordenadas X e Y tem uma variação bem pequena em relação a Z\r\n",
        "2. Os valores próximos do segundo quartil (50%) podem nos dizer quando o motor está desligado ou em funcionamento.\r\n"
      ]
    },
    {
      "cell_type": "code",
      "metadata": {
        "colab": {
          "base_uri": "https://localhost:8080/",
          "height": 404
        },
        "id": "jcciPEOncTVV",
        "outputId": "896213a9-e017-431d-e999-624c442e54f9"
      },
      "source": [
        "plt.figure(figsize=(16, 6))\r\n",
        "plt.plot(df['x'], label = 'Coordenada X')\r\n",
        "plt.plot(df['y'], label = 'Coordenada Y')\r\n",
        "plt.plot(df['z'], label = 'Coordenada Z')\r\n",
        "plt.title('Relação das coordenadas x Tempo')\r\n",
        "plt.xlabel('Tempo')\r\n",
        "plt.ylabel('Valores das acelerações')\r\n",
        "plt.legend()\r\n",
        "plt.show()"
      ],
      "execution_count": 9,
      "outputs": [
        {
          "output_type": "display_data",
          "data": {
            "image/png": "[encoded data removed]",
            "text/plain": [
              "<Figure size 1152x432 with 1 Axes>"
            ]
          },
          "metadata": {
            "tags": [],
            "needs_background": "light"
          }
        }
      ]
    },
    {
      "cell_type": "markdown",
      "metadata": {
        "id": "DDZlT95yLWCv"
      },
      "source": [
        "**Informações do gráfico:**\r\n",
        " \r\n",
        "1. Podemos notar que os valores das acelerações não estão próximas, como no  \r\n",
        "exemplo da das coordenadas Z e Y que estão bem próximas. O que se pode afirmar que o motor da geladeira nao esta em uma superfície plana, o que pode causar problemas no funcionamento do motor;\r\n",
        " \r\n",
        "2. Podemos notar que na coordenada Z, os valores estão tendo uma variação expressiva em relação às outras coordenadas, isso pode ocorrer pois o motor está desbalanceado.\r\n",
        " \r\n",
        "3. Outra informação dada pelo gráfico são os picos de recorrentes no decorrer das amostras. Esses picos podem ser devido ao funcionamento do motor no instante em que foi recolhido as amostras, onde podemos analisar que as coordenadas X e Z tem mudanças de valores expressivas, enquanto a coordenada Y quase não sofre alteração. \r\n"
      ]
    },
    {
      "cell_type": "markdown",
      "metadata": {
        "id": "FuTqSBRHayQo"
      },
      "source": [
        "## Transformações dos dados para a frequência.\r\n",
        " "
      ]
    },
    {
      "cell_type": "code",
      "metadata": {
        "id": "gzmpRcrb2mkm"
      },
      "source": [
        "tam = np.arange(0, len(df['x']))"
      ],
      "execution_count": 10,
      "outputs": []
    },
    {
      "cell_type": "code",
      "metadata": {
        "id": "2so6ZQgH8d0S"
      },
      "source": [
        "X = fft(df['x'])/len(tam)\r\n",
        "Y = fft(df['y'])/len(tam)\r\n",
        "Z = fft(df['y'])/len(tam)"
      ],
      "execution_count": 11,
      "outputs": []
    },
    {
      "cell_type": "code",
      "metadata": {
        "id": "oMSDMxvY8o1u"
      },
      "source": [
        "w = fftfreq(len(tam))"
      ],
      "execution_count": 12,
      "outputs": []
    },
    {
      "cell_type": "code",
      "metadata": {
        "id": "zHaR47Db82qr"
      },
      "source": [
        "wd = fftshift(w)\r\n",
        "Xd = fftshift(X)\r\n",
        "Yd = fftshift(Y)\r\n",
        "Zd = fftshift(Z)"
      ],
      "execution_count": 13,
      "outputs": []
    },
    {
      "cell_type": "code",
      "metadata": {
        "id": "cNOZMhiR9Lku"
      },
      "source": [
        "mod_X = np.abs(Xd)\r\n",
        "mod_Y = np.abs(Yd)\r\n",
        "mod_Z = np.abs(Zd)"
      ],
      "execution_count": 14,
      "outputs": []
    },
    {
      "cell_type": "code",
      "metadata": {
        "colab": {
          "base_uri": "https://localhost:8080/",
          "height": 390
        },
        "id": "8UWOPBLU89_C",
        "outputId": "a1926fef-1633-4cdd-f8d5-ccc04b4cfafa"
      },
      "source": [
        "plt.figure(figsize=(16, 6))\r\n",
        "plt.plot(wd, mod_X)\r\n",
        "plt.title('FFT da coordenada X')\r\n",
        "plt.show()"
      ],
      "execution_count": 15,
      "outputs": [
        {
          "output_type": "display_data",
          "data": {
            "image/png": "[encoded data removed]",
            "text/plain": [
              "<Figure size 1152x432 with 1 Axes>"
            ]
          },
          "metadata": {
            "tags": [],
            "needs_background": "light"
          }
        }
      ]
    },
    {
      "cell_type": "code",
      "metadata": {
        "colab": {
          "base_uri": "https://localhost:8080/",
          "height": 390
        },
        "id": "GuDO_c1qM2_w",
        "outputId": "5bc16106-4441-4f04-e5d0-340e66fbf8f4"
      },
      "source": [
        "plt.figure(figsize=(16, 6))\r\n",
        "plt.plot(wd, mod_Y)\r\n",
        "plt.title('FFT da coordenada Y')\r\n",
        "plt.show()"
      ],
      "execution_count": 16,
      "outputs": [
        {
          "output_type": "display_data",
          "data": {
            "image/png": "[encoded data removed]",
            "text/plain": [
              "<Figure size 1152x432 with 1 Axes>"
            ]
          },
          "metadata": {
            "tags": [],
            "needs_background": "light"
          }
        }
      ]
    },
    {
      "cell_type": "code",
      "metadata": {
        "colab": {
          "base_uri": "https://localhost:8080/",
          "height": 390
        },
        "id": "vtpZ0hc3M3C_",
        "outputId": "0a3b4039-ebf5-49db-86b1-205ac5ed19a7"
      },
      "source": [
        "plt.figure(figsize=(16, 6))\r\n",
        "plt.plot(wd, mod_Z)\r\n",
        "plt.title('FFT da coordenada Z')\r\n",
        "plt.show()"
      ],
      "execution_count": 17,
      "outputs": [
        {
          "output_type": "display_data",
          "data": {
            "image/png": "[encoded data removed]",
            "text/plain": [
              "<Figure size 1152x432 with 1 Axes>"
            ]
          },
          "metadata": {
            "tags": [],
            "needs_background": "light"
          }
        }
      ]
    },
    {
      "cell_type": "markdown",
      "metadata": {
        "id": "xjzZZB7TTu4L"
      },
      "source": [
        "Conclusões dos gráficos da fft:\r\n",
        " \r\n",
        "- O comportamento das coordenadas na frequência junto dos harmônicos apresentados somente nas coordenadas Y e Z.\r\n",
        "\r\n",
        "\r\n"
      ]
    }
  ]
}