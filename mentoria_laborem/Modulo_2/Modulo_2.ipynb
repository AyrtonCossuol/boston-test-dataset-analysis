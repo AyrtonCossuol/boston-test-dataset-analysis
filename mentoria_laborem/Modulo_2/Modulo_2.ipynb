{
  "nbformat": 4,
  "nbformat_minor": 0,
  "metadata": {
    "colab": {
      "name": "Modulo_2.ipynb",
      "provenance": []
    },
    "kernelspec": {
      "name": "python3",
      "display_name": "Python 3"
    }
  },
  "cells": [
    {
      "cell_type": "code",
      "metadata": {
        "id": "dGSbdr_4U77t",
        "colab": {
          "base_uri": "https://localhost:8080/"
        },
        "outputId": "f22d2d0d-a226-41f0-facc-067425cec4b8"
      },
      "source": [
        "from google.colab import drive\n",
        "drive.mount('/content/drive')"
      ],
      "execution_count": 1,
      "outputs": [
        {
          "output_type": "stream",
          "text": [
            "Drive already mounted at /content/drive; to attempt to forcibly remount, call drive.mount(\"/content/drive\", force_remount=True).\n"
          ],
          "name": "stdout"
        }
      ]
    },
    {
      "cell_type": "markdown",
      "metadata": {
        "id": "kXUKNQQDmbus"
      },
      "source": [
        "#Carregando os Dados"
      ]
    },
    {
      "cell_type": "markdown",
      "metadata": {
        "id": "CUJ4eu1XmiB3"
      },
      "source": [
        "### Importe das bibliotecas utilizadas"
      ]
    },
    {
      "cell_type": "code",
      "metadata": {
        "id": "vkar2ghtVet7"
      },
      "source": [
        "import pandas as pd\n",
        "import numpy as np\n",
        "import seaborn as sns  \n",
        "import matplotlib.pyplot as plt"
      ],
      "execution_count": 2,
      "outputs": []
    },
    {
      "cell_type": "code",
      "metadata": {
        "id": "ICTZ0NyAVofg",
        "colab": {
          "base_uri": "https://localhost:8080/",
          "height": 224
        },
        "outputId": "630f3d40-a477-495d-d006-3a8447393d8f"
      },
      "source": [
        "data = pd.read_excel('/content/drive/My Drive/Colab Notebooks/Modulo 2/Base Modulo 2.xlsx')\n",
        "data.head()"
      ],
      "execution_count": 3,
      "outputs": [
        {
          "output_type": "execute_result",
          "data": {
            "text/html": [
              "<div>\n",
              "<style scoped>\n",
              "    .dataframe tbody tr th:only-of-type {\n",
              "        vertical-align: middle;\n",
              "    }\n",
              "\n",
              "    .dataframe tbody tr th {\n",
              "        vertical-align: top;\n",
              "    }\n",
              "\n",
              "    .dataframe thead th {\n",
              "        text-align: right;\n",
              "    }\n",
              "</style>\n",
              "<table border=\"1\" class=\"dataframe\">\n",
              "  <thead>\n",
              "    <tr style=\"text-align: right;\">\n",
              "      <th></th>\n",
              "      <th>ID</th>\n",
              "      <th>age</th>\n",
              "      <th>job</th>\n",
              "      <th>marital</th>\n",
              "      <th>education</th>\n",
              "      <th>default</th>\n",
              "      <th>balance</th>\n",
              "      <th>housing</th>\n",
              "      <th>loan</th>\n",
              "      <th>contact</th>\n",
              "      <th>day</th>\n",
              "      <th>month</th>\n",
              "      <th>duration</th>\n",
              "      <th>campaign</th>\n",
              "      <th>pdays</th>\n",
              "      <th>previous</th>\n",
              "      <th>poutcome</th>\n",
              "      <th>subscribed</th>\n",
              "    </tr>\n",
              "  </thead>\n",
              "  <tbody>\n",
              "    <tr>\n",
              "      <th>0</th>\n",
              "      <td>26110</td>\n",
              "      <td>56</td>\n",
              "      <td>admin.</td>\n",
              "      <td>married</td>\n",
              "      <td>unknown</td>\n",
              "      <td>no</td>\n",
              "      <td>1933</td>\n",
              "      <td>no</td>\n",
              "      <td>no</td>\n",
              "      <td>telephone</td>\n",
              "      <td>19</td>\n",
              "      <td>nov</td>\n",
              "      <td>44</td>\n",
              "      <td>2</td>\n",
              "      <td>-1</td>\n",
              "      <td>0</td>\n",
              "      <td>unknown</td>\n",
              "      <td>no</td>\n",
              "    </tr>\n",
              "    <tr>\n",
              "      <th>1</th>\n",
              "      <td>40576</td>\n",
              "      <td>31</td>\n",
              "      <td>unknown</td>\n",
              "      <td>married</td>\n",
              "      <td>secondary</td>\n",
              "      <td>no</td>\n",
              "      <td>3</td>\n",
              "      <td>no</td>\n",
              "      <td>no</td>\n",
              "      <td>cellular</td>\n",
              "      <td>20</td>\n",
              "      <td>jul</td>\n",
              "      <td>91</td>\n",
              "      <td>2</td>\n",
              "      <td>-1</td>\n",
              "      <td>0</td>\n",
              "      <td>unknown</td>\n",
              "      <td>no</td>\n",
              "    </tr>\n",
              "    <tr>\n",
              "      <th>2</th>\n",
              "      <td>15320</td>\n",
              "      <td>27</td>\n",
              "      <td>services</td>\n",
              "      <td>married</td>\n",
              "      <td>secondary</td>\n",
              "      <td>no</td>\n",
              "      <td>891</td>\n",
              "      <td>yes</td>\n",
              "      <td>no</td>\n",
              "      <td>cellular</td>\n",
              "      <td>18</td>\n",
              "      <td>jul</td>\n",
              "      <td>240</td>\n",
              "      <td>1</td>\n",
              "      <td>-1</td>\n",
              "      <td>0</td>\n",
              "      <td>unknown</td>\n",
              "      <td>no</td>\n",
              "    </tr>\n",
              "    <tr>\n",
              "      <th>3</th>\n",
              "      <td>43962</td>\n",
              "      <td>57</td>\n",
              "      <td>management</td>\n",
              "      <td>divorced</td>\n",
              "      <td>tertiary</td>\n",
              "      <td>no</td>\n",
              "      <td>3287</td>\n",
              "      <td>no</td>\n",
              "      <td>no</td>\n",
              "      <td>cellular</td>\n",
              "      <td>22</td>\n",
              "      <td>jun</td>\n",
              "      <td>867</td>\n",
              "      <td>1</td>\n",
              "      <td>84</td>\n",
              "      <td>3</td>\n",
              "      <td>success</td>\n",
              "      <td>yes</td>\n",
              "    </tr>\n",
              "    <tr>\n",
              "      <th>4</th>\n",
              "      <td>29842</td>\n",
              "      <td>31</td>\n",
              "      <td>technician</td>\n",
              "      <td>married</td>\n",
              "      <td>secondary</td>\n",
              "      <td>no</td>\n",
              "      <td>119</td>\n",
              "      <td>yes</td>\n",
              "      <td>no</td>\n",
              "      <td>cellular</td>\n",
              "      <td>4</td>\n",
              "      <td>feb</td>\n",
              "      <td>380</td>\n",
              "      <td>1</td>\n",
              "      <td>-1</td>\n",
              "      <td>0</td>\n",
              "      <td>unknown</td>\n",
              "      <td>no</td>\n",
              "    </tr>\n",
              "  </tbody>\n",
              "</table>\n",
              "</div>"
            ],
            "text/plain": [
              "      ID  age         job   marital  ... pdays previous  poutcome subscribed\n",
              "0  26110   56      admin.   married  ...    -1        0   unknown         no\n",
              "1  40576   31     unknown   married  ...    -1        0   unknown         no\n",
              "2  15320   27    services   married  ...    -1        0   unknown         no\n",
              "3  43962   57  management  divorced  ...    84        3   success        yes\n",
              "4  29842   31  technician   married  ...    -1        0   unknown         no\n",
              "\n",
              "[5 rows x 18 columns]"
            ]
          },
          "metadata": {
            "tags": []
          },
          "execution_count": 3
        }
      ]
    },
    {
      "cell_type": "markdown",
      "metadata": {
        "id": "dw53NB7ACWIN"
      },
      "source": [
        "### Dicionário de dados."
      ]
    },
    {
      "cell_type": "markdown",
      "metadata": {
        "id": "zOux2CMNeDCn"
      },
      "source": [
        "1 - ID : ID do cliente\n",
        "\n",
        "2 - age: Número\n",
        "\n",
        "3 - job : tipo de emprego (categórico: \"admin.\", \"blue-collar\", \"entrepreneur\", \"housemaid\", \"management\", \"retired\", \"self-employed\", \"services\", \"student\", \"technician\", \"unemployed\", \"unknown\")\n",
        "\n",
        "4 - marital : estado civil (categórico: \"divorced\", \"married\", \"single\", \"divorced\")\n",
        "\n",
        "5 - education (categórica: \"primary\", \"secondary\", \"tertiary, \"unknown\")\n",
        "\n",
        "6 - default: se o crédito está inadimplente ou não (categórica: \"no\", \"yes\")\n",
        "\n",
        "7 - balance: tem dinheiro na conta (numérico)\n",
        "\n",
        "8 - housing: se possui casa (categorical: \"no\", \"yes\")\n",
        "\n",
        "9 - loan: se tem crédito à habitação (categórica: \"no\", \"yes\")\n",
        "\n",
        "10 - contact: tipo de comunicação do contato (categórico: \"cellular\", \"telephone\", \"unknown\")\n",
        "\n",
        "11 - month: último mês de contato do ano (categórico: \"jan\", ..., \"dec\")\n",
        "\n",
        "12 - day: último dia da semana de contato (categórico: \"mon\", \"tue\", \"wed\", \"thu\", \"fri\")\n",
        "\n",
        "13 - duration: duração do último contato, em segundos (numérico)\n",
        "\n",
        "14 - campaign: número de contatos realizados durante a campanha (numérico)\n",
        "\n",
        "15 - pdays: número de dias que passaram depois que o cliente foi contatado pela última vez em uma campanha anterior (numérico; -1 significa que o cliente não foi contatado anteriormente)\n",
        "\n",
        "16 - previous: número de contatos realizados antes desta campanha para os cliente (numérico)\n",
        "\n",
        "17 - poutcome: resultado da campanha de marketing anterior (categórica: \"failure\", \"unknown\", \"other\", \"success\")"
      ]
    },
    {
      "cell_type": "markdown",
      "metadata": {
        "id": "metmmdrFm9Yb"
      },
      "source": [
        "### Visão geral dos dados"
      ]
    },
    {
      "cell_type": "code",
      "metadata": {
        "id": "1CVkRkWDV2fv",
        "colab": {
          "base_uri": "https://localhost:8080/"
        },
        "outputId": "c9036be7-5475-498a-fb33-741ed3993563"
      },
      "source": [
        "data.shape"
      ],
      "execution_count": 4,
      "outputs": [
        {
          "output_type": "execute_result",
          "data": {
            "text/plain": [
              "(31647, 18)"
            ]
          },
          "metadata": {
            "tags": []
          },
          "execution_count": 4
        }
      ]
    },
    {
      "cell_type": "markdown",
      "metadata": {
        "id": "dJdXcsaFoC99"
      },
      "source": [
        "- Podemos perceber que existe **18 variáveis e 31647 observações** dentro da base."
      ]
    },
    {
      "cell_type": "code",
      "metadata": {
        "id": "sfE6Qt9IXeML",
        "colab": {
          "base_uri": "https://localhost:8080/"
        },
        "outputId": "752edd1c-18f3-49da-b900-71c8753c2708"
      },
      "source": [
        "data.columns"
      ],
      "execution_count": 5,
      "outputs": [
        {
          "output_type": "execute_result",
          "data": {
            "text/plain": [
              "Index(['ID', 'age', 'job', 'marital', 'education', 'default', 'balance',\n",
              "       'housing', 'loan', 'contact', 'day', 'month', 'duration', 'campaign',\n",
              "       'pdays', 'previous', 'poutcome', 'subscribed'],\n",
              "      dtype='object')"
            ]
          },
          "metadata": {
            "tags": []
          },
          "execution_count": 5
        }
      ]
    },
    {
      "cell_type": "markdown",
      "metadata": {
        "id": "8-FdHIn7oSI6"
      },
      "source": [
        "- Variáveis presentes na base."
      ]
    },
    {
      "cell_type": "code",
      "metadata": {
        "id": "ICmOQVPPXpPU",
        "colab": {
          "base_uri": "https://localhost:8080/"
        },
        "outputId": "3c270818-6895-47da-b13d-91c6050637f6"
      },
      "source": [
        "data.info()"
      ],
      "execution_count": 6,
      "outputs": [
        {
          "output_type": "stream",
          "text": [
            "<class 'pandas.core.frame.DataFrame'>\n",
            "RangeIndex: 31647 entries, 0 to 31646\n",
            "Data columns (total 18 columns):\n",
            " #   Column      Non-Null Count  Dtype \n",
            "---  ------      --------------  ----- \n",
            " 0   ID          31647 non-null  int64 \n",
            " 1   age         31647 non-null  int64 \n",
            " 2   job         31647 non-null  object\n",
            " 3   marital     31647 non-null  object\n",
            " 4   education   31647 non-null  object\n",
            " 5   default     31647 non-null  object\n",
            " 6   balance     31647 non-null  int64 \n",
            " 7   housing     31647 non-null  object\n",
            " 8   loan        31647 non-null  object\n",
            " 9   contact     31647 non-null  object\n",
            " 10  day         31647 non-null  int64 \n",
            " 11  month       31647 non-null  object\n",
            " 12  duration    31647 non-null  int64 \n",
            " 13  campaign    31647 non-null  int64 \n",
            " 14  pdays       31647 non-null  int64 \n",
            " 15  previous    31647 non-null  int64 \n",
            " 16  poutcome    31647 non-null  object\n",
            " 17  subscribed  31647 non-null  object\n",
            "dtypes: int64(8), object(10)\n",
            "memory usage: 4.3+ MB\n"
          ],
          "name": "stdout"
        }
      ]
    },
    {
      "cell_type": "markdown",
      "metadata": {
        "id": "9k-QXJKVpiTk"
      },
      "source": [
        "- Informações sobre cada variável, a quantidade de não nulos presente, e o tipo. Como não há variáveis faltantes, não tem a necessidade de fazer uma \"Engenharia dos dados\" para solucionar tal problema."
      ]
    },
    {
      "cell_type": "code",
      "metadata": {
        "id": "BJkdarNVpKMq",
        "colab": {
          "base_uri": "https://localhost:8080/"
        },
        "outputId": "eaf4bae6-de65-4304-826f-99a7e53d01f9"
      },
      "source": [
        "data.duplicated().sum()"
      ],
      "execution_count": 7,
      "outputs": [
        {
          "output_type": "execute_result",
          "data": {
            "text/plain": [
              "0"
            ]
          },
          "metadata": {
            "tags": []
          },
          "execution_count": 7
        }
      ]
    },
    {
      "cell_type": "markdown",
      "metadata": {
        "id": "zv3TSSQ6p_dS"
      },
      "source": [
        "- Verificando se há registros duplicados na base."
      ]
    },
    {
      "cell_type": "markdown",
      "metadata": {
        "id": "QLx3lBi3qS4M"
      },
      "source": [
        "# Análise exploratória dos dados\n",
        "Criação das plotagens para a analise das variaveis para iniciar o entendimento de como as variáveis podem se relacionar.\n"
      ]
    },
    {
      "cell_type": "code",
      "metadata": {
        "id": "YXW89kwhyhbl",
        "colab": {
          "base_uri": "https://localhost:8080/",
          "height": 444
        },
        "outputId": "20afb84b-e401-46cb-c3ea-9160902cc54e"
      },
      "source": [
        "order = ['blue-collar', 'management', 'technician', 'admin.', 'services', 'retired', 'self-employed', \n",
        "         'entrepreneur', 'unemployed', 'housemaid', 'student', 'unknown']\n",
        "\n",
        "plt.figure(figsize=(12, 6))\n",
        "sns.countplot(x=\"job\", hue=\"subscribed\", data=data, order = order)\n",
        "plt.xticks(rotation=60)\n",
        "plt.show()"
      ],
      "execution_count": 8,
      "outputs": [
        {
          "output_type": "display_data",
          "data": {
            "image/png": "[encoded data removed]",
            "text/plain": [
              "<Figure size 864x432 with 1 Axes>"
            ]
          },
          "metadata": {
            "tags": [],
            "needs_background": "light"
          }
        }
      ]
    },
    {
      "cell_type": "markdown",
      "metadata": {
        "id": "6xkm00i-rc7-"
      },
      "source": [
        "- Correlação dos trabalhos apresentados na base com quem aceitou ou não um depósito ."
      ]
    },
    {
      "cell_type": "code",
      "metadata": {
        "id": "xAgybdkByxdF",
        "colab": {
          "base_uri": "https://localhost:8080/",
          "height": 388
        },
        "outputId": "18465d28-4769-4c8b-fac6-ef2c1169ed6d"
      },
      "source": [
        "plt.figure(figsize=(12, 6))\n",
        "sns.countplot(x=\"marital\", hue=\"subscribed\", data=data)\n",
        "plt.xticks(rotation=0)\n",
        "plt.show()"
      ],
      "execution_count": 9,
      "outputs": [
        {
          "output_type": "display_data",
          "data": {
            "image/png": "[encoded data removed]",
            "text/plain": [
              "<Figure size 864x432 with 1 Axes>"
            ]
          },
          "metadata": {
            "tags": [],
            "needs_background": "light"
          }
        }
      ]
    },
    {
      "cell_type": "markdown",
      "metadata": {
        "id": "0GVthY_ose9X"
      },
      "source": [
        "- Correlação do estado civil com quem aceitou ou não um depósito. \n",
        "\n",
        "- Podemos notar que para quem é casado ('married') tem uma quantidade de aceitação do deposito em relação aos outros estado civil."
      ]
    },
    {
      "cell_type": "code",
      "metadata": {
        "id": "FU1RVLvfy9UO",
        "colab": {
          "base_uri": "https://localhost:8080/",
          "height": 388
        },
        "outputId": "c2117c77-0122-49d9-97a2-2e4bede9dcea"
      },
      "source": [
        "plt.figure(figsize=(12, 6))\n",
        "sns.countplot(x=\"education\", hue=\"subscribed\", data=data)\n",
        "plt.xticks(rotation=0)\n",
        "plt.show()"
      ],
      "execution_count": 10,
      "outputs": [
        {
          "output_type": "display_data",
          "data": {
            "image/png": "[encoded data removed]",
            "text/plain": [
              "<Figure size 864x432 with 1 Axes>"
            ]
          },
          "metadata": {
            "tags": [],
            "needs_background": "light"
          }
        }
      ]
    },
    {
      "cell_type": "markdown",
      "metadata": {
        "id": "K7snGftwtqLe"
      },
      "source": [
        "- Correlação da educação com quem aceitou ou não um depósito. \n",
        "\n",
        "- É visível também que para quem a educação em secondary e tertiary terá uma porcentagem maior de aceitação do deposito do que olhando para os outros estados da educação."
      ]
    },
    {
      "cell_type": "code",
      "metadata": {
        "id": "qQx9H6VLzZ27",
        "colab": {
          "base_uri": "https://localhost:8080/",
          "height": 388
        },
        "outputId": "e1c6f889-9050-45da-c8f2-c1cdf7dac132"
      },
      "source": [
        "plt.figure(figsize=(12, 6))\n",
        "sns.countplot(x=\"default\", hue=\"subscribed\", data=data)\n",
        "plt.xticks(rotation=0)\n",
        "plt.show()"
      ],
      "execution_count": 11,
      "outputs": [
        {
          "output_type": "display_data",
          "data": {
            "image/png": "[encoded data removed]",
            "text/plain": [
              "<Figure size 864x432 with 1 Axes>"
            ]
          },
          "metadata": {
            "tags": [],
            "needs_background": "light"
          }
        }
      ]
    },
    {
      "cell_type": "markdown",
      "metadata": {
        "id": "EhJDEwcFuZRI"
      },
      "source": [
        "- Correlação do crédito que está inadimplente ou não com quem aceitou ou não um depósito. "
      ]
    },
    {
      "cell_type": "code",
      "metadata": {
        "id": "xr0tp9KCziX9",
        "colab": {
          "base_uri": "https://localhost:8080/",
          "height": 388
        },
        "outputId": "713f2591-39d5-4571-8aff-24582f81af59"
      },
      "source": [
        "plt.figure(figsize=(12, 6))\n",
        "sns.countplot(x=\"housing\", hue=\"subscribed\", data=data)\n",
        "plt.xticks(rotation=0)\n",
        "plt.show()"
      ],
      "execution_count": 12,
      "outputs": [
        {
          "output_type": "display_data",
          "data": {
            "image/png": "[encoded data removed]",
            "text/plain": [
              "<Figure size 864x432 with 1 Axes>"
            ]
          },
          "metadata": {
            "tags": [],
            "needs_background": "light"
          }
        }
      ]
    },
    {
      "cell_type": "markdown",
      "metadata": {
        "id": "9emb4EmHwjrA"
      },
      "source": [
        "- Correlação de quem já possui casa com quem aceitou ou não um depósito."
      ]
    },
    {
      "cell_type": "code",
      "metadata": {
        "id": "41iPP2EZznCE",
        "colab": {
          "base_uri": "https://localhost:8080/",
          "height": 388
        },
        "outputId": "b0a1296a-e042-4fb0-bae2-32c3fe2b10ae"
      },
      "source": [
        "plt.figure(figsize=(12, 6))\n",
        "sns.countplot(x=\"loan\", hue=\"subscribed\", data=data)\n",
        "plt.xticks(rotation=0)\n",
        "plt.show()"
      ],
      "execution_count": 13,
      "outputs": [
        {
          "output_type": "display_data",
          "data": {
            "image/png": "[encoded data removed]",
            "text/plain": [
              "<Figure size 864x432 with 1 Axes>"
            ]
          },
          "metadata": {
            "tags": [],
            "needs_background": "light"
          }
        }
      ]
    },
    {
      "cell_type": "markdown",
      "metadata": {
        "id": "oB9ySLPqzGuo"
      },
      "source": [
        "- Correlação de quem possui crédito com quem aceitou ou não um depósito."
      ]
    },
    {
      "cell_type": "code",
      "metadata": {
        "id": "z24MBsqCz9EQ",
        "colab": {
          "base_uri": "https://localhost:8080/",
          "height": 388
        },
        "outputId": "5417519e-71c7-488d-e843-f8d5968a68bf"
      },
      "source": [
        "plt.figure(figsize=(12, 6))\n",
        "sns.countplot(x=\"contact\", hue=\"subscribed\", data=data)\n",
        "plt.xticks(rotation=0)\n",
        "plt.show()"
      ],
      "execution_count": 14,
      "outputs": [
        {
          "output_type": "display_data",
          "data": {
            "image/png": "[encoded data removed]",
            "text/plain": [
              "<Figure size 864x432 with 1 Axes>"
            ]
          },
          "metadata": {
            "tags": [],
            "needs_background": "light"
          }
        }
      ]
    },
    {
      "cell_type": "markdown",
      "metadata": {
        "id": "hCsL1sELz3JQ"
      },
      "source": [
        "- Correlação do tipo de contato com quem aceitou ou não um depósito.\n",
        " \n",
        "- Uma percepção que pode ser vista é a quantidade valores que estão atrelados aos desconhecidos (unknown) tendo em vista que esses valores podem dar muita relevância se tivessem sido registrada corretamente para o telephone quanto para o celluar."
      ]
    },
    {
      "cell_type": "code",
      "metadata": {
        "id": "NqRBqW0L0Di0",
        "colab": {
          "base_uri": "https://localhost:8080/",
          "height": 388
        },
        "outputId": "7f7c81e8-6d2a-41ea-a3d5-8a10b360654f"
      },
      "source": [
        "plt.figure(figsize=(12, 6))\n",
        "sns.countplot(x=\"day\", hue=\"subscribed\", data=data)\n",
        "plt.xticks(rotation=0)\n",
        "plt.show()"
      ],
      "execution_count": 15,
      "outputs": [
        {
          "output_type": "display_data",
          "data": {
            "image/png": "[encoded data removed]",
            "text/plain": [
              "<Figure size 864x432 with 1 Axes>"
            ]
          },
          "metadata": {
            "tags": [],
            "needs_background": "light"
          }
        }
      ]
    },
    {
      "cell_type": "markdown",
      "metadata": {
        "id": "XSJHvRwraGZR"
      },
      "source": [
        "- Correlação dos dias com quem aceitou ou não um depósito.\n",
        " \n",
        "- A relação pode ser vinculada com a média móvel, assim uma previsão/dedução de o que pode acontecer não pode ser bem assertiva."
      ]
    },
    {
      "cell_type": "code",
      "metadata": {
        "id": "OHjht95ctEDD",
        "colab": {
          "base_uri": "https://localhost:8080/",
          "height": 388
        },
        "outputId": "79165c07-8048-4d87-aa44-0bf40199a4c9"
      },
      "source": [
        "order = ['jan', 'feb', 'mar', 'apr', 'may', 'jun', 'jul', 'aug', 'sep', 'oct', 'nov', 'dec']\n",
        "plt.figure(figsize=(12, 6))\n",
        "sns.countplot(x=\"month\", hue=\"subscribed\", data=data, order=order)\n",
        "plt.xticks(rotation=0)\n",
        "plt.show()"
      ],
      "execution_count": 16,
      "outputs": [
        {
          "output_type": "display_data",
          "data": {
            "image/png": "[encoded data removed]",
            "text/plain": [
              "<Figure size 864x432 with 1 Axes>"
            ]
          },
          "metadata": {
            "tags": [],
            "needs_background": "light"
          }
        }
      ]
    },
    {
      "cell_type": "markdown",
      "metadata": {
        "id": "O0bqphdBcBa2"
      },
      "source": [
        "- Correlação dos meses com quem aceitou ou não um depósito.\n",
        " \n",
        "- Para o mês de may, jun, jul onde teve um valor maior de depósito, pode ser explicado com a possível chegada do verão no EUA, onde as pessoas/família podem querer adiquirir esse empréstimo para viagens por exemplo."
      ]
    },
    {
      "cell_type": "markdown",
      "metadata": {
        "id": "YTxt2MhNP38r"
      },
      "source": [
        "# Tratando variáveis"
      ]
    },
    {
      "cell_type": "markdown",
      "metadata": {
        "id": "79t29MzoQNkV"
      },
      "source": [
        "- Como visto pelos histogramas, na variável contato, há uma presença relevante na quantidade de desconhecidos, fazendo com que a análise de quem recebe ou não o depósito pode ser afetada.\n",
        " \n",
        "- Também esse ajuste pode ser feito para o job que tem um número considerável de pessoas não conhecidas.\n"
      ]
    },
    {
      "cell_type": "markdown",
      "metadata": {
        "id": "UzhYyVAkMsWQ"
      },
      "source": [
        "### Tratamento das variáveis da coluna 'contact'\n",
        "O tratamento para essa coluna foi produzida no excel, pois a falta de habilidade com python, gerou uma limitação para o tratamento dessa variável.\n",
        " \n",
        "Para que fosse possível esse tratamento, a seguinte linha de raciocínio foi utilizada.\n",
        " \n",
        "1 - Foi analisado a quantidade de quem fez o financiamento ou não em relação aos contatos desconhecidos (unknown);\n",
        "\n",
        "\n",
        "![quantidade.PNG](data:image/png;base64,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)\n",
        "\n",
        "\n",
        " \n",
        "2 - Segundo passo foi feita uma análise do percentual com o total de colunas para quem fez o financiamento ou não para os contatos restantes (celluar, telephone);\n",
        "\n",
        "![tabela_1.PNG](data:image/png;base64,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)\n",
        "\n"
      ]
    },
    {
      "cell_type": "markdown",
      "metadata": {
        "id": "gexl_1tEWDJV"
      },
      "source": [
        " 3 - Com os valores da quantidade encontrado no item 1, é feita a multiplicação com as porcentagens encontradas no item 2 onde iremos ter os valores das quantidades de desconhecidos que serão 'encaixados' dentro das variáveis cellular e telephone.\n",
        " ![tabela_2.PNG](data:image/png;base64,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)"
      ]
    },
    {
      "cell_type": "markdown",
      "metadata": {
        "id": "bqyhTWtOUUTX"
      },
      "source": [
        "- OBS.: Como podemos perceber, em algumas linhas a soma da quantidade em relação aos percentuais não é exata com o valor mostrado na coluna dos totais. Isso pode ser explicado pois de acordo com as variáveis utilizadas para explicar a quantidade/porcentagem de como os desconhecidos serão distribuídos. Nesse caso foi utilizado o marital, education, default, housing, loan. Com isso, para que os valores em quantidade possam coincidir com o resultado final mostrado, a duplicação de registros ou a exclusão foi feitas (bootstrap dos dados). "
      ]
    },
    {
      "cell_type": "markdown",
      "metadata": {
        "id": "Cda42ZT38rss"
      },
      "source": [
        "- Após o tratamento descrito acima, foi gerado um arquivo de excel que será utilizado para concatenar com a base original logo após feita a exclusão dos registros em que o contato é desconhecido."
      ]
    },
    {
      "cell_type": "code",
      "metadata": {
        "id": "iQo-_QnkDfcc",
        "colab": {
          "base_uri": "https://localhost:8080/",
          "height": 224
        },
        "outputId": "870138ea-bb92-4462-f23d-78d4a2453310"
      },
      "source": [
        "data_contact = pd.read_excel('/content/drive/My Drive/Colab Notebooks/Modulo 2/BD_cellular_telephone.xlsx')\n",
        "data_contact.head()"
      ],
      "execution_count": 17,
      "outputs": [
        {
          "output_type": "execute_result",
          "data": {
            "text/html": [
              "<div>\n",
              "<style scoped>\n",
              "    .dataframe tbody tr th:only-of-type {\n",
              "        vertical-align: middle;\n",
              "    }\n",
              "\n",
              "    .dataframe tbody tr th {\n",
              "        vertical-align: top;\n",
              "    }\n",
              "\n",
              "    .dataframe thead th {\n",
              "        text-align: right;\n",
              "    }\n",
              "</style>\n",
              "<table border=\"1\" class=\"dataframe\">\n",
              "  <thead>\n",
              "    <tr style=\"text-align: right;\">\n",
              "      <th></th>\n",
              "      <th>ID</th>\n",
              "      <th>age</th>\n",
              "      <th>job</th>\n",
              "      <th>marital</th>\n",
              "      <th>education</th>\n",
              "      <th>default</th>\n",
              "      <th>balance</th>\n",
              "      <th>housing</th>\n",
              "      <th>loan</th>\n",
              "      <th>contact</th>\n",
              "      <th>day</th>\n",
              "      <th>month</th>\n",
              "      <th>duration</th>\n",
              "      <th>campaign</th>\n",
              "      <th>pdays</th>\n",
              "      <th>previous</th>\n",
              "      <th>poutcome</th>\n",
              "      <th>subscribed</th>\n",
              "    </tr>\n",
              "  </thead>\n",
              "  <tbody>\n",
              "    <tr>\n",
              "      <th>0</th>\n",
              "      <td>480</td>\n",
              "      <td>39</td>\n",
              "      <td>management</td>\n",
              "      <td>single</td>\n",
              "      <td>secondary</td>\n",
              "      <td>no</td>\n",
              "      <td>18.77</td>\n",
              "      <td>yes</td>\n",
              "      <td>no</td>\n",
              "      <td>telephone</td>\n",
              "      <td>6</td>\n",
              "      <td>may</td>\n",
              "      <td>185</td>\n",
              "      <td>1</td>\n",
              "      <td>-1</td>\n",
              "      <td>0</td>\n",
              "      <td>unknown</td>\n",
              "      <td>no</td>\n",
              "    </tr>\n",
              "    <tr>\n",
              "      <th>1</th>\n",
              "      <td>3260</td>\n",
              "      <td>43</td>\n",
              "      <td>blue-collar</td>\n",
              "      <td>married</td>\n",
              "      <td>secondary</td>\n",
              "      <td>no</td>\n",
              "      <td>9.60</td>\n",
              "      <td>yes</td>\n",
              "      <td>no</td>\n",
              "      <td>telephone</td>\n",
              "      <td>15</td>\n",
              "      <td>may</td>\n",
              "      <td>436</td>\n",
              "      <td>1</td>\n",
              "      <td>-1</td>\n",
              "      <td>0</td>\n",
              "      <td>unknown</td>\n",
              "      <td>no</td>\n",
              "    </tr>\n",
              "    <tr>\n",
              "      <th>2</th>\n",
              "      <td>9701</td>\n",
              "      <td>41</td>\n",
              "      <td>services</td>\n",
              "      <td>single</td>\n",
              "      <td>secondary</td>\n",
              "      <td>no</td>\n",
              "      <td>2.60</td>\n",
              "      <td>no</td>\n",
              "      <td>no</td>\n",
              "      <td>telephone</td>\n",
              "      <td>6</td>\n",
              "      <td>jun</td>\n",
              "      <td>75</td>\n",
              "      <td>1</td>\n",
              "      <td>-1</td>\n",
              "      <td>0</td>\n",
              "      <td>unknown</td>\n",
              "      <td>no</td>\n",
              "    </tr>\n",
              "    <tr>\n",
              "      <th>3</th>\n",
              "      <td>2843</td>\n",
              "      <td>53</td>\n",
              "      <td>technician</td>\n",
              "      <td>married</td>\n",
              "      <td>secondary</td>\n",
              "      <td>no</td>\n",
              "      <td>7.19</td>\n",
              "      <td>yes</td>\n",
              "      <td>no</td>\n",
              "      <td>telephone</td>\n",
              "      <td>14</td>\n",
              "      <td>may</td>\n",
              "      <td>230</td>\n",
              "      <td>1</td>\n",
              "      <td>-1</td>\n",
              "      <td>0</td>\n",
              "      <td>unknown</td>\n",
              "      <td>no</td>\n",
              "    </tr>\n",
              "    <tr>\n",
              "      <th>4</th>\n",
              "      <td>4554</td>\n",
              "      <td>60</td>\n",
              "      <td>management</td>\n",
              "      <td>married</td>\n",
              "      <td>tertiary</td>\n",
              "      <td>no</td>\n",
              "      <td>3.28</td>\n",
              "      <td>yes</td>\n",
              "      <td>no</td>\n",
              "      <td>telephone</td>\n",
              "      <td>20</td>\n",
              "      <td>may</td>\n",
              "      <td>72</td>\n",
              "      <td>5</td>\n",
              "      <td>-1</td>\n",
              "      <td>0</td>\n",
              "      <td>unknown</td>\n",
              "      <td>no</td>\n",
              "    </tr>\n",
              "  </tbody>\n",
              "</table>\n",
              "</div>"
            ],
            "text/plain": [
              "     ID  age          job  marital  ... pdays previous  poutcome subscribed\n",
              "0   480   39   management   single  ...    -1        0   unknown         no\n",
              "1  3260   43  blue-collar  married  ...    -1        0   unknown         no\n",
              "2  9701   41     services   single  ...    -1        0   unknown         no\n",
              "3  2843   53   technician  married  ...    -1        0   unknown         no\n",
              "4  4554   60   management  married  ...    -1        0   unknown         no\n",
              "\n",
              "[5 rows x 18 columns]"
            ]
          },
          "metadata": {
            "tags": []
          },
          "execution_count": 17
        }
      ]
    },
    {
      "cell_type": "code",
      "metadata": {
        "id": "gu8oozmlD1D0",
        "colab": {
          "base_uri": "https://localhost:8080/"
        },
        "outputId": "262c2534-c026-40c1-8d7d-f95ea328dc8e"
      },
      "source": [
        "data_contact['contact'].unique()"
      ],
      "execution_count": 18,
      "outputs": [
        {
          "output_type": "execute_result",
          "data": {
            "text/plain": [
              "array(['telephone', 'cellular'], dtype=object)"
            ]
          },
          "metadata": {
            "tags": []
          },
          "execution_count": 18
        }
      ]
    },
    {
      "cell_type": "markdown",
      "metadata": {
        "id": "G0rBcp2n9fGX"
      },
      "source": [
        "- Verificação se na tabela importada há presença de registros desconhecidos (unknown) na coluna 'contact'. "
      ]
    },
    {
      "cell_type": "code",
      "metadata": {
        "id": "emIB9UGiEiso"
      },
      "source": [
        "data_limpesa = data"
      ],
      "execution_count": 19,
      "outputs": []
    },
    {
      "cell_type": "markdown",
      "metadata": {
        "id": "IcZDn7Dg964M"
      },
      "source": [
        "- Para fazermos a limpeza dos desconhecidos na coluna contact, foi criado uma base auxiliar para que não ocorra nenhuma modificação na base original."
      ]
    },
    {
      "cell_type": "code",
      "metadata": {
        "id": "nYHiIooQEmen",
        "colab": {
          "base_uri": "https://localhost:8080/"
        },
        "outputId": "bf4310e6-0d42-4ec6-eea5-e0c784345541"
      },
      "source": [
        "remover = data_limpesa.loc[data_limpesa['contact'] == 'unknown']\n",
        "\n",
        "data_limpesa = data_limpesa.drop(remover.index)\n",
        "data_limpesa['contact'].unique()"
      ],
      "execution_count": 20,
      "outputs": [
        {
          "output_type": "execute_result",
          "data": {
            "text/plain": [
              "array(['telephone', 'cellular'], dtype=object)"
            ]
          },
          "metadata": {
            "tags": []
          },
          "execution_count": 20
        }
      ]
    },
    {
      "cell_type": "markdown",
      "metadata": {
        "id": "AKNVT6u9_yPX"
      },
      "source": [
        "- Fazendo a procura dos dados desconhecidos na coluna 'contact' e salvando em uma variável e depois retirando os dados."
      ]
    },
    {
      "cell_type": "code",
      "metadata": {
        "id": "pYzLnJUiD4pw",
        "colab": {
          "base_uri": "https://localhost:8080/",
          "height": 224
        },
        "outputId": "6615c7b9-6da1-4437-9316-f80347bcf334"
      },
      "source": [
        "data = pd.concat([data_limpesa, data_contact])\n",
        "data.head()"
      ],
      "execution_count": 21,
      "outputs": [
        {
          "output_type": "execute_result",
          "data": {
            "text/html": [
              "<div>\n",
              "<style scoped>\n",
              "    .dataframe tbody tr th:only-of-type {\n",
              "        vertical-align: middle;\n",
              "    }\n",
              "\n",
              "    .dataframe tbody tr th {\n",
              "        vertical-align: top;\n",
              "    }\n",
              "\n",
              "    .dataframe thead th {\n",
              "        text-align: right;\n",
              "    }\n",
              "</style>\n",
              "<table border=\"1\" class=\"dataframe\">\n",
              "  <thead>\n",
              "    <tr style=\"text-align: right;\">\n",
              "      <th></th>\n",
              "      <th>ID</th>\n",
              "      <th>age</th>\n",
              "      <th>job</th>\n",
              "      <th>marital</th>\n",
              "      <th>education</th>\n",
              "      <th>default</th>\n",
              "      <th>balance</th>\n",
              "      <th>housing</th>\n",
              "      <th>loan</th>\n",
              "      <th>contact</th>\n",
              "      <th>day</th>\n",
              "      <th>month</th>\n",
              "      <th>duration</th>\n",
              "      <th>campaign</th>\n",
              "      <th>pdays</th>\n",
              "      <th>previous</th>\n",
              "      <th>poutcome</th>\n",
              "      <th>subscribed</th>\n",
              "    </tr>\n",
              "  </thead>\n",
              "  <tbody>\n",
              "    <tr>\n",
              "      <th>0</th>\n",
              "      <td>26110</td>\n",
              "      <td>56</td>\n",
              "      <td>admin.</td>\n",
              "      <td>married</td>\n",
              "      <td>unknown</td>\n",
              "      <td>no</td>\n",
              "      <td>1933.0</td>\n",
              "      <td>no</td>\n",
              "      <td>no</td>\n",
              "      <td>telephone</td>\n",
              "      <td>19</td>\n",
              "      <td>nov</td>\n",
              "      <td>44</td>\n",
              "      <td>2</td>\n",
              "      <td>-1</td>\n",
              "      <td>0</td>\n",
              "      <td>unknown</td>\n",
              "      <td>no</td>\n",
              "    </tr>\n",
              "    <tr>\n",
              "      <th>1</th>\n",
              "      <td>40576</td>\n",
              "      <td>31</td>\n",
              "      <td>unknown</td>\n",
              "      <td>married</td>\n",
              "      <td>secondary</td>\n",
              "      <td>no</td>\n",
              "      <td>3.0</td>\n",
              "      <td>no</td>\n",
              "      <td>no</td>\n",
              "      <td>cellular</td>\n",
              "      <td>20</td>\n",
              "      <td>jul</td>\n",
              "      <td>91</td>\n",
              "      <td>2</td>\n",
              "      <td>-1</td>\n",
              "      <td>0</td>\n",
              "      <td>unknown</td>\n",
              "      <td>no</td>\n",
              "    </tr>\n",
              "    <tr>\n",
              "      <th>2</th>\n",
              "      <td>15320</td>\n",
              "      <td>27</td>\n",
              "      <td>services</td>\n",
              "      <td>married</td>\n",
              "      <td>secondary</td>\n",
              "      <td>no</td>\n",
              "      <td>891.0</td>\n",
              "      <td>yes</td>\n",
              "      <td>no</td>\n",
              "      <td>cellular</td>\n",
              "      <td>18</td>\n",
              "      <td>jul</td>\n",
              "      <td>240</td>\n",
              "      <td>1</td>\n",
              "      <td>-1</td>\n",
              "      <td>0</td>\n",
              "      <td>unknown</td>\n",
              "      <td>no</td>\n",
              "    </tr>\n",
              "    <tr>\n",
              "      <th>3</th>\n",
              "      <td>43962</td>\n",
              "      <td>57</td>\n",
              "      <td>management</td>\n",
              "      <td>divorced</td>\n",
              "      <td>tertiary</td>\n",
              "      <td>no</td>\n",
              "      <td>3287.0</td>\n",
              "      <td>no</td>\n",
              "      <td>no</td>\n",
              "      <td>cellular</td>\n",
              "      <td>22</td>\n",
              "      <td>jun</td>\n",
              "      <td>867</td>\n",
              "      <td>1</td>\n",
              "      <td>84</td>\n",
              "      <td>3</td>\n",
              "      <td>success</td>\n",
              "      <td>yes</td>\n",
              "    </tr>\n",
              "    <tr>\n",
              "      <th>4</th>\n",
              "      <td>29842</td>\n",
              "      <td>31</td>\n",
              "      <td>technician</td>\n",
              "      <td>married</td>\n",
              "      <td>secondary</td>\n",
              "      <td>no</td>\n",
              "      <td>119.0</td>\n",
              "      <td>yes</td>\n",
              "      <td>no</td>\n",
              "      <td>cellular</td>\n",
              "      <td>4</td>\n",
              "      <td>feb</td>\n",
              "      <td>380</td>\n",
              "      <td>1</td>\n",
              "      <td>-1</td>\n",
              "      <td>0</td>\n",
              "      <td>unknown</td>\n",
              "      <td>no</td>\n",
              "    </tr>\n",
              "  </tbody>\n",
              "</table>\n",
              "</div>"
            ],
            "text/plain": [
              "      ID  age         job   marital  ... pdays previous  poutcome subscribed\n",
              "0  26110   56      admin.   married  ...    -1        0   unknown         no\n",
              "1  40576   31     unknown   married  ...    -1        0   unknown         no\n",
              "2  15320   27    services   married  ...    -1        0   unknown         no\n",
              "3  43962   57  management  divorced  ...    84        3   success        yes\n",
              "4  29842   31  technician   married  ...    -1        0   unknown         no\n",
              "\n",
              "[5 rows x 18 columns]"
            ]
          },
          "metadata": {
            "tags": []
          },
          "execution_count": 21
        }
      ]
    },
    {
      "cell_type": "markdown",
      "metadata": {
        "id": "oHCHfKCiw1SN"
      },
      "source": [
        "- Por fim, fazendo a concatenação das tabelas."
      ]
    },
    {
      "cell_type": "code",
      "metadata": {
        "id": "ofkJWwLnGWO4",
        "colab": {
          "base_uri": "https://localhost:8080/"
        },
        "outputId": "4ba0c808-a23c-48e6-a1c3-de6c6bfbb762"
      },
      "source": [
        "data['contact'].unique()"
      ],
      "execution_count": 22,
      "outputs": [
        {
          "output_type": "execute_result",
          "data": {
            "text/plain": [
              "array(['telephone', 'cellular'], dtype=object)"
            ]
          },
          "metadata": {
            "tags": []
          },
          "execution_count": 22
        }
      ]
    },
    {
      "cell_type": "code",
      "metadata": {
        "id": "04RGpvNwQ_O2",
        "colab": {
          "base_uri": "https://localhost:8080/"
        },
        "outputId": "f828cb7f-ed67-4f54-fdb0-a1438d6c4bc5"
      },
      "source": [
        "data.shape"
      ],
      "execution_count": 23,
      "outputs": [
        {
          "output_type": "execute_result",
          "data": {
            "text/plain": [
              "(31652, 18)"
            ]
          },
          "metadata": {
            "tags": []
          },
          "execution_count": 23
        }
      ]
    },
    {
      "cell_type": "markdown",
      "metadata": {
        "id": "mGFRiymp0mtt"
      },
      "source": [
        "- Verificando se após a concatenação das tabelas, ainda há registros desconhecidos na coluna 'contact'."
      ]
    },
    {
      "cell_type": "code",
      "metadata": {
        "colab": {
          "base_uri": "https://localhost:8080/",
          "height": 388
        },
        "id": "vQzduMR0hIvI",
        "outputId": "6c7b56af-e1b2-4108-cb30-1e6485576246"
      },
      "source": [
        "plt.figure(figsize=(12, 6))\n",
        "sns.countplot(x=\"contact\", hue=\"subscribed\", data=data)\n",
        "plt.xticks(rotation=0)\n",
        "plt.legend(['0 - cellular', '1 - telephone'])\n",
        "plt.show()"
      ],
      "execution_count": 24,
      "outputs": [
        {
          "output_type": "display_data",
          "data": {
            "image/png": "[encoded data removed]",
            "text/plain": [
              "<Figure size 864x432 with 1 Axes>"
            ]
          },
          "metadata": {
            "tags": [],
            "needs_background": "light"
          }
        }
      ]
    },
    {
      "cell_type": "markdown",
      "metadata": {
        "id": "yGYL4CMo1Z-w"
      },
      "source": [
        "### Tratamento das variáveis da coluna 'job'\n",
        "Para o tratamento dos registros desconhecidos na coluna 'job', foram distribuídos os registros para o tipo de trabalho com maior média."
      ]
    },
    {
      "cell_type": "code",
      "metadata": {
        "id": "2qQRUCMiGe2L",
        "colab": {
          "base_uri": "https://localhost:8080/"
        },
        "outputId": "01b1848a-1013-4746-cd95-6375b4015c14"
      },
      "source": [
        "data['job'].value_counts().sort_index()"
      ],
      "execution_count": 25,
      "outputs": [
        {
          "output_type": "execute_result",
          "data": {
            "text/plain": [
              "admin.           3631\n",
              "blue-collar      6842\n",
              "entrepreneur     1008\n",
              "housemaid         874\n",
              "management       6639\n",
              "retired          1576\n",
              "self-employed    1125\n",
              "services         2903\n",
              "student           636\n",
              "technician       5307\n",
              "unemployed        905\n",
              "unknown           206\n",
              "Name: job, dtype: int64"
            ]
          },
          "metadata": {
            "tags": []
          },
          "execution_count": 25
        }
      ]
    },
    {
      "cell_type": "markdown",
      "metadata": {
        "id": "v7qm0pSg3HbW"
      },
      "source": [
        "- Vendo a contagem dos trabalhos presentes na base."
      ]
    },
    {
      "cell_type": "code",
      "metadata": {
        "id": "3nuxcU0iKkCi",
        "colab": {
          "base_uri": "https://localhost:8080/"
        },
        "outputId": "42132fcd-f681-46b4-cfff-d893c9173778"
      },
      "source": [
        "data['job'].value_counts().sort_values(ascending=False) / len(data['job']*100)"
      ],
      "execution_count": 26,
      "outputs": [
        {
          "output_type": "execute_result",
          "data": {
            "text/plain": [
              "blue-collar      0.216163\n",
              "management       0.209750\n",
              "technician       0.167667\n",
              "admin.           0.114716\n",
              "services         0.091716\n",
              "retired          0.049791\n",
              "self-employed    0.035543\n",
              "entrepreneur     0.031846\n",
              "unemployed       0.028592\n",
              "housemaid        0.027613\n",
              "student          0.020094\n",
              "unknown          0.006508\n",
              "Name: job, dtype: float64"
            ]
          },
          "metadata": {
            "tags": []
          },
          "execution_count": 26
        }
      ]
    },
    {
      "cell_type": "markdown",
      "metadata": {
        "id": "tv_QlIwv3Ula"
      },
      "source": [
        "- Calculando a média da quantidade dos trabalhos e ordenando.\n",
        " \n",
        "- Assim, como a 'job' de maior média foi o 'blue-collar', a distribuição de todos os registros desconhecidos 'unknown' foram para esse tipo de trabalho.\n"
      ]
    },
    {
      "cell_type": "code",
      "metadata": {
        "id": "K4Qnia4JLVuY",
        "colab": {
          "base_uri": "https://localhost:8080/"
        },
        "outputId": "ec544b06-8dd2-48a1-ee0a-6d79f4f99a46"
      },
      "source": [
        "data['job'].replace([\"unknown\"], data['job'].mode(), inplace = True)\n",
        "data['job'].unique()"
      ],
      "execution_count": 27,
      "outputs": [
        {
          "output_type": "execute_result",
          "data": {
            "text/plain": [
              "array(['admin.', 'blue-collar', 'services', 'management', 'technician',\n",
              "       'retired', 'housemaid', 'student', 'self-employed', 'entrepreneur',\n",
              "       'unemployed'], dtype=object)"
            ]
          },
          "metadata": {
            "tags": []
          },
          "execution_count": 27
        }
      ]
    },
    {
      "cell_type": "markdown",
      "metadata": {
        "id": "Xubaye1T38mT"
      },
      "source": [
        "- Fazendo a localização dos registros desconhecidos da coluna job e alterando para o tipo de trabalho 'blue-collar'."
      ]
    },
    {
      "cell_type": "code",
      "metadata": {
        "colab": {
          "base_uri": "https://localhost:8080/",
          "height": 444
        },
        "id": "wgGlzjC2h9PZ",
        "outputId": "d9f4af95-f643-4399-b6e0-e491117d36ea"
      },
      "source": [
        "order = ['blue-collar', 'management', 'technician', 'admin.', 'services', 'retired', 'self-employed', \n",
        "         'entrepreneur', 'unemployed', 'housemaid', 'student']\n",
        "\n",
        "plt.figure(figsize=(12, 6))\n",
        "sns.countplot(x='job', hue=\"subscribed\", data=data, order = order)\n",
        "plt.xticks(rotation=60)\n",
        "plt.show()"
      ],
      "execution_count": 28,
      "outputs": [
        {
          "output_type": "display_data",
          "data": {
            "image/png": "[encoded data removed]",
            "text/plain": [
              "<Figure size 864x432 with 1 Axes>"
            ]
          },
          "metadata": {
            "tags": [],
            "needs_background": "light"
          }
        }
      ]
    },
    {
      "cell_type": "markdown",
      "metadata": {
        "id": "EWKt38nfGq0h"
      },
      "source": [
        "# Iniciando o treinamento"
      ]
    },
    {
      "cell_type": "markdown",
      "metadata": {
        "id": "xtzDQ6q1HS29"
      },
      "source": [
        "Após fazer todo o trabalho manipulando, acertando e tirando informações dos dados, agora a ideia é criar um modelo que consiga prever a partir de um novo registro, possa nos mostrar se ele é suscetível ou não a ganhar um empréstimo."
      ]
    },
    {
      "cell_type": "markdown",
      "metadata": {
        "id": "cCJC3nyLH3wM"
      },
      "source": [
        "- Para isso, algumas variáveis não serão necessárias para a criação do modelo, tais como o ID, day, month."
      ]
    },
    {
      "cell_type": "code",
      "metadata": {
        "id": "AGpJMyVlIf6j",
        "colab": {
          "base_uri": "https://localhost:8080/",
          "height": 224
        },
        "outputId": "aaf825a6-a0d4-4864-a59e-c2c3072d5b33"
      },
      "source": [
        "data_treino = data\n",
        "data_treino.head()"
      ],
      "execution_count": 29,
      "outputs": [
        {
          "output_type": "execute_result",
          "data": {
            "text/html": [
              "<div>\n",
              "<style scoped>\n",
              "    .dataframe tbody tr th:only-of-type {\n",
              "        vertical-align: middle;\n",
              "    }\n",
              "\n",
              "    .dataframe tbody tr th {\n",
              "        vertical-align: top;\n",
              "    }\n",
              "\n",
              "    .dataframe thead th {\n",
              "        text-align: right;\n",
              "    }\n",
              "</style>\n",
              "<table border=\"1\" class=\"dataframe\">\n",
              "  <thead>\n",
              "    <tr style=\"text-align: right;\">\n",
              "      <th></th>\n",
              "      <th>ID</th>\n",
              "      <th>age</th>\n",
              "      <th>job</th>\n",
              "      <th>marital</th>\n",
              "      <th>education</th>\n",
              "      <th>default</th>\n",
              "      <th>balance</th>\n",
              "      <th>housing</th>\n",
              "      <th>loan</th>\n",
              "      <th>contact</th>\n",
              "      <th>day</th>\n",
              "      <th>month</th>\n",
              "      <th>duration</th>\n",
              "      <th>campaign</th>\n",
              "      <th>pdays</th>\n",
              "      <th>previous</th>\n",
              "      <th>poutcome</th>\n",
              "      <th>subscribed</th>\n",
              "    </tr>\n",
              "  </thead>\n",
              "  <tbody>\n",
              "    <tr>\n",
              "      <th>0</th>\n",
              "      <td>26110</td>\n",
              "      <td>56</td>\n",
              "      <td>admin.</td>\n",
              "      <td>married</td>\n",
              "      <td>unknown</td>\n",
              "      <td>no</td>\n",
              "      <td>1933.0</td>\n",
              "      <td>no</td>\n",
              "      <td>no</td>\n",
              "      <td>telephone</td>\n",
              "      <td>19</td>\n",
              "      <td>nov</td>\n",
              "      <td>44</td>\n",
              "      <td>2</td>\n",
              "      <td>-1</td>\n",
              "      <td>0</td>\n",
              "      <td>unknown</td>\n",
              "      <td>no</td>\n",
              "    </tr>\n",
              "    <tr>\n",
              "      <th>1</th>\n",
              "      <td>40576</td>\n",
              "      <td>31</td>\n",
              "      <td>blue-collar</td>\n",
              "      <td>married</td>\n",
              "      <td>secondary</td>\n",
              "      <td>no</td>\n",
              "      <td>3.0</td>\n",
              "      <td>no</td>\n",
              "      <td>no</td>\n",
              "      <td>cellular</td>\n",
              "      <td>20</td>\n",
              "      <td>jul</td>\n",
              "      <td>91</td>\n",
              "      <td>2</td>\n",
              "      <td>-1</td>\n",
              "      <td>0</td>\n",
              "      <td>unknown</td>\n",
              "      <td>no</td>\n",
              "    </tr>\n",
              "    <tr>\n",
              "      <th>2</th>\n",
              "      <td>15320</td>\n",
              "      <td>27</td>\n",
              "      <td>services</td>\n",
              "      <td>married</td>\n",
              "      <td>secondary</td>\n",
              "      <td>no</td>\n",
              "      <td>891.0</td>\n",
              "      <td>yes</td>\n",
              "      <td>no</td>\n",
              "      <td>cellular</td>\n",
              "      <td>18</td>\n",
              "      <td>jul</td>\n",
              "      <td>240</td>\n",
              "      <td>1</td>\n",
              "      <td>-1</td>\n",
              "      <td>0</td>\n",
              "      <td>unknown</td>\n",
              "      <td>no</td>\n",
              "    </tr>\n",
              "    <tr>\n",
              "      <th>3</th>\n",
              "      <td>43962</td>\n",
              "      <td>57</td>\n",
              "      <td>management</td>\n",
              "      <td>divorced</td>\n",
              "      <td>tertiary</td>\n",
              "      <td>no</td>\n",
              "      <td>3287.0</td>\n",
              "      <td>no</td>\n",
              "      <td>no</td>\n",
              "      <td>cellular</td>\n",
              "      <td>22</td>\n",
              "      <td>jun</td>\n",
              "      <td>867</td>\n",
              "      <td>1</td>\n",
              "      <td>84</td>\n",
              "      <td>3</td>\n",
              "      <td>success</td>\n",
              "      <td>yes</td>\n",
              "    </tr>\n",
              "    <tr>\n",
              "      <th>4</th>\n",
              "      <td>29842</td>\n",
              "      <td>31</td>\n",
              "      <td>technician</td>\n",
              "      <td>married</td>\n",
              "      <td>secondary</td>\n",
              "      <td>no</td>\n",
              "      <td>119.0</td>\n",
              "      <td>yes</td>\n",
              "      <td>no</td>\n",
              "      <td>cellular</td>\n",
              "      <td>4</td>\n",
              "      <td>feb</td>\n",
              "      <td>380</td>\n",
              "      <td>1</td>\n",
              "      <td>-1</td>\n",
              "      <td>0</td>\n",
              "      <td>unknown</td>\n",
              "      <td>no</td>\n",
              "    </tr>\n",
              "  </tbody>\n",
              "</table>\n",
              "</div>"
            ],
            "text/plain": [
              "      ID  age          job   marital  ... pdays previous  poutcome subscribed\n",
              "0  26110   56       admin.   married  ...    -1        0   unknown         no\n",
              "1  40576   31  blue-collar   married  ...    -1        0   unknown         no\n",
              "2  15320   27     services   married  ...    -1        0   unknown         no\n",
              "3  43962   57   management  divorced  ...    84        3   success        yes\n",
              "4  29842   31   technician   married  ...    -1        0   unknown         no\n",
              "\n",
              "[5 rows x 18 columns]"
            ]
          },
          "metadata": {
            "tags": []
          },
          "execution_count": 29
        }
      ]
    },
    {
      "cell_type": "markdown",
      "metadata": {
        "id": "ej7lK8NKgag6"
      },
      "source": [
        "- Criando a base que servirá para a criação do modelo."
      ]
    },
    {
      "cell_type": "code",
      "metadata": {
        "id": "9LmfA1j1H03X",
        "colab": {
          "base_uri": "https://localhost:8080/",
          "height": 224
        },
        "outputId": "faca4045-ea62-48b9-bd3c-e7640bb7f4ad"
      },
      "source": [
        "data_treino.drop(columns = ['ID', 'day', 'month'], inplace=True)\n",
        "data_treino.head()"
      ],
      "execution_count": 30,
      "outputs": [
        {
          "output_type": "execute_result",
          "data": {
            "text/html": [
              "<div>\n",
              "<style scoped>\n",
              "    .dataframe tbody tr th:only-of-type {\n",
              "        vertical-align: middle;\n",
              "    }\n",
              "\n",
              "    .dataframe tbody tr th {\n",
              "        vertical-align: top;\n",
              "    }\n",
              "\n",
              "    .dataframe thead th {\n",
              "        text-align: right;\n",
              "    }\n",
              "</style>\n",
              "<table border=\"1\" class=\"dataframe\">\n",
              "  <thead>\n",
              "    <tr style=\"text-align: right;\">\n",
              "      <th></th>\n",
              "      <th>age</th>\n",
              "      <th>job</th>\n",
              "      <th>marital</th>\n",
              "      <th>education</th>\n",
              "      <th>default</th>\n",
              "      <th>balance</th>\n",
              "      <th>housing</th>\n",
              "      <th>loan</th>\n",
              "      <th>contact</th>\n",
              "      <th>duration</th>\n",
              "      <th>campaign</th>\n",
              "      <th>pdays</th>\n",
              "      <th>previous</th>\n",
              "      <th>poutcome</th>\n",
              "      <th>subscribed</th>\n",
              "    </tr>\n",
              "  </thead>\n",
              "  <tbody>\n",
              "    <tr>\n",
              "      <th>0</th>\n",
              "      <td>56</td>\n",
              "      <td>admin.</td>\n",
              "      <td>married</td>\n",
              "      <td>unknown</td>\n",
              "      <td>no</td>\n",
              "      <td>1933.0</td>\n",
              "      <td>no</td>\n",
              "      <td>no</td>\n",
              "      <td>telephone</td>\n",
              "      <td>44</td>\n",
              "      <td>2</td>\n",
              "      <td>-1</td>\n",
              "      <td>0</td>\n",
              "      <td>unknown</td>\n",
              "      <td>no</td>\n",
              "    </tr>\n",
              "    <tr>\n",
              "      <th>1</th>\n",
              "      <td>31</td>\n",
              "      <td>blue-collar</td>\n",
              "      <td>married</td>\n",
              "      <td>secondary</td>\n",
              "      <td>no</td>\n",
              "      <td>3.0</td>\n",
              "      <td>no</td>\n",
              "      <td>no</td>\n",
              "      <td>cellular</td>\n",
              "      <td>91</td>\n",
              "      <td>2</td>\n",
              "      <td>-1</td>\n",
              "      <td>0</td>\n",
              "      <td>unknown</td>\n",
              "      <td>no</td>\n",
              "    </tr>\n",
              "    <tr>\n",
              "      <th>2</th>\n",
              "      <td>27</td>\n",
              "      <td>services</td>\n",
              "      <td>married</td>\n",
              "      <td>secondary</td>\n",
              "      <td>no</td>\n",
              "      <td>891.0</td>\n",
              "      <td>yes</td>\n",
              "      <td>no</td>\n",
              "      <td>cellular</td>\n",
              "      <td>240</td>\n",
              "      <td>1</td>\n",
              "      <td>-1</td>\n",
              "      <td>0</td>\n",
              "      <td>unknown</td>\n",
              "      <td>no</td>\n",
              "    </tr>\n",
              "    <tr>\n",
              "      <th>3</th>\n",
              "      <td>57</td>\n",
              "      <td>management</td>\n",
              "      <td>divorced</td>\n",
              "      <td>tertiary</td>\n",
              "      <td>no</td>\n",
              "      <td>3287.0</td>\n",
              "      <td>no</td>\n",
              "      <td>no</td>\n",
              "      <td>cellular</td>\n",
              "      <td>867</td>\n",
              "      <td>1</td>\n",
              "      <td>84</td>\n",
              "      <td>3</td>\n",
              "      <td>success</td>\n",
              "      <td>yes</td>\n",
              "    </tr>\n",
              "    <tr>\n",
              "      <th>4</th>\n",
              "      <td>31</td>\n",
              "      <td>technician</td>\n",
              "      <td>married</td>\n",
              "      <td>secondary</td>\n",
              "      <td>no</td>\n",
              "      <td>119.0</td>\n",
              "      <td>yes</td>\n",
              "      <td>no</td>\n",
              "      <td>cellular</td>\n",
              "      <td>380</td>\n",
              "      <td>1</td>\n",
              "      <td>-1</td>\n",
              "      <td>0</td>\n",
              "      <td>unknown</td>\n",
              "      <td>no</td>\n",
              "    </tr>\n",
              "  </tbody>\n",
              "</table>\n",
              "</div>"
            ],
            "text/plain": [
              "   age          job   marital  education  ... pdays  previous poutcome subscribed\n",
              "0   56       admin.   married    unknown  ...    -1         0  unknown         no\n",
              "1   31  blue-collar   married  secondary  ...    -1         0  unknown         no\n",
              "2   27     services   married  secondary  ...    -1         0  unknown         no\n",
              "3   57   management  divorced   tertiary  ...    84         3  success        yes\n",
              "4   31   technician   married  secondary  ...    -1         0  unknown         no\n",
              "\n",
              "[5 rows x 15 columns]"
            ]
          },
          "metadata": {
            "tags": []
          },
          "execution_count": 30
        }
      ]
    },
    {
      "cell_type": "markdown",
      "metadata": {
        "id": "OuEATRkJgkcz"
      },
      "source": [
        "- Fazendo a retirada das colunas que não serão úteis para gerar o modelo."
      ]
    },
    {
      "cell_type": "code",
      "metadata": {
        "colab": {
          "base_uri": "https://localhost:8080/"
        },
        "id": "nUfLKff8OQkT",
        "outputId": "5e8e0fad-a5f1-4c1f-bc23-dc224756bc5a"
      },
      "source": [
        "data_treino['job'].unique()"
      ],
      "execution_count": 31,
      "outputs": [
        {
          "output_type": "execute_result",
          "data": {
            "text/plain": [
              "array(['admin.', 'blue-collar', 'services', 'management', 'technician',\n",
              "       'retired', 'housemaid', 'student', 'self-employed', 'entrepreneur',\n",
              "       'unemployed'], dtype=object)"
            ]
          },
          "metadata": {
            "tags": []
          },
          "execution_count": 31
        }
      ]
    },
    {
      "cell_type": "code",
      "metadata": {
        "id": "KPf5J5czIkKv"
      },
      "source": [
        " from sklearn.preprocessing import OneHotEncoder"
      ],
      "execution_count": 32,
      "outputs": []
    },
    {
      "cell_type": "code",
      "metadata": {
        "id": "E6NuO04pJgXW",
        "colab": {
          "base_uri": "https://localhost:8080/",
          "height": 241
        },
        "outputId": "4be51bc9-22ba-44c9-e3f6-8972070f8ab9"
      },
      "source": [
        "ohe = OneHotEncoder(sparse = False)\n",
        "data_transform = pd.DataFrame(ohe.fit_transform(data_treino[\"job\"].to_frame()), columns = \"job_\" + np.sort(data_treino[\"job\"].unique()))\n",
        "data_transform.head()"
      ],
      "execution_count": 33,
      "outputs": [
        {
          "output_type": "execute_result",
          "data": {
            "text/html": [
              "<div>\n",
              "<style scoped>\n",
              "    .dataframe tbody tr th:only-of-type {\n",
              "        vertical-align: middle;\n",
              "    }\n",
              "\n",
              "    .dataframe tbody tr th {\n",
              "        vertical-align: top;\n",
              "    }\n",
              "\n",
              "    .dataframe thead th {\n",
              "        text-align: right;\n",
              "    }\n",
              "</style>\n",
              "<table border=\"1\" class=\"dataframe\">\n",
              "  <thead>\n",
              "    <tr style=\"text-align: right;\">\n",
              "      <th></th>\n",
              "      <th>job_admin.</th>\n",
              "      <th>job_blue-collar</th>\n",
              "      <th>job_entrepreneur</th>\n",
              "      <th>job_housemaid</th>\n",
              "      <th>job_management</th>\n",
              "      <th>job_retired</th>\n",
              "      <th>job_self-employed</th>\n",
              "      <th>job_services</th>\n",
              "      <th>job_student</th>\n",
              "      <th>job_technician</th>\n",
              "      <th>job_unemployed</th>\n",
              "    </tr>\n",
              "  </thead>\n",
              "  <tbody>\n",
              "    <tr>\n",
              "      <th>0</th>\n",
              "      <td>1.0</td>\n",
              "      <td>0.0</td>\n",
              "      <td>0.0</td>\n",
              "      <td>0.0</td>\n",
              "      <td>0.0</td>\n",
              "      <td>0.0</td>\n",
              "      <td>0.0</td>\n",
              "      <td>0.0</td>\n",
              "      <td>0.0</td>\n",
              "      <td>0.0</td>\n",
              "      <td>0.0</td>\n",
              "    </tr>\n",
              "    <tr>\n",
              "      <th>1</th>\n",
              "      <td>0.0</td>\n",
              "      <td>1.0</td>\n",
              "      <td>0.0</td>\n",
              "      <td>0.0</td>\n",
              "      <td>0.0</td>\n",
              "      <td>0.0</td>\n",
              "      <td>0.0</td>\n",
              "      <td>0.0</td>\n",
              "      <td>0.0</td>\n",
              "      <td>0.0</td>\n",
              "      <td>0.0</td>\n",
              "    </tr>\n",
              "    <tr>\n",
              "      <th>2</th>\n",
              "      <td>0.0</td>\n",
              "      <td>0.0</td>\n",
              "      <td>0.0</td>\n",
              "      <td>0.0</td>\n",
              "      <td>0.0</td>\n",
              "      <td>0.0</td>\n",
              "      <td>0.0</td>\n",
              "      <td>1.0</td>\n",
              "      <td>0.0</td>\n",
              "      <td>0.0</td>\n",
              "      <td>0.0</td>\n",
              "    </tr>\n",
              "    <tr>\n",
              "      <th>3</th>\n",
              "      <td>0.0</td>\n",
              "      <td>0.0</td>\n",
              "      <td>0.0</td>\n",
              "      <td>0.0</td>\n",
              "      <td>1.0</td>\n",
              "      <td>0.0</td>\n",
              "      <td>0.0</td>\n",
              "      <td>0.0</td>\n",
              "      <td>0.0</td>\n",
              "      <td>0.0</td>\n",
              "      <td>0.0</td>\n",
              "    </tr>\n",
              "    <tr>\n",
              "      <th>4</th>\n",
              "      <td>0.0</td>\n",
              "      <td>0.0</td>\n",
              "      <td>0.0</td>\n",
              "      <td>0.0</td>\n",
              "      <td>0.0</td>\n",
              "      <td>0.0</td>\n",
              "      <td>0.0</td>\n",
              "      <td>0.0</td>\n",
              "      <td>0.0</td>\n",
              "      <td>1.0</td>\n",
              "      <td>0.0</td>\n",
              "    </tr>\n",
              "  </tbody>\n",
              "</table>\n",
              "</div>"
            ],
            "text/plain": [
              "   job_admin.  job_blue-collar  ...  job_technician  job_unemployed\n",
              "0         1.0              0.0  ...             0.0             0.0\n",
              "1         0.0              1.0  ...             0.0             0.0\n",
              "2         0.0              0.0  ...             0.0             0.0\n",
              "3         0.0              0.0  ...             0.0             0.0\n",
              "4         0.0              0.0  ...             1.0             0.0\n",
              "\n",
              "[5 rows x 11 columns]"
            ]
          },
          "metadata": {
            "tags": []
          },
          "execution_count": 33
        }
      ]
    },
    {
      "cell_type": "markdown",
      "metadata": {
        "id": "o_mv7zohhFZ7"
      },
      "source": [
        "- Com a utilização da biblioteca OneHotEncoder para codificar recursos categóricos como uma matriz numérica. Assim foi criado uma tabela com todos os job agora transformados em variáveis booleanas."
      ]
    },
    {
      "cell_type": "code",
      "metadata": {
        "id": "TqpNZE4ZQh34",
        "colab": {
          "base_uri": "https://localhost:8080/",
          "height": 224
        },
        "outputId": "e1399d97-8cb8-405c-d037-5cc412487a68"
      },
      "source": [
        "data_treino.drop(columns = [\"job\"], inplace = True)\n",
        "data_treino.head()"
      ],
      "execution_count": 34,
      "outputs": [
        {
          "output_type": "execute_result",
          "data": {
            "text/html": [
              "<div>\n",
              "<style scoped>\n",
              "    .dataframe tbody tr th:only-of-type {\n",
              "        vertical-align: middle;\n",
              "    }\n",
              "\n",
              "    .dataframe tbody tr th {\n",
              "        vertical-align: top;\n",
              "    }\n",
              "\n",
              "    .dataframe thead th {\n",
              "        text-align: right;\n",
              "    }\n",
              "</style>\n",
              "<table border=\"1\" class=\"dataframe\">\n",
              "  <thead>\n",
              "    <tr style=\"text-align: right;\">\n",
              "      <th></th>\n",
              "      <th>age</th>\n",
              "      <th>marital</th>\n",
              "      <th>education</th>\n",
              "      <th>default</th>\n",
              "      <th>balance</th>\n",
              "      <th>housing</th>\n",
              "      <th>loan</th>\n",
              "      <th>contact</th>\n",
              "      <th>duration</th>\n",
              "      <th>campaign</th>\n",
              "      <th>pdays</th>\n",
              "      <th>previous</th>\n",
              "      <th>poutcome</th>\n",
              "      <th>subscribed</th>\n",
              "    </tr>\n",
              "  </thead>\n",
              "  <tbody>\n",
              "    <tr>\n",
              "      <th>0</th>\n",
              "      <td>56</td>\n",
              "      <td>married</td>\n",
              "      <td>unknown</td>\n",
              "      <td>no</td>\n",
              "      <td>1933.0</td>\n",
              "      <td>no</td>\n",
              "      <td>no</td>\n",
              "      <td>telephone</td>\n",
              "      <td>44</td>\n",
              "      <td>2</td>\n",
              "      <td>-1</td>\n",
              "      <td>0</td>\n",
              "      <td>unknown</td>\n",
              "      <td>no</td>\n",
              "    </tr>\n",
              "    <tr>\n",
              "      <th>1</th>\n",
              "      <td>31</td>\n",
              "      <td>married</td>\n",
              "      <td>secondary</td>\n",
              "      <td>no</td>\n",
              "      <td>3.0</td>\n",
              "      <td>no</td>\n",
              "      <td>no</td>\n",
              "      <td>cellular</td>\n",
              "      <td>91</td>\n",
              "      <td>2</td>\n",
              "      <td>-1</td>\n",
              "      <td>0</td>\n",
              "      <td>unknown</td>\n",
              "      <td>no</td>\n",
              "    </tr>\n",
              "    <tr>\n",
              "      <th>2</th>\n",
              "      <td>27</td>\n",
              "      <td>married</td>\n",
              "      <td>secondary</td>\n",
              "      <td>no</td>\n",
              "      <td>891.0</td>\n",
              "      <td>yes</td>\n",
              "      <td>no</td>\n",
              "      <td>cellular</td>\n",
              "      <td>240</td>\n",
              "      <td>1</td>\n",
              "      <td>-1</td>\n",
              "      <td>0</td>\n",
              "      <td>unknown</td>\n",
              "      <td>no</td>\n",
              "    </tr>\n",
              "    <tr>\n",
              "      <th>3</th>\n",
              "      <td>57</td>\n",
              "      <td>divorced</td>\n",
              "      <td>tertiary</td>\n",
              "      <td>no</td>\n",
              "      <td>3287.0</td>\n",
              "      <td>no</td>\n",
              "      <td>no</td>\n",
              "      <td>cellular</td>\n",
              "      <td>867</td>\n",
              "      <td>1</td>\n",
              "      <td>84</td>\n",
              "      <td>3</td>\n",
              "      <td>success</td>\n",
              "      <td>yes</td>\n",
              "    </tr>\n",
              "    <tr>\n",
              "      <th>4</th>\n",
              "      <td>31</td>\n",
              "      <td>married</td>\n",
              "      <td>secondary</td>\n",
              "      <td>no</td>\n",
              "      <td>119.0</td>\n",
              "      <td>yes</td>\n",
              "      <td>no</td>\n",
              "      <td>cellular</td>\n",
              "      <td>380</td>\n",
              "      <td>1</td>\n",
              "      <td>-1</td>\n",
              "      <td>0</td>\n",
              "      <td>unknown</td>\n",
              "      <td>no</td>\n",
              "    </tr>\n",
              "  </tbody>\n",
              "</table>\n",
              "</div>"
            ],
            "text/plain": [
              "   age   marital  education default  ...  pdays previous poutcome subscribed\n",
              "0   56   married    unknown      no  ...     -1        0  unknown         no\n",
              "1   31   married  secondary      no  ...     -1        0  unknown         no\n",
              "2   27   married  secondary      no  ...     -1        0  unknown         no\n",
              "3   57  divorced   tertiary      no  ...     84        3  success        yes\n",
              "4   31   married  secondary      no  ...     -1        0  unknown         no\n",
              "\n",
              "[5 rows x 14 columns]"
            ]
          },
          "metadata": {
            "tags": []
          },
          "execution_count": 34
        }
      ]
    },
    {
      "cell_type": "markdown",
      "metadata": {
        "id": "Bw_WwGKRibLy"
      },
      "source": [
        "- Removendo a coluna job para inserir os valores da nova tabela criada pelo OneHotEncoder."
      ]
    },
    {
      "cell_type": "code",
      "metadata": {
        "id": "xRFouRJ9QiEZ"
      },
      "source": [
        "data_treino['job_admin.'] = data_transform['job_admin.']\n",
        "data_treino['job_blue-collar'] = data_transform['job_blue-collar']\n",
        "data_treino['job_entrepreneur'] = data_transform['job_entrepreneur']\n",
        "data_treino['job_housemaid'] = data_transform['job_housemaid']\n",
        "data_treino['job_management'] = data_transform['job_management']\n",
        "data_treino['job_retired'] = data_transform['job_retired']\n",
        "data_treino['job_self-employed'] = data_transform['job_self-employed']\n",
        "data_treino['job_services'] = data_transform['job_services']\n",
        "data_treino['job_student'] = data_transform['job_student']\n",
        "data_treino['job_technician'] = data_transform['job_technician']\n",
        "data_treino['job_unemployed'] = data_transform['job_unemployed']\n",
        "\n",
        "# data_treino = pd.concat([data_treino, data_transform], axis = 1)"
      ],
      "execution_count": 35,
      "outputs": []
    },
    {
      "cell_type": "markdown",
      "metadata": {
        "id": "ztGgul7wjCLU"
      },
      "source": [
        "- fazendo a inserção dos valores da tabela data_transform para a tabela data_treino. Obs.: A opção do pd.concat() não deu muito certo, pois isso foi feita a inserção na força bruta."
      ]
    },
    {
      "cell_type": "code",
      "metadata": {
        "id": "Ey7TVhIUKm7A",
        "colab": {
          "base_uri": "https://localhost:8080/",
          "height": 241
        },
        "outputId": "b03ecf38-e668-447f-d945-a832aab2c533"
      },
      "source": [
        "data_treino.head()"
      ],
      "execution_count": 36,
      "outputs": [
        {
          "output_type": "execute_result",
          "data": {
            "text/html": [
              "<div>\n",
              "<style scoped>\n",
              "    .dataframe tbody tr th:only-of-type {\n",
              "        vertical-align: middle;\n",
              "    }\n",
              "\n",
              "    .dataframe tbody tr th {\n",
              "        vertical-align: top;\n",
              "    }\n",
              "\n",
              "    .dataframe thead th {\n",
              "        text-align: right;\n",
              "    }\n",
              "</style>\n",
              "<table border=\"1\" class=\"dataframe\">\n",
              "  <thead>\n",
              "    <tr style=\"text-align: right;\">\n",
              "      <th></th>\n",
              "      <th>age</th>\n",
              "      <th>marital</th>\n",
              "      <th>education</th>\n",
              "      <th>default</th>\n",
              "      <th>balance</th>\n",
              "      <th>housing</th>\n",
              "      <th>loan</th>\n",
              "      <th>contact</th>\n",
              "      <th>duration</th>\n",
              "      <th>campaign</th>\n",
              "      <th>pdays</th>\n",
              "      <th>previous</th>\n",
              "      <th>poutcome</th>\n",
              "      <th>subscribed</th>\n",
              "      <th>job_admin.</th>\n",
              "      <th>job_blue-collar</th>\n",
              "      <th>job_entrepreneur</th>\n",
              "      <th>job_housemaid</th>\n",
              "      <th>job_management</th>\n",
              "      <th>job_retired</th>\n",
              "      <th>job_self-employed</th>\n",
              "      <th>job_services</th>\n",
              "      <th>job_student</th>\n",
              "      <th>job_technician</th>\n",
              "      <th>job_unemployed</th>\n",
              "    </tr>\n",
              "  </thead>\n",
              "  <tbody>\n",
              "    <tr>\n",
              "      <th>0</th>\n",
              "      <td>56</td>\n",
              "      <td>married</td>\n",
              "      <td>unknown</td>\n",
              "      <td>no</td>\n",
              "      <td>1933.0</td>\n",
              "      <td>no</td>\n",
              "      <td>no</td>\n",
              "      <td>telephone</td>\n",
              "      <td>44</td>\n",
              "      <td>2</td>\n",
              "      <td>-1</td>\n",
              "      <td>0</td>\n",
              "      <td>unknown</td>\n",
              "      <td>no</td>\n",
              "      <td>1.0</td>\n",
              "      <td>0.0</td>\n",
              "      <td>0.0</td>\n",
              "      <td>0.0</td>\n",
              "      <td>0.0</td>\n",
              "      <td>0.0</td>\n",
              "      <td>0.0</td>\n",
              "      <td>0.0</td>\n",
              "      <td>0.0</td>\n",
              "      <td>0.0</td>\n",
              "      <td>0.0</td>\n",
              "    </tr>\n",
              "    <tr>\n",
              "      <th>1</th>\n",
              "      <td>31</td>\n",
              "      <td>married</td>\n",
              "      <td>secondary</td>\n",
              "      <td>no</td>\n",
              "      <td>3.0</td>\n",
              "      <td>no</td>\n",
              "      <td>no</td>\n",
              "      <td>cellular</td>\n",
              "      <td>91</td>\n",
              "      <td>2</td>\n",
              "      <td>-1</td>\n",
              "      <td>0</td>\n",
              "      <td>unknown</td>\n",
              "      <td>no</td>\n",
              "      <td>0.0</td>\n",
              "      <td>1.0</td>\n",
              "      <td>0.0</td>\n",
              "      <td>0.0</td>\n",
              "      <td>0.0</td>\n",
              "      <td>0.0</td>\n",
              "      <td>0.0</td>\n",
              "      <td>0.0</td>\n",
              "      <td>0.0</td>\n",
              "      <td>0.0</td>\n",
              "      <td>0.0</td>\n",
              "    </tr>\n",
              "    <tr>\n",
              "      <th>2</th>\n",
              "      <td>27</td>\n",
              "      <td>married</td>\n",
              "      <td>secondary</td>\n",
              "      <td>no</td>\n",
              "      <td>891.0</td>\n",
              "      <td>yes</td>\n",
              "      <td>no</td>\n",
              "      <td>cellular</td>\n",
              "      <td>240</td>\n",
              "      <td>1</td>\n",
              "      <td>-1</td>\n",
              "      <td>0</td>\n",
              "      <td>unknown</td>\n",
              "      <td>no</td>\n",
              "      <td>0.0</td>\n",
              "      <td>0.0</td>\n",
              "      <td>0.0</td>\n",
              "      <td>0.0</td>\n",
              "      <td>0.0</td>\n",
              "      <td>0.0</td>\n",
              "      <td>0.0</td>\n",
              "      <td>1.0</td>\n",
              "      <td>0.0</td>\n",
              "      <td>0.0</td>\n",
              "      <td>0.0</td>\n",
              "    </tr>\n",
              "    <tr>\n",
              "      <th>3</th>\n",
              "      <td>57</td>\n",
              "      <td>divorced</td>\n",
              "      <td>tertiary</td>\n",
              "      <td>no</td>\n",
              "      <td>3287.0</td>\n",
              "      <td>no</td>\n",
              "      <td>no</td>\n",
              "      <td>cellular</td>\n",
              "      <td>867</td>\n",
              "      <td>1</td>\n",
              "      <td>84</td>\n",
              "      <td>3</td>\n",
              "      <td>success</td>\n",
              "      <td>yes</td>\n",
              "      <td>0.0</td>\n",
              "      <td>0.0</td>\n",
              "      <td>0.0</td>\n",
              "      <td>0.0</td>\n",
              "      <td>1.0</td>\n",
              "      <td>0.0</td>\n",
              "      <td>0.0</td>\n",
              "      <td>0.0</td>\n",
              "      <td>0.0</td>\n",
              "      <td>0.0</td>\n",
              "      <td>0.0</td>\n",
              "    </tr>\n",
              "    <tr>\n",
              "      <th>4</th>\n",
              "      <td>31</td>\n",
              "      <td>married</td>\n",
              "      <td>secondary</td>\n",
              "      <td>no</td>\n",
              "      <td>119.0</td>\n",
              "      <td>yes</td>\n",
              "      <td>no</td>\n",
              "      <td>cellular</td>\n",
              "      <td>380</td>\n",
              "      <td>1</td>\n",
              "      <td>-1</td>\n",
              "      <td>0</td>\n",
              "      <td>unknown</td>\n",
              "      <td>no</td>\n",
              "      <td>0.0</td>\n",
              "      <td>0.0</td>\n",
              "      <td>0.0</td>\n",
              "      <td>0.0</td>\n",
              "      <td>0.0</td>\n",
              "      <td>0.0</td>\n",
              "      <td>0.0</td>\n",
              "      <td>0.0</td>\n",
              "      <td>0.0</td>\n",
              "      <td>1.0</td>\n",
              "      <td>0.0</td>\n",
              "    </tr>\n",
              "  </tbody>\n",
              "</table>\n",
              "</div>"
            ],
            "text/plain": [
              "   age   marital  education  ... job_student  job_technician job_unemployed\n",
              "0   56   married    unknown  ...         0.0             0.0            0.0\n",
              "1   31   married  secondary  ...         0.0             0.0            0.0\n",
              "2   27   married  secondary  ...         0.0             0.0            0.0\n",
              "3   57  divorced   tertiary  ...         0.0             0.0            0.0\n",
              "4   31   married  secondary  ...         0.0             1.0            0.0\n",
              "\n",
              "[5 rows x 25 columns]"
            ]
          },
          "metadata": {
            "tags": []
          },
          "execution_count": 36
        }
      ]
    },
    {
      "cell_type": "markdown",
      "metadata": {
        "id": "UiIVwKlJjifE"
      },
      "source": [
        "- Nova tabela agora com os valores gerados pelo OneHotEncoder."
      ]
    },
    {
      "cell_type": "code",
      "metadata": {
        "colab": {
          "base_uri": "https://localhost:8080/",
          "height": 204
        },
        "id": "_BtUZdSGruJY",
        "outputId": "c7629ab0-c5c0-439d-e15f-639d9d276886"
      },
      "source": [
        "data_transform = pd.DataFrame(ohe.fit_transform(data_treino[\"marital\"].to_frame()), columns = \"marital_\" + np.sort(data_treino[\"marital\"].unique()))\n",
        "data_transform.head()"
      ],
      "execution_count": 37,
      "outputs": [
        {
          "output_type": "execute_result",
          "data": {
            "text/html": [
              "<div>\n",
              "<style scoped>\n",
              "    .dataframe tbody tr th:only-of-type {\n",
              "        vertical-align: middle;\n",
              "    }\n",
              "\n",
              "    .dataframe tbody tr th {\n",
              "        vertical-align: top;\n",
              "    }\n",
              "\n",
              "    .dataframe thead th {\n",
              "        text-align: right;\n",
              "    }\n",
              "</style>\n",
              "<table border=\"1\" class=\"dataframe\">\n",
              "  <thead>\n",
              "    <tr style=\"text-align: right;\">\n",
              "      <th></th>\n",
              "      <th>marital_divorced</th>\n",
              "      <th>marital_married</th>\n",
              "      <th>marital_single</th>\n",
              "    </tr>\n",
              "  </thead>\n",
              "  <tbody>\n",
              "    <tr>\n",
              "      <th>0</th>\n",
              "      <td>0.0</td>\n",
              "      <td>1.0</td>\n",
              "      <td>0.0</td>\n",
              "    </tr>\n",
              "    <tr>\n",
              "      <th>1</th>\n",
              "      <td>0.0</td>\n",
              "      <td>1.0</td>\n",
              "      <td>0.0</td>\n",
              "    </tr>\n",
              "    <tr>\n",
              "      <th>2</th>\n",
              "      <td>0.0</td>\n",
              "      <td>1.0</td>\n",
              "      <td>0.0</td>\n",
              "    </tr>\n",
              "    <tr>\n",
              "      <th>3</th>\n",
              "      <td>1.0</td>\n",
              "      <td>0.0</td>\n",
              "      <td>0.0</td>\n",
              "    </tr>\n",
              "    <tr>\n",
              "      <th>4</th>\n",
              "      <td>0.0</td>\n",
              "      <td>1.0</td>\n",
              "      <td>0.0</td>\n",
              "    </tr>\n",
              "  </tbody>\n",
              "</table>\n",
              "</div>"
            ],
            "text/plain": [
              "   marital_divorced  marital_married  marital_single\n",
              "0               0.0              1.0             0.0\n",
              "1               0.0              1.0             0.0\n",
              "2               0.0              1.0             0.0\n",
              "3               1.0              0.0             0.0\n",
              "4               0.0              1.0             0.0"
            ]
          },
          "metadata": {
            "tags": []
          },
          "execution_count": 37
        }
      ]
    },
    {
      "cell_type": "code",
      "metadata": {
        "colab": {
          "base_uri": "https://localhost:8080/",
          "height": 241
        },
        "id": "d8Xdy8DWszN0",
        "outputId": "13eb48c6-1930-4b8b-f935-dbe158a7a4d3"
      },
      "source": [
        "data_treino.drop(columns = [\"marital\"], inplace = True)\n",
        "\n",
        "data_treino['marital_divorced'] = data_transform['marital_divorced']\n",
        "data_treino['marital_married'] = data_transform['marital_married']\n",
        "data_treino['marital_single'] = data_transform['marital_single']\n",
        "\n",
        "data_treino.head()"
      ],
      "execution_count": 38,
      "outputs": [
        {
          "output_type": "execute_result",
          "data": {
            "text/html": [
              "<div>\n",
              "<style scoped>\n",
              "    .dataframe tbody tr th:only-of-type {\n",
              "        vertical-align: middle;\n",
              "    }\n",
              "\n",
              "    .dataframe tbody tr th {\n",
              "        vertical-align: top;\n",
              "    }\n",
              "\n",
              "    .dataframe thead th {\n",
              "        text-align: right;\n",
              "    }\n",
              "</style>\n",
              "<table border=\"1\" class=\"dataframe\">\n",
              "  <thead>\n",
              "    <tr style=\"text-align: right;\">\n",
              "      <th></th>\n",
              "      <th>age</th>\n",
              "      <th>education</th>\n",
              "      <th>default</th>\n",
              "      <th>balance</th>\n",
              "      <th>housing</th>\n",
              "      <th>loan</th>\n",
              "      <th>contact</th>\n",
              "      <th>duration</th>\n",
              "      <th>campaign</th>\n",
              "      <th>pdays</th>\n",
              "      <th>previous</th>\n",
              "      <th>poutcome</th>\n",
              "      <th>subscribed</th>\n",
              "      <th>job_admin.</th>\n",
              "      <th>job_blue-collar</th>\n",
              "      <th>job_entrepreneur</th>\n",
              "      <th>job_housemaid</th>\n",
              "      <th>job_management</th>\n",
              "      <th>job_retired</th>\n",
              "      <th>job_self-employed</th>\n",
              "      <th>job_services</th>\n",
              "      <th>job_student</th>\n",
              "      <th>job_technician</th>\n",
              "      <th>job_unemployed</th>\n",
              "      <th>marital_divorced</th>\n",
              "      <th>marital_married</th>\n",
              "      <th>marital_single</th>\n",
              "    </tr>\n",
              "  </thead>\n",
              "  <tbody>\n",
              "    <tr>\n",
              "      <th>0</th>\n",
              "      <td>56</td>\n",
              "      <td>unknown</td>\n",
              "      <td>no</td>\n",
              "      <td>1933.0</td>\n",
              "      <td>no</td>\n",
              "      <td>no</td>\n",
              "      <td>telephone</td>\n",
              "      <td>44</td>\n",
              "      <td>2</td>\n",
              "      <td>-1</td>\n",
              "      <td>0</td>\n",
              "      <td>unknown</td>\n",
              "      <td>no</td>\n",
              "      <td>1.0</td>\n",
              "      <td>0.0</td>\n",
              "      <td>0.0</td>\n",
              "      <td>0.0</td>\n",
              "      <td>0.0</td>\n",
              "      <td>0.0</td>\n",
              "      <td>0.0</td>\n",
              "      <td>0.0</td>\n",
              "      <td>0.0</td>\n",
              "      <td>0.0</td>\n",
              "      <td>0.0</td>\n",
              "      <td>0.0</td>\n",
              "      <td>1.0</td>\n",
              "      <td>0.0</td>\n",
              "    </tr>\n",
              "    <tr>\n",
              "      <th>1</th>\n",
              "      <td>31</td>\n",
              "      <td>secondary</td>\n",
              "      <td>no</td>\n",
              "      <td>3.0</td>\n",
              "      <td>no</td>\n",
              "      <td>no</td>\n",
              "      <td>cellular</td>\n",
              "      <td>91</td>\n",
              "      <td>2</td>\n",
              "      <td>-1</td>\n",
              "      <td>0</td>\n",
              "      <td>unknown</td>\n",
              "      <td>no</td>\n",
              "      <td>0.0</td>\n",
              "      <td>1.0</td>\n",
              "      <td>0.0</td>\n",
              "      <td>0.0</td>\n",
              "      <td>0.0</td>\n",
              "      <td>0.0</td>\n",
              "      <td>0.0</td>\n",
              "      <td>0.0</td>\n",
              "      <td>0.0</td>\n",
              "      <td>0.0</td>\n",
              "      <td>0.0</td>\n",
              "      <td>0.0</td>\n",
              "      <td>1.0</td>\n",
              "      <td>0.0</td>\n",
              "    </tr>\n",
              "    <tr>\n",
              "      <th>2</th>\n",
              "      <td>27</td>\n",
              "      <td>secondary</td>\n",
              "      <td>no</td>\n",
              "      <td>891.0</td>\n",
              "      <td>yes</td>\n",
              "      <td>no</td>\n",
              "      <td>cellular</td>\n",
              "      <td>240</td>\n",
              "      <td>1</td>\n",
              "      <td>-1</td>\n",
              "      <td>0</td>\n",
              "      <td>unknown</td>\n",
              "      <td>no</td>\n",
              "      <td>0.0</td>\n",
              "      <td>0.0</td>\n",
              "      <td>0.0</td>\n",
              "      <td>0.0</td>\n",
              "      <td>0.0</td>\n",
              "      <td>0.0</td>\n",
              "      <td>0.0</td>\n",
              "      <td>1.0</td>\n",
              "      <td>0.0</td>\n",
              "      <td>0.0</td>\n",
              "      <td>0.0</td>\n",
              "      <td>0.0</td>\n",
              "      <td>1.0</td>\n",
              "      <td>0.0</td>\n",
              "    </tr>\n",
              "    <tr>\n",
              "      <th>3</th>\n",
              "      <td>57</td>\n",
              "      <td>tertiary</td>\n",
              "      <td>no</td>\n",
              "      <td>3287.0</td>\n",
              "      <td>no</td>\n",
              "      <td>no</td>\n",
              "      <td>cellular</td>\n",
              "      <td>867</td>\n",
              "      <td>1</td>\n",
              "      <td>84</td>\n",
              "      <td>3</td>\n",
              "      <td>success</td>\n",
              "      <td>yes</td>\n",
              "      <td>0.0</td>\n",
              "      <td>0.0</td>\n",
              "      <td>0.0</td>\n",
              "      <td>0.0</td>\n",
              "      <td>1.0</td>\n",
              "      <td>0.0</td>\n",
              "      <td>0.0</td>\n",
              "      <td>0.0</td>\n",
              "      <td>0.0</td>\n",
              "      <td>0.0</td>\n",
              "      <td>0.0</td>\n",
              "      <td>1.0</td>\n",
              "      <td>0.0</td>\n",
              "      <td>0.0</td>\n",
              "    </tr>\n",
              "    <tr>\n",
              "      <th>4</th>\n",
              "      <td>31</td>\n",
              "      <td>secondary</td>\n",
              "      <td>no</td>\n",
              "      <td>119.0</td>\n",
              "      <td>yes</td>\n",
              "      <td>no</td>\n",
              "      <td>cellular</td>\n",
              "      <td>380</td>\n",
              "      <td>1</td>\n",
              "      <td>-1</td>\n",
              "      <td>0</td>\n",
              "      <td>unknown</td>\n",
              "      <td>no</td>\n",
              "      <td>0.0</td>\n",
              "      <td>0.0</td>\n",
              "      <td>0.0</td>\n",
              "      <td>0.0</td>\n",
              "      <td>0.0</td>\n",
              "      <td>0.0</td>\n",
              "      <td>0.0</td>\n",
              "      <td>0.0</td>\n",
              "      <td>0.0</td>\n",
              "      <td>1.0</td>\n",
              "      <td>0.0</td>\n",
              "      <td>0.0</td>\n",
              "      <td>1.0</td>\n",
              "      <td>0.0</td>\n",
              "    </tr>\n",
              "  </tbody>\n",
              "</table>\n",
              "</div>"
            ],
            "text/plain": [
              "   age  education default  ...  marital_divorced marital_married marital_single\n",
              "0   56    unknown      no  ...               0.0             1.0            0.0\n",
              "1   31  secondary      no  ...               0.0             1.0            0.0\n",
              "2   27  secondary      no  ...               0.0             1.0            0.0\n",
              "3   57   tertiary      no  ...               1.0             0.0            0.0\n",
              "4   31  secondary      no  ...               0.0             1.0            0.0\n",
              "\n",
              "[5 rows x 27 columns]"
            ]
          },
          "metadata": {
            "tags": []
          },
          "execution_count": 38
        }
      ]
    },
    {
      "cell_type": "code",
      "metadata": {
        "id": "D7_XmuikLNxx",
        "colab": {
          "base_uri": "https://localhost:8080/",
          "height": 241
        },
        "outputId": "cd9fab02-3410-48c3-cb9f-8e5c4c4ccb1f"
      },
      "source": [
        "data_transform = pd.DataFrame(ohe.fit_transform(data_treino[\"education\"].to_frame()), columns = \"education_\" + np.sort(data_treino[\"education\"].unique()))\n",
        "data_treino.drop(columns = [\"education\"], inplace = True)\n",
        "\n",
        "data_treino['education_primary'] = data_transform['education_primary']\n",
        "data_treino['education_secondary'] = data_transform['education_secondary']\n",
        "data_treino['education_tertiary'] = data_transform['education_tertiary']\n",
        "data_treino['education_unknown'] = data_transform['education_unknown']\n",
        "\n",
        "data_treino.head()"
      ],
      "execution_count": 39,
      "outputs": [
        {
          "output_type": "execute_result",
          "data": {
            "text/html": [
              "<div>\n",
              "<style scoped>\n",
              "    .dataframe tbody tr th:only-of-type {\n",
              "        vertical-align: middle;\n",
              "    }\n",
              "\n",
              "    .dataframe tbody tr th {\n",
              "        vertical-align: top;\n",
              "    }\n",
              "\n",
              "    .dataframe thead th {\n",
              "        text-align: right;\n",
              "    }\n",
              "</style>\n",
              "<table border=\"1\" class=\"dataframe\">\n",
              "  <thead>\n",
              "    <tr style=\"text-align: right;\">\n",
              "      <th></th>\n",
              "      <th>age</th>\n",
              "      <th>default</th>\n",
              "      <th>balance</th>\n",
              "      <th>housing</th>\n",
              "      <th>loan</th>\n",
              "      <th>contact</th>\n",
              "      <th>duration</th>\n",
              "      <th>campaign</th>\n",
              "      <th>pdays</th>\n",
              "      <th>previous</th>\n",
              "      <th>poutcome</th>\n",
              "      <th>subscribed</th>\n",
              "      <th>job_admin.</th>\n",
              "      <th>job_blue-collar</th>\n",
              "      <th>job_entrepreneur</th>\n",
              "      <th>job_housemaid</th>\n",
              "      <th>job_management</th>\n",
              "      <th>job_retired</th>\n",
              "      <th>job_self-employed</th>\n",
              "      <th>job_services</th>\n",
              "      <th>job_student</th>\n",
              "      <th>job_technician</th>\n",
              "      <th>job_unemployed</th>\n",
              "      <th>marital_divorced</th>\n",
              "      <th>marital_married</th>\n",
              "      <th>marital_single</th>\n",
              "      <th>education_primary</th>\n",
              "      <th>education_secondary</th>\n",
              "      <th>education_tertiary</th>\n",
              "      <th>education_unknown</th>\n",
              "    </tr>\n",
              "  </thead>\n",
              "  <tbody>\n",
              "    <tr>\n",
              "      <th>0</th>\n",
              "      <td>56</td>\n",
              "      <td>no</td>\n",
              "      <td>1933.0</td>\n",
              "      <td>no</td>\n",
              "      <td>no</td>\n",
              "      <td>telephone</td>\n",
              "      <td>44</td>\n",
              "      <td>2</td>\n",
              "      <td>-1</td>\n",
              "      <td>0</td>\n",
              "      <td>unknown</td>\n",
              "      <td>no</td>\n",
              "      <td>1.0</td>\n",
              "      <td>0.0</td>\n",
              "      <td>0.0</td>\n",
              "      <td>0.0</td>\n",
              "      <td>0.0</td>\n",
              "      <td>0.0</td>\n",
              "      <td>0.0</td>\n",
              "      <td>0.0</td>\n",
              "      <td>0.0</td>\n",
              "      <td>0.0</td>\n",
              "      <td>0.0</td>\n",
              "      <td>0.0</td>\n",
              "      <td>1.0</td>\n",
              "      <td>0.0</td>\n",
              "      <td>0.0</td>\n",
              "      <td>0.0</td>\n",
              "      <td>0.0</td>\n",
              "      <td>1.0</td>\n",
              "    </tr>\n",
              "    <tr>\n",
              "      <th>1</th>\n",
              "      <td>31</td>\n",
              "      <td>no</td>\n",
              "      <td>3.0</td>\n",
              "      <td>no</td>\n",
              "      <td>no</td>\n",
              "      <td>cellular</td>\n",
              "      <td>91</td>\n",
              "      <td>2</td>\n",
              "      <td>-1</td>\n",
              "      <td>0</td>\n",
              "      <td>unknown</td>\n",
              "      <td>no</td>\n",
              "      <td>0.0</td>\n",
              "      <td>1.0</td>\n",
              "      <td>0.0</td>\n",
              "      <td>0.0</td>\n",
              "      <td>0.0</td>\n",
              "      <td>0.0</td>\n",
              "      <td>0.0</td>\n",
              "      <td>0.0</td>\n",
              "      <td>0.0</td>\n",
              "      <td>0.0</td>\n",
              "      <td>0.0</td>\n",
              "      <td>0.0</td>\n",
              "      <td>1.0</td>\n",
              "      <td>0.0</td>\n",
              "      <td>0.0</td>\n",
              "      <td>1.0</td>\n",
              "      <td>0.0</td>\n",
              "      <td>0.0</td>\n",
              "    </tr>\n",
              "    <tr>\n",
              "      <th>2</th>\n",
              "      <td>27</td>\n",
              "      <td>no</td>\n",
              "      <td>891.0</td>\n",
              "      <td>yes</td>\n",
              "      <td>no</td>\n",
              "      <td>cellular</td>\n",
              "      <td>240</td>\n",
              "      <td>1</td>\n",
              "      <td>-1</td>\n",
              "      <td>0</td>\n",
              "      <td>unknown</td>\n",
              "      <td>no</td>\n",
              "      <td>0.0</td>\n",
              "      <td>0.0</td>\n",
              "      <td>0.0</td>\n",
              "      <td>0.0</td>\n",
              "      <td>0.0</td>\n",
              "      <td>0.0</td>\n",
              "      <td>0.0</td>\n",
              "      <td>1.0</td>\n",
              "      <td>0.0</td>\n",
              "      <td>0.0</td>\n",
              "      <td>0.0</td>\n",
              "      <td>0.0</td>\n",
              "      <td>1.0</td>\n",
              "      <td>0.0</td>\n",
              "      <td>0.0</td>\n",
              "      <td>1.0</td>\n",
              "      <td>0.0</td>\n",
              "      <td>0.0</td>\n",
              "    </tr>\n",
              "    <tr>\n",
              "      <th>3</th>\n",
              "      <td>57</td>\n",
              "      <td>no</td>\n",
              "      <td>3287.0</td>\n",
              "      <td>no</td>\n",
              "      <td>no</td>\n",
              "      <td>cellular</td>\n",
              "      <td>867</td>\n",
              "      <td>1</td>\n",
              "      <td>84</td>\n",
              "      <td>3</td>\n",
              "      <td>success</td>\n",
              "      <td>yes</td>\n",
              "      <td>0.0</td>\n",
              "      <td>0.0</td>\n",
              "      <td>0.0</td>\n",
              "      <td>0.0</td>\n",
              "      <td>1.0</td>\n",
              "      <td>0.0</td>\n",
              "      <td>0.0</td>\n",
              "      <td>0.0</td>\n",
              "      <td>0.0</td>\n",
              "      <td>0.0</td>\n",
              "      <td>0.0</td>\n",
              "      <td>1.0</td>\n",
              "      <td>0.0</td>\n",
              "      <td>0.0</td>\n",
              "      <td>0.0</td>\n",
              "      <td>0.0</td>\n",
              "      <td>1.0</td>\n",
              "      <td>0.0</td>\n",
              "    </tr>\n",
              "    <tr>\n",
              "      <th>4</th>\n",
              "      <td>31</td>\n",
              "      <td>no</td>\n",
              "      <td>119.0</td>\n",
              "      <td>yes</td>\n",
              "      <td>no</td>\n",
              "      <td>cellular</td>\n",
              "      <td>380</td>\n",
              "      <td>1</td>\n",
              "      <td>-1</td>\n",
              "      <td>0</td>\n",
              "      <td>unknown</td>\n",
              "      <td>no</td>\n",
              "      <td>0.0</td>\n",
              "      <td>0.0</td>\n",
              "      <td>0.0</td>\n",
              "      <td>0.0</td>\n",
              "      <td>0.0</td>\n",
              "      <td>0.0</td>\n",
              "      <td>0.0</td>\n",
              "      <td>0.0</td>\n",
              "      <td>0.0</td>\n",
              "      <td>1.0</td>\n",
              "      <td>0.0</td>\n",
              "      <td>0.0</td>\n",
              "      <td>1.0</td>\n",
              "      <td>0.0</td>\n",
              "      <td>0.0</td>\n",
              "      <td>1.0</td>\n",
              "      <td>0.0</td>\n",
              "      <td>0.0</td>\n",
              "    </tr>\n",
              "  </tbody>\n",
              "</table>\n",
              "</div>"
            ],
            "text/plain": [
              "   age default  ...  education_tertiary education_unknown\n",
              "0   56      no  ...                 0.0               1.0\n",
              "1   31      no  ...                 0.0               0.0\n",
              "2   27      no  ...                 0.0               0.0\n",
              "3   57      no  ...                 1.0               0.0\n",
              "4   31      no  ...                 0.0               0.0\n",
              "\n",
              "[5 rows x 30 columns]"
            ]
          },
          "metadata": {
            "tags": []
          },
          "execution_count": 39
        }
      ]
    },
    {
      "cell_type": "markdown",
      "metadata": {
        "id": "0UtORqFwkxL6"
      },
      "source": [
        "- Fazendo a mesma troca das variáveis categóricas para a educação e transformando em numérica com uma determinada ordem de primary ate unknown."
      ]
    },
    {
      "cell_type": "code",
      "metadata": {
        "id": "RMsPABM5lYSJ"
      },
      "source": [
        "data_treino.loc[(data_treino.default == 'yes'), 'default'] = 1\n",
        "data_treino.loc[(data_treino.default == 'no'), 'default'] = 0"
      ],
      "execution_count": 40,
      "outputs": []
    },
    {
      "cell_type": "markdown",
      "metadata": {
        "id": "CX6cr5cKl37y"
      },
      "source": [
        "- Fazendo também a troca na coluna default da variável categórica para variáveis booleanas."
      ]
    },
    {
      "cell_type": "code",
      "metadata": {
        "colab": {
          "base_uri": "https://localhost:8080/",
          "height": 241
        },
        "id": "Y5fE1G-Yl3Rl",
        "outputId": "c5d71188-ca79-4dac-9b10-4f460cc04c37"
      },
      "source": [
        "data_treino.head()"
      ],
      "execution_count": 41,
      "outputs": [
        {
          "output_type": "execute_result",
          "data": {
            "text/html": [
              "<div>\n",
              "<style scoped>\n",
              "    .dataframe tbody tr th:only-of-type {\n",
              "        vertical-align: middle;\n",
              "    }\n",
              "\n",
              "    .dataframe tbody tr th {\n",
              "        vertical-align: top;\n",
              "    }\n",
              "\n",
              "    .dataframe thead th {\n",
              "        text-align: right;\n",
              "    }\n",
              "</style>\n",
              "<table border=\"1\" class=\"dataframe\">\n",
              "  <thead>\n",
              "    <tr style=\"text-align: right;\">\n",
              "      <th></th>\n",
              "      <th>age</th>\n",
              "      <th>default</th>\n",
              "      <th>balance</th>\n",
              "      <th>housing</th>\n",
              "      <th>loan</th>\n",
              "      <th>contact</th>\n",
              "      <th>duration</th>\n",
              "      <th>campaign</th>\n",
              "      <th>pdays</th>\n",
              "      <th>previous</th>\n",
              "      <th>poutcome</th>\n",
              "      <th>subscribed</th>\n",
              "      <th>job_admin.</th>\n",
              "      <th>job_blue-collar</th>\n",
              "      <th>job_entrepreneur</th>\n",
              "      <th>job_housemaid</th>\n",
              "      <th>job_management</th>\n",
              "      <th>job_retired</th>\n",
              "      <th>job_self-employed</th>\n",
              "      <th>job_services</th>\n",
              "      <th>job_student</th>\n",
              "      <th>job_technician</th>\n",
              "      <th>job_unemployed</th>\n",
              "      <th>marital_divorced</th>\n",
              "      <th>marital_married</th>\n",
              "      <th>marital_single</th>\n",
              "      <th>education_primary</th>\n",
              "      <th>education_secondary</th>\n",
              "      <th>education_tertiary</th>\n",
              "      <th>education_unknown</th>\n",
              "    </tr>\n",
              "  </thead>\n",
              "  <tbody>\n",
              "    <tr>\n",
              "      <th>0</th>\n",
              "      <td>56</td>\n",
              "      <td>0</td>\n",
              "      <td>1933.0</td>\n",
              "      <td>no</td>\n",
              "      <td>no</td>\n",
              "      <td>telephone</td>\n",
              "      <td>44</td>\n",
              "      <td>2</td>\n",
              "      <td>-1</td>\n",
              "      <td>0</td>\n",
              "      <td>unknown</td>\n",
              "      <td>no</td>\n",
              "      <td>1.0</td>\n",
              "      <td>0.0</td>\n",
              "      <td>0.0</td>\n",
              "      <td>0.0</td>\n",
              "      <td>0.0</td>\n",
              "      <td>0.0</td>\n",
              "      <td>0.0</td>\n",
              "      <td>0.0</td>\n",
              "      <td>0.0</td>\n",
              "      <td>0.0</td>\n",
              "      <td>0.0</td>\n",
              "      <td>0.0</td>\n",
              "      <td>1.0</td>\n",
              "      <td>0.0</td>\n",
              "      <td>0.0</td>\n",
              "      <td>0.0</td>\n",
              "      <td>0.0</td>\n",
              "      <td>1.0</td>\n",
              "    </tr>\n",
              "    <tr>\n",
              "      <th>1</th>\n",
              "      <td>31</td>\n",
              "      <td>0</td>\n",
              "      <td>3.0</td>\n",
              "      <td>no</td>\n",
              "      <td>no</td>\n",
              "      <td>cellular</td>\n",
              "      <td>91</td>\n",
              "      <td>2</td>\n",
              "      <td>-1</td>\n",
              "      <td>0</td>\n",
              "      <td>unknown</td>\n",
              "      <td>no</td>\n",
              "      <td>0.0</td>\n",
              "      <td>1.0</td>\n",
              "      <td>0.0</td>\n",
              "      <td>0.0</td>\n",
              "      <td>0.0</td>\n",
              "      <td>0.0</td>\n",
              "      <td>0.0</td>\n",
              "      <td>0.0</td>\n",
              "      <td>0.0</td>\n",
              "      <td>0.0</td>\n",
              "      <td>0.0</td>\n",
              "      <td>0.0</td>\n",
              "      <td>1.0</td>\n",
              "      <td>0.0</td>\n",
              "      <td>0.0</td>\n",
              "      <td>1.0</td>\n",
              "      <td>0.0</td>\n",
              "      <td>0.0</td>\n",
              "    </tr>\n",
              "    <tr>\n",
              "      <th>2</th>\n",
              "      <td>27</td>\n",
              "      <td>0</td>\n",
              "      <td>891.0</td>\n",
              "      <td>yes</td>\n",
              "      <td>no</td>\n",
              "      <td>cellular</td>\n",
              "      <td>240</td>\n",
              "      <td>1</td>\n",
              "      <td>-1</td>\n",
              "      <td>0</td>\n",
              "      <td>unknown</td>\n",
              "      <td>no</td>\n",
              "      <td>0.0</td>\n",
              "      <td>0.0</td>\n",
              "      <td>0.0</td>\n",
              "      <td>0.0</td>\n",
              "      <td>0.0</td>\n",
              "      <td>0.0</td>\n",
              "      <td>0.0</td>\n",
              "      <td>1.0</td>\n",
              "      <td>0.0</td>\n",
              "      <td>0.0</td>\n",
              "      <td>0.0</td>\n",
              "      <td>0.0</td>\n",
              "      <td>1.0</td>\n",
              "      <td>0.0</td>\n",
              "      <td>0.0</td>\n",
              "      <td>1.0</td>\n",
              "      <td>0.0</td>\n",
              "      <td>0.0</td>\n",
              "    </tr>\n",
              "    <tr>\n",
              "      <th>3</th>\n",
              "      <td>57</td>\n",
              "      <td>0</td>\n",
              "      <td>3287.0</td>\n",
              "      <td>no</td>\n",
              "      <td>no</td>\n",
              "      <td>cellular</td>\n",
              "      <td>867</td>\n",
              "      <td>1</td>\n",
              "      <td>84</td>\n",
              "      <td>3</td>\n",
              "      <td>success</td>\n",
              "      <td>yes</td>\n",
              "      <td>0.0</td>\n",
              "      <td>0.0</td>\n",
              "      <td>0.0</td>\n",
              "      <td>0.0</td>\n",
              "      <td>1.0</td>\n",
              "      <td>0.0</td>\n",
              "      <td>0.0</td>\n",
              "      <td>0.0</td>\n",
              "      <td>0.0</td>\n",
              "      <td>0.0</td>\n",
              "      <td>0.0</td>\n",
              "      <td>1.0</td>\n",
              "      <td>0.0</td>\n",
              "      <td>0.0</td>\n",
              "      <td>0.0</td>\n",
              "      <td>0.0</td>\n",
              "      <td>1.0</td>\n",
              "      <td>0.0</td>\n",
              "    </tr>\n",
              "    <tr>\n",
              "      <th>4</th>\n",
              "      <td>31</td>\n",
              "      <td>0</td>\n",
              "      <td>119.0</td>\n",
              "      <td>yes</td>\n",
              "      <td>no</td>\n",
              "      <td>cellular</td>\n",
              "      <td>380</td>\n",
              "      <td>1</td>\n",
              "      <td>-1</td>\n",
              "      <td>0</td>\n",
              "      <td>unknown</td>\n",
              "      <td>no</td>\n",
              "      <td>0.0</td>\n",
              "      <td>0.0</td>\n",
              "      <td>0.0</td>\n",
              "      <td>0.0</td>\n",
              "      <td>0.0</td>\n",
              "      <td>0.0</td>\n",
              "      <td>0.0</td>\n",
              "      <td>0.0</td>\n",
              "      <td>0.0</td>\n",
              "      <td>1.0</td>\n",
              "      <td>0.0</td>\n",
              "      <td>0.0</td>\n",
              "      <td>1.0</td>\n",
              "      <td>0.0</td>\n",
              "      <td>0.0</td>\n",
              "      <td>1.0</td>\n",
              "      <td>0.0</td>\n",
              "      <td>0.0</td>\n",
              "    </tr>\n",
              "  </tbody>\n",
              "</table>\n",
              "</div>"
            ],
            "text/plain": [
              "   age default  ...  education_tertiary education_unknown\n",
              "0   56       0  ...                 0.0               1.0\n",
              "1   31       0  ...                 0.0               0.0\n",
              "2   27       0  ...                 0.0               0.0\n",
              "3   57       0  ...                 1.0               0.0\n",
              "4   31       0  ...                 0.0               0.0\n",
              "\n",
              "[5 rows x 30 columns]"
            ]
          },
          "metadata": {
            "tags": []
          },
          "execution_count": 41
        }
      ]
    },
    {
      "cell_type": "markdown",
      "metadata": {
        "id": "8QAlnaUanWSa"
      },
      "source": [
        "- A Partir dos exemplos acima, faremos a mesma troca para o housing, loan, contact e para a coluna pdays fazer a troca do -1, pois o modelo não fica adaptado com o valor negativo."
      ]
    },
    {
      "cell_type": "code",
      "metadata": {
        "id": "SmKcCq5qmUcl"
      },
      "source": [
        "data_treino.loc[(data_treino.housing == 'yes'), 'housing'] = 1\n",
        "data_treino.loc[(data_treino.housing == 'no'), 'housing'] = 0\n",
        "\n",
        "data_treino.loc[(data_treino.loan == 'yes'), 'loan'] = 1\n",
        "data_treino.loc[(data_treino.loan == 'no'), 'loan'] = 0\n",
        "\n",
        "data_treino.loc[(data_treino.contact == 'telephone'), 'contact'] = 1\n",
        "data_treino.loc[(data_treino.contact == 'cellular'), 'contact'] = 0\n",
        "\n",
        "data_treino.loc[(data_treino.pdays == -1), 'pdays'] = 999999"
      ],
      "execution_count": 42,
      "outputs": []
    },
    {
      "cell_type": "code",
      "metadata": {
        "colab": {
          "base_uri": "https://localhost:8080/",
          "height": 241
        },
        "id": "k1GtgZG4Xqcm",
        "outputId": "dd78b592-11f8-4112-aa2f-a32370629fdd"
      },
      "source": [
        "data_treino.head()"
      ],
      "execution_count": 43,
      "outputs": [
        {
          "output_type": "execute_result",
          "data": {
            "text/html": [
              "<div>\n",
              "<style scoped>\n",
              "    .dataframe tbody tr th:only-of-type {\n",
              "        vertical-align: middle;\n",
              "    }\n",
              "\n",
              "    .dataframe tbody tr th {\n",
              "        vertical-align: top;\n",
              "    }\n",
              "\n",
              "    .dataframe thead th {\n",
              "        text-align: right;\n",
              "    }\n",
              "</style>\n",
              "<table border=\"1\" class=\"dataframe\">\n",
              "  <thead>\n",
              "    <tr style=\"text-align: right;\">\n",
              "      <th></th>\n",
              "      <th>age</th>\n",
              "      <th>default</th>\n",
              "      <th>balance</th>\n",
              "      <th>housing</th>\n",
              "      <th>loan</th>\n",
              "      <th>contact</th>\n",
              "      <th>duration</th>\n",
              "      <th>campaign</th>\n",
              "      <th>pdays</th>\n",
              "      <th>previous</th>\n",
              "      <th>poutcome</th>\n",
              "      <th>subscribed</th>\n",
              "      <th>job_admin.</th>\n",
              "      <th>job_blue-collar</th>\n",
              "      <th>job_entrepreneur</th>\n",
              "      <th>job_housemaid</th>\n",
              "      <th>job_management</th>\n",
              "      <th>job_retired</th>\n",
              "      <th>job_self-employed</th>\n",
              "      <th>job_services</th>\n",
              "      <th>job_student</th>\n",
              "      <th>job_technician</th>\n",
              "      <th>job_unemployed</th>\n",
              "      <th>marital_divorced</th>\n",
              "      <th>marital_married</th>\n",
              "      <th>marital_single</th>\n",
              "      <th>education_primary</th>\n",
              "      <th>education_secondary</th>\n",
              "      <th>education_tertiary</th>\n",
              "      <th>education_unknown</th>\n",
              "    </tr>\n",
              "  </thead>\n",
              "  <tbody>\n",
              "    <tr>\n",
              "      <th>0</th>\n",
              "      <td>56</td>\n",
              "      <td>0</td>\n",
              "      <td>1933.0</td>\n",
              "      <td>0</td>\n",
              "      <td>0</td>\n",
              "      <td>1</td>\n",
              "      <td>44</td>\n",
              "      <td>2</td>\n",
              "      <td>999999</td>\n",
              "      <td>0</td>\n",
              "      <td>unknown</td>\n",
              "      <td>no</td>\n",
              "      <td>1.0</td>\n",
              "      <td>0.0</td>\n",
              "      <td>0.0</td>\n",
              "      <td>0.0</td>\n",
              "      <td>0.0</td>\n",
              "      <td>0.0</td>\n",
              "      <td>0.0</td>\n",
              "      <td>0.0</td>\n",
              "      <td>0.0</td>\n",
              "      <td>0.0</td>\n",
              "      <td>0.0</td>\n",
              "      <td>0.0</td>\n",
              "      <td>1.0</td>\n",
              "      <td>0.0</td>\n",
              "      <td>0.0</td>\n",
              "      <td>0.0</td>\n",
              "      <td>0.0</td>\n",
              "      <td>1.0</td>\n",
              "    </tr>\n",
              "    <tr>\n",
              "      <th>1</th>\n",
              "      <td>31</td>\n",
              "      <td>0</td>\n",
              "      <td>3.0</td>\n",
              "      <td>0</td>\n",
              "      <td>0</td>\n",
              "      <td>0</td>\n",
              "      <td>91</td>\n",
              "      <td>2</td>\n",
              "      <td>999999</td>\n",
              "      <td>0</td>\n",
              "      <td>unknown</td>\n",
              "      <td>no</td>\n",
              "      <td>0.0</td>\n",
              "      <td>1.0</td>\n",
              "      <td>0.0</td>\n",
              "      <td>0.0</td>\n",
              "      <td>0.0</td>\n",
              "      <td>0.0</td>\n",
              "      <td>0.0</td>\n",
              "      <td>0.0</td>\n",
              "      <td>0.0</td>\n",
              "      <td>0.0</td>\n",
              "      <td>0.0</td>\n",
              "      <td>0.0</td>\n",
              "      <td>1.0</td>\n",
              "      <td>0.0</td>\n",
              "      <td>0.0</td>\n",
              "      <td>1.0</td>\n",
              "      <td>0.0</td>\n",
              "      <td>0.0</td>\n",
              "    </tr>\n",
              "    <tr>\n",
              "      <th>2</th>\n",
              "      <td>27</td>\n",
              "      <td>0</td>\n",
              "      <td>891.0</td>\n",
              "      <td>1</td>\n",
              "      <td>0</td>\n",
              "      <td>0</td>\n",
              "      <td>240</td>\n",
              "      <td>1</td>\n",
              "      <td>999999</td>\n",
              "      <td>0</td>\n",
              "      <td>unknown</td>\n",
              "      <td>no</td>\n",
              "      <td>0.0</td>\n",
              "      <td>0.0</td>\n",
              "      <td>0.0</td>\n",
              "      <td>0.0</td>\n",
              "      <td>0.0</td>\n",
              "      <td>0.0</td>\n",
              "      <td>0.0</td>\n",
              "      <td>1.0</td>\n",
              "      <td>0.0</td>\n",
              "      <td>0.0</td>\n",
              "      <td>0.0</td>\n",
              "      <td>0.0</td>\n",
              "      <td>1.0</td>\n",
              "      <td>0.0</td>\n",
              "      <td>0.0</td>\n",
              "      <td>1.0</td>\n",
              "      <td>0.0</td>\n",
              "      <td>0.0</td>\n",
              "    </tr>\n",
              "    <tr>\n",
              "      <th>3</th>\n",
              "      <td>57</td>\n",
              "      <td>0</td>\n",
              "      <td>3287.0</td>\n",
              "      <td>0</td>\n",
              "      <td>0</td>\n",
              "      <td>0</td>\n",
              "      <td>867</td>\n",
              "      <td>1</td>\n",
              "      <td>84</td>\n",
              "      <td>3</td>\n",
              "      <td>success</td>\n",
              "      <td>yes</td>\n",
              "      <td>0.0</td>\n",
              "      <td>0.0</td>\n",
              "      <td>0.0</td>\n",
              "      <td>0.0</td>\n",
              "      <td>1.0</td>\n",
              "      <td>0.0</td>\n",
              "      <td>0.0</td>\n",
              "      <td>0.0</td>\n",
              "      <td>0.0</td>\n",
              "      <td>0.0</td>\n",
              "      <td>0.0</td>\n",
              "      <td>1.0</td>\n",
              "      <td>0.0</td>\n",
              "      <td>0.0</td>\n",
              "      <td>0.0</td>\n",
              "      <td>0.0</td>\n",
              "      <td>1.0</td>\n",
              "      <td>0.0</td>\n",
              "    </tr>\n",
              "    <tr>\n",
              "      <th>4</th>\n",
              "      <td>31</td>\n",
              "      <td>0</td>\n",
              "      <td>119.0</td>\n",
              "      <td>1</td>\n",
              "      <td>0</td>\n",
              "      <td>0</td>\n",
              "      <td>380</td>\n",
              "      <td>1</td>\n",
              "      <td>999999</td>\n",
              "      <td>0</td>\n",
              "      <td>unknown</td>\n",
              "      <td>no</td>\n",
              "      <td>0.0</td>\n",
              "      <td>0.0</td>\n",
              "      <td>0.0</td>\n",
              "      <td>0.0</td>\n",
              "      <td>0.0</td>\n",
              "      <td>0.0</td>\n",
              "      <td>0.0</td>\n",
              "      <td>0.0</td>\n",
              "      <td>0.0</td>\n",
              "      <td>1.0</td>\n",
              "      <td>0.0</td>\n",
              "      <td>0.0</td>\n",
              "      <td>1.0</td>\n",
              "      <td>0.0</td>\n",
              "      <td>0.0</td>\n",
              "      <td>1.0</td>\n",
              "      <td>0.0</td>\n",
              "      <td>0.0</td>\n",
              "    </tr>\n",
              "  </tbody>\n",
              "</table>\n",
              "</div>"
            ],
            "text/plain": [
              "   age default  ...  education_tertiary education_unknown\n",
              "0   56       0  ...                 0.0               1.0\n",
              "1   31       0  ...                 0.0               0.0\n",
              "2   27       0  ...                 0.0               0.0\n",
              "3   57       0  ...                 1.0               0.0\n",
              "4   31       0  ...                 0.0               0.0\n",
              "\n",
              "[5 rows x 30 columns]"
            ]
          },
          "metadata": {
            "tags": []
          },
          "execution_count": 43
        }
      ]
    },
    {
      "cell_type": "markdown",
      "metadata": {
        "id": "PrAgy8RAXzrp"
      },
      "source": [
        "- Base com as alterações citadas acima."
      ]
    },
    {
      "cell_type": "code",
      "metadata": {
        "colab": {
          "base_uri": "https://localhost:8080/",
          "height": 204
        },
        "id": "MUXmJRv2XspM",
        "outputId": "2a0bbdc2-bf5d-4af7-a048-a104e9b5f51d"
      },
      "source": [
        "data_transform = pd.DataFrame(ohe.fit_transform(data_treino[\"poutcome\"].to_frame()),columns = \"poutcome_\" + np.sort(data_treino[\"poutcome\"].unique()))\n",
        "data_transform.head()"
      ],
      "execution_count": 44,
      "outputs": [
        {
          "output_type": "execute_result",
          "data": {
            "text/html": [
              "<div>\n",
              "<style scoped>\n",
              "    .dataframe tbody tr th:only-of-type {\n",
              "        vertical-align: middle;\n",
              "    }\n",
              "\n",
              "    .dataframe tbody tr th {\n",
              "        vertical-align: top;\n",
              "    }\n",
              "\n",
              "    .dataframe thead th {\n",
              "        text-align: right;\n",
              "    }\n",
              "</style>\n",
              "<table border=\"1\" class=\"dataframe\">\n",
              "  <thead>\n",
              "    <tr style=\"text-align: right;\">\n",
              "      <th></th>\n",
              "      <th>poutcome_failure</th>\n",
              "      <th>poutcome_other</th>\n",
              "      <th>poutcome_success</th>\n",
              "      <th>poutcome_unknown</th>\n",
              "    </tr>\n",
              "  </thead>\n",
              "  <tbody>\n",
              "    <tr>\n",
              "      <th>0</th>\n",
              "      <td>0.0</td>\n",
              "      <td>0.0</td>\n",
              "      <td>0.0</td>\n",
              "      <td>1.0</td>\n",
              "    </tr>\n",
              "    <tr>\n",
              "      <th>1</th>\n",
              "      <td>0.0</td>\n",
              "      <td>0.0</td>\n",
              "      <td>0.0</td>\n",
              "      <td>1.0</td>\n",
              "    </tr>\n",
              "    <tr>\n",
              "      <th>2</th>\n",
              "      <td>0.0</td>\n",
              "      <td>0.0</td>\n",
              "      <td>0.0</td>\n",
              "      <td>1.0</td>\n",
              "    </tr>\n",
              "    <tr>\n",
              "      <th>3</th>\n",
              "      <td>0.0</td>\n",
              "      <td>0.0</td>\n",
              "      <td>1.0</td>\n",
              "      <td>0.0</td>\n",
              "    </tr>\n",
              "    <tr>\n",
              "      <th>4</th>\n",
              "      <td>0.0</td>\n",
              "      <td>0.0</td>\n",
              "      <td>0.0</td>\n",
              "      <td>1.0</td>\n",
              "    </tr>\n",
              "  </tbody>\n",
              "</table>\n",
              "</div>"
            ],
            "text/plain": [
              "   poutcome_failure  poutcome_other  poutcome_success  poutcome_unknown\n",
              "0               0.0             0.0               0.0               1.0\n",
              "1               0.0             0.0               0.0               1.0\n",
              "2               0.0             0.0               0.0               1.0\n",
              "3               0.0             0.0               1.0               0.0\n",
              "4               0.0             0.0               0.0               1.0"
            ]
          },
          "metadata": {
            "tags": []
          },
          "execution_count": 44
        }
      ]
    },
    {
      "cell_type": "markdown",
      "metadata": {
        "id": "qQxQ8CqEZkF7"
      },
      "source": [
        "- Para fazer a transformação das variáveis categóricas da coluna poutcome, foi utilizado novamente o OneHotEncoder para auxiliar na transformação."
      ]
    },
    {
      "cell_type": "code",
      "metadata": {
        "id": "zbxx8aneZDIM"
      },
      "source": [
        "data_treino.drop(columns = ['poutcome'], inplace = True)\n",
        "\n",
        "data_treino['poutcome_failure'] = data_transform['poutcome_failure']\n",
        "data_treino['poutcome_other'] = data_transform['poutcome_other']\n",
        "data_treino['poutcome_success'] = data_transform['poutcome_success']\n",
        "data_treino['poutcome_unknown'] = data_transform['poutcome_unknown']"
      ],
      "execution_count": 45,
      "outputs": []
    },
    {
      "cell_type": "markdown",
      "metadata": {
        "id": "7yzCPuAaoENJ"
      },
      "source": [
        "- Apagando a coluna poutcome e substituindo pelas novas colunas criadas utilizando o OneHotEncoder."
      ]
    },
    {
      "cell_type": "code",
      "metadata": {
        "id": "FuQeDs_Ppg8N"
      },
      "source": [
        "data_treino.loc[(data_treino.subscribed == 'yes'), 'subscribed'] = 1\n",
        "data_treino.loc[(data_treino.subscribed == 'no'), 'subscribed'] = 0"
      ],
      "execution_count": 46,
      "outputs": []
    },
    {
      "cell_type": "markdown",
      "metadata": {
        "id": "JVLixDBOokQl"
      },
      "source": [
        "- Tratando a variável categórica para numerica.\n"
      ]
    },
    {
      "cell_type": "code",
      "metadata": {
        "colab": {
          "base_uri": "https://localhost:8080/",
          "height": 241
        },
        "id": "6C7EKitHpfSn",
        "outputId": "0ecb1716-7219-4b78-e401-dbc6db0e1dfe"
      },
      "source": [
        "data_treino.head()"
      ],
      "execution_count": 47,
      "outputs": [
        {
          "output_type": "execute_result",
          "data": {
            "text/html": [
              "<div>\n",
              "<style scoped>\n",
              "    .dataframe tbody tr th:only-of-type {\n",
              "        vertical-align: middle;\n",
              "    }\n",
              "\n",
              "    .dataframe tbody tr th {\n",
              "        vertical-align: top;\n",
              "    }\n",
              "\n",
              "    .dataframe thead th {\n",
              "        text-align: right;\n",
              "    }\n",
              "</style>\n",
              "<table border=\"1\" class=\"dataframe\">\n",
              "  <thead>\n",
              "    <tr style=\"text-align: right;\">\n",
              "      <th></th>\n",
              "      <th>age</th>\n",
              "      <th>default</th>\n",
              "      <th>balance</th>\n",
              "      <th>housing</th>\n",
              "      <th>loan</th>\n",
              "      <th>contact</th>\n",
              "      <th>duration</th>\n",
              "      <th>campaign</th>\n",
              "      <th>pdays</th>\n",
              "      <th>previous</th>\n",
              "      <th>subscribed</th>\n",
              "      <th>job_admin.</th>\n",
              "      <th>job_blue-collar</th>\n",
              "      <th>job_entrepreneur</th>\n",
              "      <th>job_housemaid</th>\n",
              "      <th>job_management</th>\n",
              "      <th>job_retired</th>\n",
              "      <th>job_self-employed</th>\n",
              "      <th>job_services</th>\n",
              "      <th>job_student</th>\n",
              "      <th>job_technician</th>\n",
              "      <th>job_unemployed</th>\n",
              "      <th>marital_divorced</th>\n",
              "      <th>marital_married</th>\n",
              "      <th>marital_single</th>\n",
              "      <th>education_primary</th>\n",
              "      <th>education_secondary</th>\n",
              "      <th>education_tertiary</th>\n",
              "      <th>education_unknown</th>\n",
              "      <th>poutcome_failure</th>\n",
              "      <th>poutcome_other</th>\n",
              "      <th>poutcome_success</th>\n",
              "      <th>poutcome_unknown</th>\n",
              "    </tr>\n",
              "  </thead>\n",
              "  <tbody>\n",
              "    <tr>\n",
              "      <th>0</th>\n",
              "      <td>56</td>\n",
              "      <td>0</td>\n",
              "      <td>1933.0</td>\n",
              "      <td>0</td>\n",
              "      <td>0</td>\n",
              "      <td>1</td>\n",
              "      <td>44</td>\n",
              "      <td>2</td>\n",
              "      <td>999999</td>\n",
              "      <td>0</td>\n",
              "      <td>0</td>\n",
              "      <td>1.0</td>\n",
              "      <td>0.0</td>\n",
              "      <td>0.0</td>\n",
              "      <td>0.0</td>\n",
              "      <td>0.0</td>\n",
              "      <td>0.0</td>\n",
              "      <td>0.0</td>\n",
              "      <td>0.0</td>\n",
              "      <td>0.0</td>\n",
              "      <td>0.0</td>\n",
              "      <td>0.0</td>\n",
              "      <td>0.0</td>\n",
              "      <td>1.0</td>\n",
              "      <td>0.0</td>\n",
              "      <td>0.0</td>\n",
              "      <td>0.0</td>\n",
              "      <td>0.0</td>\n",
              "      <td>1.0</td>\n",
              "      <td>0.0</td>\n",
              "      <td>0.0</td>\n",
              "      <td>0.0</td>\n",
              "      <td>1.0</td>\n",
              "    </tr>\n",
              "    <tr>\n",
              "      <th>1</th>\n",
              "      <td>31</td>\n",
              "      <td>0</td>\n",
              "      <td>3.0</td>\n",
              "      <td>0</td>\n",
              "      <td>0</td>\n",
              "      <td>0</td>\n",
              "      <td>91</td>\n",
              "      <td>2</td>\n",
              "      <td>999999</td>\n",
              "      <td>0</td>\n",
              "      <td>0</td>\n",
              "      <td>0.0</td>\n",
              "      <td>1.0</td>\n",
              "      <td>0.0</td>\n",
              "      <td>0.0</td>\n",
              "      <td>0.0</td>\n",
              "      <td>0.0</td>\n",
              "      <td>0.0</td>\n",
              "      <td>0.0</td>\n",
              "      <td>0.0</td>\n",
              "      <td>0.0</td>\n",
              "      <td>0.0</td>\n",
              "      <td>0.0</td>\n",
              "      <td>1.0</td>\n",
              "      <td>0.0</td>\n",
              "      <td>0.0</td>\n",
              "      <td>1.0</td>\n",
              "      <td>0.0</td>\n",
              "      <td>0.0</td>\n",
              "      <td>0.0</td>\n",
              "      <td>0.0</td>\n",
              "      <td>0.0</td>\n",
              "      <td>1.0</td>\n",
              "    </tr>\n",
              "    <tr>\n",
              "      <th>2</th>\n",
              "      <td>27</td>\n",
              "      <td>0</td>\n",
              "      <td>891.0</td>\n",
              "      <td>1</td>\n",
              "      <td>0</td>\n",
              "      <td>0</td>\n",
              "      <td>240</td>\n",
              "      <td>1</td>\n",
              "      <td>999999</td>\n",
              "      <td>0</td>\n",
              "      <td>0</td>\n",
              "      <td>0.0</td>\n",
              "      <td>0.0</td>\n",
              "      <td>0.0</td>\n",
              "      <td>0.0</td>\n",
              "      <td>0.0</td>\n",
              "      <td>0.0</td>\n",
              "      <td>0.0</td>\n",
              "      <td>1.0</td>\n",
              "      <td>0.0</td>\n",
              "      <td>0.0</td>\n",
              "      <td>0.0</td>\n",
              "      <td>0.0</td>\n",
              "      <td>1.0</td>\n",
              "      <td>0.0</td>\n",
              "      <td>0.0</td>\n",
              "      <td>1.0</td>\n",
              "      <td>0.0</td>\n",
              "      <td>0.0</td>\n",
              "      <td>0.0</td>\n",
              "      <td>0.0</td>\n",
              "      <td>0.0</td>\n",
              "      <td>1.0</td>\n",
              "    </tr>\n",
              "    <tr>\n",
              "      <th>3</th>\n",
              "      <td>57</td>\n",
              "      <td>0</td>\n",
              "      <td>3287.0</td>\n",
              "      <td>0</td>\n",
              "      <td>0</td>\n",
              "      <td>0</td>\n",
              "      <td>867</td>\n",
              "      <td>1</td>\n",
              "      <td>84</td>\n",
              "      <td>3</td>\n",
              "      <td>1</td>\n",
              "      <td>0.0</td>\n",
              "      <td>0.0</td>\n",
              "      <td>0.0</td>\n",
              "      <td>0.0</td>\n",
              "      <td>1.0</td>\n",
              "      <td>0.0</td>\n",
              "      <td>0.0</td>\n",
              "      <td>0.0</td>\n",
              "      <td>0.0</td>\n",
              "      <td>0.0</td>\n",
              "      <td>0.0</td>\n",
              "      <td>1.0</td>\n",
              "      <td>0.0</td>\n",
              "      <td>0.0</td>\n",
              "      <td>0.0</td>\n",
              "      <td>0.0</td>\n",
              "      <td>1.0</td>\n",
              "      <td>0.0</td>\n",
              "      <td>0.0</td>\n",
              "      <td>0.0</td>\n",
              "      <td>1.0</td>\n",
              "      <td>0.0</td>\n",
              "    </tr>\n",
              "    <tr>\n",
              "      <th>4</th>\n",
              "      <td>31</td>\n",
              "      <td>0</td>\n",
              "      <td>119.0</td>\n",
              "      <td>1</td>\n",
              "      <td>0</td>\n",
              "      <td>0</td>\n",
              "      <td>380</td>\n",
              "      <td>1</td>\n",
              "      <td>999999</td>\n",
              "      <td>0</td>\n",
              "      <td>0</td>\n",
              "      <td>0.0</td>\n",
              "      <td>0.0</td>\n",
              "      <td>0.0</td>\n",
              "      <td>0.0</td>\n",
              "      <td>0.0</td>\n",
              "      <td>0.0</td>\n",
              "      <td>0.0</td>\n",
              "      <td>0.0</td>\n",
              "      <td>0.0</td>\n",
              "      <td>1.0</td>\n",
              "      <td>0.0</td>\n",
              "      <td>0.0</td>\n",
              "      <td>1.0</td>\n",
              "      <td>0.0</td>\n",
              "      <td>0.0</td>\n",
              "      <td>1.0</td>\n",
              "      <td>0.0</td>\n",
              "      <td>0.0</td>\n",
              "      <td>0.0</td>\n",
              "      <td>0.0</td>\n",
              "      <td>0.0</td>\n",
              "      <td>1.0</td>\n",
              "    </tr>\n",
              "  </tbody>\n",
              "</table>\n",
              "</div>"
            ],
            "text/plain": [
              "   age default  balance  ... poutcome_other poutcome_success poutcome_unknown\n",
              "0   56       0   1933.0  ...            0.0              0.0              1.0\n",
              "1   31       0      3.0  ...            0.0              0.0              1.0\n",
              "2   27       0    891.0  ...            0.0              0.0              1.0\n",
              "3   57       0   3287.0  ...            0.0              1.0              0.0\n",
              "4   31       0    119.0  ...            0.0              0.0              1.0\n",
              "\n",
              "[5 rows x 33 columns]"
            ]
          },
          "metadata": {
            "tags": []
          },
          "execution_count": 47
        }
      ]
    },
    {
      "cell_type": "markdown",
      "metadata": {
        "id": "J3vzaS9loto6"
      },
      "source": [
        "- Tabela com o resultado das transformações numéricas feitas."
      ]
    },
    {
      "cell_type": "code",
      "metadata": {
        "colab": {
          "base_uri": "https://localhost:8080/",
          "height": 483
        },
        "id": "rGyDgWrDb4aq",
        "outputId": "31572584-198e-415b-87bc-aa735780e6ec"
      },
      "source": [
        "data_treino.boxplot(column = ['balance'], figsize=(12, 8))\n",
        "plt.show()"
      ],
      "execution_count": 48,
      "outputs": [
        {
          "output_type": "display_data",
          "data": {
            "image/png": "[encoded data removed]",
            "text/plain": [
              "<Figure size 864x576 with 1 Axes>"
            ]
          },
          "metadata": {
            "tags": [],
            "needs_background": "light"
          }
        }
      ]
    },
    {
      "cell_type": "markdown",
      "metadata": {
        "id": "ApqocjOWP2mK"
      },
      "source": [
        "- Existem muitos registros que tem um valor de capital acima do massificado."
      ]
    },
    {
      "cell_type": "code",
      "metadata": {
        "colab": {
          "base_uri": "https://localhost:8080/"
        },
        "id": "JSze-uxHplBw",
        "outputId": "2da1ea80-6b27-456d-9519-794b2f69556a"
      },
      "source": [
        "data_treino.balance.sort_values()"
      ],
      "execution_count": 49,
      "outputs": [
        {
          "output_type": "execute_result",
          "data": {
            "text/plain": [
              "10365     -8019.0\n",
              "31298     -6847.0\n",
              "23749     -4057.0\n",
              "25273     -3058.0\n",
              "24105     -2712.0\n",
              "           ...   \n",
              "2794      58932.0\n",
              "7585      66653.0\n",
              "30188     66721.0\n",
              "19632     81204.0\n",
              "28050    102127.0\n",
              "Name: balance, Length: 31652, dtype: float64"
            ]
          },
          "metadata": {
            "tags": []
          },
          "execution_count": 49
        }
      ]
    },
    {
      "cell_type": "markdown",
      "metadata": {
        "id": "no4g9QRDo7n8"
      },
      "source": [
        "- Analisando os valores ordenados do balance para fazer um tratamento de outlines para os valores que são muito grandes."
      ]
    },
    {
      "cell_type": "code",
      "metadata": {
        "colab": {
          "base_uri": "https://localhost:8080/"
        },
        "id": "4flYv0jDqZXW",
        "outputId": "d27eb8d1-6c0b-400d-bc2c-925074da3096"
      },
      "source": [
        "data_treino.loc[(data_treino.balance > 50000.0), 'balance'] = 50000.0\n",
        "data_treino['balance'] = data_treino['balance'] / 50000.0\n",
        "\n",
        "data_treino.balance.sort_values()"
      ],
      "execution_count": 50,
      "outputs": [
        {
          "output_type": "execute_result",
          "data": {
            "text/plain": [
              "10365   -0.16038\n",
              "31298   -0.13694\n",
              "23749   -0.08114\n",
              "25273   -0.06116\n",
              "24105   -0.05424\n",
              "          ...   \n",
              "2794     1.00000\n",
              "28050    1.00000\n",
              "6026     1.00000\n",
              "31308    1.00000\n",
              "1240     1.00000\n",
              "Name: balance, Length: 31652, dtype: float64"
            ]
          },
          "metadata": {
            "tags": []
          },
          "execution_count": 50
        }
      ]
    },
    {
      "cell_type": "markdown",
      "metadata": {
        "id": "bce0-jFZqhFW"
      },
      "source": [
        "- Limitando o valor do balance para que o modelo não tenda a aceitar o empréstimo para quem tiver o balance relativamente maior."
      ]
    },
    {
      "cell_type": "code",
      "metadata": {
        "colab": {
          "base_uri": "https://localhost:8080/"
        },
        "id": "yn31Fli9rIAh",
        "outputId": "f9ab230f-c93d-4209-93dd-409499d01cd9"
      },
      "source": [
        "data_treino.info()"
      ],
      "execution_count": 51,
      "outputs": [
        {
          "output_type": "stream",
          "text": [
            "<class 'pandas.core.frame.DataFrame'>\n",
            "Int64Index: 31652 entries, 0 to 9181\n",
            "Data columns (total 33 columns):\n",
            " #   Column               Non-Null Count  Dtype  \n",
            "---  ------               --------------  -----  \n",
            " 0   age                  31652 non-null  int64  \n",
            " 1   default              31652 non-null  object \n",
            " 2   balance              31652 non-null  float64\n",
            " 3   housing              31652 non-null  object \n",
            " 4   loan                 31652 non-null  object \n",
            " 5   contact              31652 non-null  object \n",
            " 6   duration             31652 non-null  int64  \n",
            " 7   campaign             31652 non-null  int64  \n",
            " 8   pdays                31652 non-null  int64  \n",
            " 9   previous             31652 non-null  int64  \n",
            " 10  subscribed           31652 non-null  object \n",
            " 11  job_admin.           31652 non-null  float64\n",
            " 12  job_blue-collar      31652 non-null  float64\n",
            " 13  job_entrepreneur     31652 non-null  float64\n",
            " 14  job_housemaid        31652 non-null  float64\n",
            " 15  job_management       31652 non-null  float64\n",
            " 16  job_retired          31652 non-null  float64\n",
            " 17  job_self-employed    31652 non-null  float64\n",
            " 18  job_services         31652 non-null  float64\n",
            " 19  job_student          31652 non-null  float64\n",
            " 20  job_technician       31652 non-null  float64\n",
            " 21  job_unemployed       31652 non-null  float64\n",
            " 22  marital_divorced     31652 non-null  float64\n",
            " 23  marital_married      31652 non-null  float64\n",
            " 24  marital_single       31652 non-null  float64\n",
            " 25  education_primary    31652 non-null  float64\n",
            " 26  education_secondary  31652 non-null  float64\n",
            " 27  education_tertiary   31652 non-null  float64\n",
            " 28  education_unknown    31652 non-null  float64\n",
            " 29  poutcome_failure     31652 non-null  float64\n",
            " 30  poutcome_other       31652 non-null  float64\n",
            " 31  poutcome_success     31652 non-null  float64\n",
            " 32  poutcome_unknown     31652 non-null  float64\n",
            "dtypes: float64(23), int64(5), object(5)\n",
            "memory usage: 8.8+ MB\n"
          ],
          "name": "stdout"
        }
      ]
    },
    {
      "cell_type": "markdown",
      "metadata": {
        "id": "6Zz6JQV_rnOA"
      },
      "source": [
        "- Analisando o tipo das variáveis que foram alteradas para numericas, para que possa ser feito a mudança do tipo."
      ]
    },
    {
      "cell_type": "code",
      "metadata": {
        "id": "Npldy1P4rUCI"
      },
      "source": [
        "data_treino.default = data_treino.default.astype(int)\n",
        "data_treino.housing = data_treino.housing.astype(int)\n",
        "data_treino.loan = data_treino.loan.astype(int)\n",
        "data_treino.contact = data_treino.contact.astype(int)\n",
        "data_treino.subscribed = data_treino.subscribed.astype(int)"
      ],
      "execution_count": 52,
      "outputs": []
    },
    {
      "cell_type": "markdown",
      "metadata": {
        "id": "LFsdJOdHuhL-"
      },
      "source": [
        "- Fazendo o cash para inteiro das variáveis que tinham sido trocadas das variáveis categóricas."
      ]
    },
    {
      "cell_type": "code",
      "metadata": {
        "colab": {
          "base_uri": "https://localhost:8080/"
        },
        "id": "zg9qntQGvQxB",
        "outputId": "85a3015d-691e-4c14-b93e-54056dbcae51"
      },
      "source": [
        "data_treino.info()"
      ],
      "execution_count": 53,
      "outputs": [
        {
          "output_type": "stream",
          "text": [
            "<class 'pandas.core.frame.DataFrame'>\n",
            "Int64Index: 31652 entries, 0 to 9181\n",
            "Data columns (total 33 columns):\n",
            " #   Column               Non-Null Count  Dtype  \n",
            "---  ------               --------------  -----  \n",
            " 0   age                  31652 non-null  int64  \n",
            " 1   default              31652 non-null  int64  \n",
            " 2   balance              31652 non-null  float64\n",
            " 3   housing              31652 non-null  int64  \n",
            " 4   loan                 31652 non-null  int64  \n",
            " 5   contact              31652 non-null  int64  \n",
            " 6   duration             31652 non-null  int64  \n",
            " 7   campaign             31652 non-null  int64  \n",
            " 8   pdays                31652 non-null  int64  \n",
            " 9   previous             31652 non-null  int64  \n",
            " 10  subscribed           31652 non-null  int64  \n",
            " 11  job_admin.           31652 non-null  float64\n",
            " 12  job_blue-collar      31652 non-null  float64\n",
            " 13  job_entrepreneur     31652 non-null  float64\n",
            " 14  job_housemaid        31652 non-null  float64\n",
            " 15  job_management       31652 non-null  float64\n",
            " 16  job_retired          31652 non-null  float64\n",
            " 17  job_self-employed    31652 non-null  float64\n",
            " 18  job_services         31652 non-null  float64\n",
            " 19  job_student          31652 non-null  float64\n",
            " 20  job_technician       31652 non-null  float64\n",
            " 21  job_unemployed       31652 non-null  float64\n",
            " 22  marital_divorced     31652 non-null  float64\n",
            " 23  marital_married      31652 non-null  float64\n",
            " 24  marital_single       31652 non-null  float64\n",
            " 25  education_primary    31652 non-null  float64\n",
            " 26  education_secondary  31652 non-null  float64\n",
            " 27  education_tertiary   31652 non-null  float64\n",
            " 28  education_unknown    31652 non-null  float64\n",
            " 29  poutcome_failure     31652 non-null  float64\n",
            " 30  poutcome_other       31652 non-null  float64\n",
            " 31  poutcome_success     31652 non-null  float64\n",
            " 32  poutcome_unknown     31652 non-null  float64\n",
            "dtypes: float64(23), int64(10)\n",
            "memory usage: 8.8 MB\n"
          ],
          "name": "stdout"
        }
      ]
    },
    {
      "cell_type": "markdown",
      "metadata": {
        "id": "XD0f0j5EvjdK"
      },
      "source": [
        "# Treino"
      ]
    },
    {
      "cell_type": "markdown",
      "metadata": {
        "id": "G51iTfQbzu9v"
      },
      "source": [
        "- Separando a base de dados"
      ]
    },
    {
      "cell_type": "code",
      "metadata": {
        "id": "htjNHK1r0PoA"
      },
      "source": [
        "from sklearn.model_selection import train_test_split"
      ],
      "execution_count": 54,
      "outputs": []
    },
    {
      "cell_type": "code",
      "metadata": {
        "id": "Ggk2qWjL0Mr4"
      },
      "source": [
        "y = data_treino.subscribed.to_frame()\n",
        "X = data_treino.drop(columns = [\"subscribed\"])\n",
        "\n",
        "X_train , X_test , y_train , y_test = train_test_split(X, y, test_size = 0.25, random_state = 10)"
      ],
      "execution_count": 55,
      "outputs": []
    },
    {
      "cell_type": "markdown",
      "metadata": {
        "id": "QYgXH5PzvnKh"
      },
      "source": [
        "- Como percebemos na parte da modificação de todo o conteudo, foi criado um conjunto de dados desequilibrado. Assim, para contornar essa situação, vamos equilibrar o conjunto de dados com o SMOTE.\n",
        "\n",
        "Link da referencia para o SMOTE: https://machinelearningmastery.com/smote-oversampling-for-imbalanced-classification/"
      ]
    },
    {
      "cell_type": "code",
      "metadata": {
        "id": "9OJ4MT1Mv45C",
        "colab": {
          "base_uri": "https://localhost:8080/"
        },
        "outputId": "f40c300d-30be-409a-e81a-ea1432376cd6"
      },
      "source": [
        "from imblearn.over_sampling import SMOTE"
      ],
      "execution_count": 56,
      "outputs": [
        {
          "output_type": "stream",
          "text": [
            "/usr/local/lib/python3.6/dist-packages/sklearn/externals/six.py:31: FutureWarning: The module is deprecated in version 0.21 and will be removed in version 0.23 since we've dropped support for Python 2.7. Please rely on the official version of six (https://pypi.org/project/six/).\n",
            "  \"(https://pypi.org/project/six/).\", FutureWarning)\n",
            "/usr/local/lib/python3.6/dist-packages/sklearn/utils/deprecation.py:144: FutureWarning: The sklearn.neighbors.base module is  deprecated in version 0.22 and will be removed in version 0.24. The corresponding classes / functions should instead be imported from sklearn.neighbors. Anything that cannot be imported from sklearn.neighbors is now part of the private API.\n",
            "  warnings.warn(message, FutureWarning)\n"
          ],
          "name": "stderr"
        }
      ]
    },
    {
      "cell_type": "code",
      "metadata": {
        "colab": {
          "base_uri": "https://localhost:8080/"
        },
        "id": "YnaCCPuwzCWN",
        "outputId": "a7d946bf-432d-4c05-c68d-4d2afd3b710e"
      },
      "source": [
        "sm = SMOTE()\n",
        "X_sm , y_sm = sm.fit_resample(X, y)"
      ],
      "execution_count": 57,
      "outputs": [
        {
          "output_type": "stream",
          "text": [
            "/usr/local/lib/python3.6/dist-packages/sklearn/utils/validation.py:760: DataConversionWarning: A column-vector y was passed when a 1d array was expected. Please change the shape of y to (n_samples, ), for example using ravel().\n",
            "  y = column_or_1d(y, warn=True)\n",
            "/usr/local/lib/python3.6/dist-packages/sklearn/utils/deprecation.py:87: FutureWarning: Function safe_indexing is deprecated; safe_indexing is deprecated in version 0.22 and will be removed in version 0.24.\n",
            "  warnings.warn(msg, category=FutureWarning)\n"
          ],
          "name": "stderr"
        }
      ]
    },
    {
      "cell_type": "code",
      "metadata": {
        "id": "xKlb0mhoDUxn"
      },
      "source": [
        "import matplotlib.pyplot as plt\n",
        "import numpy as np\n",
        "import itertools\n",
        "\n",
        "def plot_confusion_matrix(cm, target_names, title='Matrix Confusão', cmap=None, normalize=True):\n",
        "    accuracy = np.trace(cm) / float(np.sum(cm))\n",
        "    misclass = 1 - accuracy\n",
        "    if cmap is None:\n",
        "        cmap = plt.get_cmap('Blues')\n",
        "    plt.figure(figsize=(8, 6))\n",
        "    plt.imshow(cm, interpolation='nearest', cmap=cmap)\n",
        "    plt.title(title)\n",
        "    if target_names is not None:\n",
        "        tick_marks = np.arange(len(target_names))\n",
        "        plt.xticks(tick_marks, target_names, rotation=45)\n",
        "        plt.yticks(tick_marks, target_names)\n",
        "    if normalize:\n",
        "        cm = cm.astype('float') / cm.sum(axis=1)[:, np.newaxis]\n",
        "    thresh = cm.max() / 1.5 if normalize else cm.max() / 2\n",
        "    for i, j in itertools.product(range(cm.shape[0]), range(cm.shape[1])):\n",
        "        if normalize:\n",
        "            plt.text(j, i, \"{:0.2f}\".format(cm[i, j]),\n",
        "                     horizontalalignment=\"center\",\n",
        "                     color=\"white\" if cm[i, j] > thresh else \"black\")\n",
        "        else:\n",
        "            plt.text(j, i, \"{:,}\".format(cm[i, j]),\n",
        "                     horizontalalignment=\"center\",\n",
        "                     color=\"white\" if cm[i, j] > thresh else \"black\")\n",
        "    plt.tight_layout()\n",
        "    plt.ylabel('True label')\n",
        "    plt.xlabel('Predicted label\\naccuracy={:0.4f}; misclass={:0.4f}'.format(accuracy, misclass))\n",
        "    plt.show()"
      ],
      "execution_count": 58,
      "outputs": []
    },
    {
      "cell_type": "code",
      "metadata": {
        "id": "42RZhPvs3Wro"
      },
      "source": [
        "from sklearn.linear_model import LogisticRegression\n",
        "from sklearn.metrics import confusion_matrix\n",
        "from sklearn.metrics import accuracy_score"
      ],
      "execution_count": 59,
      "outputs": []
    },
    {
      "cell_type": "code",
      "metadata": {
        "colab": {
          "base_uri": "https://localhost:8080/",
          "height": 467
        },
        "id": "nJG-PMHv0yDU",
        "outputId": "65d5b919-ae0e-47d7-a43d-f7b492e37e59"
      },
      "source": [
        "X_train_sm , X_test_sm , y_train_sm , y_test_sm = train_test_split(X_sm, y_sm, test_size = 0.25, random_state = 10)\n",
        "\n",
        "lr2 = LogisticRegression()\n",
        "lr2.fit(X_train_sm,y_train_sm)\n",
        "\n",
        "y_predlr2 = lr2.predict(X_test_sm)\n",
        "\n",
        "plot_confusion_matrix(confusion_matrix(y_test_sm, y_predlr2), ['RECEBER CREDITO', 'NÃO RECEBER CREDITO'])"
      ],
      "execution_count": 60,
      "outputs": [
        {
          "output_type": "display_data",
          "data": {
            "image/png": "[encoded data removed]",
            "text/plain": [
              "<Figure size 576x432 with 1 Axes>"
            ]
          },
          "metadata": {
            "tags": [],
            "needs_background": "light"
          }
        }
      ]
    },
    {
      "cell_type": "code",
      "metadata": {
        "id": "3DhuYG1j3fpd"
      },
      "source": [
        "from sklearn.ensemble import RandomForestClassifier"
      ],
      "execution_count": 61,
      "outputs": []
    },
    {
      "cell_type": "code",
      "metadata": {
        "colab": {
          "base_uri": "https://localhost:8080/",
          "height": 467
        },
        "id": "WWSsF6r_4V5j",
        "outputId": "6ecb5ed1-0b5f-4387-a66f-aede1b77b88a"
      },
      "source": [
        "rf = RandomForestClassifier()\n",
        "\n",
        "X_train_sm , X_test_sm , y_train_sm , y_test_sm = train_test_split(X_sm, y_sm, test_size = 0.25, random_state = 10)\n",
        "\n",
        "rf.fit(X_train_sm, y_train_sm)\n",
        "y_predrf = rf.predict(X_test_sm)\n",
        "\n",
        "plot_confusion_matrix(confusion_matrix(y_test_sm, y_predrf), ['RECEBER CREDITO', 'NÃO RECEBER CREDITO'])"
      ],
      "execution_count": 62,
      "outputs": [
        {
          "output_type": "display_data",
          "data": {
            "image/png": "[encoded data removed]",
            "text/plain": [
              "<Figure size 576x432 with 1 Axes>"
            ]
          },
          "metadata": {
            "tags": [],
            "needs_background": "light"
          }
        }
      ]
    },
    {
      "cell_type": "code",
      "metadata": {
        "colab": {
          "base_uri": "https://localhost:8080/",
          "height": 224
        },
        "id": "zTSArXB9AvR_",
        "outputId": "49ad160c-293a-4082-af47-bf1c8e6f16a8"
      },
      "source": [
        "data_resposta = pd.read_csv('/content/drive/MyDrive/Colab Notebooks/Modulo 2/test.csv')\n",
        "data_resposta.head()"
      ],
      "execution_count": 63,
      "outputs": [
        {
          "output_type": "execute_result",
          "data": {
            "text/html": [
              "<div>\n",
              "<style scoped>\n",
              "    .dataframe tbody tr th:only-of-type {\n",
              "        vertical-align: middle;\n",
              "    }\n",
              "\n",
              "    .dataframe tbody tr th {\n",
              "        vertical-align: top;\n",
              "    }\n",
              "\n",
              "    .dataframe thead th {\n",
              "        text-align: right;\n",
              "    }\n",
              "</style>\n",
              "<table border=\"1\" class=\"dataframe\">\n",
              "  <thead>\n",
              "    <tr style=\"text-align: right;\">\n",
              "      <th></th>\n",
              "      <th>age</th>\n",
              "      <th>job</th>\n",
              "      <th>marital</th>\n",
              "      <th>education</th>\n",
              "      <th>default</th>\n",
              "      <th>balance</th>\n",
              "      <th>housing</th>\n",
              "      <th>loan</th>\n",
              "      <th>contact</th>\n",
              "      <th>day</th>\n",
              "      <th>month</th>\n",
              "      <th>duration</th>\n",
              "      <th>campaign</th>\n",
              "      <th>pdays</th>\n",
              "      <th>previous</th>\n",
              "      <th>poutcome</th>\n",
              "      <th>y</th>\n",
              "    </tr>\n",
              "  </thead>\n",
              "  <tbody>\n",
              "    <tr>\n",
              "      <th>0</th>\n",
              "      <td>30</td>\n",
              "      <td>unemployed</td>\n",
              "      <td>married</td>\n",
              "      <td>primary</td>\n",
              "      <td>no</td>\n",
              "      <td>1787</td>\n",
              "      <td>no</td>\n",
              "      <td>no</td>\n",
              "      <td>cellular</td>\n",
              "      <td>19</td>\n",
              "      <td>oct</td>\n",
              "      <td>79</td>\n",
              "      <td>1</td>\n",
              "      <td>-1</td>\n",
              "      <td>0</td>\n",
              "      <td>unknown</td>\n",
              "      <td>no</td>\n",
              "    </tr>\n",
              "    <tr>\n",
              "      <th>1</th>\n",
              "      <td>33</td>\n",
              "      <td>services</td>\n",
              "      <td>married</td>\n",
              "      <td>secondary</td>\n",
              "      <td>no</td>\n",
              "      <td>4789</td>\n",
              "      <td>yes</td>\n",
              "      <td>yes</td>\n",
              "      <td>cellular</td>\n",
              "      <td>11</td>\n",
              "      <td>may</td>\n",
              "      <td>220</td>\n",
              "      <td>1</td>\n",
              "      <td>339</td>\n",
              "      <td>4</td>\n",
              "      <td>failure</td>\n",
              "      <td>no</td>\n",
              "    </tr>\n",
              "    <tr>\n",
              "      <th>2</th>\n",
              "      <td>35</td>\n",
              "      <td>management</td>\n",
              "      <td>single</td>\n",
              "      <td>tertiary</td>\n",
              "      <td>no</td>\n",
              "      <td>1350</td>\n",
              "      <td>yes</td>\n",
              "      <td>no</td>\n",
              "      <td>cellular</td>\n",
              "      <td>16</td>\n",
              "      <td>apr</td>\n",
              "      <td>185</td>\n",
              "      <td>1</td>\n",
              "      <td>330</td>\n",
              "      <td>1</td>\n",
              "      <td>failure</td>\n",
              "      <td>no</td>\n",
              "    </tr>\n",
              "    <tr>\n",
              "      <th>3</th>\n",
              "      <td>30</td>\n",
              "      <td>management</td>\n",
              "      <td>married</td>\n",
              "      <td>tertiary</td>\n",
              "      <td>no</td>\n",
              "      <td>1476</td>\n",
              "      <td>yes</td>\n",
              "      <td>yes</td>\n",
              "      <td>unknown</td>\n",
              "      <td>3</td>\n",
              "      <td>jun</td>\n",
              "      <td>199</td>\n",
              "      <td>4</td>\n",
              "      <td>-1</td>\n",
              "      <td>0</td>\n",
              "      <td>unknown</td>\n",
              "      <td>no</td>\n",
              "    </tr>\n",
              "    <tr>\n",
              "      <th>4</th>\n",
              "      <td>59</td>\n",
              "      <td>blue-collar</td>\n",
              "      <td>married</td>\n",
              "      <td>secondary</td>\n",
              "      <td>no</td>\n",
              "      <td>0</td>\n",
              "      <td>yes</td>\n",
              "      <td>no</td>\n",
              "      <td>unknown</td>\n",
              "      <td>5</td>\n",
              "      <td>may</td>\n",
              "      <td>226</td>\n",
              "      <td>1</td>\n",
              "      <td>-1</td>\n",
              "      <td>0</td>\n",
              "      <td>unknown</td>\n",
              "      <td>no</td>\n",
              "    </tr>\n",
              "  </tbody>\n",
              "</table>\n",
              "</div>"
            ],
            "text/plain": [
              "   age          job  marital  education  ... pdays  previous poutcome   y\n",
              "0   30   unemployed  married    primary  ...    -1         0  unknown  no\n",
              "1   33     services  married  secondary  ...   339         4  failure  no\n",
              "2   35   management   single   tertiary  ...   330         1  failure  no\n",
              "3   30   management  married   tertiary  ...    -1         0  unknown  no\n",
              "4   59  blue-collar  married  secondary  ...    -1         0  unknown  no\n",
              "\n",
              "[5 rows x 17 columns]"
            ]
          },
          "metadata": {
            "tags": []
          },
          "execution_count": 63
        }
      ]
    },
    {
      "cell_type": "code",
      "metadata": {
        "id": "TQmwpf0tHUMd"
      },
      "source": [
        "data_resposta.loc[(data_resposta.contact == 'unknown'), 'contact'] = 'cellular'\n",
        "data_resposta.loc[(data_resposta.job == 'unknown'), 'job'] = 'management'"
      ],
      "execution_count": 64,
      "outputs": []
    },
    {
      "cell_type": "code",
      "metadata": {
        "colab": {
          "base_uri": "https://localhost:8080/",
          "height": 224
        },
        "id": "4VamJnQOHURh",
        "outputId": "a95548ee-7ca5-47a0-d3c1-4b5dca62852a"
      },
      "source": [
        "data_resposta_gabarito = data_resposta['y']\n",
        "\n",
        "data_resposta.drop(columns = ['y'], inplace = True)\n",
        "data_resposta.head()"
      ],
      "execution_count": 65,
      "outputs": [
        {
          "output_type": "execute_result",
          "data": {
            "text/html": [
              "<div>\n",
              "<style scoped>\n",
              "    .dataframe tbody tr th:only-of-type {\n",
              "        vertical-align: middle;\n",
              "    }\n",
              "\n",
              "    .dataframe tbody tr th {\n",
              "        vertical-align: top;\n",
              "    }\n",
              "\n",
              "    .dataframe thead th {\n",
              "        text-align: right;\n",
              "    }\n",
              "</style>\n",
              "<table border=\"1\" class=\"dataframe\">\n",
              "  <thead>\n",
              "    <tr style=\"text-align: right;\">\n",
              "      <th></th>\n",
              "      <th>age</th>\n",
              "      <th>job</th>\n",
              "      <th>marital</th>\n",
              "      <th>education</th>\n",
              "      <th>default</th>\n",
              "      <th>balance</th>\n",
              "      <th>housing</th>\n",
              "      <th>loan</th>\n",
              "      <th>contact</th>\n",
              "      <th>day</th>\n",
              "      <th>month</th>\n",
              "      <th>duration</th>\n",
              "      <th>campaign</th>\n",
              "      <th>pdays</th>\n",
              "      <th>previous</th>\n",
              "      <th>poutcome</th>\n",
              "    </tr>\n",
              "  </thead>\n",
              "  <tbody>\n",
              "    <tr>\n",
              "      <th>0</th>\n",
              "      <td>30</td>\n",
              "      <td>unemployed</td>\n",
              "      <td>married</td>\n",
              "      <td>primary</td>\n",
              "      <td>no</td>\n",
              "      <td>1787</td>\n",
              "      <td>no</td>\n",
              "      <td>no</td>\n",
              "      <td>cellular</td>\n",
              "      <td>19</td>\n",
              "      <td>oct</td>\n",
              "      <td>79</td>\n",
              "      <td>1</td>\n",
              "      <td>-1</td>\n",
              "      <td>0</td>\n",
              "      <td>unknown</td>\n",
              "    </tr>\n",
              "    <tr>\n",
              "      <th>1</th>\n",
              "      <td>33</td>\n",
              "      <td>services</td>\n",
              "      <td>married</td>\n",
              "      <td>secondary</td>\n",
              "      <td>no</td>\n",
              "      <td>4789</td>\n",
              "      <td>yes</td>\n",
              "      <td>yes</td>\n",
              "      <td>cellular</td>\n",
              "      <td>11</td>\n",
              "      <td>may</td>\n",
              "      <td>220</td>\n",
              "      <td>1</td>\n",
              "      <td>339</td>\n",
              "      <td>4</td>\n",
              "      <td>failure</td>\n",
              "    </tr>\n",
              "    <tr>\n",
              "      <th>2</th>\n",
              "      <td>35</td>\n",
              "      <td>management</td>\n",
              "      <td>single</td>\n",
              "      <td>tertiary</td>\n",
              "      <td>no</td>\n",
              "      <td>1350</td>\n",
              "      <td>yes</td>\n",
              "      <td>no</td>\n",
              "      <td>cellular</td>\n",
              "      <td>16</td>\n",
              "      <td>apr</td>\n",
              "      <td>185</td>\n",
              "      <td>1</td>\n",
              "      <td>330</td>\n",
              "      <td>1</td>\n",
              "      <td>failure</td>\n",
              "    </tr>\n",
              "    <tr>\n",
              "      <th>3</th>\n",
              "      <td>30</td>\n",
              "      <td>management</td>\n",
              "      <td>married</td>\n",
              "      <td>tertiary</td>\n",
              "      <td>no</td>\n",
              "      <td>1476</td>\n",
              "      <td>yes</td>\n",
              "      <td>yes</td>\n",
              "      <td>cellular</td>\n",
              "      <td>3</td>\n",
              "      <td>jun</td>\n",
              "      <td>199</td>\n",
              "      <td>4</td>\n",
              "      <td>-1</td>\n",
              "      <td>0</td>\n",
              "      <td>unknown</td>\n",
              "    </tr>\n",
              "    <tr>\n",
              "      <th>4</th>\n",
              "      <td>59</td>\n",
              "      <td>blue-collar</td>\n",
              "      <td>married</td>\n",
              "      <td>secondary</td>\n",
              "      <td>no</td>\n",
              "      <td>0</td>\n",
              "      <td>yes</td>\n",
              "      <td>no</td>\n",
              "      <td>cellular</td>\n",
              "      <td>5</td>\n",
              "      <td>may</td>\n",
              "      <td>226</td>\n",
              "      <td>1</td>\n",
              "      <td>-1</td>\n",
              "      <td>0</td>\n",
              "      <td>unknown</td>\n",
              "    </tr>\n",
              "  </tbody>\n",
              "</table>\n",
              "</div>"
            ],
            "text/plain": [
              "   age          job  marital  education  ... campaign  pdays previous poutcome\n",
              "0   30   unemployed  married    primary  ...        1     -1        0  unknown\n",
              "1   33     services  married  secondary  ...        1    339        4  failure\n",
              "2   35   management   single   tertiary  ...        1    330        1  failure\n",
              "3   30   management  married   tertiary  ...        4     -1        0  unknown\n",
              "4   59  blue-collar  married  secondary  ...        1     -1        0  unknown\n",
              "\n",
              "[5 rows x 16 columns]"
            ]
          },
          "metadata": {
            "tags": []
          },
          "execution_count": 65
        }
      ]
    },
    {
      "cell_type": "code",
      "metadata": {
        "id": "n1N4ztMYKpp8"
      },
      "source": [
        "data_resposta.drop(columns = ['day', 'month'], inplace=True)\n",
        "\n",
        "ohe = OneHotEncoder(sparse = False)\n",
        "\n",
        "data_transform = pd.DataFrame(ohe.fit_transform(data_resposta[\"job\"].to_frame()), columns = \"job_\" + np.sort(data_resposta[\"job\"].unique()))\n",
        "data_resposta.drop(columns = [\"job\"], inplace = True)\n",
        "data_resposta['job_admin.'] = data_transform['job_admin.']\n",
        "data_resposta['job_blue-collar'] = data_transform['job_blue-collar']\n",
        "data_resposta['job_entrepreneur'] = data_transform['job_entrepreneur']\n",
        "data_resposta['job_housemaid'] = data_transform['job_housemaid']\n",
        "data_resposta['job_management'] = data_transform['job_management']\n",
        "data_resposta['job_retired'] = data_transform['job_retired']\n",
        "data_resposta['job_self-employed'] = data_transform['job_self-employed']\n",
        "data_resposta['job_services'] = data_transform['job_services']\n",
        "data_resposta['job_student'] = data_transform['job_student']\n",
        "data_resposta['job_technician'] = data_transform['job_technician']\n",
        "data_resposta['job_unemployed'] = data_transform['job_unemployed']\n",
        "\n",
        "data_transform = pd.DataFrame(ohe.fit_transform(data_resposta[\"marital\"].to_frame()), columns = \"marital_\" + np.sort(data_resposta[\"marital\"].unique()))\n",
        "data_resposta.drop(columns = [\"marital\"], inplace = True)\n",
        "data_resposta['marital_divorced'] = data_transform['marital_divorced']\n",
        "data_resposta['marital_married'] = data_transform['marital_married']\n",
        "data_resposta['marital_single'] = data_transform['marital_single']\n",
        "\n",
        "data_transform = pd.DataFrame(ohe.fit_transform(data_resposta[\"education\"].to_frame()), columns = \"education_\" + np.sort(data_resposta[\"education\"].unique()))\n",
        "data_resposta.drop(columns = [\"education\"], inplace = True)\n",
        "data_resposta['education_primary'] = data_transform['education_primary']\n",
        "data_resposta['education_secondary'] = data_transform['education_secondary']\n",
        "data_resposta['education_tertiary'] = data_transform['education_tertiary']\n",
        "data_resposta['education_unknown'] = data_transform['education_unknown']\n",
        "\n",
        "data_resposta.loc[(data_resposta.default == 'yes'), 'default'] = 1\n",
        "data_resposta.loc[(data_resposta.default == 'no'), 'default'] = 0\n",
        "\n",
        "data_resposta.loc[(data_resposta.housing == 'yes'), 'housing'] = 1\n",
        "data_resposta.loc[(data_resposta.housing == 'no'), 'housing'] = 0\n",
        "\n",
        "data_resposta.loc[(data_resposta.loan == 'yes'), 'loan'] = 1\n",
        "data_resposta.loc[(data_resposta.loan == 'no'), 'loan'] = 0\n",
        "\n",
        "data_resposta.loc[(data_resposta.contact == 'telephone'), 'contact'] = 1\n",
        "data_resposta.loc[(data_resposta.contact == 'cellular'), 'contact'] = 0\n",
        "\n",
        "data_resposta.loc[(data_resposta.pdays == -1), 'pdays'] = 999\n",
        "\n",
        "data_transform = pd.DataFrame(ohe.fit_transform(data_resposta[\"poutcome\"].to_frame()),columns = \"poutcome_\" + np.sort(data_resposta[\"poutcome\"].unique()))\n",
        "data_resposta.drop(columns = ['poutcome'], inplace = True)\n",
        "data_resposta['poutcome_failure'] = data_transform['poutcome_failure']\n",
        "data_resposta['poutcome_other'] = data_transform['poutcome_other']\n",
        "data_resposta['poutcome_success'] = data_transform['poutcome_success']\n",
        "data_resposta['poutcome_unknown'] = data_transform['poutcome_unknown']"
      ],
      "execution_count": 66,
      "outputs": []
    },
    {
      "cell_type": "code",
      "metadata": {
        "id": "y4g65UDoKpsW"
      },
      "source": [
        "data_resposta.default = data_resposta.default.astype(int)\n",
        "data_resposta.housing = data_resposta.housing.astype(int)\n",
        "data_resposta.loan = data_resposta.loan.astype(int)\n",
        "data_resposta.contact = data_resposta.contact.astype(int)"
      ],
      "execution_count": 67,
      "outputs": []
    },
    {
      "cell_type": "code",
      "metadata": {
        "colab": {
          "base_uri": "https://localhost:8080/"
        },
        "id": "Syw8g0v7jCzX",
        "outputId": "bed9850a-cd3f-4475-b921-bc8e0741983d"
      },
      "source": [
        "print(len(data_resposta))\n",
        "print(len(data_resposta_gabarito))"
      ],
      "execution_count": 68,
      "outputs": [
        {
          "output_type": "stream",
          "text": [
            "4521\n",
            "4521\n"
          ],
          "name": "stdout"
        }
      ]
    },
    {
      "cell_type": "markdown",
      "metadata": {
        "id": "vOu_jKv5g2zq"
      },
      "source": [
        "- Fazendo o teste com o RandomForestClassifier sem a utilização do SMOTE.\n",
        "\n"
      ]
    },
    {
      "cell_type": "code",
      "metadata": {
        "colab": {
          "base_uri": "https://localhost:8080/",
          "height": 467
        },
        "id": "bmcd9YY7bmUN",
        "outputId": "0534f23b-2d33-4cf8-8036-988a3167c667"
      },
      "source": [
        "X_train_resp , X_test_resp , y_train_resp , y_test_resp = train_test_split(data_resposta, data_resposta_gabarito, test_size = 0.25, random_state = 10)\n",
        "rf.fit(X_train_resp, y_train_resp)\n",
        "y_pred_resp_rf = rf.predict(X_test_resp)\n",
        "\n",
        "plot_confusion_matrix(confusion_matrix(y_test_resp, y_pred_resp_rf), ['RECEBER CREDITO', 'NÃO RECEBER CREDITO'])"
      ],
      "execution_count": 69,
      "outputs": [
        {
          "output_type": "display_data",
          "data": {
            "image/png": "[encoded data removed]",
            "text/plain": [
              "<Figure size 576x432 with 1 Axes>"
            ]
          },
          "metadata": {
            "tags": [],
            "needs_background": "light"
          }
        }
      ]
    },
    {
      "cell_type": "code",
      "metadata": {
        "colab": {
          "base_uri": "https://localhost:8080/"
        },
        "id": "VukBRtjidHfU",
        "outputId": "406a56e2-fa68-4dc3-cbb8-f4825ec9d872"
      },
      "source": [
        "print('Quantidade de registros que foram calculados: ', len(y_pred_resp_rf))"
      ],
      "execution_count": 70,
      "outputs": [
        {
          "output_type": "stream",
          "text": [
            "Quantidade de registros que foram calculados:  1131\n"
          ],
          "name": "stdout"
        }
      ]
    },
    {
      "cell_type": "code",
      "metadata": {
        "colab": {
          "base_uri": "https://localhost:8080/"
        },
        "id": "1-sq5ttQOgXK",
        "outputId": "c6d276cb-466d-43a2-c7dc-82e863c95df0"
      },
      "source": [
        "sim = 0\n",
        "nao = 0\n",
        "for i in y_pred_resp_rf:\n",
        "  if i == 'no':\n",
        "    nao = nao + 1\n",
        "  else:\n",
        "    sim = sim + 1\n",
        "\n",
        "print('yes  ', sim)\n",
        "print('no  ', nao)"
      ],
      "execution_count": 71,
      "outputs": [
        {
          "output_type": "stream",
          "text": [
            "yes   59\n",
            "no   1072\n"
          ],
          "name": "stdout"
        }
      ]
    },
    {
      "cell_type": "code",
      "metadata": {
        "colab": {
          "base_uri": "https://localhost:8080/"
        },
        "id": "STut0KChdivl",
        "outputId": "98a70f5e-6235-45d5-94b8-4d64533586a5"
      },
      "source": [
        "aceitos = 0\n",
        "negados = 0\n",
        "\n",
        "y_test_resp = np.array(y_test_resp)\n",
        "for i in range(len(y_pred_resp_rf)):\n",
        "  if y_test_resp[i] == y_pred_resp_rf[i]:\n",
        "    aceitos = aceitos + 1\n",
        "  else:\n",
        "    negados += 1\n",
        "\n",
        "print('Comparação linha x linha do modelo criado vs o gabarito')\n",
        "print('Modelo e gabarito com mesma resposta:          ', aceitos)\n",
        "print('Modelo e gabarito com respostas diferentes:    ', negados)\n",
        "print('Total de registros:                            ', aceitos+negados)"
      ],
      "execution_count": 72,
      "outputs": [
        {
          "output_type": "stream",
          "text": [
            "Comparação linha x linha do modelo criado vs o gabarito\n",
            "Modelo e gabarito com mesma resposta:           1004\n",
            "Modelo e gabarito com respostas diferentes:     127\n",
            "Total de registros:                             1131\n"
          ],
          "name": "stdout"
        }
      ]
    },
    {
      "cell_type": "markdown",
      "metadata": {
        "id": "JTHAw0wSioRu"
      },
      "source": [
        "- Utilizando agora o SMOTE."
      ]
    },
    {
      "cell_type": "code",
      "metadata": {
        "colab": {
          "base_uri": "https://localhost:8080/"
        },
        "id": "GFyVxSxqxihL",
        "outputId": "05312b30-3692-4077-ff1a-cb13263e4f8d"
      },
      "source": [
        "X_resposta_sm, y_resposta_sm = sm.fit_resample(data_resposta, data_resposta_gabarito)"
      ],
      "execution_count": 73,
      "outputs": [
        {
          "output_type": "stream",
          "text": [
            "/usr/local/lib/python3.6/dist-packages/sklearn/utils/deprecation.py:87: FutureWarning: Function safe_indexing is deprecated; safe_indexing is deprecated in version 0.22 and will be removed in version 0.24.\n",
            "  warnings.warn(msg, category=FutureWarning)\n"
          ],
          "name": "stderr"
        }
      ]
    },
    {
      "cell_type": "code",
      "metadata": {
        "colab": {
          "base_uri": "https://localhost:8080/",
          "height": 467
        },
        "id": "EshYVK5my2KS",
        "outputId": "cfab3ad6-df06-4322-c661-ef8f4fe5133a"
      },
      "source": [
        "X_train_resp_sm , X_test_resp_sm , y_train_resp_sm , y_test_resp_sm = train_test_split(X_resposta_sm, y_resposta_sm, test_size = 0.14135, random_state = 10)\n",
        "rf.fit(X_train_resp_sm, y_train_resp_sm)\n",
        "y_pred_resp_sm_rf = rf.predict(X_test_resp_sm)\n",
        "\n",
        "plot_confusion_matrix(confusion_matrix(y_test_resp_sm, y_pred_resp_sm_rf), ['RECEBER CREDITO', 'NÃO RECEBER CREDITO'])"
      ],
      "execution_count": 74,
      "outputs": [
        {
          "output_type": "display_data",
          "data": {
            "image/png": "[encoded data removed]",
            "text/plain": [
              "<Figure size 576x432 with 1 Axes>"
            ]
          },
          "metadata": {
            "tags": [],
            "needs_background": "light"
          }
        }
      ]
    },
    {
      "cell_type": "code",
      "metadata": {
        "colab": {
          "base_uri": "https://localhost:8080/"
        },
        "id": "mjgrJrWmzAlM",
        "outputId": "151e73a3-f6d2-4c4f-b683-dda780d6bc77"
      },
      "source": [
        "aceitos = 0\n",
        "negados = 0\n",
        "for i in range(len(y_pred_resp_sm_rf)):\n",
        "  if y_test_resp_sm[i] == y_pred_resp_sm_rf[i]:\n",
        "    aceitos = aceitos + 1\n",
        "  else:\n",
        "    negados += 1\n",
        "\n",
        "print('Comparação linha x linha do modelo criado vs o gabarito')\n",
        "print('Modelo e gabarito com mesma resposta:          ', aceitos)\n",
        "print('Modelo e gabarito com respostas diferentes:    ', negados)\n",
        "print('Total de registros:                            ', aceitos+negados)"
      ],
      "execution_count": 75,
      "outputs": [
        {
          "output_type": "stream",
          "text": [
            "Comparação linha x linha do modelo criado vs o gabarito\n",
            "Modelo e gabarito com mesma resposta:           1060\n",
            "Modelo e gabarito com respostas diferentes:     71\n",
            "Total de registros:                             1131\n"
          ],
          "name": "stdout"
        }
      ]
    },
    {
      "cell_type": "markdown",
      "metadata": {
        "id": "cirWKLk0lRMF"
      },
      "source": [
        "- Fazendo um teste com um registro qualquer"
      ]
    },
    {
      "cell_type": "code",
      "metadata": {
        "id": "4v6UsvurlQqh"
      },
      "source": [
        "novo_cliente_info = np.array([[35, 0, 600, 0, 0, 0, 156, 2, 22, 1, 0.0, 1.0, 0.0, 0.0, 0.0, 0.0, 0.0, 0.0, 0.0, 0.0, 0.0, 0.0, 1.0, 0.0, 0.0, 1.0, 0.0, 0.0, 0.0, 1.0, 0.0, 0.0],\n",
        "                              [20, 0, 500, 0, 0, 0, 156, 2, 22, 1, 1.0, 0.0, 0.0, 0.0, 0.0, 0.0, 0.0, 0.0, 0.0, 0.0, 0.0, 0.0, 1.0, 0.0, 0.0, 0.0, 1.0, 0.0, 0.0, 0.0, 1.0, 0.0]])"
      ],
      "execution_count": 76,
      "outputs": []
    },
    {
      "cell_type": "code",
      "metadata": {
        "id": "7mA8PFH4nvLO"
      },
      "source": [
        "columns_novo_cliente = ['age', 'default', 'balance', 'housing', 'loan', 'contact', 'duration',\n",
        "       'campaign', 'pdays', 'previous', 'job_admin.', 'job_blue-collar',\n",
        "       'job_entrepreneur', 'job_housemaid', 'job_management', 'job_retired',\n",
        "       'job_self-employed', 'job_services', 'job_student', 'job_technician',\n",
        "       'job_unemployed', 'marital_divorced', 'marital_married',\n",
        "       'marital_single', 'education_primary', 'education_secondary',\n",
        "       'education_tertiary', 'education_unknown', 'poutcome_failure',\n",
        "       'poutcome_other', 'poutcome_success', 'poutcome_unknown']"
      ],
      "execution_count": 77,
      "outputs": []
    },
    {
      "cell_type": "code",
      "metadata": {
        "colab": {
          "base_uri": "https://localhost:8080/",
          "height": 148
        },
        "id": "qYHAZTyXnXF3",
        "outputId": "eb7ad58a-0fd1-47c8-9408-2955f828b884"
      },
      "source": [
        "novo_cliente = pd.DataFrame(data=novo_cliente_info, columns = columns_novo_cliente)\n",
        "novo_cliente.head()"
      ],
      "execution_count": 78,
      "outputs": [
        {
          "output_type": "execute_result",
          "data": {
            "text/html": [
              "<div>\n",
              "<style scoped>\n",
              "    .dataframe tbody tr th:only-of-type {\n",
              "        vertical-align: middle;\n",
              "    }\n",
              "\n",
              "    .dataframe tbody tr th {\n",
              "        vertical-align: top;\n",
              "    }\n",
              "\n",
              "    .dataframe thead th {\n",
              "        text-align: right;\n",
              "    }\n",
              "</style>\n",
              "<table border=\"1\" class=\"dataframe\">\n",
              "  <thead>\n",
              "    <tr style=\"text-align: right;\">\n",
              "      <th></th>\n",
              "      <th>age</th>\n",
              "      <th>default</th>\n",
              "      <th>balance</th>\n",
              "      <th>housing</th>\n",
              "      <th>loan</th>\n",
              "      <th>contact</th>\n",
              "      <th>duration</th>\n",
              "      <th>campaign</th>\n",
              "      <th>pdays</th>\n",
              "      <th>previous</th>\n",
              "      <th>job_admin.</th>\n",
              "      <th>job_blue-collar</th>\n",
              "      <th>job_entrepreneur</th>\n",
              "      <th>job_housemaid</th>\n",
              "      <th>job_management</th>\n",
              "      <th>job_retired</th>\n",
              "      <th>job_self-employed</th>\n",
              "      <th>job_services</th>\n",
              "      <th>job_student</th>\n",
              "      <th>job_technician</th>\n",
              "      <th>job_unemployed</th>\n",
              "      <th>marital_divorced</th>\n",
              "      <th>marital_married</th>\n",
              "      <th>marital_single</th>\n",
              "      <th>education_primary</th>\n",
              "      <th>education_secondary</th>\n",
              "      <th>education_tertiary</th>\n",
              "      <th>education_unknown</th>\n",
              "      <th>poutcome_failure</th>\n",
              "      <th>poutcome_other</th>\n",
              "      <th>poutcome_success</th>\n",
              "      <th>poutcome_unknown</th>\n",
              "    </tr>\n",
              "  </thead>\n",
              "  <tbody>\n",
              "    <tr>\n",
              "      <th>0</th>\n",
              "      <td>35.0</td>\n",
              "      <td>0.0</td>\n",
              "      <td>600.0</td>\n",
              "      <td>0.0</td>\n",
              "      <td>0.0</td>\n",
              "      <td>0.0</td>\n",
              "      <td>156.0</td>\n",
              "      <td>2.0</td>\n",
              "      <td>22.0</td>\n",
              "      <td>1.0</td>\n",
              "      <td>0.0</td>\n",
              "      <td>1.0</td>\n",
              "      <td>0.0</td>\n",
              "      <td>0.0</td>\n",
              "      <td>0.0</td>\n",
              "      <td>0.0</td>\n",
              "      <td>0.0</td>\n",
              "      <td>0.0</td>\n",
              "      <td>0.0</td>\n",
              "      <td>0.0</td>\n",
              "      <td>0.0</td>\n",
              "      <td>0.0</td>\n",
              "      <td>1.0</td>\n",
              "      <td>0.0</td>\n",
              "      <td>0.0</td>\n",
              "      <td>1.0</td>\n",
              "      <td>0.0</td>\n",
              "      <td>0.0</td>\n",
              "      <td>0.0</td>\n",
              "      <td>1.0</td>\n",
              "      <td>0.0</td>\n",
              "      <td>0.0</td>\n",
              "    </tr>\n",
              "    <tr>\n",
              "      <th>1</th>\n",
              "      <td>20.0</td>\n",
              "      <td>0.0</td>\n",
              "      <td>500.0</td>\n",
              "      <td>0.0</td>\n",
              "      <td>0.0</td>\n",
              "      <td>0.0</td>\n",
              "      <td>156.0</td>\n",
              "      <td>2.0</td>\n",
              "      <td>22.0</td>\n",
              "      <td>1.0</td>\n",
              "      <td>1.0</td>\n",
              "      <td>0.0</td>\n",
              "      <td>0.0</td>\n",
              "      <td>0.0</td>\n",
              "      <td>0.0</td>\n",
              "      <td>0.0</td>\n",
              "      <td>0.0</td>\n",
              "      <td>0.0</td>\n",
              "      <td>0.0</td>\n",
              "      <td>0.0</td>\n",
              "      <td>0.0</td>\n",
              "      <td>0.0</td>\n",
              "      <td>1.0</td>\n",
              "      <td>0.0</td>\n",
              "      <td>0.0</td>\n",
              "      <td>0.0</td>\n",
              "      <td>1.0</td>\n",
              "      <td>0.0</td>\n",
              "      <td>0.0</td>\n",
              "      <td>0.0</td>\n",
              "      <td>1.0</td>\n",
              "      <td>0.0</td>\n",
              "    </tr>\n",
              "  </tbody>\n",
              "</table>\n",
              "</div>"
            ],
            "text/plain": [
              "    age  default  balance  ...  poutcome_other  poutcome_success  poutcome_unknown\n",
              "0  35.0      0.0    600.0  ...             1.0               0.0               0.0\n",
              "1  20.0      0.0    500.0  ...             0.0               1.0               0.0\n",
              "\n",
              "[2 rows x 32 columns]"
            ]
          },
          "metadata": {
            "tags": []
          },
          "execution_count": 78
        }
      ]
    },
    {
      "cell_type": "code",
      "metadata": {
        "colab": {
          "base_uri": "https://localhost:8080/"
        },
        "id": "DKYzNicFn4dK",
        "outputId": "ff2bb815-876c-473d-d67d-53021c6c7c33"
      },
      "source": [
        "pred_novo_cliente = rf.predict(novo_cliente)\n",
        "pred_novo_cliente"
      ],
      "execution_count": 79,
      "outputs": [
        {
          "output_type": "execute_result",
          "data": {
            "text/plain": [
              "array(['no', 'yes'], dtype=object)"
            ]
          },
          "metadata": {
            "tags": []
          },
          "execution_count": 79
        }
      ]
    }
  ]
}