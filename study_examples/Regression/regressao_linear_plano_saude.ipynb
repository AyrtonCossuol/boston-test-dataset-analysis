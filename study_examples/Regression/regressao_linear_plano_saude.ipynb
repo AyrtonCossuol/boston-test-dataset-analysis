{
  "nbformat": 4,
  "nbformat_minor": 0,
  "metadata": {
    "colab": {
      "name": "regressao_linear_plano_saude.ipynb",
      "provenance": []
    },
    "kernelspec": {
      "name": "python3",
      "display_name": "Python 3"
    }
  },
  "cells": [
    {
      "cell_type": "code",
      "metadata": {
        "colab": {
          "base_uri": "https://localhost:8080/"
        },
        "id": "nT0sBNZa17fT",
        "outputId": "8b23dfe5-1d5e-40ae-86a9-f690c967893c"
      },
      "source": [
        "from google.colab import drive\r\n",
        "drive.mount('/content/drive')"
      ],
      "execution_count": 1,
      "outputs": [
        {
          "output_type": "stream",
          "text": [
            "Drive already mounted at /content/drive; to attempt to forcibly remount, call drive.mount(\"/content/drive\", force_remount=True).\n"
          ],
          "name": "stdout"
        }
      ]
    },
    {
      "cell_type": "markdown",
      "metadata": {
        "id": "r5SA49om28V2"
      },
      "source": [
        "# 1 - Importação das Bibliotecas"
      ]
    },
    {
      "cell_type": "code",
      "metadata": {
        "colab": {
          "base_uri": "https://localhost:8080/"
        },
        "id": "5HeAPsZT2vX9",
        "outputId": "46b5f72e-452f-4fa7-a611-68c951f7f0ac"
      },
      "source": [
        "import pandas as pd\r\n",
        "import numpy as np\r\n",
        "\r\n",
        "import seaborn as sns\r\n",
        "import matplotlib.pyplot as plt\r\n",
        "from yellowbrick.regressor import ResidualsPlot\r\n",
        "\r\n",
        "from sklearn.linear_model import LinearRegression"
      ],
      "execution_count": 2,
      "outputs": [
        {
          "output_type": "stream",
          "text": [
            "/usr/local/lib/python3.6/dist-packages/sklearn/utils/deprecation.py:144: FutureWarning: The sklearn.metrics.classification module is  deprecated in version 0.22 and will be removed in version 0.24. The corresponding classes / functions should instead be imported from sklearn.metrics. Anything that cannot be imported from sklearn.metrics is now part of the private API.\n",
            "  warnings.warn(message, FutureWarning)\n"
          ],
          "name": "stderr"
        }
      ]
    },
    {
      "cell_type": "markdown",
      "metadata": {
        "id": "WgPI6l1g3WEg"
      },
      "source": [
        "# 2 - Importando a base"
      ]
    },
    {
      "cell_type": "code",
      "metadata": {
        "colab": {
          "base_uri": "https://localhost:8080/",
          "height": 0
        },
        "id": "ik5z8kvf3F3y",
        "outputId": "9fdad752-1c4b-4905-a5e5-715f58b59386"
      },
      "source": [
        "PATH = '/content/drive/MyDrive/Colab Notebooks/Machine Learning e Data Science com Python de A a Z/Estudo regressao/plano_saude.csv'\r\n",
        "base = pd.read_csv(PATH)\r\n",
        "base.head()"
      ],
      "execution_count": 3,
      "outputs": [
        {
          "output_type": "execute_result",
          "data": {
            "text/html": [
              "<div>\n",
              "<style scoped>\n",
              "    .dataframe tbody tr th:only-of-type {\n",
              "        vertical-align: middle;\n",
              "    }\n",
              "\n",
              "    .dataframe tbody tr th {\n",
              "        vertical-align: top;\n",
              "    }\n",
              "\n",
              "    .dataframe thead th {\n",
              "        text-align: right;\n",
              "    }\n",
              "</style>\n",
              "<table border=\"1\" class=\"dataframe\">\n",
              "  <thead>\n",
              "    <tr style=\"text-align: right;\">\n",
              "      <th></th>\n",
              "      <th>idade</th>\n",
              "      <th>custo</th>\n",
              "    </tr>\n",
              "  </thead>\n",
              "  <tbody>\n",
              "    <tr>\n",
              "      <th>0</th>\n",
              "      <td>18</td>\n",
              "      <td>871</td>\n",
              "    </tr>\n",
              "    <tr>\n",
              "      <th>1</th>\n",
              "      <td>23</td>\n",
              "      <td>1132</td>\n",
              "    </tr>\n",
              "    <tr>\n",
              "      <th>2</th>\n",
              "      <td>28</td>\n",
              "      <td>1242</td>\n",
              "    </tr>\n",
              "    <tr>\n",
              "      <th>3</th>\n",
              "      <td>33</td>\n",
              "      <td>1356</td>\n",
              "    </tr>\n",
              "    <tr>\n",
              "      <th>4</th>\n",
              "      <td>38</td>\n",
              "      <td>1488</td>\n",
              "    </tr>\n",
              "  </tbody>\n",
              "</table>\n",
              "</div>"
            ],
            "text/plain": [
              "   idade  custo\n",
              "0     18    871\n",
              "1     23   1132\n",
              "2     28   1242\n",
              "3     33   1356\n",
              "4     38   1488"
            ]
          },
          "metadata": {
            "tags": []
          },
          "execution_count": 3
        }
      ]
    },
    {
      "cell_type": "markdown",
      "metadata": {
        "id": "8vI6Bn2b9pEJ"
      },
      "source": [
        "# 3 - Dicionário de dados"
      ]
    },
    {
      "cell_type": "markdown",
      "metadata": {
        "id": "JV2QhCnK94_z"
      },
      "source": [
        "1 - idade = idade do cliente (Variável numérica discreta)\r\n",
        "\r\n",
        "2 - custo = valor do plano de saúde (Variável numérica discreta)"
      ]
    },
    {
      "cell_type": "markdown",
      "metadata": {
        "id": "nr2LLYx2-S5g"
      },
      "source": [
        "# 4 - Processamento das variáveis"
      ]
    },
    {
      "cell_type": "markdown",
      "metadata": {
        "id": "23WY_qX7-m_4"
      },
      "source": [
        "## 4.1 - Seraparação das colunas e correlação"
      ]
    },
    {
      "cell_type": "code",
      "metadata": {
        "id": "9IeB8Q_N3RNC"
      },
      "source": [
        "X = base.iloc[:, 0].values\r\n",
        "y = base.iloc[:, 1].values"
      ],
      "execution_count": 4,
      "outputs": []
    },
    {
      "cell_type": "code",
      "metadata": {
        "colab": {
          "base_uri": "https://localhost:8080/"
        },
        "id": "eSMoWs1b3kC8",
        "outputId": "7150bebe-65f2-471d-cbbe-1df2cd650474"
      },
      "source": [
        "correlacao = np.corrcoef(X, y)\r\n",
        "correlacao"
      ],
      "execution_count": 5,
      "outputs": [
        {
          "output_type": "execute_result",
          "data": {
            "text/plain": [
              "array([[1.        , 0.93091958],\n",
              "       [0.93091958, 1.        ]])"
            ]
          },
          "metadata": {
            "tags": []
          },
          "execution_count": 5
        }
      ]
    },
    {
      "cell_type": "code",
      "metadata": {
        "colab": {
          "base_uri": "https://localhost:8080/",
          "height": 0
        },
        "id": "H36aqyzF3viM",
        "outputId": "321b37a2-3227-4a2a-8b46-cdf99aaebf8d"
      },
      "source": [
        "sns.heatmap(base.corr(), annot=True, fmt='.5g')\r\n",
        "plt.show()"
      ],
      "execution_count": 6,
      "outputs": [
        {
          "output_type": "display_data",
          "data": {
            "image/png": "[encoded data removed]",
            "text/plain": [
              "<Figure size 576x396 with 2 Axes>"
            ]
          },
          "metadata": {
            "tags": []
          }
        }
      ]
    },
    {
      "cell_type": "code",
      "metadata": {
        "colab": {
          "base_uri": "https://localhost:8080/"
        },
        "id": "o24iYmiR4HB6",
        "outputId": "7c179546-9c04-40c4-f4bc-37eabb0bd249"
      },
      "source": [
        "X = X.reshape(-1, 1)\r\n",
        "X"
      ],
      "execution_count": 7,
      "outputs": [
        {
          "output_type": "execute_result",
          "data": {
            "text/plain": [
              "array([[18],\n",
              "       [23],\n",
              "       [28],\n",
              "       [33],\n",
              "       [38],\n",
              "       [43],\n",
              "       [48],\n",
              "       [53],\n",
              "       [58],\n",
              "       [63]])"
            ]
          },
          "metadata": {
            "tags": []
          },
          "execution_count": 7
        }
      ]
    },
    {
      "cell_type": "markdown",
      "metadata": {
        "id": "q9DgCK2T_hsJ"
      },
      "source": [
        "# 5 - Criação do modelo"
      ]
    },
    {
      "cell_type": "markdown",
      "metadata": {
        "id": "X-jSjwb__qjy"
      },
      "source": [
        "## 5.1 - Utilização de Regressão Linear"
      ]
    },
    {
      "cell_type": "code",
      "metadata": {
        "id": "k0YSyfV34uCm"
      },
      "source": [
        "regressor = LinearRegression()"
      ],
      "execution_count": 8,
      "outputs": []
    },
    {
      "cell_type": "code",
      "metadata": {
        "colab": {
          "base_uri": "https://localhost:8080/"
        },
        "id": "bAbcvHOj42Oj",
        "outputId": "3a5acdf0-0e7b-45b0-b95e-bcea1f27f513"
      },
      "source": [
        "regressor.fit(X, y)"
      ],
      "execution_count": 9,
      "outputs": [
        {
          "output_type": "execute_result",
          "data": {
            "text/plain": [
              "LinearRegression(copy_X=True, fit_intercept=True, n_jobs=None, normalize=False)"
            ]
          },
          "metadata": {
            "tags": []
          },
          "execution_count": 9
        }
      ]
    },
    {
      "cell_type": "code",
      "metadata": {
        "colab": {
          "base_uri": "https://localhost:8080/"
        },
        "id": "r2BXhFKq44M_",
        "outputId": "e047504a-aec3-4581-9bc3-cc9f52b398a3"
      },
      "source": [
        "regressor.intercept_"
      ],
      "execution_count": 10,
      "outputs": [
        {
          "output_type": "execute_result",
          "data": {
            "text/plain": [
              "-558.9490909090912"
            ]
          },
          "metadata": {
            "tags": []
          },
          "execution_count": 10
        }
      ]
    },
    {
      "cell_type": "code",
      "metadata": {
        "colab": {
          "base_uri": "https://localhost:8080/"
        },
        "id": "-zvdZ_aC48na",
        "outputId": "c2a2ee64-7a64-4e79-f19b-11a9b80d8c76"
      },
      "source": [
        "regressor.coef_"
      ],
      "execution_count": 11,
      "outputs": [
        {
          "output_type": "execute_result",
          "data": {
            "text/plain": [
              "array([61.86787879])"
            ]
          },
          "metadata": {
            "tags": []
          },
          "execution_count": 11
        }
      ]
    },
    {
      "cell_type": "markdown",
      "metadata": {
        "id": "yM2S8QsY_xGS"
      },
      "source": [
        "## 5.2 - Plot da predição do modelo em relação aos dados"
      ]
    },
    {
      "cell_type": "code",
      "metadata": {
        "colab": {
          "base_uri": "https://localhost:8080/",
          "height": 0
        },
        "id": "uyxSBd8a4-et",
        "outputId": "2d7c772a-032b-4bfa-90cf-8ca0a0be4d20"
      },
      "source": [
        "plt.figure(figsize=(10, 8))\r\n",
        "plt.scatter(X, y)\r\n",
        "plt.title('Regressão linear simples')\r\n",
        "plt.plot(X, regressor.predict(X), color='red')\r\n",
        "plt.xlabel('Idade')\r\n",
        "plt.ylabel('Custo')\r\n",
        "plt.show()"
      ],
      "execution_count": 12,
      "outputs": [
        {
          "output_type": "display_data",
          "data": {
            "image/png": "[encoded data removed]",
            "text/plain": [
              "<Figure size 720x576 with 1 Axes>"
            ]
          },
          "metadata": {
            "tags": []
          }
        }
      ]
    },
    {
      "cell_type": "markdown",
      "metadata": {
        "id": "cTOQa_Kh_5O3"
      },
      "source": [
        "## 5.3 - Criando uma previsão "
      ]
    },
    {
      "cell_type": "code",
      "metadata": {
        "colab": {
          "base_uri": "https://localhost:8080/"
        },
        "id": "uIWEvMMV5Lcn",
        "outputId": "2ee5e093-cf1e-432a-c949-4c7b8da19117"
      },
      "source": [
        "previsao1 = regressor.predict([[40]])\r\n",
        "previsao1"
      ],
      "execution_count": 13,
      "outputs": [
        {
          "output_type": "execute_result",
          "data": {
            "text/plain": [
              "array([1915.76606061])"
            ]
          },
          "metadata": {
            "tags": []
          },
          "execution_count": 13
        }
      ]
    },
    {
      "cell_type": "markdown",
      "metadata": {
        "id": "_UENWgDfAUqI"
      },
      "source": [
        "## 5.4 - Analizando o score e o residual do modelo"
      ]
    },
    {
      "cell_type": "code",
      "metadata": {
        "colab": {
          "base_uri": "https://localhost:8080/"
        },
        "id": "u38y0mvn8KDE",
        "outputId": "4ae28fc8-3250-4cc3-d438-f331fb8e1702"
      },
      "source": [
        "# Testando na propria base de dados\r\n",
        "score = regressor.score(X, y)\r\n",
        "score"
      ],
      "execution_count": 14,
      "outputs": [
        {
          "output_type": "execute_result",
          "data": {
            "text/plain": [
              "0.8666112727879174"
            ]
          },
          "metadata": {
            "tags": []
          },
          "execution_count": 14
        }
      ]
    },
    {
      "cell_type": "code",
      "metadata": {
        "colab": {
          "base_uri": "https://localhost:8080/",
          "height": 0
        },
        "id": "_Cl5M5OX8zx5",
        "outputId": "6d258a66-f51d-4dbc-bcf1-f7665d88e4c6"
      },
      "source": [
        "plt.figure(figsize=(10, 8))\r\n",
        "visualizador = ResidualsPlot(regressor)\r\n",
        "visualizador.fit(X, y)\r\n",
        "visualizador.poof()"
      ],
      "execution_count": 15,
      "outputs": [
        {
          "output_type": "display_data",
          "data": {
            "image/png": "[encoded data removed]",
            "text/plain": [
              "<Figure size 720x576 with 2 Axes>"
            ]
          },
          "metadata": {
            "tags": []
          }
        }
      ]
    }
  ]
}