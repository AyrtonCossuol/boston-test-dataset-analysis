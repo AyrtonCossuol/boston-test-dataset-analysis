{
  "nbformat": 4,
  "nbformat_minor": 0,
  "metadata": {
    "colab": {
      "name": "regressao_linear_casas.ipynb",
      "provenance": []
    },
    "kernelspec": {
      "name": "python3",
      "display_name": "Python 3"
    }
  },
  "cells": [
    {
      "cell_type": "code",
      "metadata": {
        "colab": {
          "base_uri": "https://localhost:8080/"
        },
        "id": "gMba4edooMHB",
        "outputId": "d930a85f-d213-47f4-897f-c50fa250a8ce"
      },
      "source": [
        "from google.colab import drive\r\n",
        "drive.mount('/content/drive')"
      ],
      "execution_count": 1,
      "outputs": [
        {
          "output_type": "stream",
          "text": [
            "Drive already mounted at /content/drive; to attempt to forcibly remount, call drive.mount(\"/content/drive\", force_remount=True).\n"
          ],
          "name": "stdout"
        }
      ]
    },
    {
      "cell_type": "markdown",
      "metadata": {
        "id": "9tHZhpbGojat"
      },
      "source": [
        "# 1 - Importação das bibliotecas"
      ]
    },
    {
      "cell_type": "code",
      "metadata": {
        "id": "y_kuwmKpobnk"
      },
      "source": [
        "import pandas as pd\r\n",
        "\r\n",
        "import matplotlib.pyplot as plt\r\n",
        "\r\n",
        "from sklearn.model_selection import train_test_split\r\n",
        "from sklearn.linear_model import LinearRegression\r\n",
        "from sklearn.metrics import mean_absolute_error, mean_squared_error\r\n",
        "from sklearn.preprocessing import PolynomialFeatures\r\n",
        "from sklearn.tree import DecisionTreeRegressor\r\n",
        "from sklearn.ensemble import RandomForestRegressor"
      ],
      "execution_count": 2,
      "outputs": []
    },
    {
      "cell_type": "markdown",
      "metadata": {
        "id": "bU3fyS7bpBMn"
      },
      "source": [
        "# 2 - Importação da base de dados"
      ]
    },
    {
      "cell_type": "code",
      "metadata": {
        "colab": {
          "base_uri": "https://localhost:8080/",
          "height": 0
        },
        "id": "P-eCg0aposJb",
        "outputId": "d7d1db70-b084-4bd8-aef1-814b0a06c0c2"
      },
      "source": [
        "PATH = '/content/drive/MyDrive/Colab Notebooks/Machine Learning e Data Science com Python de A a Z/Estudo regressao/house_prices.csv'\r\n",
        "base = pd.read_csv(PATH)\r\n",
        "base.head()"
      ],
      "execution_count": 3,
      "outputs": [
        {
          "output_type": "execute_result",
          "data": {
            "text/html": [
              "<div>\n",
              "<style scoped>\n",
              "    .dataframe tbody tr th:only-of-type {\n",
              "        vertical-align: middle;\n",
              "    }\n",
              "\n",
              "    .dataframe tbody tr th {\n",
              "        vertical-align: top;\n",
              "    }\n",
              "\n",
              "    .dataframe thead th {\n",
              "        text-align: right;\n",
              "    }\n",
              "</style>\n",
              "<table border=\"1\" class=\"dataframe\">\n",
              "  <thead>\n",
              "    <tr style=\"text-align: right;\">\n",
              "      <th></th>\n",
              "      <th>id</th>\n",
              "      <th>date</th>\n",
              "      <th>price</th>\n",
              "      <th>bedrooms</th>\n",
              "      <th>bathrooms</th>\n",
              "      <th>sqft_living</th>\n",
              "      <th>sqft_lot</th>\n",
              "      <th>floors</th>\n",
              "      <th>waterfront</th>\n",
              "      <th>view</th>\n",
              "      <th>condition</th>\n",
              "      <th>grade</th>\n",
              "      <th>sqft_above</th>\n",
              "      <th>sqft_basement</th>\n",
              "      <th>yr_built</th>\n",
              "      <th>yr_renovated</th>\n",
              "      <th>zipcode</th>\n",
              "      <th>lat</th>\n",
              "      <th>long</th>\n",
              "      <th>sqft_living15</th>\n",
              "      <th>sqft_lot15</th>\n",
              "    </tr>\n",
              "  </thead>\n",
              "  <tbody>\n",
              "    <tr>\n",
              "      <th>0</th>\n",
              "      <td>7129300520</td>\n",
              "      <td>20141013T000000</td>\n",
              "      <td>221900.0</td>\n",
              "      <td>3</td>\n",
              "      <td>1.00</td>\n",
              "      <td>1180</td>\n",
              "      <td>5650</td>\n",
              "      <td>1.0</td>\n",
              "      <td>0</td>\n",
              "      <td>0</td>\n",
              "      <td>3</td>\n",
              "      <td>7</td>\n",
              "      <td>1180</td>\n",
              "      <td>0</td>\n",
              "      <td>1955</td>\n",
              "      <td>0</td>\n",
              "      <td>98178</td>\n",
              "      <td>47.5112</td>\n",
              "      <td>-122.257</td>\n",
              "      <td>1340</td>\n",
              "      <td>5650</td>\n",
              "    </tr>\n",
              "    <tr>\n",
              "      <th>1</th>\n",
              "      <td>6414100192</td>\n",
              "      <td>20141209T000000</td>\n",
              "      <td>538000.0</td>\n",
              "      <td>3</td>\n",
              "      <td>2.25</td>\n",
              "      <td>2570</td>\n",
              "      <td>7242</td>\n",
              "      <td>2.0</td>\n",
              "      <td>0</td>\n",
              "      <td>0</td>\n",
              "      <td>3</td>\n",
              "      <td>7</td>\n",
              "      <td>2170</td>\n",
              "      <td>400</td>\n",
              "      <td>1951</td>\n",
              "      <td>1991</td>\n",
              "      <td>98125</td>\n",
              "      <td>47.7210</td>\n",
              "      <td>-122.319</td>\n",
              "      <td>1690</td>\n",
              "      <td>7639</td>\n",
              "    </tr>\n",
              "    <tr>\n",
              "      <th>2</th>\n",
              "      <td>5631500400</td>\n",
              "      <td>20150225T000000</td>\n",
              "      <td>180000.0</td>\n",
              "      <td>2</td>\n",
              "      <td>1.00</td>\n",
              "      <td>770</td>\n",
              "      <td>10000</td>\n",
              "      <td>1.0</td>\n",
              "      <td>0</td>\n",
              "      <td>0</td>\n",
              "      <td>3</td>\n",
              "      <td>6</td>\n",
              "      <td>770</td>\n",
              "      <td>0</td>\n",
              "      <td>1933</td>\n",
              "      <td>0</td>\n",
              "      <td>98028</td>\n",
              "      <td>47.7379</td>\n",
              "      <td>-122.233</td>\n",
              "      <td>2720</td>\n",
              "      <td>8062</td>\n",
              "    </tr>\n",
              "    <tr>\n",
              "      <th>3</th>\n",
              "      <td>2487200875</td>\n",
              "      <td>20141209T000000</td>\n",
              "      <td>604000.0</td>\n",
              "      <td>4</td>\n",
              "      <td>3.00</td>\n",
              "      <td>1960</td>\n",
              "      <td>5000</td>\n",
              "      <td>1.0</td>\n",
              "      <td>0</td>\n",
              "      <td>0</td>\n",
              "      <td>5</td>\n",
              "      <td>7</td>\n",
              "      <td>1050</td>\n",
              "      <td>910</td>\n",
              "      <td>1965</td>\n",
              "      <td>0</td>\n",
              "      <td>98136</td>\n",
              "      <td>47.5208</td>\n",
              "      <td>-122.393</td>\n",
              "      <td>1360</td>\n",
              "      <td>5000</td>\n",
              "    </tr>\n",
              "    <tr>\n",
              "      <th>4</th>\n",
              "      <td>1954400510</td>\n",
              "      <td>20150218T000000</td>\n",
              "      <td>510000.0</td>\n",
              "      <td>3</td>\n",
              "      <td>2.00</td>\n",
              "      <td>1680</td>\n",
              "      <td>8080</td>\n",
              "      <td>1.0</td>\n",
              "      <td>0</td>\n",
              "      <td>0</td>\n",
              "      <td>3</td>\n",
              "      <td>8</td>\n",
              "      <td>1680</td>\n",
              "      <td>0</td>\n",
              "      <td>1987</td>\n",
              "      <td>0</td>\n",
              "      <td>98074</td>\n",
              "      <td>47.6168</td>\n",
              "      <td>-122.045</td>\n",
              "      <td>1800</td>\n",
              "      <td>7503</td>\n",
              "    </tr>\n",
              "  </tbody>\n",
              "</table>\n",
              "</div>"
            ],
            "text/plain": [
              "           id             date     price  ...     long  sqft_living15  sqft_lot15\n",
              "0  7129300520  20141013T000000  221900.0  ... -122.257           1340        5650\n",
              "1  6414100192  20141209T000000  538000.0  ... -122.319           1690        7639\n",
              "2  5631500400  20150225T000000  180000.0  ... -122.233           2720        8062\n",
              "3  2487200875  20141209T000000  604000.0  ... -122.393           1360        5000\n",
              "4  1954400510  20150218T000000  510000.0  ... -122.045           1800        7503\n",
              "\n",
              "[5 rows x 21 columns]"
            ]
          },
          "metadata": {
            "tags": []
          },
          "execution_count": 3
        }
      ]
    },
    {
      "cell_type": "markdown",
      "metadata": {
        "id": "TY0yxqahpLR1"
      },
      "source": [
        "# 3 - Processamento e Modelo linear"
      ]
    },
    {
      "cell_type": "markdown",
      "metadata": {
        "id": "ye79blrRx11Z"
      },
      "source": [
        "## 3.1 - Selecionando as colunas e separando o dataset"
      ]
    },
    {
      "cell_type": "code",
      "metadata": {
        "id": "6yxToOqXo5Kq"
      },
      "source": [
        "X = base.iloc[:, 5:6].values\r\n",
        "y = base.iloc[:, 2].values"
      ],
      "execution_count": 4,
      "outputs": []
    },
    {
      "cell_type": "code",
      "metadata": {
        "colab": {
          "base_uri": "https://localhost:8080/"
        },
        "id": "SbSk6bZ5pXdI",
        "outputId": "6f1c7316-5175-4489-c124-ccce2d8b7f1c"
      },
      "source": [
        "X_treinamento, X_teste, y_treinamento, y_teste = train_test_split(X, y, test_size = 0.3, random_state = 0)\r\n",
        "print('Tamanho X de treinamento: ', X_treinamento.shape[0])\r\n",
        "print('Tamanho X de teste:       ', X_teste.shape[0])\r\n",
        "print('Tamanho y de treinamento: ', y_treinamento.shape[0])\r\n",
        "print('Tamanho y de teste:       ', y_teste.shape[0])"
      ],
      "execution_count": 5,
      "outputs": [
        {
          "output_type": "stream",
          "text": [
            "Tamanho X de treinamento:  15129\n",
            "Tamanho X de teste:        6484\n",
            "Tamanho y de treinamento:  15129\n",
            "Tamanho y de teste:        6484\n"
          ],
          "name": "stdout"
        }
      ]
    },
    {
      "cell_type": "markdown",
      "metadata": {
        "id": "q6hYuLnVyDkp"
      },
      "source": [
        "## 3.2 - Criando o modelo e analizando os resultados"
      ]
    },
    {
      "cell_type": "code",
      "metadata": {
        "colab": {
          "base_uri": "https://localhost:8080/"
        },
        "id": "cqQ4Yif8pySh",
        "outputId": "d4231600-54ec-4708-f357-dd32601185f3"
      },
      "source": [
        "regressor = LinearRegression()\r\n",
        "regressor.fit(X_treinamento, y_treinamento)"
      ],
      "execution_count": 6,
      "outputs": [
        {
          "output_type": "execute_result",
          "data": {
            "text/plain": [
              "LinearRegression(copy_X=True, fit_intercept=True, n_jobs=None, normalize=False)"
            ]
          },
          "metadata": {
            "tags": []
          },
          "execution_count": 6
        }
      ]
    },
    {
      "cell_type": "code",
      "metadata": {
        "colab": {
          "base_uri": "https://localhost:8080/"
        },
        "id": "Ey4tLfMmqNw3",
        "outputId": "df9ec778-6018-48e8-cda0-b9f28a254d72"
      },
      "source": [
        "score = regressor.score(X_treinamento, y_treinamento)\r\n",
        "score"
      ],
      "execution_count": 7,
      "outputs": [
        {
          "output_type": "execute_result",
          "data": {
            "text/plain": [
              "0.49453356717789776"
            ]
          },
          "metadata": {
            "tags": []
          },
          "execution_count": 7
        }
      ]
    },
    {
      "cell_type": "code",
      "metadata": {
        "colab": {
          "base_uri": "https://localhost:8080/",
          "height": 276
        },
        "id": "M93pU1KTqTWM",
        "outputId": "3ee0730e-dc3f-4e21-f7e2-ea80ecd32c6d"
      },
      "source": [
        "plt.scatter(X_treinamento, y_treinamento)\r\n",
        "plt.plot(X_treinamento, regressor.predict(X_treinamento), color = 'red')\r\n",
        "plt.show()"
      ],
      "execution_count": 8,
      "outputs": [
        {
          "output_type": "display_data",
          "data": {
            "image/png": "[encoded data removed]",
            "text/plain": [
              "<Figure size 432x288 with 1 Axes>"
            ]
          },
          "metadata": {
            "tags": [],
            "needs_background": "light"
          }
        }
      ]
    },
    {
      "cell_type": "code",
      "metadata": {
        "colab": {
          "base_uri": "https://localhost:8080/"
        },
        "id": "aokz7F4uqdEt",
        "outputId": "f79df4b0-6d38-40ab-e0e7-8f5029e9102c"
      },
      "source": [
        "previsoes = regressor.predict(X_teste)\r\n",
        "previsoes"
      ],
      "execution_count": 9,
      "outputs": [
        {
          "output_type": "execute_result",
          "data": {
            "text/plain": [
              "array([ 360116.30871034, 1261900.99358095,  362899.59477476, ...,\n",
              "        560512.90534826,  374032.73903242,  329500.16200177])"
            ]
          },
          "metadata": {
            "tags": []
          },
          "execution_count": 9
        }
      ]
    },
    {
      "cell_type": "code",
      "metadata": {
        "colab": {
          "base_uri": "https://localhost:8080/"
        },
        "id": "ERb4q5Znqza1",
        "outputId": "e46f3699-8faf-42e8-8279-49940c5d7913"
      },
      "source": [
        "resultado = abs(y_teste - previsoes)\r\n",
        "resultado"
      ],
      "execution_count": 10,
      "outputs": [
        {
          "output_type": "execute_result",
          "data": {
            "text/plain": [
              "array([ 63116.30871034, 316099.00641905, 199200.40522524, ...,\n",
              "       180512.90534826, 106032.73903242, 123500.16200177])"
            ]
          },
          "metadata": {
            "tags": []
          },
          "execution_count": 10
        }
      ]
    },
    {
      "cell_type": "code",
      "metadata": {
        "colab": {
          "base_uri": "https://localhost:8080/"
        },
        "id": "wAu3wdjqq6yv",
        "outputId": "b032b6c0-acb4-42b1-fb7b-7f2850417517"
      },
      "source": [
        "# A média de erro do modelo\r\n",
        "resultado.mean()"
      ],
      "execution_count": 11,
      "outputs": [
        {
          "output_type": "execute_result",
          "data": {
            "text/plain": [
              "172604.1288999542"
            ]
          },
          "metadata": {
            "tags": []
          },
          "execution_count": 11
        }
      ]
    },
    {
      "cell_type": "code",
      "metadata": {
        "colab": {
          "base_uri": "https://localhost:8080/"
        },
        "id": "HBKco6-Hq_je",
        "outputId": "a9b8c9a3-7c36-4a88-dd4a-f684c6233080"
      },
      "source": [
        "mae = mean_absolute_error(y_teste, previsoes)\r\n",
        "mae"
      ],
      "execution_count": 12,
      "outputs": [
        {
          "output_type": "execute_result",
          "data": {
            "text/plain": [
              "172604.1288999542"
            ]
          },
          "metadata": {
            "tags": []
          },
          "execution_count": 12
        }
      ]
    },
    {
      "cell_type": "code",
      "metadata": {
        "colab": {
          "base_uri": "https://localhost:8080/"
        },
        "id": "FoCH8j4TrxtO",
        "outputId": "975ec233-ec68-4de0-e013-fc303d2e3885"
      },
      "source": [
        "mse = mean_squared_error(y_teste, previsoes)\r\n",
        "mse"
      ],
      "execution_count": 13,
      "outputs": [
        {
          "output_type": "execute_result",
          "data": {
            "text/plain": [
              "70170013932.1159"
            ]
          },
          "metadata": {
            "tags": []
          },
          "execution_count": 13
        }
      ]
    },
    {
      "cell_type": "code",
      "metadata": {
        "colab": {
          "base_uri": "https://localhost:8080/",
          "height": 276
        },
        "id": "akU8fn1fr7VI",
        "outputId": "275e3b1c-c4aa-47e3-efea-2074a2ee3434"
      },
      "source": [
        "plt.scatter(X_teste, y_teste)\r\n",
        "plt.plot(X_teste, regressor.predict(X_teste), color = 'red')\r\n",
        "plt.show()"
      ],
      "execution_count": 14,
      "outputs": [
        {
          "output_type": "display_data",
          "data": {
            "image/png": "[encoded data removed]",
            "text/plain": [
              "<Figure size 432x288 with 1 Axes>"
            ]
          },
          "metadata": {
            "tags": [],
            "needs_background": "light"
          }
        }
      ]
    },
    {
      "cell_type": "markdown",
      "metadata": {
        "id": "f22BWvQQyNEe"
      },
      "source": [
        "# 4 - Processamento e Modelo não linear"
      ]
    },
    {
      "cell_type": "markdown",
      "metadata": {
        "id": "eYsBgj6By9RP"
      },
      "source": [
        "## 4.1 - Selecionando as colunas e separando o dataset"
      ]
    },
    {
      "cell_type": "code",
      "metadata": {
        "id": "UQOLthlcs8z5"
      },
      "source": [
        "X = base.iloc[:, 3:19].values\r\n",
        "y = base.iloc[:, 2].values"
      ],
      "execution_count": 15,
      "outputs": []
    },
    {
      "cell_type": "code",
      "metadata": {
        "colab": {
          "base_uri": "https://localhost:8080/"
        },
        "id": "WqwUVTwVudcl",
        "outputId": "2b59c6bb-76cf-4b7e-eee8-ccf261dd6730"
      },
      "source": [
        "X_treinamento, X_teste, y_treinamento, y_teste = train_test_split(X, y, test_size = 0.3, random_state = 0)\r\n",
        "print('Tamanho X de treinamento: ', X_treinamento.shape[0])\r\n",
        "print('Tamanho X de teste:       ', X_teste.shape[0])\r\n",
        "print('Tamanho y de treinamento: ', y_treinamento.shape[0])\r\n",
        "print('Tamanho y de teste:       ', y_teste.shape[0])"
      ],
      "execution_count": 16,
      "outputs": [
        {
          "output_type": "stream",
          "text": [
            "Tamanho X de treinamento:  15129\n",
            "Tamanho X de teste:        6484\n",
            "Tamanho y de treinamento:  15129\n",
            "Tamanho y de teste:        6484\n"
          ],
          "name": "stdout"
        }
      ]
    },
    {
      "cell_type": "markdown",
      "metadata": {
        "id": "KtgWQT-uzE1-"
      },
      "source": [
        "## 4.2 - Criando o modelo e analizando os resultados"
      ]
    },
    {
      "cell_type": "code",
      "metadata": {
        "colab": {
          "base_uri": "https://localhost:8080/"
        },
        "id": "8FtDlDYQul5G",
        "outputId": "60687b05-f75d-4d22-8e30-7cf6be619840"
      },
      "source": [
        "regressor = LinearRegression()\r\n",
        "regressor.fit(X_treinamento, y_treinamento)"
      ],
      "execution_count": 17,
      "outputs": [
        {
          "output_type": "execute_result",
          "data": {
            "text/plain": [
              "LinearRegression(copy_X=True, fit_intercept=True, n_jobs=None, normalize=False)"
            ]
          },
          "metadata": {
            "tags": []
          },
          "execution_count": 17
        }
      ]
    },
    {
      "cell_type": "code",
      "metadata": {
        "colab": {
          "base_uri": "https://localhost:8080/"
        },
        "id": "yS3YEoImuveG",
        "outputId": "6c547797-bc8e-4bff-d00d-04f63d9d5846"
      },
      "source": [
        "score = regressor.score(X_treinamento, y_treinamento)\r\n",
        "score"
      ],
      "execution_count": 18,
      "outputs": [
        {
          "output_type": "execute_result",
          "data": {
            "text/plain": [
              "0.7029888085955007"
            ]
          },
          "metadata": {
            "tags": []
          },
          "execution_count": 18
        }
      ]
    },
    {
      "cell_type": "code",
      "metadata": {
        "id": "urXcU9pNuzk8"
      },
      "source": [
        "previsoes = regressor.predict(X_teste)"
      ],
      "execution_count": 19,
      "outputs": []
    },
    {
      "cell_type": "code",
      "metadata": {
        "colab": {
          "base_uri": "https://localhost:8080/"
        },
        "id": "dWyPfJVtu6Sm",
        "outputId": "ff987e8f-17cd-4f8b-d48e-496416723736"
      },
      "source": [
        "mae = mean_absolute_error(y_teste, previsoes)\r\n",
        "mae"
      ],
      "execution_count": 20,
      "outputs": [
        {
          "output_type": "execute_result",
          "data": {
            "text/plain": [
              "123888.44377485772"
            ]
          },
          "metadata": {
            "tags": []
          },
          "execution_count": 20
        }
      ]
    },
    {
      "cell_type": "markdown",
      "metadata": {
        "id": "bW4UAgSbMEfF"
      },
      "source": [
        "## 4.3 - Criando o modelo de regressão polinomial"
      ]
    },
    {
      "cell_type": "code",
      "metadata": {
        "id": "UmrxW26gMION"
      },
      "source": [
        "poly = PolynomialFeatures(degree=2)"
      ],
      "execution_count": 21,
      "outputs": []
    },
    {
      "cell_type": "code",
      "metadata": {
        "id": "F3ov4TljML9A"
      },
      "source": [
        "X_treinamento_poly = poly.fit_transform(X_treinamento)"
      ],
      "execution_count": 22,
      "outputs": []
    },
    {
      "cell_type": "code",
      "metadata": {
        "colab": {
          "base_uri": "https://localhost:8080/"
        },
        "id": "80aPgjiqMQzO",
        "outputId": "573c12b6-d7d5-437d-bbeb-6359f0027c66"
      },
      "source": [
        "X_treinamento_poly"
      ],
      "execution_count": 23,
      "outputs": [
        {
          "output_type": "execute_result",
          "data": {
            "text/plain": [
              "array([[ 1.00000000e+00,  4.00000000e+00,  1.50000000e+00, ...,\n",
              "         2.27742746e+03, -5.83797664e+03,  1.49651182e+04],\n",
              "       [ 1.00000000e+00,  3.00000000e+00,  1.50000000e+00, ...,\n",
              "         2.28221176e+03, -5.84491760e+03,  1.49692778e+04],\n",
              "       [ 1.00000000e+00,  5.00000000e+00,  2.75000000e+00, ...,\n",
              "         2.27607235e+03, -5.82536205e+03,  1.49093868e+04],\n",
              "       ...,\n",
              "       [ 1.00000000e+00,  3.00000000e+00,  2.25000000e+00, ...,\n",
              "         2.24539509e+03, -5.78853012e+03,  1.49225770e+04],\n",
              "       [ 1.00000000e+00,  4.00000000e+00,  2.00000000e+00, ...,\n",
              "         2.23569155e+03, -5.78173018e+03,  1.49521538e+04],\n",
              "       [ 1.00000000e+00,  4.00000000e+00,  2.25000000e+00, ...,\n",
              "         2.26695968e+03, -5.81445071e+03,  1.49132944e+04]])"
            ]
          },
          "metadata": {
            "tags": []
          },
          "execution_count": 23
        }
      ]
    },
    {
      "cell_type": "code",
      "metadata": {
        "id": "Pa1OZ5zeMW2I"
      },
      "source": [
        "X_teste_poly = poly.transform(X_teste)"
      ],
      "execution_count": 24,
      "outputs": []
    },
    {
      "cell_type": "code",
      "metadata": {
        "id": "2ao96Wl9McwF"
      },
      "source": [
        "regressor_RP = LinearRegression()"
      ],
      "execution_count": 25,
      "outputs": []
    },
    {
      "cell_type": "code",
      "metadata": {
        "colab": {
          "base_uri": "https://localhost:8080/"
        },
        "id": "C1z2-kTVMhBK",
        "outputId": "90ba175e-8f99-4cc5-d8e7-f2c5cce77617"
      },
      "source": [
        "regressor_RP.fit(X_treinamento_poly, y_treinamento)"
      ],
      "execution_count": 26,
      "outputs": [
        {
          "output_type": "execute_result",
          "data": {
            "text/plain": [
              "LinearRegression(copy_X=True, fit_intercept=True, n_jobs=None, normalize=False)"
            ]
          },
          "metadata": {
            "tags": []
          },
          "execution_count": 26
        }
      ]
    },
    {
      "cell_type": "code",
      "metadata": {
        "colab": {
          "base_uri": "https://localhost:8080/"
        },
        "id": "yluKB9ruMlMr",
        "outputId": "34070807-7bb9-447c-964c-87ab24fff4da"
      },
      "source": [
        "score = regressor_RP.score(X_treinamento_poly, y_treinamento)\r\n",
        "score"
      ],
      "execution_count": 27,
      "outputs": [
        {
          "output_type": "execute_result",
          "data": {
            "text/plain": [
              "0.817937209116416"
            ]
          },
          "metadata": {
            "tags": []
          },
          "execution_count": 27
        }
      ]
    },
    {
      "cell_type": "code",
      "metadata": {
        "id": "e87a0iNDMrOC"
      },
      "source": [
        "previsoes_RP = regressor_RP.predict(X_teste_poly)"
      ],
      "execution_count": 28,
      "outputs": []
    },
    {
      "cell_type": "code",
      "metadata": {
        "colab": {
          "base_uri": "https://localhost:8080/"
        },
        "id": "YQEd-cGHM0Bj",
        "outputId": "59c3ae9b-0ecb-40fb-8a4c-db029c339ac7"
      },
      "source": [
        "mae = mean_absolute_error(y_teste, previsoes_RP)\r\n",
        "mae"
      ],
      "execution_count": 29,
      "outputs": [
        {
          "output_type": "execute_result",
          "data": {
            "text/plain": [
              "101225.53413948139"
            ]
          },
          "metadata": {
            "tags": []
          },
          "execution_count": 29
        }
      ]
    },
    {
      "cell_type": "markdown",
      "metadata": {
        "id": "6q-H45oEQpDP"
      },
      "source": [
        "## 4.4 - Criando um modelo de regressão usando árvore de decisão"
      ]
    },
    {
      "cell_type": "code",
      "metadata": {
        "id": "sfiJH9GCOdK6"
      },
      "source": [
        "regressor_DT = DecisionTreeRegressor()"
      ],
      "execution_count": 30,
      "outputs": []
    },
    {
      "cell_type": "code",
      "metadata": {
        "colab": {
          "base_uri": "https://localhost:8080/"
        },
        "id": "oZ-GA93OREXj",
        "outputId": "30445f9b-10b1-4be6-cf05-180e8ae9aaa7"
      },
      "source": [
        "regressor_DT.fit(X_treinamento, y_treinamento)"
      ],
      "execution_count": 31,
      "outputs": [
        {
          "output_type": "execute_result",
          "data": {
            "text/plain": [
              "DecisionTreeRegressor(ccp_alpha=0.0, criterion='mse', max_depth=None,\n",
              "                      max_features=None, max_leaf_nodes=None,\n",
              "                      min_impurity_decrease=0.0, min_impurity_split=None,\n",
              "                      min_samples_leaf=1, min_samples_split=2,\n",
              "                      min_weight_fraction_leaf=0.0, presort='deprecated',\n",
              "                      random_state=None, splitter='best')"
            ]
          },
          "metadata": {
            "tags": []
          },
          "execution_count": 31
        }
      ]
    },
    {
      "cell_type": "code",
      "metadata": {
        "colab": {
          "base_uri": "https://localhost:8080/"
        },
        "id": "yzviQw7iRH_S",
        "outputId": "701cd56b-0d1c-41ee-d7af-5b5e89c4a32c"
      },
      "source": [
        "score = regressor_DT.score(X_treinamento, y_treinamento)\r\n",
        "score"
      ],
      "execution_count": 32,
      "outputs": [
        {
          "output_type": "execute_result",
          "data": {
            "text/plain": [
              "0.9992712177726063"
            ]
          },
          "metadata": {
            "tags": []
          },
          "execution_count": 32
        }
      ]
    },
    {
      "cell_type": "code",
      "metadata": {
        "id": "ozhLxe70RNOj"
      },
      "source": [
        "previsoes_DT = regressor_DT.predict(X_teste)"
      ],
      "execution_count": 33,
      "outputs": []
    },
    {
      "cell_type": "code",
      "metadata": {
        "colab": {
          "base_uri": "https://localhost:8080/"
        },
        "id": "fSxBV25MRVGp",
        "outputId": "f2ce602c-f1f8-4f02-e844-bcf504426f65"
      },
      "source": [
        "mae_DT = mean_absolute_error(y_teste, previsoes_DT)\r\n",
        "mae_DT"
      ],
      "execution_count": 34,
      "outputs": [
        {
          "output_type": "execute_result",
          "data": {
            "text/plain": [
              "98619.40607649599"
            ]
          },
          "metadata": {
            "tags": []
          },
          "execution_count": 34
        }
      ]
    },
    {
      "cell_type": "code",
      "metadata": {
        "colab": {
          "base_uri": "https://localhost:8080/"
        },
        "id": "wSzwdzAYRfz7",
        "outputId": "f764b2ab-9052-4cdd-f08c-20ecc3c8faaa"
      },
      "source": [
        "regressor_DT.score(X_teste, y_teste)"
      ],
      "execution_count": 35,
      "outputs": [
        {
          "output_type": "execute_result",
          "data": {
            "text/plain": [
              "0.7273929269070663"
            ]
          },
          "metadata": {
            "tags": []
          },
          "execution_count": 35
        }
      ]
    },
    {
      "cell_type": "markdown",
      "metadata": {
        "id": "t2LdXN7tCXRl"
      },
      "source": [
        "## 4.5 - Criando um modelo de regressão utilizando Random Forest\r\n"
      ]
    },
    {
      "cell_type": "code",
      "metadata": {
        "id": "7TViwdiCRuzb"
      },
      "source": [
        "regressor_RF = RandomForestRegressor(n_estimators=100)"
      ],
      "execution_count": 36,
      "outputs": []
    },
    {
      "cell_type": "code",
      "metadata": {
        "colab": {
          "base_uri": "https://localhost:8080/"
        },
        "id": "zOKmtlmBCoTR",
        "outputId": "c1d60bd5-6cfb-47bb-c43b-b2e49423f888"
      },
      "source": [
        "regressor_RF.fit(X_treinamento, y_treinamento)"
      ],
      "execution_count": 37,
      "outputs": [
        {
          "output_type": "execute_result",
          "data": {
            "text/plain": [
              "RandomForestRegressor(bootstrap=True, ccp_alpha=0.0, criterion='mse',\n",
              "                      max_depth=None, max_features='auto', max_leaf_nodes=None,\n",
              "                      max_samples=None, min_impurity_decrease=0.0,\n",
              "                      min_impurity_split=None, min_samples_leaf=1,\n",
              "                      min_samples_split=2, min_weight_fraction_leaf=0.0,\n",
              "                      n_estimators=100, n_jobs=None, oob_score=False,\n",
              "                      random_state=None, verbose=0, warm_start=False)"
            ]
          },
          "metadata": {
            "tags": []
          },
          "execution_count": 37
        }
      ]
    },
    {
      "cell_type": "code",
      "metadata": {
        "colab": {
          "base_uri": "https://localhost:8080/"
        },
        "id": "Uox51pCoCtIO",
        "outputId": "16f13f45-5fa6-4911-aa88-e916e3dfe663"
      },
      "source": [
        "score = regressor_RF.score(X_treinamento, y_treinamento)\r\n",
        "score"
      ],
      "execution_count": 38,
      "outputs": [
        {
          "output_type": "execute_result",
          "data": {
            "text/plain": [
              "0.9808514852652367"
            ]
          },
          "metadata": {
            "tags": []
          },
          "execution_count": 38
        }
      ]
    },
    {
      "cell_type": "code",
      "metadata": {
        "id": "PW5T4WbzCxzG"
      },
      "source": [
        "previsoes_RF = regressor_RF.predict(X_teste)"
      ],
      "execution_count": 39,
      "outputs": []
    },
    {
      "cell_type": "code",
      "metadata": {
        "colab": {
          "base_uri": "https://localhost:8080/"
        },
        "id": "LxlaSGO8C6CW",
        "outputId": "81039980-c646-44eb-e4e6-391afcecb0e2"
      },
      "source": [
        "mae_RF = mean_absolute_error(y_teste, previsoes_RF)\r\n",
        "mae_RF"
      ],
      "execution_count": 40,
      "outputs": [
        {
          "output_type": "execute_result",
          "data": {
            "text/plain": [
              "67983.01586376232"
            ]
          },
          "metadata": {
            "tags": []
          },
          "execution_count": 40
        }
      ]
    },
    {
      "cell_type": "code",
      "metadata": {
        "colab": {
          "base_uri": "https://localhost:8080/"
        },
        "id": "9t3psPxRDDtJ",
        "outputId": "bcc309d0-25ca-42db-f3ae-b20356cb480b"
      },
      "source": [
        "regressor_RF.score(X_teste, y_teste)"
      ],
      "execution_count": 41,
      "outputs": [
        {
          "output_type": "execute_result",
          "data": {
            "text/plain": [
              "0.880085518275648"
            ]
          },
          "metadata": {
            "tags": []
          },
          "execution_count": 41
        }
      ]
    },
    {
      "cell_type": "code",
      "metadata": {
        "id": "UrI0iur3EQ7F"
      },
      "source": [
        ""
      ],
      "execution_count": 41,
      "outputs": []
    }
  ]
}