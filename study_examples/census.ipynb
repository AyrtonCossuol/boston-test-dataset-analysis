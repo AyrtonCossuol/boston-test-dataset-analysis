{
  "nbformat": 4,
  "nbformat_minor": 0,
  "metadata": {
    "colab": {
      "name": "census.ipynb",
      "provenance": []
    },
    "kernelspec": {
      "name": "python3",
      "display_name": "Python 3"
    }
  },
  "cells": [
    {
      "cell_type": "code",
      "metadata": {
        "colab": {
          "base_uri": "https://localhost:8080/"
        },
        "id": "BaXFy2MjhI2I",
        "outputId": "f4213b87-07a1-465c-9a13-c92fd70cc53d"
      },
      "source": [
        "from google.colab import drive\n",
        "drive.mount('/content/drive')"
      ],
      "execution_count": 1,
      "outputs": [
        {
          "output_type": "stream",
          "text": [
            "Drive already mounted at /content/drive; to attempt to forcibly remount, call drive.mount(\"/content/drive\", force_remount=True).\n"
          ],
          "name": "stdout"
        }
      ]
    },
    {
      "cell_type": "markdown",
      "metadata": {
        "id": "RANA_44xh6ij"
      },
      "source": [
        "# 1 - Importação das bibliotecas"
      ]
    },
    {
      "cell_type": "code",
      "metadata": {
        "id": "6H2DDuT8hevy"
      },
      "source": [
        "import pandas as pd\r\n",
        "\r\n",
        "import matplotlib.pyplot as plt\r\n",
        "\r\n",
        "from sklearn.preprocessing import LabelEncoder, OneHotEncoder\r\n",
        "from sklearn.preprocessing import StandardScaler\r\n",
        "\r\n",
        "from sklearn.model_selection import train_test_split\r\n",
        "import collections\r\n",
        "from sklearn.linear_model import LogisticRegression\r\n",
        "from sklearn.naive_bayes import GaussianNB\r\n",
        "from sklearn.metrics import classification_report, confusion_matrix, plot_confusion_matrix\r\n",
        "from sklearn.tree import DecisionTreeClassifier, export_graphviz\r\n",
        "import pydotplus\r\n",
        "from sklearn.ensemble import RandomForestClassifier\r\n",
        "from sklearn.neighbors import KNeighborsClassifier"
      ],
      "execution_count": 2,
      "outputs": []
    },
    {
      "cell_type": "markdown",
      "metadata": {
        "id": "sfYphrfJf1FW"
      },
      "source": [
        "# 2 - Importação dos dados"
      ]
    },
    {
      "cell_type": "code",
      "metadata": {
        "colab": {
          "base_uri": "https://localhost:8080/",
          "height": 0
        },
        "id": "oogGU3DniL5q",
        "outputId": "605e5376-20df-400d-c49d-1aa7165fb422"
      },
      "source": [
        "PATH = '/content/drive/MyDrive/Colab Notebooks/Machine Learning e Data Science com Python de A a Z/Estudo geral/census.csv'\n",
        "base = pd.read_csv(PATH)\n",
        "base.head()"
      ],
      "execution_count": 3,
      "outputs": [
        {
          "output_type": "execute_result",
          "data": {
            "text/html": [
              "<div>\n",
              "<style scoped>\n",
              "    .dataframe tbody tr th:only-of-type {\n",
              "        vertical-align: middle;\n",
              "    }\n",
              "\n",
              "    .dataframe tbody tr th {\n",
              "        vertical-align: top;\n",
              "    }\n",
              "\n",
              "    .dataframe thead th {\n",
              "        text-align: right;\n",
              "    }\n",
              "</style>\n",
              "<table border=\"1\" class=\"dataframe\">\n",
              "  <thead>\n",
              "    <tr style=\"text-align: right;\">\n",
              "      <th></th>\n",
              "      <th>age</th>\n",
              "      <th>workclass</th>\n",
              "      <th>final-weight</th>\n",
              "      <th>education</th>\n",
              "      <th>education-num</th>\n",
              "      <th>marital-status</th>\n",
              "      <th>occupation</th>\n",
              "      <th>relationship</th>\n",
              "      <th>race</th>\n",
              "      <th>sex</th>\n",
              "      <th>capital-gain</th>\n",
              "      <th>capital-loos</th>\n",
              "      <th>hour-per-week</th>\n",
              "      <th>native-country</th>\n",
              "      <th>income</th>\n",
              "    </tr>\n",
              "  </thead>\n",
              "  <tbody>\n",
              "    <tr>\n",
              "      <th>0</th>\n",
              "      <td>39</td>\n",
              "      <td>State-gov</td>\n",
              "      <td>77516</td>\n",
              "      <td>Bachelors</td>\n",
              "      <td>13</td>\n",
              "      <td>Never-married</td>\n",
              "      <td>Adm-clerical</td>\n",
              "      <td>Not-in-family</td>\n",
              "      <td>White</td>\n",
              "      <td>Male</td>\n",
              "      <td>2174</td>\n",
              "      <td>0</td>\n",
              "      <td>40</td>\n",
              "      <td>United-States</td>\n",
              "      <td>&lt;=50K</td>\n",
              "    </tr>\n",
              "    <tr>\n",
              "      <th>1</th>\n",
              "      <td>50</td>\n",
              "      <td>Self-emp-not-inc</td>\n",
              "      <td>83311</td>\n",
              "      <td>Bachelors</td>\n",
              "      <td>13</td>\n",
              "      <td>Married-civ-spouse</td>\n",
              "      <td>Exec-managerial</td>\n",
              "      <td>Husband</td>\n",
              "      <td>White</td>\n",
              "      <td>Male</td>\n",
              "      <td>0</td>\n",
              "      <td>0</td>\n",
              "      <td>13</td>\n",
              "      <td>United-States</td>\n",
              "      <td>&lt;=50K</td>\n",
              "    </tr>\n",
              "    <tr>\n",
              "      <th>2</th>\n",
              "      <td>38</td>\n",
              "      <td>Private</td>\n",
              "      <td>215646</td>\n",
              "      <td>HS-grad</td>\n",
              "      <td>9</td>\n",
              "      <td>Divorced</td>\n",
              "      <td>Handlers-cleaners</td>\n",
              "      <td>Not-in-family</td>\n",
              "      <td>White</td>\n",
              "      <td>Male</td>\n",
              "      <td>0</td>\n",
              "      <td>0</td>\n",
              "      <td>40</td>\n",
              "      <td>United-States</td>\n",
              "      <td>&lt;=50K</td>\n",
              "    </tr>\n",
              "    <tr>\n",
              "      <th>3</th>\n",
              "      <td>53</td>\n",
              "      <td>Private</td>\n",
              "      <td>234721</td>\n",
              "      <td>11th</td>\n",
              "      <td>7</td>\n",
              "      <td>Married-civ-spouse</td>\n",
              "      <td>Handlers-cleaners</td>\n",
              "      <td>Husband</td>\n",
              "      <td>Black</td>\n",
              "      <td>Male</td>\n",
              "      <td>0</td>\n",
              "      <td>0</td>\n",
              "      <td>40</td>\n",
              "      <td>United-States</td>\n",
              "      <td>&lt;=50K</td>\n",
              "    </tr>\n",
              "    <tr>\n",
              "      <th>4</th>\n",
              "      <td>28</td>\n",
              "      <td>Private</td>\n",
              "      <td>338409</td>\n",
              "      <td>Bachelors</td>\n",
              "      <td>13</td>\n",
              "      <td>Married-civ-spouse</td>\n",
              "      <td>Prof-specialty</td>\n",
              "      <td>Wife</td>\n",
              "      <td>Black</td>\n",
              "      <td>Female</td>\n",
              "      <td>0</td>\n",
              "      <td>0</td>\n",
              "      <td>40</td>\n",
              "      <td>Cuba</td>\n",
              "      <td>&lt;=50K</td>\n",
              "    </tr>\n",
              "  </tbody>\n",
              "</table>\n",
              "</div>"
            ],
            "text/plain": [
              "   age          workclass  final-weight  ... hour-per-week  native-country  income\n",
              "0   39          State-gov         77516  ...            40   United-States   <=50K\n",
              "1   50   Self-emp-not-inc         83311  ...            13   United-States   <=50K\n",
              "2   38            Private        215646  ...            40   United-States   <=50K\n",
              "3   53            Private        234721  ...            40   United-States   <=50K\n",
              "4   28            Private        338409  ...            40            Cuba   <=50K\n",
              "\n",
              "[5 rows x 15 columns]"
            ]
          },
          "metadata": {
            "tags": []
          },
          "execution_count": 3
        }
      ]
    },
    {
      "cell_type": "code",
      "metadata": {
        "colab": {
          "base_uri": "https://localhost:8080/"
        },
        "id": "DOfXhOVLiL75",
        "outputId": "0dde1e8c-6bdb-4d4b-e6f9-786fa5e800bf"
      },
      "source": [
        "base.info()"
      ],
      "execution_count": 4,
      "outputs": [
        {
          "output_type": "stream",
          "text": [
            "<class 'pandas.core.frame.DataFrame'>\n",
            "RangeIndex: 32561 entries, 0 to 32560\n",
            "Data columns (total 15 columns):\n",
            " #   Column          Non-Null Count  Dtype \n",
            "---  ------          --------------  ----- \n",
            " 0   age             32561 non-null  int64 \n",
            " 1   workclass       32561 non-null  object\n",
            " 2   final-weight    32561 non-null  int64 \n",
            " 3   education       32561 non-null  object\n",
            " 4   education-num   32561 non-null  int64 \n",
            " 5   marital-status  32561 non-null  object\n",
            " 6   occupation      32561 non-null  object\n",
            " 7   relationship    32561 non-null  object\n",
            " 8   race            32561 non-null  object\n",
            " 9   sex             32561 non-null  object\n",
            " 10  capital-gain    32561 non-null  int64 \n",
            " 11  capital-loos    32561 non-null  int64 \n",
            " 12  hour-per-week   32561 non-null  int64 \n",
            " 13  native-country  32561 non-null  object\n",
            " 14  income          32561 non-null  object\n",
            "dtypes: int64(6), object(9)\n",
            "memory usage: 3.7+ MB\n"
          ],
          "name": "stdout"
        }
      ]
    },
    {
      "cell_type": "markdown",
      "metadata": {
        "id": "xE0Em9QihzKJ"
      },
      "source": [
        "# 3 - Dicionario de dados\n"
      ]
    },
    {
      "cell_type": "markdown",
      "metadata": {
        "id": "50_mz0fZ2Xx0"
      },
      "source": [
        "Detalhes:\n",
        "- age: idade (Variável numérica discreta)\n",
        " \n",
        "- workclass: tipo de emprego (Variável categórica nominal)\n",
        " \n",
        "- final-weight: característica demográfica/socioeconômica (Variável numérica discreta)\n",
        " \n",
        "- education: tipo de educação (Variável categórica ordinal)\n",
        " \n",
        "- education-num: quantidade de anos que a pessoa está estudando (variável numérica discreta)\n",
        " \n",
        "- marital-status: estado civil (Variável categórica ordinal)\n",
        " \n",
        "- occupation: tipo de trabalho (Variável categórica nominal)\n",
        " \n",
        "- relationship: relacionamento (Variável categórica nominal)\n",
        " \n",
        "- race: raça (Variável categórica nominal)\n",
        " \n",
        "- sex: sexo (Variavel categórica nominal)\n",
        " \n",
        "- capital-gain: ganho de capital (Variável numérica contínua)\n",
        " \n",
        "- capital-loss: perda de capital (Variável numérica contínua)\n",
        " \n",
        "- hour-per-week: horas de trabalho por semana (Variável numérica discreta)\n",
        " \n",
        "- native-country: nacionalidade (Variável categórica nominal)\n",
        " \n",
        "- income: renda (Variável categórica nominal)\n"
      ]
    },
    {
      "cell_type": "markdown",
      "metadata": {
        "id": "2UWVZipdii8z"
      },
      "source": [
        "# 4 - Pré-processamento \n",
        " "
      ]
    },
    {
      "cell_type": "markdown",
      "metadata": {
        "id": "hSX-ivPB108F"
      },
      "source": [
        "## 4.1 - Separando a base em previsões e classes"
      ]
    },
    {
      "cell_type": "code",
      "metadata": {
        "colab": {
          "base_uri": "https://localhost:8080/"
        },
        "id": "EpkLk6GvilqR",
        "outputId": "316e729a-3fb3-4f72-e935-42f0a197ddd6"
      },
      "source": [
        "previsores = base.iloc[:, 0:14].values\n",
        "previsores"
      ],
      "execution_count": 5,
      "outputs": [
        {
          "output_type": "execute_result",
          "data": {
            "text/plain": [
              "array([[39, ' State-gov', 77516, ..., 0, 40, ' United-States'],\n",
              "       [50, ' Self-emp-not-inc', 83311, ..., 0, 13, ' United-States'],\n",
              "       [38, ' Private', 215646, ..., 0, 40, ' United-States'],\n",
              "       ...,\n",
              "       [58, ' Private', 151910, ..., 0, 40, ' United-States'],\n",
              "       [22, ' Private', 201490, ..., 0, 20, ' United-States'],\n",
              "       [52, ' Self-emp-inc', 287927, ..., 0, 40, ' United-States']],\n",
              "      dtype=object)"
            ]
          },
          "metadata": {
            "tags": []
          },
          "execution_count": 5
        }
      ]
    },
    {
      "cell_type": "code",
      "metadata": {
        "colab": {
          "base_uri": "https://localhost:8080/"
        },
        "id": "Vv3YUrARju7w",
        "outputId": "457537d3-52c4-47bb-a5fa-2d327968575b"
      },
      "source": [
        "classe = base.iloc[:, 14].values\n",
        "classe"
      ],
      "execution_count": 6,
      "outputs": [
        {
          "output_type": "execute_result",
          "data": {
            "text/plain": [
              "array([' <=50K', ' <=50K', ' <=50K', ..., ' <=50K', ' <=50K', ' >50K'],\n",
              "      dtype=object)"
            ]
          },
          "metadata": {
            "tags": []
          },
          "execution_count": 6
        }
      ]
    },
    {
      "cell_type": "markdown",
      "metadata": {
        "id": "b4BvNbuq17O0"
      },
      "source": [
        "## 4.2 - Transformação das variáveis categóricas"
      ]
    },
    {
      "cell_type": "code",
      "metadata": {
        "id": "5JQIW5STkIw-"
      },
      "source": [
        "labelEncoder_previsores = LabelEncoder()"
      ],
      "execution_count": 7,
      "outputs": []
    },
    {
      "cell_type": "code",
      "metadata": {
        "colab": {
          "base_uri": "https://localhost:8080/"
        },
        "id": "cLfHzNNpkYAM",
        "outputId": "43b54948-7d31-4f7b-a08d-1f070406456a"
      },
      "source": [
        "previsores[:, 1] = labelEncoder_previsores.fit_transform(previsores[:, 1])\n",
        "previsores[:, 3] = labelEncoder_previsores.fit_transform(previsores[:, 3])\n",
        "previsores[:, 5] = labelEncoder_previsores.fit_transform(previsores[:, 5])\n",
        "previsores[:, 6] = labelEncoder_previsores.fit_transform(previsores[:, 6])\n",
        "previsores[:, 7] = labelEncoder_previsores.fit_transform(previsores[:, 7])\n",
        "previsores[:, 8] = labelEncoder_previsores.fit_transform(previsores[:, 8])\n",
        "previsores[:, 9] = labelEncoder_previsores.fit_transform(previsores[:, 9])\n",
        "previsores[:, 13] = labelEncoder_previsores.fit_transform(previsores[:, 13])\n",
        "previsores"
      ],
      "execution_count": 8,
      "outputs": [
        {
          "output_type": "execute_result",
          "data": {
            "text/plain": [
              "array([[39, 7, 77516, ..., 0, 40, 39],\n",
              "       [50, 6, 83311, ..., 0, 13, 39],\n",
              "       [38, 4, 215646, ..., 0, 40, 39],\n",
              "       ...,\n",
              "       [58, 4, 151910, ..., 0, 40, 39],\n",
              "       [22, 4, 201490, ..., 0, 20, 39],\n",
              "       [52, 5, 287927, ..., 0, 40, 39]], dtype=object)"
            ]
          },
          "metadata": {
            "tags": []
          },
          "execution_count": 8
        }
      ]
    },
    {
      "cell_type": "code",
      "metadata": {
        "id": "35LklhelpWHP"
      },
      "source": [
        "onehotencoder = OneHotEncoder()"
      ],
      "execution_count": 9,
      "outputs": []
    },
    {
      "cell_type": "code",
      "metadata": {
        "id": "hlH9-ZobvcaZ"
      },
      "source": [
        "previsores = onehotencoder.fit_transform(previsores[:, [1, 3, 5, 6, 7, 8, 9, 13]]).toarray()"
      ],
      "execution_count": 10,
      "outputs": []
    },
    {
      "cell_type": "code",
      "metadata": {
        "colab": {
          "base_uri": "https://localhost:8080/"
        },
        "id": "3i9VboTlvtLC",
        "outputId": "ae5c07d0-6807-4b62-dbe4-4ea8e61e7b6e"
      },
      "source": [
        "previsores"
      ],
      "execution_count": 11,
      "outputs": [
        {
          "output_type": "execute_result",
          "data": {
            "text/plain": [
              "array([[0., 0., 0., ..., 1., 0., 0.],\n",
              "       [0., 0., 0., ..., 1., 0., 0.],\n",
              "       [0., 0., 0., ..., 1., 0., 0.],\n",
              "       ...,\n",
              "       [0., 0., 0., ..., 1., 0., 0.],\n",
              "       [0., 0., 0., ..., 1., 0., 0.],\n",
              "       [0., 0., 0., ..., 1., 0., 0.]])"
            ]
          },
          "metadata": {
            "tags": []
          },
          "execution_count": 11
        }
      ]
    },
    {
      "cell_type": "code",
      "metadata": {
        "colab": {
          "base_uri": "https://localhost:8080/"
        },
        "id": "-DmYb19xvuf8",
        "outputId": "a00abcff-b676-4c6e-9941-8b5de7a2fc5c"
      },
      "source": [
        "previsores.shape"
      ],
      "execution_count": 12,
      "outputs": [
        {
          "output_type": "execute_result",
          "data": {
            "text/plain": [
              "(32561, 102)"
            ]
          },
          "metadata": {
            "tags": []
          },
          "execution_count": 12
        }
      ]
    },
    {
      "cell_type": "code",
      "metadata": {
        "id": "hEHhPqDzvz6E"
      },
      "source": [
        "labelEncoder_classe = LabelEncoder()"
      ],
      "execution_count": 13,
      "outputs": []
    },
    {
      "cell_type": "code",
      "metadata": {
        "colab": {
          "base_uri": "https://localhost:8080/"
        },
        "id": "-aiSmoauwIOl",
        "outputId": "603c1454-478d-4eac-e7bc-265bbd9647f9"
      },
      "source": [
        "classe = labelEncoder_classe.fit_transform(classe)\n",
        "classe"
      ],
      "execution_count": 14,
      "outputs": [
        {
          "output_type": "execute_result",
          "data": {
            "text/plain": [
              "array([0, 0, 0, ..., 0, 0, 1])"
            ]
          },
          "metadata": {
            "tags": []
          },
          "execution_count": 14
        }
      ]
    },
    {
      "cell_type": "markdown",
      "metadata": {
        "id": "ygxzqbVT2PBc"
      },
      "source": [
        "## 4.3 - Escalonamento dos valores"
      ]
    },
    {
      "cell_type": "code",
      "metadata": {
        "id": "BwWqPAbI1jzc"
      },
      "source": [
        "scaler = StandardScaler()"
      ],
      "execution_count": 15,
      "outputs": []
    },
    {
      "cell_type": "code",
      "metadata": {
        "colab": {
          "base_uri": "https://localhost:8080/"
        },
        "id": "dTTEovav1lpb",
        "outputId": "7c916ccb-b51b-43d6-bdaf-d5f4f93d029a"
      },
      "source": [
        "previsores = scaler.fit_transform(previsores)\n",
        "previsores"
      ],
      "execution_count": 16,
      "outputs": [
        {
          "output_type": "execute_result",
          "data": {
            "text/plain": [
              "array([[-0.2444502 , -0.17429511, -0.26209736, ...,  0.34095391,\n",
              "        -0.04540836, -0.02217266],\n",
              "       [-0.2444502 , -0.17429511, -0.26209736, ...,  0.34095391,\n",
              "        -0.04540836, -0.02217266],\n",
              "       [-0.2444502 , -0.17429511, -0.26209736, ...,  0.34095391,\n",
              "        -0.04540836, -0.02217266],\n",
              "       ...,\n",
              "       [-0.2444502 , -0.17429511, -0.26209736, ...,  0.34095391,\n",
              "        -0.04540836, -0.02217266],\n",
              "       [-0.2444502 , -0.17429511, -0.26209736, ...,  0.34095391,\n",
              "        -0.04540836, -0.02217266],\n",
              "       [-0.2444502 , -0.17429511, -0.26209736, ...,  0.34095391,\n",
              "        -0.04540836, -0.02217266]])"
            ]
          },
          "metadata": {
            "tags": []
          },
          "execution_count": 16
        }
      ]
    },
    {
      "cell_type": "markdown",
      "metadata": {
        "id": "d9NzaYoKCCKE"
      },
      "source": [
        "# 5 - Divisão da base em treino e teste "
      ]
    },
    {
      "cell_type": "markdown",
      "metadata": {
        "id": "9aZc-UQHUil7"
      },
      "source": [
        "## 5.1 - Criando os previsores e as classes"
      ]
    },
    {
      "cell_type": "code",
      "metadata": {
        "id": "DS0NhvX_CNaf"
      },
      "source": [
        "previsores_treinamento, previsores_teste, classe_treinamento, classe_teste = train_test_split(previsores, classe, test_size=0.15, random_state=0)"
      ],
      "execution_count": 17,
      "outputs": []
    },
    {
      "cell_type": "code",
      "metadata": {
        "colab": {
          "base_uri": "https://localhost:8080/"
        },
        "id": "tvA8emnfCQLW",
        "outputId": "d9581a84-a065-4440-9d8f-5861a26fa12c"
      },
      "source": [
        "previsores_treinamento.shape, previsores_teste.shape, classe_treinamento.shape, classe_teste.shape"
      ],
      "execution_count": 18,
      "outputs": [
        {
          "output_type": "execute_result",
          "data": {
            "text/plain": [
              "((27676, 102), (4885, 102), (27676,), (4885,))"
            ]
          },
          "metadata": {
            "tags": []
          },
          "execution_count": 18
        }
      ]
    },
    {
      "cell_type": "markdown",
      "metadata": {
        "id": "NzlwTfmTUndL"
      },
      "source": [
        "## 5.2 - Verificando a linha de base (Baseline)"
      ]
    },
    {
      "cell_type": "code",
      "metadata": {
        "colab": {
          "base_uri": "https://localhost:8080/"
        },
        "id": "fLqroLZoUsh6",
        "outputId": "fe226cd5-bb16-4ad2-be72-f6fac8032d73"
      },
      "source": [
        "collections.Counter(classe_teste)"
      ],
      "execution_count": 19,
      "outputs": [
        {
          "output_type": "execute_result",
          "data": {
            "text/plain": [
              "Counter({0: 3693, 1: 1192})"
            ]
          },
          "metadata": {
            "tags": []
          },
          "execution_count": 19
        }
      ]
    },
    {
      "cell_type": "markdown",
      "metadata": {
        "id": "a_LOcrdTUtUK"
      },
      "source": [
        "- Verificamos que para o modelo ser eficiente, a acurácia base terá um valor de **75,59%**"
      ]
    },
    {
      "cell_type": "markdown",
      "metadata": {
        "id": "cmKgoWRhCZo8"
      },
      "source": [
        "# 6 - Criação do modelo"
      ]
    },
    {
      "cell_type": "markdown",
      "metadata": {
        "id": "dpkUg6qWavLG"
      },
      "source": [
        "## 6.1 - Utilizando o modelo de Regressão Logística"
      ]
    },
    {
      "cell_type": "markdown",
      "metadata": {
        "id": "7fDND_d_CshT"
      },
      "source": [
        "### 6.1.1 - Criando as predições"
      ]
    },
    {
      "cell_type": "code",
      "metadata": {
        "colab": {
          "base_uri": "https://localhost:8080/"
        },
        "id": "NM8HrQQlCgt7",
        "outputId": "391c0f45-c979-44b6-fbb1-e14d31436db3"
      },
      "source": [
        "modelo_logistica_regressao = LogisticRegression(random_state=1)\n",
        "modelo_logistica_regressao.fit(previsores_treinamento, classe_treinamento)"
      ],
      "execution_count": 20,
      "outputs": [
        {
          "output_type": "execute_result",
          "data": {
            "text/plain": [
              "LogisticRegression(C=1.0, class_weight=None, dual=False, fit_intercept=True,\n",
              "                   intercept_scaling=1, l1_ratio=None, max_iter=100,\n",
              "                   multi_class='auto', n_jobs=None, penalty='l2',\n",
              "                   random_state=1, solver='lbfgs', tol=0.0001, verbose=0,\n",
              "                   warm_start=False)"
            ]
          },
          "metadata": {
            "tags": []
          },
          "execution_count": 20
        }
      ]
    },
    {
      "cell_type": "code",
      "metadata": {
        "id": "mYOpi9OEChxp"
      },
      "source": [
        "predicoes = modelo_logistica_regressao.predict(previsores_teste)"
      ],
      "execution_count": 21,
      "outputs": []
    },
    {
      "cell_type": "markdown",
      "metadata": {
        "id": "sFFL7OlWCw1b"
      },
      "source": [
        "### 6.1.2 - Resultado da predição"
      ]
    },
    {
      "cell_type": "code",
      "metadata": {
        "colab": {
          "base_uri": "https://localhost:8080/"
        },
        "id": "ZZzIH_DxCl10",
        "outputId": "a8bd27a9-38df-4632-eff6-e5cadf6b9751"
      },
      "source": [
        "print(classification_report(classe_teste, predicoes))"
      ],
      "execution_count": 22,
      "outputs": [
        {
          "output_type": "stream",
          "text": [
            "              precision    recall  f1-score   support\n",
            "\n",
            "           0       0.86      0.92      0.89      3693\n",
            "           1       0.67      0.54      0.60      1192\n",
            "\n",
            "    accuracy                           0.82      4885\n",
            "   macro avg       0.77      0.73      0.74      4885\n",
            "weighted avg       0.81      0.82      0.82      4885\n",
            "\n"
          ],
          "name": "stdout"
        }
      ]
    },
    {
      "cell_type": "code",
      "metadata": {
        "colab": {
          "base_uri": "https://localhost:8080/",
          "height": 296
        },
        "id": "IZdWFeR8bCMN",
        "outputId": "63fc4068-ca04-4024-dedb-efeaffdf2382"
      },
      "source": [
        "disp = plot_confusion_matrix(modelo_logistica_regressao, previsores_teste, classe_teste, values_format=\"d\")\r\n",
        "print(disp)\r\n",
        "plt.show()"
      ],
      "execution_count": 23,
      "outputs": [
        {
          "output_type": "stream",
          "text": [
            "<sklearn.metrics._plot.confusion_matrix.ConfusionMatrixDisplay object at 0x7f484504c898>\n"
          ],
          "name": "stdout"
        },
        {
          "output_type": "display_data",
          "data": {
            "image/png": "[encoded data removed]",
            "text/plain": [
              "<Figure size 432x288 with 2 Axes>"
            ]
          },
          "metadata": {
            "tags": [],
            "needs_background": "light"
          }
        }
      ]
    },
    {
      "cell_type": "markdown",
      "metadata": {
        "id": "Ujrx-q_gbQs9"
      },
      "source": [
        "## 6.2 - Utilizando o modelo de Neive Bayes"
      ]
    },
    {
      "cell_type": "markdown",
      "metadata": {
        "id": "YB9wNc4bbYKk"
      },
      "source": [
        "### 6.2.1 - Criando as predições"
      ]
    },
    {
      "cell_type": "code",
      "metadata": {
        "colab": {
          "base_uri": "https://localhost:8080/"
        },
        "id": "YgKOKw_YbgRJ",
        "outputId": "b0dbe663-9df1-44c8-aa01-dba1db82d378"
      },
      "source": [
        "classificador = GaussianNB()\r\n",
        "classificador.fit(previsores_treinamento, classe_treinamento)"
      ],
      "execution_count": 24,
      "outputs": [
        {
          "output_type": "execute_result",
          "data": {
            "text/plain": [
              "GaussianNB(priors=None, var_smoothing=1e-09)"
            ]
          },
          "metadata": {
            "tags": []
          },
          "execution_count": 24
        }
      ]
    },
    {
      "cell_type": "code",
      "metadata": {
        "id": "k_e3OAgubnTO"
      },
      "source": [
        "previsores = classificador.predict(previsores_teste)"
      ],
      "execution_count": 25,
      "outputs": []
    },
    {
      "cell_type": "markdown",
      "metadata": {
        "id": "1ZnXSYhteQNu"
      },
      "source": [
        "### 6.2.2 - Resultado da predição"
      ]
    },
    {
      "cell_type": "code",
      "metadata": {
        "colab": {
          "base_uri": "https://localhost:8080/"
        },
        "id": "J5JWyrrBbt47",
        "outputId": "a39da36f-4c7b-445e-d15e-d47efa4fce1a"
      },
      "source": [
        "print(classification_report(classe_teste, previsores))"
      ],
      "execution_count": 26,
      "outputs": [
        {
          "output_type": "stream",
          "text": [
            "              precision    recall  f1-score   support\n",
            "\n",
            "           0       0.96      0.29      0.44      3693\n",
            "           1       0.30      0.97      0.46      1192\n",
            "\n",
            "    accuracy                           0.45      4885\n",
            "   macro avg       0.63      0.63      0.45      4885\n",
            "weighted avg       0.80      0.45      0.45      4885\n",
            "\n"
          ],
          "name": "stdout"
        }
      ]
    },
    {
      "cell_type": "code",
      "metadata": {
        "colab": {
          "base_uri": "https://localhost:8080/",
          "height": 0
        },
        "id": "7vbdtA8tbxVP",
        "outputId": "c683c04e-cf83-4fe0-de2d-4c9a3646efb0"
      },
      "source": [
        "disp = plot_confusion_matrix(classificador, previsores_teste, classe_teste, values_format=\"d\")\r\n",
        "print(disp)\r\n",
        "plt.show()"
      ],
      "execution_count": 27,
      "outputs": [
        {
          "output_type": "stream",
          "text": [
            "<sklearn.metrics._plot.confusion_matrix.ConfusionMatrixDisplay object at 0x7f48427b8438>\n"
          ],
          "name": "stdout"
        },
        {
          "output_type": "display_data",
          "data": {
            "image/png": "[encoded data removed]",
            "text/plain": [
              "<Figure size 432x288 with 2 Axes>"
            ]
          },
          "metadata": {
            "tags": [],
            "needs_background": "light"
          }
        }
      ]
    },
    {
      "cell_type": "markdown",
      "metadata": {
        "id": "9L33XUd_eTX9"
      },
      "source": [
        "* Obs.: Os dados ficam mais ajustados quando não é utilizado em conjunto o Escalonamento das variaveis e o OneHotEncoder."
      ]
    },
    {
      "cell_type": "markdown",
      "metadata": {
        "id": "JLYzsSYmPPJK"
      },
      "source": [
        "## 6.3 Utilizando Árvore de Decisão"
      ]
    },
    {
      "cell_type": "markdown",
      "metadata": {
        "id": "hVX1gE2RRhDU"
      },
      "source": [
        "### 6.3.1 - Criando as predições"
      ]
    },
    {
      "cell_type": "code",
      "metadata": {
        "id": "Df5XIwv7PYbl"
      },
      "source": [
        "classificador_DT = DecisionTreeClassifier(criterion = 'entropy', random_state = 0)"
      ],
      "execution_count": 28,
      "outputs": []
    },
    {
      "cell_type": "code",
      "metadata": {
        "colab": {
          "base_uri": "https://localhost:8080/"
        },
        "id": "ApHl6yTFQDfD",
        "outputId": "3f6b1774-47ed-4b12-906a-b99937881a8b"
      },
      "source": [
        "classificador_DT.fit(previsores_treinamento, classe_treinamento)"
      ],
      "execution_count": 29,
      "outputs": [
        {
          "output_type": "execute_result",
          "data": {
            "text/plain": [
              "DecisionTreeClassifier(ccp_alpha=0.0, class_weight=None, criterion='entropy',\n",
              "                       max_depth=None, max_features=None, max_leaf_nodes=None,\n",
              "                       min_impurity_decrease=0.0, min_impurity_split=None,\n",
              "                       min_samples_leaf=1, min_samples_split=2,\n",
              "                       min_weight_fraction_leaf=0.0, presort='deprecated',\n",
              "                       random_state=0, splitter='best')"
            ]
          },
          "metadata": {
            "tags": []
          },
          "execution_count": 29
        }
      ]
    },
    {
      "cell_type": "code",
      "metadata": {
        "id": "JbqvIV6jQJZv"
      },
      "source": [
        "previsores_DT = classificador_DT.predict(previsores_teste)"
      ],
      "execution_count": 30,
      "outputs": []
    },
    {
      "cell_type": "markdown",
      "metadata": {
        "id": "6tqUacfTQTvk"
      },
      "source": [
        "### 6.3.2 - Resultado da predição"
      ]
    },
    {
      "cell_type": "code",
      "metadata": {
        "colab": {
          "base_uri": "https://localhost:8080/"
        },
        "id": "F07onm0NQQf5",
        "outputId": "d13646e0-6ab2-431f-f427-e9d25251306e"
      },
      "source": [
        "print(classification_report(classe_teste, previsores_DT))"
      ],
      "execution_count": 31,
      "outputs": [
        {
          "output_type": "stream",
          "text": [
            "              precision    recall  f1-score   support\n",
            "\n",
            "           0       0.86      0.90      0.88      3693\n",
            "           1       0.63      0.53      0.58      1192\n",
            "\n",
            "    accuracy                           0.81      4885\n",
            "   macro avg       0.74      0.71      0.73      4885\n",
            "weighted avg       0.80      0.81      0.80      4885\n",
            "\n"
          ],
          "name": "stdout"
        }
      ]
    },
    {
      "cell_type": "code",
      "metadata": {
        "colab": {
          "base_uri": "https://localhost:8080/",
          "height": 0
        },
        "id": "awLwMLBMQfqt",
        "outputId": "db6e9a41-358a-4af3-cd39-68544801e39e"
      },
      "source": [
        "disp = plot_confusion_matrix(classificador_DT, previsores_teste, classe_teste, values_format=\"d\")\r\n",
        "print(disp)\r\n",
        "plt.show()"
      ],
      "execution_count": 32,
      "outputs": [
        {
          "output_type": "stream",
          "text": [
            "<sklearn.metrics._plot.confusion_matrix.ConfusionMatrixDisplay object at 0x7f484232b7b8>\n"
          ],
          "name": "stdout"
        },
        {
          "output_type": "display_data",
          "data": {
            "image/png": "[encoded data removed]",
            "text/plain": [
              "<Figure size 432x288 with 2 Axes>"
            ]
          },
          "metadata": {
            "tags": [],
            "needs_background": "light"
          }
        }
      ]
    },
    {
      "cell_type": "markdown",
      "metadata": {
        "id": "9uoRm87gWnSl"
      },
      "source": [
        "## 6.4 - Utilizando Árvores Randomicas"
      ]
    },
    {
      "cell_type": "markdown",
      "metadata": {
        "id": "sX6WaPx8WuuP"
      },
      "source": [
        "### 6.4.1 - Criando as predições"
      ]
    },
    {
      "cell_type": "code",
      "metadata": {
        "id": "-CbcXx2gW0R1"
      },
      "source": [
        "classificador_RF = RandomForestClassifier(n_estimators=20, criterion='entropy', random_state=0)"
      ],
      "execution_count": 33,
      "outputs": []
    },
    {
      "cell_type": "code",
      "metadata": {
        "colab": {
          "base_uri": "https://localhost:8080/"
        },
        "id": "1bys8JDXW0Uc",
        "outputId": "b8a863f1-a4b6-43da-e26e-6e13c6b545cf"
      },
      "source": [
        "classificador_RF.fit(previsores_treinamento, classe_treinamento)"
      ],
      "execution_count": 34,
      "outputs": [
        {
          "output_type": "execute_result",
          "data": {
            "text/plain": [
              "RandomForestClassifier(bootstrap=True, ccp_alpha=0.0, class_weight=None,\n",
              "                       criterion='entropy', max_depth=None, max_features='auto',\n",
              "                       max_leaf_nodes=None, max_samples=None,\n",
              "                       min_impurity_decrease=0.0, min_impurity_split=None,\n",
              "                       min_samples_leaf=1, min_samples_split=2,\n",
              "                       min_weight_fraction_leaf=0.0, n_estimators=20,\n",
              "                       n_jobs=None, oob_score=False, random_state=0, verbose=0,\n",
              "                       warm_start=False)"
            ]
          },
          "metadata": {
            "tags": []
          },
          "execution_count": 34
        }
      ]
    },
    {
      "cell_type": "code",
      "metadata": {
        "id": "8CSUJtTmW0XY"
      },
      "source": [
        "previsores_RF = classificador_RF.predict(previsores_teste)"
      ],
      "execution_count": 35,
      "outputs": []
    },
    {
      "cell_type": "markdown",
      "metadata": {
        "id": "12gN4C9-Wxt9"
      },
      "source": [
        "### 6.4.2 - Resultado da predição"
      ]
    },
    {
      "cell_type": "code",
      "metadata": {
        "colab": {
          "base_uri": "https://localhost:8080/"
        },
        "id": "OHA7PwywW07d",
        "outputId": "6f9a44e3-fa50-4eb6-b704-c08d0d052089"
      },
      "source": [
        "print(classification_report(classe_teste, previsores_RF))"
      ],
      "execution_count": 36,
      "outputs": [
        {
          "output_type": "stream",
          "text": [
            "              precision    recall  f1-score   support\n",
            "\n",
            "           0       0.86      0.90      0.88      3693\n",
            "           1       0.64      0.54      0.59      1192\n",
            "\n",
            "    accuracy                           0.81      4885\n",
            "   macro avg       0.75      0.72      0.73      4885\n",
            "weighted avg       0.81      0.81      0.81      4885\n",
            "\n"
          ],
          "name": "stdout"
        }
      ]
    },
    {
      "cell_type": "code",
      "metadata": {
        "colab": {
          "base_uri": "https://localhost:8080/",
          "height": 0
        },
        "id": "lGSMkUYTW09u",
        "outputId": "8425cf65-73c6-468e-b928-214b956e807b"
      },
      "source": [
        "disp = plot_confusion_matrix(classificador_RF, previsores_teste, classe_teste, values_format=\"d\")\r\n",
        "print(disp)\r\n",
        "plt.show()"
      ],
      "execution_count": 37,
      "outputs": [
        {
          "output_type": "stream",
          "text": [
            "<sklearn.metrics._plot.confusion_matrix.ConfusionMatrixDisplay object at 0x7f48421e9a90>\n"
          ],
          "name": "stdout"
        },
        {
          "output_type": "display_data",
          "data": {
            "image/png": "[encoded data removed]",
            "text/plain": [
              "<Figure size 432x288 with 2 Axes>"
            ]
          },
          "metadata": {
            "tags": [],
            "needs_background": "light"
          }
        }
      ]
    },
    {
      "cell_type": "markdown",
      "metadata": {
        "id": "q_FyHK1_ZL1G"
      },
      "source": [
        "## 6.5 - Utilizando KNN"
      ]
    },
    {
      "cell_type": "markdown",
      "metadata": {
        "id": "BcMLqI-zZSAn"
      },
      "source": [
        "### 6.5.1 - Criando a predição"
      ]
    },
    {
      "cell_type": "code",
      "metadata": {
        "id": "iD6obVREZWMt"
      },
      "source": [
        "classificador_KNN = KNeighborsClassifier()"
      ],
      "execution_count": 38,
      "outputs": []
    },
    {
      "cell_type": "code",
      "metadata": {
        "colab": {
          "base_uri": "https://localhost:8080/"
        },
        "id": "mzAifvp8ZkMY",
        "outputId": "0d62d195-a5dc-40ec-cff0-f8d9947f1d64"
      },
      "source": [
        "classificador_KNN.fit(previsores_treinamento, classe_treinamento)"
      ],
      "execution_count": 39,
      "outputs": [
        {
          "output_type": "execute_result",
          "data": {
            "text/plain": [
              "KNeighborsClassifier(algorithm='auto', leaf_size=30, metric='minkowski',\n",
              "                     metric_params=None, n_jobs=None, n_neighbors=5, p=2,\n",
              "                     weights='uniform')"
            ]
          },
          "metadata": {
            "tags": []
          },
          "execution_count": 39
        }
      ]
    },
    {
      "cell_type": "code",
      "metadata": {
        "id": "u_s4D_4KZkOl"
      },
      "source": [
        "previsores_KNN = classificador_KNN.predict(previsores_teste)"
      ],
      "execution_count": 40,
      "outputs": []
    },
    {
      "cell_type": "markdown",
      "metadata": {
        "id": "M8C_TAoOZW8u"
      },
      "source": [
        "### 6.5.2 - Resultado da predição"
      ]
    },
    {
      "cell_type": "code",
      "metadata": {
        "colab": {
          "base_uri": "https://localhost:8080/"
        },
        "id": "e0TBBsGWZZUN",
        "outputId": "1dd11d54-2ef4-457f-84c3-38d54bcc38e8"
      },
      "source": [
        "print(classification_report(classe_teste, previsores_KNN))"
      ],
      "execution_count": 41,
      "outputs": [
        {
          "output_type": "stream",
          "text": [
            "              precision    recall  f1-score   support\n",
            "\n",
            "           0       0.86      0.89      0.87      3693\n",
            "           1       0.61      0.56      0.58      1192\n",
            "\n",
            "    accuracy                           0.81      4885\n",
            "   macro avg       0.74      0.72      0.73      4885\n",
            "weighted avg       0.80      0.81      0.80      4885\n",
            "\n"
          ],
          "name": "stdout"
        }
      ]
    },
    {
      "cell_type": "code",
      "metadata": {
        "colab": {
          "base_uri": "https://localhost:8080/",
          "height": 0
        },
        "id": "PsMjbMjwaDF7",
        "outputId": "2bb34b8d-2844-46ca-8d96-a36f93d9a568"
      },
      "source": [
        "disp = plot_confusion_matrix(classificador_KNN, previsores_teste, classe_teste, values_format=\"d\")\r\n",
        "print(disp)\r\n",
        "plt.show()"
      ],
      "execution_count": 42,
      "outputs": [
        {
          "output_type": "stream",
          "text": [
            "<sklearn.metrics._plot.confusion_matrix.ConfusionMatrixDisplay object at 0x7f48422530b8>\n"
          ],
          "name": "stdout"
        },
        {
          "output_type": "display_data",
          "data": {
            "image/png": "[encoded data removed]",
            "text/plain": [
              "<Figure size 432x288 with 2 Axes>"
            ]
          },
          "metadata": {
            "tags": [],
            "needs_background": "light"
          }
        }
      ]
    }
  ]
}