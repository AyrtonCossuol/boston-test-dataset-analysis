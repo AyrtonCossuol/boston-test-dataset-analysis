{
  "nbformat": 4,
  "nbformat_minor": 0,
  "metadata": {
    "colab": {
      "name": "mercado_1.ipynb",
      "provenance": []
    },
    "kernelspec": {
      "name": "python3",
      "display_name": "Python 3"
    }
  },
  "cells": [
    {
      "cell_type": "code",
      "metadata": {
        "colab": {
          "base_uri": "https://localhost:8080/"
        },
        "id": "E5g4Pf25qMAa",
        "outputId": "185b0813-fea4-4253-9d83-4bba1e4b6dfa"
      },
      "source": [
        "from google.colab import drive\r\n",
        "drive.mount('/content/drive')"
      ],
      "execution_count": 1,
      "outputs": [
        {
          "output_type": "stream",
          "text": [
            "Drive already mounted at /content/drive; to attempt to forcibly remount, call drive.mount(\"/content/drive\", force_remount=True).\n"
          ],
          "name": "stdout"
        }
      ]
    },
    {
      "cell_type": "markdown",
      "metadata": {
        "id": "vk1mrqph1x64"
      },
      "source": [
        "# 1 - Importação das bibliotecas"
      ]
    },
    {
      "cell_type": "code",
      "metadata": {
        "colab": {
          "base_uri": "https://localhost:8080/"
        },
        "id": "sKG2voiM1pkY",
        "outputId": "15173c3b-71b9-4ec1-9efd-560aa5a3fa99"
      },
      "source": [
        "import pandas as pd\r\n",
        "\r\n",
        "!pip install apyori\r\n",
        "from apyori import apriori"
      ],
      "execution_count": 2,
      "outputs": [
        {
          "output_type": "stream",
          "text": [
            "Requirement already satisfied: apyori in /usr/local/lib/python3.6/dist-packages (1.1.2)\n"
          ],
          "name": "stdout"
        }
      ]
    },
    {
      "cell_type": "markdown",
      "metadata": {
        "id": "m-7-Agv42c-h"
      },
      "source": [
        "# 2 - Importação da base"
      ]
    },
    {
      "cell_type": "code",
      "metadata": {
        "colab": {
          "base_uri": "https://localhost:8080/",
          "height": 204
        },
        "id": "aZCxZHRW15wb",
        "outputId": "cae7a978-8ba3-4dc4-f7aa-9dae6b2cddff"
      },
      "source": [
        "PATH = '/content/drive/MyDrive/Colab Notebooks/Machine Learning e Data Science com Python de A a Z/Estudo associação/mercado.csv'\r\n",
        "base = pd.read_csv(PATH, header=None)\r\n",
        "base.head()"
      ],
      "execution_count": 3,
      "outputs": [
        {
          "output_type": "execute_result",
          "data": {
            "text/html": [
              "<div>\n",
              "<style scoped>\n",
              "    .dataframe tbody tr th:only-of-type {\n",
              "        vertical-align: middle;\n",
              "    }\n",
              "\n",
              "    .dataframe tbody tr th {\n",
              "        vertical-align: top;\n",
              "    }\n",
              "\n",
              "    .dataframe thead th {\n",
              "        text-align: right;\n",
              "    }\n",
              "</style>\n",
              "<table border=\"1\" class=\"dataframe\">\n",
              "  <thead>\n",
              "    <tr style=\"text-align: right;\">\n",
              "      <th></th>\n",
              "      <th>0</th>\n",
              "      <th>1</th>\n",
              "      <th>2</th>\n",
              "      <th>3</th>\n",
              "    </tr>\n",
              "  </thead>\n",
              "  <tbody>\n",
              "    <tr>\n",
              "      <th>0</th>\n",
              "      <td>leite</td>\n",
              "      <td>cerveja</td>\n",
              "      <td>pao</td>\n",
              "      <td>manteiga</td>\n",
              "    </tr>\n",
              "    <tr>\n",
              "      <th>1</th>\n",
              "      <td>cafe</td>\n",
              "      <td>pao</td>\n",
              "      <td>manteiga</td>\n",
              "      <td>NaN</td>\n",
              "    </tr>\n",
              "    <tr>\n",
              "      <th>2</th>\n",
              "      <td>cafe</td>\n",
              "      <td>pao</td>\n",
              "      <td>manteiga</td>\n",
              "      <td>NaN</td>\n",
              "    </tr>\n",
              "    <tr>\n",
              "      <th>3</th>\n",
              "      <td>leite</td>\n",
              "      <td>cafe</td>\n",
              "      <td>pao</td>\n",
              "      <td>manteiga</td>\n",
              "    </tr>\n",
              "    <tr>\n",
              "      <th>4</th>\n",
              "      <td>cerveja</td>\n",
              "      <td>NaN</td>\n",
              "      <td>NaN</td>\n",
              "      <td>NaN</td>\n",
              "    </tr>\n",
              "  </tbody>\n",
              "</table>\n",
              "</div>"
            ],
            "text/plain": [
              "         0        1         2         3\n",
              "0    leite  cerveja       pao  manteiga\n",
              "1     cafe      pao  manteiga       NaN\n",
              "2     cafe      pao  manteiga       NaN\n",
              "3    leite     cafe       pao  manteiga\n",
              "4  cerveja      NaN       NaN       NaN"
            ]
          },
          "metadata": {
            "tags": []
          },
          "execution_count": 3
        }
      ]
    },
    {
      "cell_type": "markdown",
      "metadata": {
        "id": "ap1jkdBA8hs-"
      },
      "source": [
        "# 3 - Processamentos e Resultad"
      ]
    },
    {
      "cell_type": "markdown",
      "metadata": {
        "id": "w2FiNr_Qq6iW"
      },
      "source": [
        "## 3.1 - Transformação dataset em matriz"
      ]
    },
    {
      "cell_type": "code",
      "metadata": {
        "id": "XwvZB9ds2E6j"
      },
      "source": [
        "transacoes = []"
      ],
      "execution_count": 4,
      "outputs": []
    },
    {
      "cell_type": "code",
      "metadata": {
        "colab": {
          "base_uri": "https://localhost:8080/"
        },
        "id": "vokkVCA_t7KO",
        "outputId": "36f8b4b4-f9ac-42d5-fc17-3872161d34de"
      },
      "source": [
        "base.shape"
      ],
      "execution_count": 5,
      "outputs": [
        {
          "output_type": "execute_result",
          "data": {
            "text/plain": [
              "(10, 4)"
            ]
          },
          "metadata": {
            "tags": []
          },
          "execution_count": 5
        }
      ]
    },
    {
      "cell_type": "code",
      "metadata": {
        "id": "IdVN4TmY3YMo"
      },
      "source": [
        "for i in range(0 , base.shape[0]):\r\n",
        "  transacoes.append([str(base.values[i, j]) for j in range(0, base.shape[1])])"
      ],
      "execution_count": 6,
      "outputs": []
    },
    {
      "cell_type": "code",
      "metadata": {
        "colab": {
          "base_uri": "https://localhost:8080/"
        },
        "id": "UomKBcW-4oHT",
        "outputId": "2690bade-1aed-47b5-ded8-e1ee47bc386f"
      },
      "source": [
        "transacoes"
      ],
      "execution_count": 7,
      "outputs": [
        {
          "output_type": "execute_result",
          "data": {
            "text/plain": [
              "[['leite', 'cerveja', 'pao', 'manteiga'],\n",
              " ['cafe', 'pao', 'manteiga', 'nan'],\n",
              " ['cafe', 'pao', 'manteiga', 'nan'],\n",
              " ['leite', 'cafe', 'pao', 'manteiga'],\n",
              " ['cerveja', 'nan', 'nan', 'nan'],\n",
              " ['manteiga', 'nan', 'nan', 'nan'],\n",
              " ['pao', 'nan', 'nan', 'nan'],\n",
              " ['feijao', 'nan', 'nan', 'nan'],\n",
              " ['arroz', 'feijao', 'nan', 'nan'],\n",
              " ['arroz', 'nan', 'nan', 'nan']]"
            ]
          },
          "metadata": {
            "tags": []
          },
          "execution_count": 7
        }
      ]
    },
    {
      "cell_type": "markdown",
      "metadata": {
        "id": "LfQ-lsh6rC3N"
      },
      "source": [
        "## 3.2 - Utilizando o método apriori para fazer as devidas referência "
      ]
    },
    {
      "cell_type": "code",
      "metadata": {
        "id": "mCL1CZRX4pSe"
      },
      "source": [
        "regras = apriori(transacoes, \r\n",
        "                 min_support = 0.3, \r\n",
        "                 min_confidence = 0.8, \r\n",
        "                 min_lift = 2,\r\n",
        "                 min_lenght = 2)"
      ],
      "execution_count": 8,
      "outputs": []
    },
    {
      "cell_type": "code",
      "metadata": {
        "id": "hg3nw0yo6E0C"
      },
      "source": [
        "resultados = list(regras)"
      ],
      "execution_count": 9,
      "outputs": []
    },
    {
      "cell_type": "code",
      "metadata": {
        "colab": {
          "base_uri": "https://localhost:8080/"
        },
        "id": "2x3QRgfe6IwK",
        "outputId": "ff11aaa0-57af-4833-9601-ae029ff1ffb9"
      },
      "source": [
        "resultados"
      ],
      "execution_count": 10,
      "outputs": [
        {
          "output_type": "execute_result",
          "data": {
            "text/plain": [
              "[RelationRecord(items=frozenset({'manteiga', 'cafe'}), support=0.3, ordered_statistics=[OrderedStatistic(items_base=frozenset({'cafe'}), items_add=frozenset({'manteiga'}), confidence=1.0, lift=2.0)]),\n",
              " RelationRecord(items=frozenset({'pao', 'cafe'}), support=0.3, ordered_statistics=[OrderedStatistic(items_base=frozenset({'cafe'}), items_add=frozenset({'pao'}), confidence=1.0, lift=2.0)]),\n",
              " RelationRecord(items=frozenset({'manteiga', 'pao', 'cafe'}), support=0.3, ordered_statistics=[OrderedStatistic(items_base=frozenset({'cafe'}), items_add=frozenset({'pao', 'manteiga'}), confidence=1.0, lift=2.5), OrderedStatistic(items_base=frozenset({'manteiga', 'cafe'}), items_add=frozenset({'pao'}), confidence=1.0, lift=2.0), OrderedStatistic(items_base=frozenset({'pao', 'cafe'}), items_add=frozenset({'manteiga'}), confidence=1.0, lift=2.0)])]"
            ]
          },
          "metadata": {
            "tags": []
          },
          "execution_count": 10
        }
      ]
    },
    {
      "cell_type": "code",
      "metadata": {
        "colab": {
          "base_uri": "https://localhost:8080/"
        },
        "id": "qmTWIbuD6J10",
        "outputId": "df5e9a5c-2a54-46ad-c9ee-c08ac839faae"
      },
      "source": [
        "resultados_2 = [list(x) for x in resultados]\r\n",
        "resultados_2"
      ],
      "execution_count": 11,
      "outputs": [
        {
          "output_type": "execute_result",
          "data": {
            "text/plain": [
              "[[frozenset({'cafe', 'manteiga'}),\n",
              "  0.3,\n",
              "  [OrderedStatistic(items_base=frozenset({'cafe'}), items_add=frozenset({'manteiga'}), confidence=1.0, lift=2.0)]],\n",
              " [frozenset({'cafe', 'pao'}),\n",
              "  0.3,\n",
              "  [OrderedStatistic(items_base=frozenset({'cafe'}), items_add=frozenset({'pao'}), confidence=1.0, lift=2.0)]],\n",
              " [frozenset({'cafe', 'manteiga', 'pao'}),\n",
              "  0.3,\n",
              "  [OrderedStatistic(items_base=frozenset({'cafe'}), items_add=frozenset({'pao', 'manteiga'}), confidence=1.0, lift=2.5),\n",
              "   OrderedStatistic(items_base=frozenset({'manteiga', 'cafe'}), items_add=frozenset({'pao'}), confidence=1.0, lift=2.0),\n",
              "   OrderedStatistic(items_base=frozenset({'pao', 'cafe'}), items_add=frozenset({'manteiga'}), confidence=1.0, lift=2.0)]]]"
            ]
          },
          "metadata": {
            "tags": []
          },
          "execution_count": 11
        }
      ]
    },
    {
      "cell_type": "markdown",
      "metadata": {
        "id": "y8bjNY8UrWsV"
      },
      "source": [
        "## 3.3 - Resultados encontrados"
      ]
    },
    {
      "cell_type": "code",
      "metadata": {
        "id": "bTURNAuD6bxy"
      },
      "source": [
        "resultados_formatados = []"
      ],
      "execution_count": 12,
      "outputs": []
    },
    {
      "cell_type": "code",
      "metadata": {
        "id": "OnzzNvMA6jqx"
      },
      "source": [
        "for j in range(0, 3):\r\n",
        "  resultados_formatados.append([list(x) for x in resultados_2[j][2]])"
      ],
      "execution_count": 13,
      "outputs": []
    },
    {
      "cell_type": "code",
      "metadata": {
        "colab": {
          "base_uri": "https://localhost:8080/"
        },
        "id": "RZOpDNrt6u8X",
        "outputId": "b5d9ead8-46be-4c3d-d259-e9ad2a58adf0"
      },
      "source": [
        "resultados_formatados"
      ],
      "execution_count": 14,
      "outputs": [
        {
          "output_type": "execute_result",
          "data": {
            "text/plain": [
              "[[[frozenset({'cafe'}), frozenset({'manteiga'}), 1.0, 2.0]],\n",
              " [[frozenset({'cafe'}), frozenset({'pao'}), 1.0, 2.0]],\n",
              " [[frozenset({'cafe'}), frozenset({'manteiga', 'pao'}), 1.0, 2.5],\n",
              "  [frozenset({'cafe', 'manteiga'}), frozenset({'pao'}), 1.0, 2.0],\n",
              "  [frozenset({'cafe', 'pao'}), frozenset({'manteiga'}), 1.0, 2.0]]]"
            ]
          },
          "metadata": {
            "tags": []
          },
          "execution_count": 14
        }
      ]
    },
    {
      "cell_type": "markdown",
      "metadata": {
        "id": "Rp9nr3des8uF"
      },
      "source": [
        " - **Conclusão**\r\n",
        "\r\n",
        " Utilizando um suporte mínimo de 0.3, junto com o lift de 2 e a confiança de 0.8, conseguimos obter os agrupamentos de produtos que são mais vendidos em conjunto.\r\n"
      ]
    }
  ]
}