{
  "nbformat": 4,
  "nbformat_minor": 0,
  "metadata": {
    "colab": {
      "name": "mercado_1.ipynb",
      "provenance": []
    },
    "kernelspec": {
      "name": "python3",
      "display_name": "Python 3"
    }
  },
  "cells": [
    {
      "cell_type": "code",
      "metadata": {
        "colab": {
          "base_uri": "https://localhost:8080/"
        },
        "id": "E5g4Pf25qMAa",
        "outputId": "20e96199-2db2-4562-ae63-abcbc069f9d1"
      },
      "source": [
        "from google.colab import drive\r\n",
        "drive.mount('/content/drive')"
      ],
      "execution_count": 1,
      "outputs": [
        {
          "output_type": "stream",
          "text": [
            "Drive already mounted at /content/drive; to attempt to forcibly remount, call drive.mount(\"/content/drive\", force_remount=True).\n"
          ],
          "name": "stdout"
        }
      ]
    },
    {
      "cell_type": "markdown",
      "metadata": {
        "id": "vk1mrqph1x64"
      },
      "source": [
        "# 1 - Importação das bibliotecas"
      ]
    },
    {
      "cell_type": "code",
      "metadata": {
        "colab": {
          "base_uri": "https://localhost:8080/"
        },
        "id": "sKG2voiM1pkY",
        "outputId": "9451c7b2-d635-460b-fafb-d9b1d088de44"
      },
      "source": [
        "import pandas as pd\r\n",
        "\r\n",
        "!pip install apyori\r\n",
        "from apyori import apriori"
      ],
      "execution_count": 2,
      "outputs": [
        {
          "output_type": "stream",
          "text": [
            "Requirement already satisfied: apyori in /usr/local/lib/python3.6/dist-packages (1.1.2)\n"
          ],
          "name": "stdout"
        }
      ]
    },
    {
      "cell_type": "markdown",
      "metadata": {
        "id": "m-7-Agv42c-h"
      },
      "source": [
        "# 2 - Importação da base"
      ]
    },
    {
      "cell_type": "code",
      "metadata": {
        "colab": {
          "base_uri": "https://localhost:8080/",
          "height": 204
        },
        "id": "aZCxZHRW15wb",
        "outputId": "94faa210-7052-4b73-a0f2-9b6823cb9607"
      },
      "source": [
        "PATH = '/content/drive/MyDrive/Colab Notebooks/Machine Learning e Data Science com Python de A a Z/Estudo associação/mercado.csv'\r\n",
        "base = pd.read_csv(PATH, header=None)\r\n",
        "base.head()"
      ],
      "execution_count": 3,
      "outputs": [
        {
          "output_type": "execute_result",
          "data": {
            "text/html": [
              "<div>\n",
              "<style scoped>\n",
              "    .dataframe tbody tr th:only-of-type {\n",
              "        vertical-align: middle;\n",
              "    }\n",
              "\n",
              "    .dataframe tbody tr th {\n",
              "        vertical-align: top;\n",
              "    }\n",
              "\n",
              "    .dataframe thead th {\n",
              "        text-align: right;\n",
              "    }\n",
              "</style>\n",
              "<table border=\"1\" class=\"dataframe\">\n",
              "  <thead>\n",
              "    <tr style=\"text-align: right;\">\n",
              "      <th></th>\n",
              "      <th>0</th>\n",
              "      <th>1</th>\n",
              "      <th>2</th>\n",
              "      <th>3</th>\n",
              "    </tr>\n",
              "  </thead>\n",
              "  <tbody>\n",
              "    <tr>\n",
              "      <th>0</th>\n",
              "      <td>leite</td>\n",
              "      <td>cerveja</td>\n",
              "      <td>pao</td>\n",
              "      <td>manteiga</td>\n",
              "    </tr>\n",
              "    <tr>\n",
              "      <th>1</th>\n",
              "      <td>cafe</td>\n",
              "      <td>pao</td>\n",
              "      <td>manteiga</td>\n",
              "      <td>NaN</td>\n",
              "    </tr>\n",
              "    <tr>\n",
              "      <th>2</th>\n",
              "      <td>cafe</td>\n",
              "      <td>pao</td>\n",
              "      <td>manteiga</td>\n",
              "      <td>NaN</td>\n",
              "    </tr>\n",
              "    <tr>\n",
              "      <th>3</th>\n",
              "      <td>leite</td>\n",
              "      <td>cafe</td>\n",
              "      <td>pao</td>\n",
              "      <td>manteiga</td>\n",
              "    </tr>\n",
              "    <tr>\n",
              "      <th>4</th>\n",
              "      <td>cerveja</td>\n",
              "      <td>NaN</td>\n",
              "      <td>NaN</td>\n",
              "      <td>NaN</td>\n",
              "    </tr>\n",
              "  </tbody>\n",
              "</table>\n",
              "</div>"
            ],
            "text/plain": [
              "         0        1         2         3\n",
              "0    leite  cerveja       pao  manteiga\n",
              "1     cafe      pao  manteiga       NaN\n",
              "2     cafe      pao  manteiga       NaN\n",
              "3    leite     cafe       pao  manteiga\n",
              "4  cerveja      NaN       NaN       NaN"
            ]
          },
          "metadata": {
            "tags": []
          },
          "execution_count": 3
        }
      ]
    },
    {
      "cell_type": "markdown",
      "metadata": {
        "id": "ap1jkdBA8hs-"
      },
      "source": [
        "# 3 - Processamentos e Resultados"
      ]
    },
    {
      "cell_type": "code",
      "metadata": {
        "id": "XwvZB9ds2E6j"
      },
      "source": [
        "transacoes = []"
      ],
      "execution_count": 4,
      "outputs": []
    },
    {
      "cell_type": "code",
      "metadata": {
        "id": "IdVN4TmY3YMo"
      },
      "source": [
        "for i in range(0 , 10):\r\n",
        "  transacoes.append([str(base.values[i, j]) for j in range(0, 4)])"
      ],
      "execution_count": 5,
      "outputs": []
    },
    {
      "cell_type": "code",
      "metadata": {
        "colab": {
          "base_uri": "https://localhost:8080/"
        },
        "id": "UomKBcW-4oHT",
        "outputId": "2d4cf9c2-edbd-4ec2-b7a1-e06a8283a7e2"
      },
      "source": [
        "transacoes"
      ],
      "execution_count": 6,
      "outputs": [
        {
          "output_type": "execute_result",
          "data": {
            "text/plain": [
              "[['leite', 'cerveja', 'pao', 'manteiga'],\n",
              " ['cafe', 'pao', 'manteiga', 'nan'],\n",
              " ['cafe', 'pao', 'manteiga', 'nan'],\n",
              " ['leite', 'cafe', 'pao', 'manteiga'],\n",
              " ['cerveja', 'nan', 'nan', 'nan'],\n",
              " ['manteiga', 'nan', 'nan', 'nan'],\n",
              " ['pao', 'nan', 'nan', 'nan'],\n",
              " ['feijao', 'nan', 'nan', 'nan'],\n",
              " ['arroz', 'feijao', 'nan', 'nan'],\n",
              " ['arroz', 'nan', 'nan', 'nan']]"
            ]
          },
          "metadata": {
            "tags": []
          },
          "execution_count": 6
        }
      ]
    },
    {
      "cell_type": "code",
      "metadata": {
        "id": "mCL1CZRX4pSe"
      },
      "source": [
        "regras = apriori(transacoes, \r\n",
        "                 min_suport = 0.3, \r\n",
        "                 min_confidence = 0.8, \r\n",
        "                 min_lift = 2,\r\n",
        "                 min_lenght = 2)"
      ],
      "execution_count": 7,
      "outputs": []
    },
    {
      "cell_type": "code",
      "metadata": {
        "id": "hg3nw0yo6E0C"
      },
      "source": [
        "resultados = list(regras)"
      ],
      "execution_count": 8,
      "outputs": []
    },
    {
      "cell_type": "code",
      "metadata": {
        "colab": {
          "base_uri": "https://localhost:8080/"
        },
        "id": "2x3QRgfe6IwK",
        "outputId": "04666545-0213-4203-a9bf-9575c7844781"
      },
      "source": [
        "resultados"
      ],
      "execution_count": 9,
      "outputs": [
        {
          "output_type": "execute_result",
          "data": {
            "text/plain": [
              "[RelationRecord(items=frozenset({'manteiga', 'cafe'}), support=0.3, ordered_statistics=[OrderedStatistic(items_base=frozenset({'cafe'}), items_add=frozenset({'manteiga'}), confidence=1.0, lift=2.0)]),\n",
              " RelationRecord(items=frozenset({'pao', 'cafe'}), support=0.3, ordered_statistics=[OrderedStatistic(items_base=frozenset({'cafe'}), items_add=frozenset({'pao'}), confidence=1.0, lift=2.0)]),\n",
              " RelationRecord(items=frozenset({'manteiga', 'leite'}), support=0.2, ordered_statistics=[OrderedStatistic(items_base=frozenset({'leite'}), items_add=frozenset({'manteiga'}), confidence=1.0, lift=2.0)]),\n",
              " RelationRecord(items=frozenset({'pao', 'leite'}), support=0.2, ordered_statistics=[OrderedStatistic(items_base=frozenset({'leite'}), items_add=frozenset({'pao'}), confidence=1.0, lift=2.0)]),\n",
              " RelationRecord(items=frozenset({'manteiga', 'leite', 'cafe'}), support=0.1, ordered_statistics=[OrderedStatistic(items_base=frozenset({'leite', 'cafe'}), items_add=frozenset({'manteiga'}), confidence=1.0, lift=2.0)]),\n",
              " RelationRecord(items=frozenset({'pao', 'leite', 'cafe'}), support=0.1, ordered_statistics=[OrderedStatistic(items_base=frozenset({'leite', 'cafe'}), items_add=frozenset({'pao'}), confidence=1.0, lift=2.0)]),\n",
              " RelationRecord(items=frozenset({'manteiga', 'nan', 'cafe'}), support=0.2, ordered_statistics=[OrderedStatistic(items_base=frozenset({'nan', 'cafe'}), items_add=frozenset({'manteiga'}), confidence=1.0, lift=2.0)]),\n",
              " RelationRecord(items=frozenset({'manteiga', 'cafe', 'pao'}), support=0.3, ordered_statistics=[OrderedStatistic(items_base=frozenset({'cafe'}), items_add=frozenset({'manteiga', 'pao'}), confidence=1.0, lift=2.5), OrderedStatistic(items_base=frozenset({'manteiga', 'cafe'}), items_add=frozenset({'pao'}), confidence=1.0, lift=2.0), OrderedStatistic(items_base=frozenset({'pao', 'cafe'}), items_add=frozenset({'manteiga'}), confidence=1.0, lift=2.0)]),\n",
              " RelationRecord(items=frozenset({'nan', 'cafe', 'pao'}), support=0.2, ordered_statistics=[OrderedStatistic(items_base=frozenset({'nan', 'cafe'}), items_add=frozenset({'pao'}), confidence=1.0, lift=2.0)]),\n",
              " RelationRecord(items=frozenset({'manteiga', 'leite', 'cerveja'}), support=0.1, ordered_statistics=[OrderedStatistic(items_base=frozenset({'leite', 'cerveja'}), items_add=frozenset({'manteiga'}), confidence=1.0, lift=2.0), OrderedStatistic(items_base=frozenset({'manteiga', 'cerveja'}), items_add=frozenset({'leite'}), confidence=1.0, lift=5.0)]),\n",
              " RelationRecord(items=frozenset({'pao', 'leite', 'cerveja'}), support=0.1, ordered_statistics=[OrderedStatistic(items_base=frozenset({'leite', 'cerveja'}), items_add=frozenset({'pao'}), confidence=1.0, lift=2.0), OrderedStatistic(items_base=frozenset({'pao', 'cerveja'}), items_add=frozenset({'leite'}), confidence=1.0, lift=5.0)]),\n",
              " RelationRecord(items=frozenset({'manteiga', 'cerveja', 'pao'}), support=0.1, ordered_statistics=[OrderedStatistic(items_base=frozenset({'manteiga', 'cerveja'}), items_add=frozenset({'pao'}), confidence=1.0, lift=2.0), OrderedStatistic(items_base=frozenset({'pao', 'cerveja'}), items_add=frozenset({'manteiga'}), confidence=1.0, lift=2.0)]),\n",
              " RelationRecord(items=frozenset({'manteiga', 'leite', 'pao'}), support=0.2, ordered_statistics=[OrderedStatistic(items_base=frozenset({'leite'}), items_add=frozenset({'manteiga', 'pao'}), confidence=1.0, lift=2.5), OrderedStatistic(items_base=frozenset({'manteiga', 'leite'}), items_add=frozenset({'pao'}), confidence=1.0, lift=2.0), OrderedStatistic(items_base=frozenset({'pao', 'leite'}), items_add=frozenset({'manteiga'}), confidence=1.0, lift=2.0)]),\n",
              " RelationRecord(items=frozenset({'manteiga', 'leite', 'cafe', 'pao'}), support=0.1, ordered_statistics=[OrderedStatistic(items_base=frozenset({'leite', 'cafe'}), items_add=frozenset({'manteiga', 'pao'}), confidence=1.0, lift=2.5), OrderedStatistic(items_base=frozenset({'manteiga', 'leite', 'cafe'}), items_add=frozenset({'pao'}), confidence=1.0, lift=2.0), OrderedStatistic(items_base=frozenset({'pao', 'leite', 'cafe'}), items_add=frozenset({'manteiga'}), confidence=1.0, lift=2.0)]),\n",
              " RelationRecord(items=frozenset({'manteiga', 'nan', 'cafe', 'pao'}), support=0.2, ordered_statistics=[OrderedStatistic(items_base=frozenset({'nan', 'cafe'}), items_add=frozenset({'manteiga', 'pao'}), confidence=1.0, lift=2.5), OrderedStatistic(items_base=frozenset({'manteiga', 'nan', 'cafe'}), items_add=frozenset({'pao'}), confidence=1.0, lift=2.0), OrderedStatistic(items_base=frozenset({'nan', 'cafe', 'pao'}), items_add=frozenset({'manteiga'}), confidence=1.0, lift=2.0), OrderedStatistic(items_base=frozenset({'manteiga', 'nan', 'pao'}), items_add=frozenset({'cafe'}), confidence=1.0, lift=3.3333333333333335)]),\n",
              " RelationRecord(items=frozenset({'manteiga', 'leite', 'cerveja', 'pao'}), support=0.1, ordered_statistics=[OrderedStatistic(items_base=frozenset({'leite', 'cerveja'}), items_add=frozenset({'manteiga', 'pao'}), confidence=1.0, lift=2.5), OrderedStatistic(items_base=frozenset({'manteiga', 'cerveja'}), items_add=frozenset({'pao', 'leite'}), confidence=1.0, lift=5.0), OrderedStatistic(items_base=frozenset({'pao', 'cerveja'}), items_add=frozenset({'manteiga', 'leite'}), confidence=1.0, lift=5.0), OrderedStatistic(items_base=frozenset({'manteiga', 'leite', 'cerveja'}), items_add=frozenset({'pao'}), confidence=1.0, lift=2.0), OrderedStatistic(items_base=frozenset({'pao', 'leite', 'cerveja'}), items_add=frozenset({'manteiga'}), confidence=1.0, lift=2.0), OrderedStatistic(items_base=frozenset({'manteiga', 'cerveja', 'pao'}), items_add=frozenset({'leite'}), confidence=1.0, lift=5.0)])]"
            ]
          },
          "metadata": {
            "tags": []
          },
          "execution_count": 9
        }
      ]
    },
    {
      "cell_type": "code",
      "metadata": {
        "colab": {
          "base_uri": "https://localhost:8080/"
        },
        "id": "qmTWIbuD6J10",
        "outputId": "c81264d0-8630-49f7-c77b-91b7d4f3ba91"
      },
      "source": [
        "resultados_2 = [list(x) for x in resultados]\r\n",
        "resultados_2"
      ],
      "execution_count": 10,
      "outputs": [
        {
          "output_type": "execute_result",
          "data": {
            "text/plain": [
              "[[frozenset({'cafe', 'manteiga'}),\n",
              "  0.3,\n",
              "  [OrderedStatistic(items_base=frozenset({'cafe'}), items_add=frozenset({'manteiga'}), confidence=1.0, lift=2.0)]],\n",
              " [frozenset({'cafe', 'pao'}),\n",
              "  0.3,\n",
              "  [OrderedStatistic(items_base=frozenset({'cafe'}), items_add=frozenset({'pao'}), confidence=1.0, lift=2.0)]],\n",
              " [frozenset({'leite', 'manteiga'}),\n",
              "  0.2,\n",
              "  [OrderedStatistic(items_base=frozenset({'leite'}), items_add=frozenset({'manteiga'}), confidence=1.0, lift=2.0)]],\n",
              " [frozenset({'leite', 'pao'}),\n",
              "  0.2,\n",
              "  [OrderedStatistic(items_base=frozenset({'leite'}), items_add=frozenset({'pao'}), confidence=1.0, lift=2.0)]],\n",
              " [frozenset({'cafe', 'leite', 'manteiga'}),\n",
              "  0.1,\n",
              "  [OrderedStatistic(items_base=frozenset({'leite', 'cafe'}), items_add=frozenset({'manteiga'}), confidence=1.0, lift=2.0)]],\n",
              " [frozenset({'cafe', 'leite', 'pao'}),\n",
              "  0.1,\n",
              "  [OrderedStatistic(items_base=frozenset({'leite', 'cafe'}), items_add=frozenset({'pao'}), confidence=1.0, lift=2.0)]],\n",
              " [frozenset({'cafe', 'manteiga', 'nan'}),\n",
              "  0.2,\n",
              "  [OrderedStatistic(items_base=frozenset({'nan', 'cafe'}), items_add=frozenset({'manteiga'}), confidence=1.0, lift=2.0)]],\n",
              " [frozenset({'cafe', 'manteiga', 'pao'}),\n",
              "  0.3,\n",
              "  [OrderedStatistic(items_base=frozenset({'cafe'}), items_add=frozenset({'manteiga', 'pao'}), confidence=1.0, lift=2.5),\n",
              "   OrderedStatistic(items_base=frozenset({'manteiga', 'cafe'}), items_add=frozenset({'pao'}), confidence=1.0, lift=2.0),\n",
              "   OrderedStatistic(items_base=frozenset({'pao', 'cafe'}), items_add=frozenset({'manteiga'}), confidence=1.0, lift=2.0)]],\n",
              " [frozenset({'cafe', 'nan', 'pao'}),\n",
              "  0.2,\n",
              "  [OrderedStatistic(items_base=frozenset({'nan', 'cafe'}), items_add=frozenset({'pao'}), confidence=1.0, lift=2.0)]],\n",
              " [frozenset({'cerveja', 'leite', 'manteiga'}),\n",
              "  0.1,\n",
              "  [OrderedStatistic(items_base=frozenset({'leite', 'cerveja'}), items_add=frozenset({'manteiga'}), confidence=1.0, lift=2.0),\n",
              "   OrderedStatistic(items_base=frozenset({'manteiga', 'cerveja'}), items_add=frozenset({'leite'}), confidence=1.0, lift=5.0)]],\n",
              " [frozenset({'cerveja', 'leite', 'pao'}),\n",
              "  0.1,\n",
              "  [OrderedStatistic(items_base=frozenset({'leite', 'cerveja'}), items_add=frozenset({'pao'}), confidence=1.0, lift=2.0),\n",
              "   OrderedStatistic(items_base=frozenset({'pao', 'cerveja'}), items_add=frozenset({'leite'}), confidence=1.0, lift=5.0)]],\n",
              " [frozenset({'cerveja', 'manteiga', 'pao'}),\n",
              "  0.1,\n",
              "  [OrderedStatistic(items_base=frozenset({'manteiga', 'cerveja'}), items_add=frozenset({'pao'}), confidence=1.0, lift=2.0),\n",
              "   OrderedStatistic(items_base=frozenset({'pao', 'cerveja'}), items_add=frozenset({'manteiga'}), confidence=1.0, lift=2.0)]],\n",
              " [frozenset({'leite', 'manteiga', 'pao'}),\n",
              "  0.2,\n",
              "  [OrderedStatistic(items_base=frozenset({'leite'}), items_add=frozenset({'manteiga', 'pao'}), confidence=1.0, lift=2.5),\n",
              "   OrderedStatistic(items_base=frozenset({'manteiga', 'leite'}), items_add=frozenset({'pao'}), confidence=1.0, lift=2.0),\n",
              "   OrderedStatistic(items_base=frozenset({'pao', 'leite'}), items_add=frozenset({'manteiga'}), confidence=1.0, lift=2.0)]],\n",
              " [frozenset({'cafe', 'leite', 'manteiga', 'pao'}),\n",
              "  0.1,\n",
              "  [OrderedStatistic(items_base=frozenset({'leite', 'cafe'}), items_add=frozenset({'manteiga', 'pao'}), confidence=1.0, lift=2.5),\n",
              "   OrderedStatistic(items_base=frozenset({'manteiga', 'leite', 'cafe'}), items_add=frozenset({'pao'}), confidence=1.0, lift=2.0),\n",
              "   OrderedStatistic(items_base=frozenset({'pao', 'leite', 'cafe'}), items_add=frozenset({'manteiga'}), confidence=1.0, lift=2.0)]],\n",
              " [frozenset({'cafe', 'manteiga', 'nan', 'pao'}),\n",
              "  0.2,\n",
              "  [OrderedStatistic(items_base=frozenset({'nan', 'cafe'}), items_add=frozenset({'manteiga', 'pao'}), confidence=1.0, lift=2.5),\n",
              "   OrderedStatistic(items_base=frozenset({'manteiga', 'nan', 'cafe'}), items_add=frozenset({'pao'}), confidence=1.0, lift=2.0),\n",
              "   OrderedStatistic(items_base=frozenset({'nan', 'cafe', 'pao'}), items_add=frozenset({'manteiga'}), confidence=1.0, lift=2.0),\n",
              "   OrderedStatistic(items_base=frozenset({'manteiga', 'nan', 'pao'}), items_add=frozenset({'cafe'}), confidence=1.0, lift=3.3333333333333335)]],\n",
              " [frozenset({'cerveja', 'leite', 'manteiga', 'pao'}),\n",
              "  0.1,\n",
              "  [OrderedStatistic(items_base=frozenset({'leite', 'cerveja'}), items_add=frozenset({'manteiga', 'pao'}), confidence=1.0, lift=2.5),\n",
              "   OrderedStatistic(items_base=frozenset({'manteiga', 'cerveja'}), items_add=frozenset({'pao', 'leite'}), confidence=1.0, lift=5.0),\n",
              "   OrderedStatistic(items_base=frozenset({'pao', 'cerveja'}), items_add=frozenset({'manteiga', 'leite'}), confidence=1.0, lift=5.0),\n",
              "   OrderedStatistic(items_base=frozenset({'manteiga', 'leite', 'cerveja'}), items_add=frozenset({'pao'}), confidence=1.0, lift=2.0),\n",
              "   OrderedStatistic(items_base=frozenset({'pao', 'leite', 'cerveja'}), items_add=frozenset({'manteiga'}), confidence=1.0, lift=2.0),\n",
              "   OrderedStatistic(items_base=frozenset({'manteiga', 'cerveja', 'pao'}), items_add=frozenset({'leite'}), confidence=1.0, lift=5.0)]]]"
            ]
          },
          "metadata": {
            "tags": []
          },
          "execution_count": 10
        }
      ]
    },
    {
      "cell_type": "code",
      "metadata": {
        "id": "bTURNAuD6bxy"
      },
      "source": [
        "resultados_formatados = []"
      ],
      "execution_count": 11,
      "outputs": []
    },
    {
      "cell_type": "code",
      "metadata": {
        "id": "OnzzNvMA6jqx"
      },
      "source": [
        "for j in range(0, 3):\r\n",
        "  resultados_formatados.append([list(x) for x in resultados_2[j][2]])"
      ],
      "execution_count": 12,
      "outputs": []
    },
    {
      "cell_type": "code",
      "metadata": {
        "colab": {
          "base_uri": "https://localhost:8080/"
        },
        "id": "RZOpDNrt6u8X",
        "outputId": "bf36e5a9-ac51-459a-9d64-3a0a5fa45658"
      },
      "source": [
        "resultados_formatados"
      ],
      "execution_count": 13,
      "outputs": [
        {
          "output_type": "execute_result",
          "data": {
            "text/plain": [
              "[[[frozenset({'cafe'}), frozenset({'manteiga'}), 1.0, 2.0]],\n",
              " [[frozenset({'cafe'}), frozenset({'pao'}), 1.0, 2.0]],\n",
              " [[frozenset({'leite'}), frozenset({'manteiga'}), 1.0, 2.0]]]"
            ]
          },
          "metadata": {
            "tags": []
          },
          "execution_count": 13
        }
      ]
    },
    {
      "cell_type": "code",
      "metadata": {
        "id": "_MIKl2d-6wAq"
      },
      "source": [
        ""
      ],
      "execution_count": 13,
      "outputs": []
    }
  ]
}