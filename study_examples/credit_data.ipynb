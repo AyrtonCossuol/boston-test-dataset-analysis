{
  "nbformat": 4,
  "nbformat_minor": 0,
  "metadata": {
    "colab": {
      "name": "credit_data.ipynb",
      "provenance": [],
      "collapsed_sections": [
        "nBzhv3p_8qsw",
        "XA37zXDIxBo-",
        "-5qV7ADqD_GL",
        "6lF2uXEE5sOv",
        "ld64TAc4Z6gv",
        "Jsi6q8rOEYYk",
        "sw-5gdaBElzC",
        "18B35jHxEsLT",
        "iCo2WtLXrOPe",
        "Fub93hp4M5Lz"
      ]
    },
    "kernelspec": {
      "name": "python3",
      "display_name": "Python 3"
    }
  },
  "cells": [
    {
      "cell_type": "code",
      "metadata": {
        "id": "39DuU3Zl1Wuo",
        "colab": {
          "base_uri": "https://localhost:8080/"
        },
        "outputId": "680dd454-3e29-4a5e-f21a-6b5f620cbeab"
      },
      "source": [
        "from google.colab import drive\n",
        "drive.mount('/content/drive')"
      ],
      "execution_count": 1,
      "outputs": [
        {
          "output_type": "stream",
          "text": [
            "Drive already mounted at /content/drive; to attempt to forcibly remount, call drive.mount(\"/content/drive\", force_remount=True).\n"
          ],
          "name": "stdout"
        }
      ]
    },
    {
      "cell_type": "markdown",
      "metadata": {
        "id": "nBzhv3p_8qsw"
      },
      "source": [
        "# 1 - Importação das bibliotecas"
      ]
    },
    {
      "cell_type": "code",
      "metadata": {
        "id": "MbTdvZs71ubW"
      },
      "source": [
        "import pandas as pd\n",
        "\n",
        "import matplotlib.pyplot as plt\n",
        "import seaborn as sns \n",
        "\n",
        "from sklearn.impute import SimpleImputer\n",
        "from sklearn.preprocessing import StandardScaler\n",
        "\n",
        "from sklearn.model_selection import train_test_split\n",
        "import collections\n",
        "from sklearn.linear_model import LogisticRegression\n",
        "from sklearn.metrics import classification_report, confusion_matrix, plot_confusion_matrix\n",
        "from sklearn.naive_bayes import GaussianNB\n",
        "from sklearn.tree import DecisionTreeClassifier\n",
        "from sklearn.ensemble import RandomForestClassifier\n",
        "from sklearn.neighbors import KNeighborsClassifier\n",
        "from sklearn.svm import SVC"
      ],
      "execution_count": 2,
      "outputs": []
    },
    {
      "cell_type": "markdown",
      "metadata": {
        "id": "XA37zXDIxBo-"
      },
      "source": [
        "# 2 - Importação dos Dados\r\n"
      ]
    },
    {
      "cell_type": "code",
      "metadata": {
        "id": "gnkc__9M13a-",
        "colab": {
          "base_uri": "https://localhost:8080/",
          "height": 0
        },
        "outputId": "af4d52ed-4643-4ad1-8a48-3581b1fa2861"
      },
      "source": [
        "PATH = '/content/drive/MyDrive/Colab Notebooks/Machine Learning e Data Science com Python de A a Z/Estudo geral/credit_data.csv'\n",
        "base = pd.read_csv(PATH)\n",
        "base.head()"
      ],
      "execution_count": 3,
      "outputs": [
        {
          "output_type": "execute_result",
          "data": {
            "text/html": [
              "<div>\n",
              "<style scoped>\n",
              "    .dataframe tbody tr th:only-of-type {\n",
              "        vertical-align: middle;\n",
              "    }\n",
              "\n",
              "    .dataframe tbody tr th {\n",
              "        vertical-align: top;\n",
              "    }\n",
              "\n",
              "    .dataframe thead th {\n",
              "        text-align: right;\n",
              "    }\n",
              "</style>\n",
              "<table border=\"1\" class=\"dataframe\">\n",
              "  <thead>\n",
              "    <tr style=\"text-align: right;\">\n",
              "      <th></th>\n",
              "      <th>i#clientid</th>\n",
              "      <th>income</th>\n",
              "      <th>age</th>\n",
              "      <th>loan</th>\n",
              "      <th>c#default</th>\n",
              "    </tr>\n",
              "  </thead>\n",
              "  <tbody>\n",
              "    <tr>\n",
              "      <th>0</th>\n",
              "      <td>1</td>\n",
              "      <td>66155.925095</td>\n",
              "      <td>59.017015</td>\n",
              "      <td>8106.532131</td>\n",
              "      <td>0</td>\n",
              "    </tr>\n",
              "    <tr>\n",
              "      <th>1</th>\n",
              "      <td>2</td>\n",
              "      <td>34415.153966</td>\n",
              "      <td>48.117153</td>\n",
              "      <td>6564.745018</td>\n",
              "      <td>0</td>\n",
              "    </tr>\n",
              "    <tr>\n",
              "      <th>2</th>\n",
              "      <td>3</td>\n",
              "      <td>57317.170063</td>\n",
              "      <td>63.108049</td>\n",
              "      <td>8020.953296</td>\n",
              "      <td>0</td>\n",
              "    </tr>\n",
              "    <tr>\n",
              "      <th>3</th>\n",
              "      <td>4</td>\n",
              "      <td>42709.534201</td>\n",
              "      <td>45.751972</td>\n",
              "      <td>6103.642260</td>\n",
              "      <td>0</td>\n",
              "    </tr>\n",
              "    <tr>\n",
              "      <th>4</th>\n",
              "      <td>5</td>\n",
              "      <td>66952.688845</td>\n",
              "      <td>18.584336</td>\n",
              "      <td>8770.099235</td>\n",
              "      <td>1</td>\n",
              "    </tr>\n",
              "  </tbody>\n",
              "</table>\n",
              "</div>"
            ],
            "text/plain": [
              "   i#clientid        income        age         loan  c#default\n",
              "0           1  66155.925095  59.017015  8106.532131          0\n",
              "1           2  34415.153966  48.117153  6564.745018          0\n",
              "2           3  57317.170063  63.108049  8020.953296          0\n",
              "3           4  42709.534201  45.751972  6103.642260          0\n",
              "4           5  66952.688845  18.584336  8770.099235          1"
            ]
          },
          "metadata": {
            "tags": []
          },
          "execution_count": 3
        }
      ]
    },
    {
      "cell_type": "code",
      "metadata": {
        "id": "a-7tGAMu2B8T",
        "colab": {
          "base_uri": "https://localhost:8080/"
        },
        "outputId": "0af133e7-3d81-4c1e-c9c4-782bd8a11d98"
      },
      "source": [
        "base.columns"
      ],
      "execution_count": 4,
      "outputs": [
        {
          "output_type": "execute_result",
          "data": {
            "text/plain": [
              "Index(['i#clientid', 'income', 'age', 'loan', 'c#default'], dtype='object')"
            ]
          },
          "metadata": {
            "tags": []
          },
          "execution_count": 4
        }
      ]
    },
    {
      "cell_type": "code",
      "metadata": {
        "colab": {
          "base_uri": "https://localhost:8080/"
        },
        "id": "lS0XXNYND3dk",
        "outputId": "a5c8ee4c-3c56-4e57-af34-be1693812d8e"
      },
      "source": [
        "base.info()"
      ],
      "execution_count": 5,
      "outputs": [
        {
          "output_type": "stream",
          "text": [
            "<class 'pandas.core.frame.DataFrame'>\n",
            "RangeIndex: 2000 entries, 0 to 1999\n",
            "Data columns (total 5 columns):\n",
            " #   Column      Non-Null Count  Dtype  \n",
            "---  ------      --------------  -----  \n",
            " 0   i#clientid  2000 non-null   int64  \n",
            " 1   income      2000 non-null   float64\n",
            " 2   age         1997 non-null   float64\n",
            " 3   loan        2000 non-null   float64\n",
            " 4   c#default   2000 non-null   int64  \n",
            "dtypes: float64(3), int64(2)\n",
            "memory usage: 78.2 KB\n"
          ],
          "name": "stdout"
        }
      ]
    },
    {
      "cell_type": "markdown",
      "metadata": {
        "id": "-5qV7ADqD_GL"
      },
      "source": [
        "# 3 - Dicionario de dados"
      ]
    },
    {
      "cell_type": "markdown",
      "metadata": {
        "id": "mY73kBJJ3Kiv"
      },
      "source": [
        "\n",
        "1 - i#clientid: id do cliente (Variável numérica discreta);\n",
        " \n",
        "2 - income: renda do cliente (Variável numérica contínua);\n",
        " \n",
        "3 - age: idade do cliente (Variável numérica discreta);\n",
        " \n",
        "4 - loan: empréstimo pedido pelo cliente (Variável numérica contínua);\n",
        " \n",
        "5 - c#default: variável booleana para aceitar ou não o empréstimo (Variável booleana);\n"
      ]
    },
    {
      "cell_type": "markdown",
      "metadata": {
        "id": "6lF2uXEE5sOv"
      },
      "source": [
        "# 4 - Comportamento das variáveis"
      ]
    },
    {
      "cell_type": "code",
      "metadata": {
        "id": "KfC23LXC6hYt",
        "colab": {
          "base_uri": "https://localhost:8080/",
          "height": 0
        },
        "outputId": "fbb8b08c-46c5-4f3f-84c8-f9bb94574307"
      },
      "source": [
        "plt.figure(figsize=(8, 10))\n",
        "sns.boxplot(y = \"income\", x = 'c#default', data=base)\n",
        "plt.xlabel('Ganhou o empréstimo ou não')\n",
        "plt.ylabel('Valor da renda')\n",
        "plt.show()"
      ],
      "execution_count": 6,
      "outputs": [
        {
          "output_type": "display_data",
          "data": {
            "image/png": "[encoded data removed]",
            "text/plain": [
              "<Figure size 576x720 with 1 Axes>"
            ]
          },
          "metadata": {
            "tags": [],
            "needs_background": "light"
          }
        }
      ]
    },
    {
      "cell_type": "markdown",
      "metadata": {
        "id": "GYveQcAaANYH"
      },
      "source": [
        "- Os valores da renda dos clientes estão bem distribuídos tanto para aqueles que foram aceitos quanto aqueles que não ganharam o empréstimo. Isso nos mostra que difere o valor da renda para ganhar o empréstimo."
      ]
    },
    {
      "cell_type": "code",
      "metadata": {
        "id": "JiNZ9igf9L9H",
        "colab": {
          "base_uri": "https://localhost:8080/",
          "height": 0
        },
        "outputId": "9803cad7-5d4b-451c-a4fd-30be43f26891"
      },
      "source": [
        "plt.figure(figsize=(8, 10))\n",
        "sns.boxplot(y = \"age\", x='c#default' ,  data=base)\n",
        "plt.xlabel('Ganhou o empréstimo ou não')\n",
        "plt.ylabel('Idade')\n",
        "plt.show()"
      ],
      "execution_count": 7,
      "outputs": [
        {
          "output_type": "display_data",
          "data": {
            "image/png": "[encoded data removed]",
            "text/plain": [
              "<Figure size 576x720 with 1 Axes>"
            ]
          },
          "metadata": {
            "tags": [],
            "needs_background": "light"
          }
        }
      ]
    },
    {
      "cell_type": "markdown",
      "metadata": {
        "id": "FCDWHTidBErG"
      },
      "source": [
        "- Notamos que possui dados que nao estao corretos que podem atrapalhar as análises e modelagens futuras. Mas podemos notar que a faixa de idade com empréstimo aceitos está entre 22 a 35 anos aproximadamente, sendo já um foco excelente para a aprovação do empréstimo."
      ]
    },
    {
      "cell_type": "code",
      "metadata": {
        "id": "8r_gAdVN9L_i",
        "colab": {
          "base_uri": "https://localhost:8080/",
          "height": 0
        },
        "outputId": "6063586f-f23d-4854-f48e-1c3e5a233ed4"
      },
      "source": [
        "plt.figure(figsize=(8, 10))\n",
        "sns.boxplot(y = \"loan\", x = 'c#default', data=base)\n",
        "plt.xlabel('Ganhou o empréstimo ou não')\n",
        "plt.show()"
      ],
      "execution_count": 8,
      "outputs": [
        {
          "output_type": "display_data",
          "data": {
            "image/png": "[encoded data removed]",
            "text/plain": [
              "<Figure size 576x720 with 1 Axes>"
            ]
          },
          "metadata": {
            "tags": [],
            "needs_background": "light"
          }
        }
      ]
    },
    {
      "cell_type": "markdown",
      "metadata": {
        "id": "mEQd-qc5CS63"
      },
      "source": [
        "- Temos que os empréstimos aceitos têm valores maiores em relação aos empréstimos não aceitos. Isso pode ser explicado por causa do retorno mais lucrativo para a financiadora quando o valor emprestado for maior."
      ]
    },
    {
      "cell_type": "markdown",
      "metadata": {
        "id": "ld64TAc4Z6gv"
      },
      "source": [
        "# 5 - Pré-Processamento de dados"
      ]
    },
    {
      "cell_type": "code",
      "metadata": {
        "id": "u6OJEDV12XyM",
        "colab": {
          "base_uri": "https://localhost:8080/",
          "height": 0
        },
        "outputId": "19c07ace-5a8d-47aa-b992-8ff0cfc09360"
      },
      "source": [
        "base.describe()"
      ],
      "execution_count": 9,
      "outputs": [
        {
          "output_type": "execute_result",
          "data": {
            "text/html": [
              "<div>\n",
              "<style scoped>\n",
              "    .dataframe tbody tr th:only-of-type {\n",
              "        vertical-align: middle;\n",
              "    }\n",
              "\n",
              "    .dataframe tbody tr th {\n",
              "        vertical-align: top;\n",
              "    }\n",
              "\n",
              "    .dataframe thead th {\n",
              "        text-align: right;\n",
              "    }\n",
              "</style>\n",
              "<table border=\"1\" class=\"dataframe\">\n",
              "  <thead>\n",
              "    <tr style=\"text-align: right;\">\n",
              "      <th></th>\n",
              "      <th>i#clientid</th>\n",
              "      <th>income</th>\n",
              "      <th>age</th>\n",
              "      <th>loan</th>\n",
              "      <th>c#default</th>\n",
              "    </tr>\n",
              "  </thead>\n",
              "  <tbody>\n",
              "    <tr>\n",
              "      <th>count</th>\n",
              "      <td>2000.000000</td>\n",
              "      <td>2000.000000</td>\n",
              "      <td>1997.000000</td>\n",
              "      <td>2000.000000</td>\n",
              "      <td>2000.000000</td>\n",
              "    </tr>\n",
              "    <tr>\n",
              "      <th>mean</th>\n",
              "      <td>1000.500000</td>\n",
              "      <td>45331.600018</td>\n",
              "      <td>40.807559</td>\n",
              "      <td>4444.369695</td>\n",
              "      <td>0.141500</td>\n",
              "    </tr>\n",
              "    <tr>\n",
              "      <th>std</th>\n",
              "      <td>577.494589</td>\n",
              "      <td>14326.327119</td>\n",
              "      <td>13.624469</td>\n",
              "      <td>3045.410024</td>\n",
              "      <td>0.348624</td>\n",
              "    </tr>\n",
              "    <tr>\n",
              "      <th>min</th>\n",
              "      <td>1.000000</td>\n",
              "      <td>20014.489470</td>\n",
              "      <td>-52.423280</td>\n",
              "      <td>1.377630</td>\n",
              "      <td>0.000000</td>\n",
              "    </tr>\n",
              "    <tr>\n",
              "      <th>25%</th>\n",
              "      <td>500.750000</td>\n",
              "      <td>32796.459717</td>\n",
              "      <td>28.990415</td>\n",
              "      <td>1939.708847</td>\n",
              "      <td>0.000000</td>\n",
              "    </tr>\n",
              "    <tr>\n",
              "      <th>50%</th>\n",
              "      <td>1000.500000</td>\n",
              "      <td>45789.117313</td>\n",
              "      <td>41.317159</td>\n",
              "      <td>3974.719419</td>\n",
              "      <td>0.000000</td>\n",
              "    </tr>\n",
              "    <tr>\n",
              "      <th>75%</th>\n",
              "      <td>1500.250000</td>\n",
              "      <td>57791.281668</td>\n",
              "      <td>52.587040</td>\n",
              "      <td>6432.410625</td>\n",
              "      <td>0.000000</td>\n",
              "    </tr>\n",
              "    <tr>\n",
              "      <th>max</th>\n",
              "      <td>2000.000000</td>\n",
              "      <td>69995.685578</td>\n",
              "      <td>63.971796</td>\n",
              "      <td>13766.051239</td>\n",
              "      <td>1.000000</td>\n",
              "    </tr>\n",
              "  </tbody>\n",
              "</table>\n",
              "</div>"
            ],
            "text/plain": [
              "        i#clientid        income          age          loan    c#default\n",
              "count  2000.000000   2000.000000  1997.000000   2000.000000  2000.000000\n",
              "mean   1000.500000  45331.600018    40.807559   4444.369695     0.141500\n",
              "std     577.494589  14326.327119    13.624469   3045.410024     0.348624\n",
              "min       1.000000  20014.489470   -52.423280      1.377630     0.000000\n",
              "25%     500.750000  32796.459717    28.990415   1939.708847     0.000000\n",
              "50%    1000.500000  45789.117313    41.317159   3974.719419     0.000000\n",
              "75%    1500.250000  57791.281668    52.587040   6432.410625     0.000000\n",
              "max    2000.000000  69995.685578    63.971796  13766.051239     1.000000"
            ]
          },
          "metadata": {
            "tags": []
          },
          "execution_count": 9
        }
      ]
    },
    {
      "cell_type": "code",
      "metadata": {
        "id": "ieGjMKPUA7JH",
        "colab": {
          "base_uri": "https://localhost:8080/",
          "height": 0
        },
        "outputId": "127b6079-3c6d-422f-9514-ae662bbe4acf"
      },
      "source": [
        "base[base['age'] > 0].describe()"
      ],
      "execution_count": 10,
      "outputs": [
        {
          "output_type": "execute_result",
          "data": {
            "text/html": [
              "<div>\n",
              "<style scoped>\n",
              "    .dataframe tbody tr th:only-of-type {\n",
              "        vertical-align: middle;\n",
              "    }\n",
              "\n",
              "    .dataframe tbody tr th {\n",
              "        vertical-align: top;\n",
              "    }\n",
              "\n",
              "    .dataframe thead th {\n",
              "        text-align: right;\n",
              "    }\n",
              "</style>\n",
              "<table border=\"1\" class=\"dataframe\">\n",
              "  <thead>\n",
              "    <tr style=\"text-align: right;\">\n",
              "      <th></th>\n",
              "      <th>i#clientid</th>\n",
              "      <th>income</th>\n",
              "      <th>age</th>\n",
              "      <th>loan</th>\n",
              "      <th>c#default</th>\n",
              "    </tr>\n",
              "  </thead>\n",
              "  <tbody>\n",
              "    <tr>\n",
              "      <th>count</th>\n",
              "      <td>1994.000000</td>\n",
              "      <td>1994.000000</td>\n",
              "      <td>1994.000000</td>\n",
              "      <td>1994.000000</td>\n",
              "      <td>1994.000000</td>\n",
              "    </tr>\n",
              "    <tr>\n",
              "      <th>mean</th>\n",
              "      <td>1003.431795</td>\n",
              "      <td>45328.856915</td>\n",
              "      <td>40.927700</td>\n",
              "      <td>4443.240892</td>\n",
              "      <td>0.141926</td>\n",
              "    </tr>\n",
              "    <tr>\n",
              "      <th>std</th>\n",
              "      <td>575.879624</td>\n",
              "      <td>14326.777212</td>\n",
              "      <td>13.271802</td>\n",
              "      <td>3046.879619</td>\n",
              "      <td>0.349062</td>\n",
              "    </tr>\n",
              "    <tr>\n",
              "      <th>min</th>\n",
              "      <td>1.000000</td>\n",
              "      <td>20014.489470</td>\n",
              "      <td>18.055189</td>\n",
              "      <td>1.377630</td>\n",
              "      <td>0.000000</td>\n",
              "    </tr>\n",
              "    <tr>\n",
              "      <th>25%</th>\n",
              "      <td>505.250000</td>\n",
              "      <td>32812.340050</td>\n",
              "      <td>29.043284</td>\n",
              "      <td>1934.218490</td>\n",
              "      <td>0.000000</td>\n",
              "    </tr>\n",
              "    <tr>\n",
              "      <th>50%</th>\n",
              "      <td>1003.500000</td>\n",
              "      <td>45785.950926</td>\n",
              "      <td>41.382673</td>\n",
              "      <td>3971.653442</td>\n",
              "      <td>0.000000</td>\n",
              "    </tr>\n",
              "    <tr>\n",
              "      <th>75%</th>\n",
              "      <td>1501.750000</td>\n",
              "      <td>57782.054534</td>\n",
              "      <td>52.616900</td>\n",
              "      <td>6438.044498</td>\n",
              "      <td>0.000000</td>\n",
              "    </tr>\n",
              "    <tr>\n",
              "      <th>max</th>\n",
              "      <td>2000.000000</td>\n",
              "      <td>69995.685578</td>\n",
              "      <td>63.971796</td>\n",
              "      <td>13766.051239</td>\n",
              "      <td>1.000000</td>\n",
              "    </tr>\n",
              "  </tbody>\n",
              "</table>\n",
              "</div>"
            ],
            "text/plain": [
              "        i#clientid        income          age          loan    c#default\n",
              "count  1994.000000   1994.000000  1994.000000   1994.000000  1994.000000\n",
              "mean   1003.431795  45328.856915    40.927700   4443.240892     0.141926\n",
              "std     575.879624  14326.777212    13.271802   3046.879619     0.349062\n",
              "min       1.000000  20014.489470    18.055189      1.377630     0.000000\n",
              "25%     505.250000  32812.340050    29.043284   1934.218490     0.000000\n",
              "50%    1003.500000  45785.950926    41.382673   3971.653442     0.000000\n",
              "75%    1501.750000  57782.054534    52.616900   6438.044498     0.000000\n",
              "max    2000.000000  69995.685578    63.971796  13766.051239     1.000000"
            ]
          },
          "metadata": {
            "tags": []
          },
          "execution_count": 10
        }
      ]
    },
    {
      "cell_type": "markdown",
      "metadata": {
        "id": "0pTaxlmp454n"
      },
      "source": [
        "- Fazendo uma breve olhada para as descrições mostradas, já podemos notar que na na idade (age) possui uma idade bem discrepante (-52) gerando uma inconsistência dos dados."
      ]
    },
    {
      "cell_type": "code",
      "metadata": {
        "id": "IZD6FAVk2b2m",
        "colab": {
          "base_uri": "https://localhost:8080/",
          "height": 0
        },
        "outputId": "2068f414-5910-4b84-bbab-ff100684652f"
      },
      "source": [
        "base.loc[base['age'] < 0]"
      ],
      "execution_count": 11,
      "outputs": [
        {
          "output_type": "execute_result",
          "data": {
            "text/html": [
              "<div>\n",
              "<style scoped>\n",
              "    .dataframe tbody tr th:only-of-type {\n",
              "        vertical-align: middle;\n",
              "    }\n",
              "\n",
              "    .dataframe tbody tr th {\n",
              "        vertical-align: top;\n",
              "    }\n",
              "\n",
              "    .dataframe thead th {\n",
              "        text-align: right;\n",
              "    }\n",
              "</style>\n",
              "<table border=\"1\" class=\"dataframe\">\n",
              "  <thead>\n",
              "    <tr style=\"text-align: right;\">\n",
              "      <th></th>\n",
              "      <th>i#clientid</th>\n",
              "      <th>income</th>\n",
              "      <th>age</th>\n",
              "      <th>loan</th>\n",
              "      <th>c#default</th>\n",
              "    </tr>\n",
              "  </thead>\n",
              "  <tbody>\n",
              "    <tr>\n",
              "      <th>15</th>\n",
              "      <td>16</td>\n",
              "      <td>50501.726689</td>\n",
              "      <td>-28.218361</td>\n",
              "      <td>3977.287432</td>\n",
              "      <td>0</td>\n",
              "    </tr>\n",
              "    <tr>\n",
              "      <th>21</th>\n",
              "      <td>22</td>\n",
              "      <td>32197.620701</td>\n",
              "      <td>-52.423280</td>\n",
              "      <td>4244.057136</td>\n",
              "      <td>0</td>\n",
              "    </tr>\n",
              "    <tr>\n",
              "      <th>26</th>\n",
              "      <td>27</td>\n",
              "      <td>63287.038908</td>\n",
              "      <td>-36.496976</td>\n",
              "      <td>9595.286289</td>\n",
              "      <td>0</td>\n",
              "    </tr>\n",
              "  </tbody>\n",
              "</table>\n",
              "</div>"
            ],
            "text/plain": [
              "    i#clientid        income        age         loan  c#default\n",
              "15          16  50501.726689 -28.218361  3977.287432          0\n",
              "21          22  32197.620701 -52.423280  4244.057136          0\n",
              "26          27  63287.038908 -36.496976  9595.286289          0"
            ]
          },
          "metadata": {
            "tags": []
          },
          "execution_count": 11
        }
      ]
    },
    {
      "cell_type": "markdown",
      "metadata": {
        "id": "gk5AQl6h6ZWV"
      },
      "source": [
        "- Encontrando os clientes da base que estão com a idade inconsistente e fazendo o tratamento com os registros problemáticos."
      ]
    },
    {
      "cell_type": "code",
      "metadata": {
        "id": "6N5QGLFS6U-5",
        "colab": {
          "base_uri": "https://localhost:8080/"
        },
        "outputId": "27379564-8dd7-4349-b605-9240ed151a4f"
      },
      "source": [
        "base.mean()"
      ],
      "execution_count": 12,
      "outputs": [
        {
          "output_type": "execute_result",
          "data": {
            "text/plain": [
              "i#clientid     1000.500000\n",
              "income        45331.600018\n",
              "age              40.807559\n",
              "loan           4444.369695\n",
              "c#default         0.141500\n",
              "dtype: float64"
            ]
          },
          "metadata": {
            "tags": []
          },
          "execution_count": 12
        }
      ]
    },
    {
      "cell_type": "code",
      "metadata": {
        "id": "uYhF-91Vri1T",
        "colab": {
          "base_uri": "https://localhost:8080/"
        },
        "outputId": "74c6221f-f1c1-4d28-b210-471b0116f70a"
      },
      "source": [
        "base['age'][base.age > 0].mean()"
      ],
      "execution_count": 13,
      "outputs": [
        {
          "output_type": "execute_result",
          "data": {
            "text/plain": [
              "40.92770044906149"
            ]
          },
          "metadata": {
            "tags": []
          },
          "execution_count": 13
        }
      ]
    },
    {
      "cell_type": "markdown",
      "metadata": {
        "id": "FOvkXj9gsJP1"
      },
      "source": [
        "- Encontrando a média das idades desconsiderando os valores negativo como foi mostrado mais acima."
      ]
    },
    {
      "cell_type": "code",
      "metadata": {
        "id": "7J5XxznJr0Ot",
        "colab": {
          "base_uri": "https://localhost:8080/",
          "height": 0
        },
        "outputId": "e0436d99-fd8a-467c-f089-af3780c7b21d"
      },
      "source": [
        "base.loc[base.age < 0, 'age'] = 40.927700\n",
        "base.loc[base['age'] < 0]"
      ],
      "execution_count": 14,
      "outputs": [
        {
          "output_type": "execute_result",
          "data": {
            "text/html": [
              "<div>\n",
              "<style scoped>\n",
              "    .dataframe tbody tr th:only-of-type {\n",
              "        vertical-align: middle;\n",
              "    }\n",
              "\n",
              "    .dataframe tbody tr th {\n",
              "        vertical-align: top;\n",
              "    }\n",
              "\n",
              "    .dataframe thead th {\n",
              "        text-align: right;\n",
              "    }\n",
              "</style>\n",
              "<table border=\"1\" class=\"dataframe\">\n",
              "  <thead>\n",
              "    <tr style=\"text-align: right;\">\n",
              "      <th></th>\n",
              "      <th>i#clientid</th>\n",
              "      <th>income</th>\n",
              "      <th>age</th>\n",
              "      <th>loan</th>\n",
              "      <th>c#default</th>\n",
              "    </tr>\n",
              "  </thead>\n",
              "  <tbody>\n",
              "  </tbody>\n",
              "</table>\n",
              "</div>"
            ],
            "text/plain": [
              "Empty DataFrame\n",
              "Columns: [i#clientid, income, age, loan, c#default]\n",
              "Index: []"
            ]
          },
          "metadata": {
            "tags": []
          },
          "execution_count": 14
        }
      ]
    },
    {
      "cell_type": "markdown",
      "metadata": {
        "id": "wfY-QvBiuTPP"
      },
      "source": [
        "- Agora não há mais valores inconsistentes para a idade."
      ]
    },
    {
      "cell_type": "code",
      "metadata": {
        "id": "V7Kti0Nf2TUh",
        "colab": {
          "base_uri": "https://localhost:8080/"
        },
        "outputId": "b7f94307-df1a-434f-fd40-3ce10b0c4c7f"
      },
      "source": [
        "base.info()"
      ],
      "execution_count": 15,
      "outputs": [
        {
          "output_type": "stream",
          "text": [
            "<class 'pandas.core.frame.DataFrame'>\n",
            "RangeIndex: 2000 entries, 0 to 1999\n",
            "Data columns (total 5 columns):\n",
            " #   Column      Non-Null Count  Dtype  \n",
            "---  ------      --------------  -----  \n",
            " 0   i#clientid  2000 non-null   int64  \n",
            " 1   income      2000 non-null   float64\n",
            " 2   age         1997 non-null   float64\n",
            " 3   loan        2000 non-null   float64\n",
            " 4   c#default   2000 non-null   int64  \n",
            "dtypes: float64(3), int64(2)\n",
            "memory usage: 78.2 KB\n"
          ],
          "name": "stdout"
        }
      ]
    },
    {
      "cell_type": "markdown",
      "metadata": {
        "id": "gLFtZlsO2XNV"
      },
      "source": [
        "- Analisando as informações das variáveis, podemos notar que para a idade (age) existem valores nulos (3 valores)."
      ]
    },
    {
      "cell_type": "code",
      "metadata": {
        "id": "gfO6yZVbtX4I",
        "colab": {
          "base_uri": "https://localhost:8080/",
          "height": 0
        },
        "outputId": "e50ee24f-1a79-48df-caf5-a1c2d61d941b"
      },
      "source": [
        "base.loc[pd.isnull(base['age'])]"
      ],
      "execution_count": 16,
      "outputs": [
        {
          "output_type": "execute_result",
          "data": {
            "text/html": [
              "<div>\n",
              "<style scoped>\n",
              "    .dataframe tbody tr th:only-of-type {\n",
              "        vertical-align: middle;\n",
              "    }\n",
              "\n",
              "    .dataframe tbody tr th {\n",
              "        vertical-align: top;\n",
              "    }\n",
              "\n",
              "    .dataframe thead th {\n",
              "        text-align: right;\n",
              "    }\n",
              "</style>\n",
              "<table border=\"1\" class=\"dataframe\">\n",
              "  <thead>\n",
              "    <tr style=\"text-align: right;\">\n",
              "      <th></th>\n",
              "      <th>i#clientid</th>\n",
              "      <th>income</th>\n",
              "      <th>age</th>\n",
              "      <th>loan</th>\n",
              "      <th>c#default</th>\n",
              "    </tr>\n",
              "  </thead>\n",
              "  <tbody>\n",
              "    <tr>\n",
              "      <th>28</th>\n",
              "      <td>29</td>\n",
              "      <td>59417.805406</td>\n",
              "      <td>NaN</td>\n",
              "      <td>2082.625938</td>\n",
              "      <td>0</td>\n",
              "    </tr>\n",
              "    <tr>\n",
              "      <th>30</th>\n",
              "      <td>31</td>\n",
              "      <td>48528.852796</td>\n",
              "      <td>NaN</td>\n",
              "      <td>6155.784670</td>\n",
              "      <td>0</td>\n",
              "    </tr>\n",
              "    <tr>\n",
              "      <th>31</th>\n",
              "      <td>32</td>\n",
              "      <td>23526.302555</td>\n",
              "      <td>NaN</td>\n",
              "      <td>2862.010139</td>\n",
              "      <td>0</td>\n",
              "    </tr>\n",
              "  </tbody>\n",
              "</table>\n",
              "</div>"
            ],
            "text/plain": [
              "    i#clientid        income  age         loan  c#default\n",
              "28          29  59417.805406  NaN  2082.625938          0\n",
              "30          31  48528.852796  NaN  6155.784670          0\n",
              "31          32  23526.302555  NaN  2862.010139          0"
            ]
          },
          "metadata": {
            "tags": []
          },
          "execution_count": 16
        }
      ]
    },
    {
      "cell_type": "markdown",
      "metadata": {
        "id": "Vdn3elF03f_l"
      },
      "source": [
        "- Para fazer a correção dos dados faltantes, uma solução é a utilização do sklearn.impute com o SimpleImputer."
      ]
    },
    {
      "cell_type": "code",
      "metadata": {
        "id": "CA3d1P9c4Xw3"
      },
      "source": [
        "previsores = base.iloc[:, 1:4].values\n",
        "classe = base.iloc[:, 4].values"
      ],
      "execution_count": 17,
      "outputs": []
    },
    {
      "cell_type": "markdown",
      "metadata": {
        "id": "6n-qwC0zT7YG"
      },
      "source": [
        "- Fazendo a divisão da base para prever os valores."
      ]
    },
    {
      "cell_type": "code",
      "metadata": {
        "id": "_mfU9w4m42Ro",
        "colab": {
          "base_uri": "https://localhost:8080/"
        },
        "outputId": "acae661f-0dc3-4ccf-f869-af1815a09411"
      },
      "source": [
        "imputer = SimpleImputer(strategy = 'mean')\n",
        "imputer = imputer.fit(previsores[:, 0:3])\n",
        "previsores[:, 0:3] = imputer.transform(previsores[:, 0:3])\n",
        "previsores[28:31]"
      ],
      "execution_count": 18,
      "outputs": [
        {
          "output_type": "execute_result",
          "data": {
            "text/plain": [
              "array([[5.94178054e+04, 4.09277004e+01, 2.08262594e+03],\n",
              "       [5.88428913e+04, 5.45109476e+01, 1.08711868e+04],\n",
              "       [4.85288528e+04, 4.09277004e+01, 6.15578467e+03]])"
            ]
          },
          "metadata": {
            "tags": []
          },
          "execution_count": 18
        }
      ]
    },
    {
      "cell_type": "markdown",
      "metadata": {
        "id": "CLZDImMGgxiu"
      },
      "source": [
        "- O resultado da utilização do SimpleImputer para consertar os dados faltantes na base."
      ]
    },
    {
      "cell_type": "markdown",
      "metadata": {
        "id": "EaQUaxFxWoZd"
      },
      "source": [
        "## Escalonando os dados\n",
        "Como os dados da renda em relação aos dados da idade são bem discrepantes, possivelmente, o modelo daria uma preferência maior para os valores que estão na renda do que em nos valores da idade.\n",
        " \n",
        "Assim é necessário fazer o ajuste de escala para entre esses valores para que a predição aconteça com maior certeza em relação a algoritmos baseados em distância euclidiana (KNN).\n"
      ]
    },
    {
      "cell_type": "markdown",
      "metadata": {
        "id": "vtMe0tgPaJf1"
      },
      "source": [
        "Assim é possível utilizar dois métodos para fazer o escalonamento que são o da Padronização (Standardisation) e o Normalização (Normalization)\n",
        " \n",
        "Padronização\n",
        "![Capturar2.PNG](data:image/png;base64,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)\n",
        "\n",
        "\n",
        "\n"
      ]
    },
    {
      "cell_type": "markdown",
      "metadata": {
        "id": "Fgkrmgz8cy0U"
      },
      "source": [
        "Normalização\n",
        "![Capturar.PNG](data:image/png;base64,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)"
      ]
    },
    {
      "cell_type": "markdown",
      "metadata": {
        "id": "M7DxY7i8dLZY"
      },
      "source": [
        "Assim, utilizando o sklearn para fazer os cálculos dos escalonamentos temos:"
      ]
    },
    {
      "cell_type": "code",
      "metadata": {
        "id": "qB6lRjP6deQK",
        "colab": {
          "base_uri": "https://localhost:8080/"
        },
        "outputId": "b9c2782b-ec3d-4fd0-bc9f-acb7fe8334ae"
      },
      "source": [
        "scaler = StandardScaler()\n",
        "previsores = scaler.fit_transform(previsores)\n",
        "previsores"
      ],
      "execution_count": 19,
      "outputs": [
        {
          "output_type": "execute_result",
          "data": {
            "text/plain": [
              "array([[ 1.45393393,  1.36538005,  1.20281942],\n",
              "       [-0.76217555,  0.54265932,  0.69642695],\n",
              "       [ 0.83682073,  1.67417101,  1.17471147],\n",
              "       ...,\n",
              "       [-0.07122592, -0.97448606,  0.35420081],\n",
              "       [-0.11000289,  1.73936652, -0.92675625],\n",
              "       [ 1.682986  ,  1.14917551,  0.96381038]])"
            ]
          },
          "metadata": {
            "tags": []
          },
          "execution_count": 19
        }
      ]
    },
    {
      "cell_type": "markdown",
      "metadata": {
        "id": "hyIrQazteBv-"
      },
      "source": [
        "- Agora com esse ajuste da escala, não existe a diferença relevante entre a renda e a idade."
      ]
    },
    {
      "cell_type": "markdown",
      "metadata": {
        "id": "Jsi6q8rOEYYk"
      },
      "source": [
        "# 6 - Divisão da base em treino e teste"
      ]
    },
    {
      "cell_type": "markdown",
      "metadata": {
        "id": "P_o5XxZPSP6y"
      },
      "source": [
        "## 6.1 - Fazendo a divisão dos previsores e das classes"
      ]
    },
    {
      "cell_type": "code",
      "metadata": {
        "id": "Ied4_l0S9OYq"
      },
      "source": [
        "previsores_treinamento, previsores_teste, classe_treinamento, classe_teste = train_test_split(previsores, classe, test_size=0.25, random_state=0)"
      ],
      "execution_count": 20,
      "outputs": []
    },
    {
      "cell_type": "code",
      "metadata": {
        "colab": {
          "base_uri": "https://localhost:8080/"
        },
        "id": "8zj21NZa9r9N",
        "outputId": "797f687f-4af1-4c00-c681-f65527815bb8"
      },
      "source": [
        "previsores_treinamento.shape, previsores_teste.shape, classe_treinamento.shape, classe_teste.shape"
      ],
      "execution_count": 21,
      "outputs": [
        {
          "output_type": "execute_result",
          "data": {
            "text/plain": [
              "((1500, 3), (500, 3), (1500,), (500,))"
            ]
          },
          "metadata": {
            "tags": []
          },
          "execution_count": 21
        }
      ]
    },
    {
      "cell_type": "markdown",
      "metadata": {
        "id": "vmzqf8v6SWpQ"
      },
      "source": [
        "## 6.2 - Verificando o valor da linha base (Baseline)"
      ]
    },
    {
      "cell_type": "code",
      "metadata": {
        "colab": {
          "base_uri": "https://localhost:8080/"
        },
        "id": "Pv5wWqygShk6",
        "outputId": "9f17de2c-08e5-473f-a6eb-6d6451182486"
      },
      "source": [
        "collections.Counter(classe_teste)"
      ],
      "execution_count": 22,
      "outputs": [
        {
          "output_type": "execute_result",
          "data": {
            "text/plain": [
              "Counter({0: 436, 1: 64})"
            ]
          },
          "metadata": {
            "tags": []
          },
          "execution_count": 22
        }
      ]
    },
    {
      "cell_type": "markdown",
      "metadata": {
        "id": "g5k9NF4eTdOK"
      },
      "source": [
        "- Podemos notar que a acurácia base em que os modelos serão considerados bons é de **87,2%**"
      ]
    },
    {
      "cell_type": "markdown",
      "metadata": {
        "id": "cPEH_ZvREeqa"
      },
      "source": [
        "# 7 - Criação do modelo"
      ]
    },
    {
      "cell_type": "markdown",
      "metadata": {
        "id": "Qo8JWTJFqxlR"
      },
      "source": [
        "## 7.1 - Utilizando o modelo de Regressão Logística"
      ]
    },
    {
      "cell_type": "markdown",
      "metadata": {
        "id": "sw-5gdaBElzC"
      },
      "source": [
        "### 7.1.1 - Criando a predição"
      ]
    },
    {
      "cell_type": "code",
      "metadata": {
        "colab": {
          "base_uri": "https://localhost:8080/"
        },
        "id": "zQQLGZmYBMRP",
        "outputId": "ea54be7f-bb5a-41dc-f59f-8a36f3effb0e"
      },
      "source": [
        "modelo_logistica_regressao = LogisticRegression(random_state=1)\n",
        "modelo_logistica_regressao.fit(previsores_treinamento, classe_treinamento)"
      ],
      "execution_count": 23,
      "outputs": [
        {
          "output_type": "execute_result",
          "data": {
            "text/plain": [
              "LogisticRegression(C=1.0, class_weight=None, dual=False, fit_intercept=True,\n",
              "                   intercept_scaling=1, l1_ratio=None, max_iter=100,\n",
              "                   multi_class='auto', n_jobs=None, penalty='l2',\n",
              "                   random_state=1, solver='lbfgs', tol=0.0001, verbose=0,\n",
              "                   warm_start=False)"
            ]
          },
          "metadata": {
            "tags": []
          },
          "execution_count": 23
        }
      ]
    },
    {
      "cell_type": "code",
      "metadata": {
        "id": "bntagCLDBUgy"
      },
      "source": [
        "predicoes = modelo_logistica_regressao.predict(previsores_teste)"
      ],
      "execution_count": 24,
      "outputs": []
    },
    {
      "cell_type": "markdown",
      "metadata": {
        "id": "18B35jHxEsLT"
      },
      "source": [
        "### 7.1.2 - Resultado da predição"
      ]
    },
    {
      "cell_type": "code",
      "metadata": {
        "colab": {
          "base_uri": "https://localhost:8080/"
        },
        "id": "_JBlSVSSBceB",
        "outputId": "2a4945eb-1d6b-4a83-cd50-962ed49c1bb5"
      },
      "source": [
        "print(classification_report(classe_teste, predicoes))"
      ],
      "execution_count": 25,
      "outputs": [
        {
          "output_type": "stream",
          "text": [
            "              precision    recall  f1-score   support\n",
            "\n",
            "           0       0.97      0.97      0.97       436\n",
            "           1       0.79      0.78      0.79        64\n",
            "\n",
            "    accuracy                           0.95       500\n",
            "   macro avg       0.88      0.88      0.88       500\n",
            "weighted avg       0.95      0.95      0.95       500\n",
            "\n"
          ],
          "name": "stdout"
        }
      ]
    },
    {
      "cell_type": "code",
      "metadata": {
        "colab": {
          "base_uri": "https://localhost:8080/",
          "height": 0
        },
        "id": "bRq-EpnsvkB8",
        "outputId": "98e84e96-3611-4eab-8c9d-e6d2e20ee451"
      },
      "source": [
        "disp = plot_confusion_matrix(modelo_logistica_regressao, previsores_teste, classe_teste, values_format=\"d\")\r\n",
        "print(disp)\r\n",
        "plt.show()"
      ],
      "execution_count": 26,
      "outputs": [
        {
          "output_type": "stream",
          "text": [
            "<sklearn.metrics._plot.confusion_matrix.ConfusionMatrixDisplay object at 0x7febfdf51390>\n"
          ],
          "name": "stdout"
        },
        {
          "output_type": "display_data",
          "data": {
            "image/png": "[encoded data removed]",
            "text/plain": [
              "<Figure size 432x288 with 2 Axes>"
            ]
          },
          "metadata": {
            "tags": [],
            "needs_background": "light"
          }
        }
      ]
    },
    {
      "cell_type": "markdown",
      "metadata": {
        "id": "iCo2WtLXrOPe"
      },
      "source": [
        "## 7.2 - Utilizando o modelo de Neive Bayes"
      ]
    },
    {
      "cell_type": "markdown",
      "metadata": {
        "id": "xcOP8fqMye15"
      },
      "source": [
        "### 7.2.1 - Criando a predição"
      ]
    },
    {
      "cell_type": "code",
      "metadata": {
        "id": "T9BejV5erV0y"
      },
      "source": [
        "classificador  = GaussianNB()"
      ],
      "execution_count": 27,
      "outputs": []
    },
    {
      "cell_type": "code",
      "metadata": {
        "colab": {
          "base_uri": "https://localhost:8080/"
        },
        "id": "U2NsW66_rcGj",
        "outputId": "7d9e77b3-d704-4754-c911-33070658defa"
      },
      "source": [
        "classificador.fit(previsores_treinamento, classe_treinamento)"
      ],
      "execution_count": 28,
      "outputs": [
        {
          "output_type": "execute_result",
          "data": {
            "text/plain": [
              "GaussianNB(priors=None, var_smoothing=1e-09)"
            ]
          },
          "metadata": {
            "tags": []
          },
          "execution_count": 28
        }
      ]
    },
    {
      "cell_type": "code",
      "metadata": {
        "id": "3NSu8a9irZgS"
      },
      "source": [
        "previsoes_NB = classificador.predict(previsores_teste)"
      ],
      "execution_count": 29,
      "outputs": []
    },
    {
      "cell_type": "markdown",
      "metadata": {
        "id": "U7eNC_mYylJB"
      },
      "source": [
        "### 7.2.2 - Resultado da predição"
      ]
    },
    {
      "cell_type": "code",
      "metadata": {
        "colab": {
          "base_uri": "https://localhost:8080/"
        },
        "id": "mjTBNqFhr-tF",
        "outputId": "15a555f6-080d-4206-dff7-36588f9c657d"
      },
      "source": [
        "print(classification_report(classe_teste, previsoes_NB))"
      ],
      "execution_count": 30,
      "outputs": [
        {
          "output_type": "stream",
          "text": [
            "              precision    recall  f1-score   support\n",
            "\n",
            "           0       0.95      0.98      0.97       436\n",
            "           1       0.84      0.64      0.73        64\n",
            "\n",
            "    accuracy                           0.94       500\n",
            "   macro avg       0.89      0.81      0.85       500\n",
            "weighted avg       0.93      0.94      0.93       500\n",
            "\n"
          ],
          "name": "stdout"
        }
      ]
    },
    {
      "cell_type": "code",
      "metadata": {
        "colab": {
          "base_uri": "https://localhost:8080/",
          "height": 0
        },
        "id": "67UlBAYBs6R5",
        "outputId": "9b005f64-c17c-4cc1-9f55-0b17b5abda08"
      },
      "source": [
        "disp = plot_confusion_matrix(classificador, previsores_teste, classe_teste, values_format=\"d\")\r\n",
        "print(disp)\r\n",
        "plt.show()"
      ],
      "execution_count": 31,
      "outputs": [
        {
          "output_type": "stream",
          "text": [
            "<sklearn.metrics._plot.confusion_matrix.ConfusionMatrixDisplay object at 0x7febfceba710>\n"
          ],
          "name": "stdout"
        },
        {
          "output_type": "display_data",
          "data": {
            "image/png": "[encoded data removed]",
            "text/plain": [
              "<Figure size 432x288 with 2 Axes>"
            ]
          },
          "metadata": {
            "tags": [],
            "needs_background": "light"
          }
        }
      ]
    },
    {
      "cell_type": "markdown",
      "metadata": {
        "id": "Y8tZYjbKMw_M"
      },
      "source": [
        "## 7.3 - Utilizando Árvore de Decisão"
      ]
    },
    {
      "cell_type": "markdown",
      "metadata": {
        "id": "Fub93hp4M5Lz"
      },
      "source": [
        "### 7.3.1 - Criando a predição"
      ]
    },
    {
      "cell_type": "code",
      "metadata": {
        "id": "3DzupyzZNFsD"
      },
      "source": [
        "classificador_DT = DecisionTreeClassifier(criterion = 'entropy', random_state=0)"
      ],
      "execution_count": 32,
      "outputs": []
    },
    {
      "cell_type": "code",
      "metadata": {
        "colab": {
          "base_uri": "https://localhost:8080/"
        },
        "id": "uGyxUPEbNFud",
        "outputId": "051c4927-3b3b-4ccf-b870-ca8ccadc1f81"
      },
      "source": [
        "classificador_DT.fit(previsores_treinamento, classe_treinamento)"
      ],
      "execution_count": 33,
      "outputs": [
        {
          "output_type": "execute_result",
          "data": {
            "text/plain": [
              "DecisionTreeClassifier(ccp_alpha=0.0, class_weight=None, criterion='entropy',\n",
              "                       max_depth=None, max_features=None, max_leaf_nodes=None,\n",
              "                       min_impurity_decrease=0.0, min_impurity_split=None,\n",
              "                       min_samples_leaf=1, min_samples_split=2,\n",
              "                       min_weight_fraction_leaf=0.0, presort='deprecated',\n",
              "                       random_state=0, splitter='best')"
            ]
          },
          "metadata": {
            "tags": []
          },
          "execution_count": 33
        }
      ]
    },
    {
      "cell_type": "code",
      "metadata": {
        "id": "XQ28YasYNFw3"
      },
      "source": [
        "previsoes_DT = classificador_DT.predict(previsores_teste)"
      ],
      "execution_count": 34,
      "outputs": []
    },
    {
      "cell_type": "markdown",
      "metadata": {
        "id": "Ap2ERQd6M9Vr"
      },
      "source": [
        "### 7.3.2 - Resultados"
      ]
    },
    {
      "cell_type": "code",
      "metadata": {
        "colab": {
          "base_uri": "https://localhost:8080/"
        },
        "id": "40J0XWgiM3bt",
        "outputId": "c58e4a12-75ed-401b-e4bc-cbb5226ae37e"
      },
      "source": [
        "print(classification_report(classe_teste, previsoes_DT))"
      ],
      "execution_count": 35,
      "outputs": [
        {
          "output_type": "stream",
          "text": [
            "              precision    recall  f1-score   support\n",
            "\n",
            "           0       0.99      0.99      0.99       436\n",
            "           1       0.91      0.95      0.93        64\n",
            "\n",
            "    accuracy                           0.98       500\n",
            "   macro avg       0.95      0.97      0.96       500\n",
            "weighted avg       0.98      0.98      0.98       500\n",
            "\n"
          ],
          "name": "stdout"
        }
      ]
    },
    {
      "cell_type": "code",
      "metadata": {
        "colab": {
          "base_uri": "https://localhost:8080/",
          "height": 0
        },
        "id": "cZldRQSfN0yO",
        "outputId": "a3473193-e3c6-4adf-bddc-95dcf402a634"
      },
      "source": [
        "disp = plot_confusion_matrix(classificador_DT, previsores_teste, classe_teste, values_format=\"d\")\r\n",
        "print(disp)\r\n",
        "plt.show()"
      ],
      "execution_count": 36,
      "outputs": [
        {
          "output_type": "stream",
          "text": [
            "<sklearn.metrics._plot.confusion_matrix.ConfusionMatrixDisplay object at 0x7febfce597f0>\n"
          ],
          "name": "stdout"
        },
        {
          "output_type": "display_data",
          "data": {
            "image/png": "[encoded data removed]",
            "text/plain": [
              "<Figure size 432x288 with 2 Axes>"
            ]
          },
          "metadata": {
            "tags": [],
            "needs_background": "light"
          }
        }
      ]
    },
    {
      "cell_type": "markdown",
      "metadata": {
        "id": "BQIecJX_DAgC"
      },
      "source": [
        "## 7.4 - Utilizando Árvores Randomicas"
      ]
    },
    {
      "cell_type": "markdown",
      "metadata": {
        "id": "stLKTMznDHcz"
      },
      "source": [
        "### 7.4.1 - Criando a predição"
      ]
    },
    {
      "cell_type": "code",
      "metadata": {
        "id": "PneM-dQNDNlK"
      },
      "source": [
        "classificador_RF = RandomForestClassifier(n_estimators = 40, criterion = 'entropy', random_state = 0, )"
      ],
      "execution_count": 37,
      "outputs": []
    },
    {
      "cell_type": "code",
      "metadata": {
        "colab": {
          "base_uri": "https://localhost:8080/"
        },
        "id": "iABfj_ikDNwL",
        "outputId": "c92d1ce0-bf46-47d2-8889-a7592dc89422"
      },
      "source": [
        "classificador_RF.fit(previsores_treinamento, classe_treinamento)"
      ],
      "execution_count": 38,
      "outputs": [
        {
          "output_type": "execute_result",
          "data": {
            "text/plain": [
              "RandomForestClassifier(bootstrap=True, ccp_alpha=0.0, class_weight=None,\n",
              "                       criterion='entropy', max_depth=None, max_features='auto',\n",
              "                       max_leaf_nodes=None, max_samples=None,\n",
              "                       min_impurity_decrease=0.0, min_impurity_split=None,\n",
              "                       min_samples_leaf=1, min_samples_split=2,\n",
              "                       min_weight_fraction_leaf=0.0, n_estimators=40,\n",
              "                       n_jobs=None, oob_score=False, random_state=0, verbose=0,\n",
              "                       warm_start=False)"
            ]
          },
          "metadata": {
            "tags": []
          },
          "execution_count": 38
        }
      ]
    },
    {
      "cell_type": "code",
      "metadata": {
        "id": "6sijqz7pDN5I"
      },
      "source": [
        "previsao_RF = classificador_RF.predict(previsores_teste)"
      ],
      "execution_count": 39,
      "outputs": []
    },
    {
      "cell_type": "markdown",
      "metadata": {
        "id": "AN3WgOUxDKxk"
      },
      "source": [
        "### 7.4.2 - Resultado da predição"
      ]
    },
    {
      "cell_type": "code",
      "metadata": {
        "colab": {
          "base_uri": "https://localhost:8080/"
        },
        "id": "5GkBQxtNDEVC",
        "outputId": "0c65dc05-5317-4501-b2d3-2e94d3fbd5c5"
      },
      "source": [
        "print(classification_report(classe_teste, previsao_RF))"
      ],
      "execution_count": 40,
      "outputs": [
        {
          "output_type": "stream",
          "text": [
            "              precision    recall  f1-score   support\n",
            "\n",
            "           0       0.99      0.99      0.99       436\n",
            "           1       0.95      0.92      0.94        64\n",
            "\n",
            "    accuracy                           0.98       500\n",
            "   macro avg       0.97      0.96      0.96       500\n",
            "weighted avg       0.98      0.98      0.98       500\n",
            "\n"
          ],
          "name": "stdout"
        }
      ]
    },
    {
      "cell_type": "code",
      "metadata": {
        "colab": {
          "base_uri": "https://localhost:8080/",
          "height": 0
        },
        "id": "WWLfv8aRD7Jo",
        "outputId": "0679a988-2d9c-427a-ed41-e31930d660f8"
      },
      "source": [
        "disp = plot_confusion_matrix(classificador_RF, previsores_teste, classe_teste, values_format=\"d\")\r\n",
        "print(disp)\r\n",
        "plt.show()"
      ],
      "execution_count": 41,
      "outputs": [
        {
          "output_type": "stream",
          "text": [
            "<sklearn.metrics._plot.confusion_matrix.ConfusionMatrixDisplay object at 0x7febfcdded30>\n"
          ],
          "name": "stdout"
        },
        {
          "output_type": "display_data",
          "data": {
            "image/png": "[encoded data removed]",
            "text/plain": [
              "<Figure size 432x288 with 2 Axes>"
            ]
          },
          "metadata": {
            "tags": [],
            "needs_background": "light"
          }
        }
      ]
    },
    {
      "cell_type": "markdown",
      "metadata": {
        "id": "PnpmdvhvV5pc"
      },
      "source": [
        "## 7.5 - Utilizando KNN"
      ]
    },
    {
      "cell_type": "markdown",
      "metadata": {
        "id": "whbP8BPbV-BC"
      },
      "source": [
        "### 7.5.1 - Criando a predição"
      ]
    },
    {
      "cell_type": "code",
      "metadata": {
        "id": "F3jZksC9WH6j"
      },
      "source": [
        "classificador_KNN = KNeighborsClassifier()"
      ],
      "execution_count": 42,
      "outputs": []
    },
    {
      "cell_type": "code",
      "metadata": {
        "colab": {
          "base_uri": "https://localhost:8080/"
        },
        "id": "axtmWufFWH9D",
        "outputId": "8fd01884-e0c2-46a3-9d5b-0c8aa5746fd3"
      },
      "source": [
        "classificador_KNN.fit(previsores_treinamento, classe_treinamento)"
      ],
      "execution_count": 43,
      "outputs": [
        {
          "output_type": "execute_result",
          "data": {
            "text/plain": [
              "KNeighborsClassifier(algorithm='auto', leaf_size=30, metric='minkowski',\n",
              "                     metric_params=None, n_jobs=None, n_neighbors=5, p=2,\n",
              "                     weights='uniform')"
            ]
          },
          "metadata": {
            "tags": []
          },
          "execution_count": 43
        }
      ]
    },
    {
      "cell_type": "code",
      "metadata": {
        "id": "3RSMrpaqWt7Q"
      },
      "source": [
        "previsao_KNN = classificador_KNN.predict(previsores_teste)"
      ],
      "execution_count": 44,
      "outputs": []
    },
    {
      "cell_type": "markdown",
      "metadata": {
        "id": "F9dYoGtcWDwT"
      },
      "source": [
        "### 7.5.2 - Resultados da predição"
      ]
    },
    {
      "cell_type": "code",
      "metadata": {
        "colab": {
          "base_uri": "https://localhost:8080/"
        },
        "id": "EfgrbcyfWDHh",
        "outputId": "2f32c4d0-124b-47b6-817d-03c5e5e444c8"
      },
      "source": [
        "print(classification_report(classe_teste, previsao_KNN))"
      ],
      "execution_count": 45,
      "outputs": [
        {
          "output_type": "stream",
          "text": [
            "              precision    recall  f1-score   support\n",
            "\n",
            "           0       0.99      0.99      0.99       436\n",
            "           1       0.94      0.95      0.95        64\n",
            "\n",
            "    accuracy                           0.99       500\n",
            "   macro avg       0.97      0.97      0.97       500\n",
            "weighted avg       0.99      0.99      0.99       500\n",
            "\n"
          ],
          "name": "stdout"
        }
      ]
    },
    {
      "cell_type": "code",
      "metadata": {
        "colab": {
          "base_uri": "https://localhost:8080/",
          "height": 296
        },
        "id": "DnYuuACoWzw_",
        "outputId": "99ea4172-2340-44ba-9b61-894e5002f614"
      },
      "source": [
        "disp = plot_confusion_matrix(classificador_KNN, previsores_teste, classe_teste, values_format=\"d\")\r\n",
        "print(disp)\r\n",
        "plt.show()"
      ],
      "execution_count": 46,
      "outputs": [
        {
          "output_type": "stream",
          "text": [
            "<sklearn.metrics._plot.confusion_matrix.ConfusionMatrixDisplay object at 0x7febfcd28438>\n"
          ],
          "name": "stdout"
        },
        {
          "output_type": "display_data",
          "data": {
            "image/png": "[encoded data removed]",
            "text/plain": [
              "<Figure size 432x288 with 2 Axes>"
            ]
          },
          "metadata": {
            "tags": [],
            "needs_background": "light"
          }
        }
      ]
    },
    {
      "cell_type": "markdown",
      "metadata": {
        "id": "VO9bStOFMyjo"
      },
      "source": [
        "## 7.6 - Utilizando SVM"
      ]
    },
    {
      "cell_type": "markdown",
      "metadata": {
        "id": "IOSu33RjNAdi"
      },
      "source": [
        "### 7.6.1 - Criando a predição"
      ]
    },
    {
      "cell_type": "code",
      "metadata": {
        "id": "hb8tCdOSNI9r"
      },
      "source": [
        "classificador_SVC = SVC(kernel='rbf', random_state=1, C=2.0)"
      ],
      "execution_count": 47,
      "outputs": []
    },
    {
      "cell_type": "code",
      "metadata": {
        "colab": {
          "base_uri": "https://localhost:8080/"
        },
        "id": "xLehX1qVNjrl",
        "outputId": "b18b58b6-5f34-402f-ca6c-7189472c0e6b"
      },
      "source": [
        "classificador_SVC.fit(previsores_treinamento, classe_treinamento)"
      ],
      "execution_count": 48,
      "outputs": [
        {
          "output_type": "execute_result",
          "data": {
            "text/plain": [
              "SVC(C=2.0, break_ties=False, cache_size=200, class_weight=None, coef0=0.0,\n",
              "    decision_function_shape='ovr', degree=3, gamma='scale', kernel='rbf',\n",
              "    max_iter=-1, probability=False, random_state=1, shrinking=True, tol=0.001,\n",
              "    verbose=False)"
            ]
          },
          "metadata": {
            "tags": []
          },
          "execution_count": 48
        }
      ]
    },
    {
      "cell_type": "code",
      "metadata": {
        "id": "ED2lMEWZNjv4"
      },
      "source": [
        "previsao_SVC = classificador_SVC.predict(previsores_teste)"
      ],
      "execution_count": 49,
      "outputs": []
    },
    {
      "cell_type": "markdown",
      "metadata": {
        "id": "Lf5a9RmNNArc"
      },
      "source": [
        "### 7.6.2 - Resultados da predição"
      ]
    },
    {
      "cell_type": "code",
      "metadata": {
        "colab": {
          "base_uri": "https://localhost:8080/"
        },
        "id": "xtXSwSbJM_yi",
        "outputId": "51e72799-8640-4cb5-9685-8fc8a23fc155"
      },
      "source": [
        "print(classification_report(classe_teste, previsao_SVC))"
      ],
      "execution_count": 50,
      "outputs": [
        {
          "output_type": "stream",
          "text": [
            "              precision    recall  f1-score   support\n",
            "\n",
            "           0       0.99      1.00      0.99       436\n",
            "           1       0.97      0.94      0.95        64\n",
            "\n",
            "    accuracy                           0.99       500\n",
            "   macro avg       0.98      0.97      0.97       500\n",
            "weighted avg       0.99      0.99      0.99       500\n",
            "\n"
          ],
          "name": "stdout"
        }
      ]
    },
    {
      "cell_type": "code",
      "metadata": {
        "colab": {
          "base_uri": "https://localhost:8080/",
          "height": 296
        },
        "id": "CIhpOdo9N3It",
        "outputId": "9f832863-707e-40ab-8d27-f61c8d9537e2"
      },
      "source": [
        "disp = plot_confusion_matrix(classificador_SVC, previsores_teste, classe_teste, values_format=\"d\")\r\n",
        "print(disp)\r\n",
        "plt.show()"
      ],
      "execution_count": 51,
      "outputs": [
        {
          "output_type": "stream",
          "text": [
            "<sklearn.metrics._plot.confusion_matrix.ConfusionMatrixDisplay object at 0x7febfcd28828>\n"
          ],
          "name": "stdout"
        },
        {
          "output_type": "display_data",
          "data": {
            "image/png": "[encoded data removed]",
            "text/plain": [
              "<Figure size 432x288 with 2 Axes>"
            ]
          },
          "metadata": {
            "tags": [],
            "needs_background": "light"
          }
        }
      ]
    }
  ]
}