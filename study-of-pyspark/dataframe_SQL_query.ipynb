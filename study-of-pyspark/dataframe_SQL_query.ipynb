{
  "nbformat": 4,
  "nbformat_minor": 0,
  "metadata": {
    "colab": {
      "name": "dataframe_SQL_query.ipynb",
      "provenance": []
    },
    "kernelspec": {
      "name": "python3",
      "display_name": "Python 3"
    },
    "language_info": {
      "name": "python"
    }
  },
  "cells": [
    {
      "cell_type": "markdown",
      "metadata": {
        "id": "M3SqsV-1MM0z"
      },
      "source": [
        "# Dataframe executando consulta SQL"
      ]
    },
    {
      "cell_type": "markdown",
      "metadata": {
        "id": "tjkpAph4Lx7C"
      },
      "source": [
        "## Instalação dos componentes relacionado ao Spark"
      ]
    },
    {
      "cell_type": "code",
      "metadata": {
        "id": "WFdRhNlKLjEA"
      },
      "source": [
        "!apt-get install openjdk-8-jdk-headless -qq > /dev/null\n",
        "!wget -q https://archive.apache.org/dist/spark/spark-2.4.4/spark-2.4.4-bin-hadoop2.7.tgz\n",
        "!tar xf spark-2.4.4-bin-hadoop2.7.tgz\n",
        "!pip install -q findspark"
      ],
      "execution_count": 1,
      "outputs": []
    },
    {
      "cell_type": "code",
      "metadata": {
        "id": "sXCfmiJpL6FK"
      },
      "source": [
        "import os\n",
        "import findspark\n",
        "\n",
        "os.environ[\"JAVA_HOME\"] = \"/usr/lib/jvm/java-8-openjdk-amd64\"\n",
        "os.environ[\"SPARK_HOME\"] = \"/content/spark-2.4.4-bin-hadoop2.7\"\n",
        "findspark.init('spark-2.4.4-bin-hadoop2.7')"
      ],
      "execution_count": 2,
      "outputs": []
    },
    {
      "cell_type": "markdown",
      "metadata": {
        "id": "_pr6C0iEL9yC"
      },
      "source": [
        "## Importação das Bibliotecas"
      ]
    },
    {
      "cell_type": "code",
      "metadata": {
        "id": "FoXRA8ioL7wD"
      },
      "source": [
        "import pyspark\n",
        "from pyspark import SparkContext as sc\n",
        "from pyspark.sql import SparkSession"
      ],
      "execution_count": 3,
      "outputs": []
    },
    {
      "cell_type": "markdown",
      "metadata": {
        "id": "ecEb2FW3NQo_"
      },
      "source": [
        "## Desenvolvimento"
      ]
    },
    {
      "cell_type": "markdown",
      "metadata": {
        "id": "EXFyXxkuNch6"
      },
      "source": [
        "### Criando uam SparkSession e lendo o arquivo CSV"
      ]
    },
    {
      "cell_type": "code",
      "metadata": {
        "id": "1iXIb_XVNMu7"
      },
      "source": [
        "spark1 = SparkSession.builder.appName('SQL').getOrCreate()"
      ],
      "execution_count": 4,
      "outputs": []
    },
    {
      "cell_type": "code",
      "metadata": {
        "colab": {
          "base_uri": "https://localhost:8080/"
        },
        "id": "RcC_9_n5Np6k",
        "outputId": "e68209c3-f8b9-4e5b-b011-35a7d889ca5c"
      },
      "source": [
        "PATH = '/content/drive/MyDrive/Colab Notebooks/Estudos/Spark/base/appl_stock.csv'\n",
        "df = spark1.read.csv(PATH, inferSchema = True, header = True)\n",
        "df.printSchema()"
      ],
      "execution_count": 5,
      "outputs": [
        {
          "output_type": "stream",
          "text": [
            "root\n",
            " |-- Date: timestamp (nullable = true)\n",
            " |-- Open: double (nullable = true)\n",
            " |-- High: double (nullable = true)\n",
            " |-- Low: double (nullable = true)\n",
            " |-- Close: double (nullable = true)\n",
            " |-- Volume: integer (nullable = true)\n",
            " |-- Adj Close: double (nullable = true)\n",
            "\n"
          ],
          "name": "stdout"
        }
      ]
    },
    {
      "cell_type": "markdown",
      "metadata": {
        "id": "ZPXHBd08O5sq"
      },
      "source": [
        "### Criando uma nova visualização"
      ]
    },
    {
      "cell_type": "code",
      "metadata": {
        "id": "5s729Wg3O83H"
      },
      "source": [
        "df.createOrReplaceTempView('stock')"
      ],
      "execution_count": 6,
      "outputs": []
    },
    {
      "cell_type": "markdown",
      "metadata": {
        "id": "6z02qIsjPToD"
      },
      "source": [
        "### Executando um SQL simples sobre essa nova visualização"
      ]
    },
    {
      "cell_type": "code",
      "metadata": {
        "colab": {
          "base_uri": "https://localhost:8080/"
        },
        "id": "kRrrgx0yPBKx",
        "outputId": "cc81e8a4-e895-4581-8798-e78286e28f1a"
      },
      "source": [
        "result = spark1.sql(\"SELECT * FROM stock LIMIT 5\")\n",
        "result"
      ],
      "execution_count": 7,
      "outputs": [
        {
          "output_type": "execute_result",
          "data": {
            "text/plain": [
              "DataFrame[Date: timestamp, Open: double, High: double, Low: double, Close: double, Volume: int, Adj Close: double]"
            ]
          },
          "metadata": {
            "tags": []
          },
          "execution_count": 7
        }
      ]
    },
    {
      "cell_type": "code",
      "metadata": {
        "colab": {
          "base_uri": "https://localhost:8080/"
        },
        "id": "gLEFo-JBPfOH",
        "outputId": "78d06b5f-1977-492f-8f52-123ae5f7eef1"
      },
      "source": [
        "result.columns"
      ],
      "execution_count": 8,
      "outputs": [
        {
          "output_type": "execute_result",
          "data": {
            "text/plain": [
              "['Date', 'Open', 'High', 'Low', 'Close', 'Volume', 'Adj Close']"
            ]
          },
          "metadata": {
            "tags": []
          },
          "execution_count": 8
        }
      ]
    },
    {
      "cell_type": "code",
      "metadata": {
        "colab": {
          "base_uri": "https://localhost:8080/"
        },
        "id": "daTctiHnQEJ0",
        "outputId": "23306941-bc78-4886-db20-b4f5fca1e94a"
      },
      "source": [
        "result.show()"
      ],
      "execution_count": 9,
      "outputs": [
        {
          "output_type": "stream",
          "text": [
            "+-------------------+----------+----------+------------------+------------------+---------+------------------+\n",
            "|               Date|      Open|      High|               Low|             Close|   Volume|         Adj Close|\n",
            "+-------------------+----------+----------+------------------+------------------+---------+------------------+\n",
            "|2010-01-04 00:00:00|213.429998|214.499996|212.38000099999996|        214.009998|123432400|         27.727039|\n",
            "|2010-01-05 00:00:00|214.599998|215.589994|        213.249994|        214.379993|150476200|27.774976000000002|\n",
            "|2010-01-06 00:00:00|214.379993|    215.23|        210.750004|        210.969995|138040000|27.333178000000004|\n",
            "|2010-01-07 00:00:00|    211.75|212.000006|        209.050005|            210.58|119282800|          27.28265|\n",
            "|2010-01-08 00:00:00|210.299994|212.000006|209.06000500000002|211.98000499999998|111902700|         27.464034|\n",
            "+-------------------+----------+----------+------------------+------------------+---------+------------------+\n",
            "\n"
          ],
          "name": "stdout"
        }
      ]
    },
    {
      "cell_type": "markdown",
      "metadata": {
        "id": "OVVX7XRUQc06"
      },
      "source": [
        "### Resolvendo queries mais complexas"
      ]
    },
    {
      "cell_type": "code",
      "metadata": {
        "colab": {
          "base_uri": "https://localhost:8080/"
        },
        "id": "XKrC4V2RQGjI",
        "outputId": "43cee0fc-00dc-4a6d-ad40-6a88ac6c7351"
      },
      "source": [
        "# Buscando quantos elementos na coluna 'Close' são maiores que 500\n",
        "\n",
        "count_greater_500 = spark1.sql('SELECT COUNT(Close) FROM stock WHERE Close > 500')\n",
        "count_greater_500.show()"
      ],
      "execution_count": 10,
      "outputs": [
        {
          "output_type": "stream",
          "text": [
            "+------------+\n",
            "|count(Close)|\n",
            "+------------+\n",
            "|         403|\n",
            "+------------+\n",
            "\n"
          ],
          "name": "stdout"
        }
      ]
    },
    {
      "cell_type": "code",
      "metadata": {
        "colab": {
          "base_uri": "https://localhost:8080/"
        },
        "id": "p46_XSclRc-A",
        "outputId": "2843a173-03a8-4ee0-cfd7-a1a81861e61a"
      },
      "source": [
        "# Calculando a Média da coluna Volume entre maior que 120 milhões ou menor que 110 milhões\n",
        "\n",
        "avg_1 = spark1.sql('SELECT AVG(Open) FROM stock WHERE Volume > 120000000 OR Volume < 110000000')\n",
        "avg_1.show()"
      ],
      "execution_count": 11,
      "outputs": [
        {
          "output_type": "stream",
          "text": [
            "+------------------+\n",
            "|         avg(Open)|\n",
            "+------------------+\n",
            "|309.12406365290224|\n",
            "+------------------+\n",
            "\n"
          ],
          "name": "stdout"
        }
      ]
    },
    {
      "cell_type": "markdown",
      "metadata": {
        "id": "cQ5WjAEEQt4T"
      },
      "source": [
        "### Lendo um arquivo utilizando SQL"
      ]
    },
    {
      "cell_type": "code",
      "metadata": {
        "id": "obTS275QSLls",
        "colab": {
          "base_uri": "https://localhost:8080/"
        },
        "outputId": "c4125929-8e8b-4dae-e5f8-95a716d5685e"
      },
      "source": [
        "try:\n",
        "  df_sales = spark1.sql(f\"SELECT * FROM csv.`/content/drive/MyDrive/Colab Notebooks/Estudos/Spark/base/sales_info.csv`\")\n",
        "  df_sales.show()\n",
        "except:\n",
        "  print('Error ao executar a leitura do arquivo.')"
      ],
      "execution_count": 12,
      "outputs": [
        {
          "output_type": "stream",
          "text": [
            "+-------+-------+-----+\n",
            "|    _c0|    _c1|  _c2|\n",
            "+-------+-------+-----+\n",
            "|Company| Person|Sales|\n",
            "|   GOOG|    Sam|  200|\n",
            "|   GOOG|Charlie|  120|\n",
            "|   GOOG|  Frank|  340|\n",
            "|   MSFT|   Tina|  600|\n",
            "|   MSFT|    Amy|  124|\n",
            "|   MSFT|Vanessa|  243|\n",
            "|     FB|   Carl|  870|\n",
            "|     FB|  Sarah|  350|\n",
            "|   APPL|   John|  250|\n",
            "|   APPL|  Linda|  130|\n",
            "|   APPL|   Mike|  750|\n",
            "|   APPL|  Chris|  350|\n",
            "+-------+-------+-----+\n",
            "\n"
          ],
          "name": "stdout"
        }
      ]
    }
  ]
}