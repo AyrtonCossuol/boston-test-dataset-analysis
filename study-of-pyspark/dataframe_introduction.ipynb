{
  "nbformat": 4,
  "nbformat_minor": 0,
  "metadata": {
    "colab": {
      "name": "dataframe_introduction.ipynb",
      "provenance": []
    },
    "kernelspec": {
      "name": "python3",
      "display_name": "Python 3"
    },
    "language_info": {
      "name": "python"
    }
  },
  "cells": [
    {
      "cell_type": "markdown",
      "metadata": {
        "id": "u9MX2zk9VOrV"
      },
      "source": [
        "# Estudos relacionado ao DataFrame utilizando o Apache Spark."
      ]
    },
    {
      "cell_type": "markdown",
      "metadata": {
        "id": "nWT4-W4raOdY"
      },
      "source": [
        "### Instalação dos componentes relacionado ao Spark"
      ]
    },
    {
      "cell_type": "code",
      "metadata": {
        "id": "H9evnn8YTkYH"
      },
      "source": [
        "!apt-get install openjdk-8-jdk-headless -qq > /dev/null\n",
        "!wget -q https://archive.apache.org/dist/spark/spark-2.4.4/spark-2.4.4-bin-hadoop2.7.tgz\n",
        "!tar xf spark-2.4.4-bin-hadoop2.7.tgz\n",
        "!pip install -q findspark"
      ],
      "execution_count": 1,
      "outputs": []
    },
    {
      "cell_type": "code",
      "metadata": {
        "id": "aO0kiiwkUmlS"
      },
      "source": [
        "import os\n",
        "import findspark\n",
        "\n",
        "os.environ[\"JAVA_HOME\"] = \"/usr/lib/jvm/java-8-openjdk-amd64\"\n",
        "os.environ[\"SPARK_HOME\"] = \"/content/spark-2.4.4-bin-hadoop2.7\"\n",
        "findspark.init('spark-2.4.4-bin-hadoop2.7')"
      ],
      "execution_count": 2,
      "outputs": []
    },
    {
      "cell_type": "markdown",
      "metadata": {
        "id": "vW7YrAoyaet_"
      },
      "source": [
        "## Importação das Bibliotecas"
      ]
    },
    {
      "cell_type": "code",
      "metadata": {
        "id": "Lvp8sM5fU1Im"
      },
      "source": [
        "import pyspark\n",
        "from pyspark import SparkContext as sc\n",
        "from pyspark.sql import SparkSession\n",
        "from pyspark.sql.functions import desc\n",
        "from pyspark.sql.functions import corr, dayofweek, month"
      ],
      "execution_count": 3,
      "outputs": []
    },
    {
      "cell_type": "markdown",
      "metadata": {
        "id": "GWtx_rSFahlx"
      },
      "source": [
        "## Introdução ao DataFrame"
      ]
    },
    {
      "cell_type": "markdown",
      "metadata": {
        "id": "foT7AD7yWHjt"
      },
      "source": [
        "### Criando uma sessão com SparkSession"
      ]
    },
    {
      "cell_type": "code",
      "metadata": {
        "id": "gFlbXm6SVumC"
      },
      "source": [
        "spark1 = SparkSession.builder.appName('Basics').getOrCreate()"
      ],
      "execution_count": 4,
      "outputs": []
    },
    {
      "cell_type": "markdown",
      "metadata": {
        "id": "uBf7kZvDWyGp"
      },
      "source": [
        "### Leitura de um arquivo JSON "
      ]
    },
    {
      "cell_type": "code",
      "metadata": {
        "colab": {
          "base_uri": "https://localhost:8080/"
        },
        "id": "PzzCjfbYWVh4",
        "outputId": "ce3f917e-a142-497b-efc8-ec4252828b40"
      },
      "source": [
        "PATH = '/content/drive/MyDrive/Colab Notebooks/Estudos/Spark/base/people.json'\n",
        "df = spark1.read.json(PATH)\n",
        "df.show()"
      ],
      "execution_count": 5,
      "outputs": [
        {
          "output_type": "stream",
          "text": [
            "+----+-------+\n",
            "| age|   name|\n",
            "+----+-------+\n",
            "|null|Michael|\n",
            "|  30|   Andy|\n",
            "|  19| Justin|\n",
            "+----+-------+\n",
            "\n"
          ],
          "name": "stdout"
        }
      ]
    },
    {
      "cell_type": "markdown",
      "metadata": {
        "id": "EadJWJBQXSgW"
      },
      "source": [
        "### Esquema dos dados"
      ]
    },
    {
      "cell_type": "code",
      "metadata": {
        "colab": {
          "base_uri": "https://localhost:8080/"
        },
        "id": "sJSSypYaWuci",
        "outputId": "22fec271-c90b-438b-b8b5-dfbcf32985bd"
      },
      "source": [
        "# Esquema análogo ao SQL, onde pode incluir valores nulos\n",
        " \n",
        "df.printSchema()"
      ],
      "execution_count": 6,
      "outputs": [
        {
          "output_type": "stream",
          "text": [
            "root\n",
            " |-- age: long (nullable = true)\n",
            " |-- name: string (nullable = true)\n",
            "\n"
          ],
          "name": "stdout"
        }
      ]
    },
    {
      "cell_type": "markdown",
      "metadata": {
        "id": "XZOnk1zAX8k_"
      },
      "source": [
        "### Listagem das colunas do arquivo JSON"
      ]
    },
    {
      "cell_type": "code",
      "metadata": {
        "colab": {
          "base_uri": "https://localhost:8080/"
        },
        "id": "yzQOOPHTXUuu",
        "outputId": "a1de7a24-c9ef-4184-a810-197050e5c97e"
      },
      "source": [
        "df.columns"
      ],
      "execution_count": 7,
      "outputs": [
        {
          "output_type": "execute_result",
          "data": {
            "text/plain": [
              "['age', 'name']"
            ]
          },
          "metadata": {
            "tags": []
          },
          "execution_count": 7
        }
      ]
    },
    {
      "cell_type": "markdown",
      "metadata": {
        "id": "cplcJMdiYCZf"
      },
      "source": [
        "### Descrição Matemática do conteúdo"
      ]
    },
    {
      "cell_type": "code",
      "metadata": {
        "colab": {
          "base_uri": "https://localhost:8080/"
        },
        "id": "85EV5XvJXyI7",
        "outputId": "1002bab8-7e43-4741-a4a4-dd6fe1855f14"
      },
      "source": [
        "df.describe().show()"
      ],
      "execution_count": 8,
      "outputs": [
        {
          "output_type": "stream",
          "text": [
            "+-------+------------------+-------+\n",
            "|summary|               age|   name|\n",
            "+-------+------------------+-------+\n",
            "|  count|                 2|      3|\n",
            "|   mean|              24.5|   null|\n",
            "| stddev|7.7781745930520225|   null|\n",
            "|    min|                19|   Andy|\n",
            "|    max|                30|Michael|\n",
            "+-------+------------------+-------+\n",
            "\n"
          ],
          "name": "stdout"
        }
      ]
    },
    {
      "cell_type": "code",
      "metadata": {
        "colab": {
          "base_uri": "https://localhost:8080/"
        },
        "id": "kZNZ-cUJXz6l",
        "outputId": "d3d80f39-4974-4805-a037-5a27877ec398"
      },
      "source": [
        "df.summary().show()"
      ],
      "execution_count": 9,
      "outputs": [
        {
          "output_type": "stream",
          "text": [
            "+-------+------------------+-------+\n",
            "|summary|               age|   name|\n",
            "+-------+------------------+-------+\n",
            "|  count|                 2|      3|\n",
            "|   mean|              24.5|   null|\n",
            "| stddev|7.7781745930520225|   null|\n",
            "|    min|                19|   Andy|\n",
            "|    25%|                19|   null|\n",
            "|    50%|                19|   null|\n",
            "|    75%|                30|   null|\n",
            "|    max|                30|Michael|\n",
            "+-------+------------------+-------+\n",
            "\n"
          ],
          "name": "stdout"
        }
      ]
    },
    {
      "cell_type": "markdown",
      "metadata": {
        "id": "sLqU-zNLY4lu"
      },
      "source": [
        "### Métodos Take e Collect"
      ]
    },
    {
      "cell_type": "code",
      "metadata": {
        "colab": {
          "base_uri": "https://localhost:8080/"
        },
        "id": "4o1h9O5nYPqW",
        "outputId": "4f5e827a-4c02-4d2b-9315-dad449d08480"
      },
      "source": [
        "df.take(2)"
      ],
      "execution_count": 10,
      "outputs": [
        {
          "output_type": "execute_result",
          "data": {
            "text/plain": [
              "[Row(age=None, name='Michael'), Row(age=30, name='Andy')]"
            ]
          },
          "metadata": {
            "tags": []
          },
          "execution_count": 10
        }
      ]
    },
    {
      "cell_type": "code",
      "metadata": {
        "colab": {
          "base_uri": "https://localhost:8080/"
        },
        "id": "tRex71F6ZCWG",
        "outputId": "79cf2344-08da-450b-c8fc-d16418a223fe"
      },
      "source": [
        "df.collect()"
      ],
      "execution_count": 11,
      "outputs": [
        {
          "output_type": "execute_result",
          "data": {
            "text/plain": [
              "[Row(age=None, name='Michael'),\n",
              " Row(age=30, name='Andy'),\n",
              " Row(age=19, name='Justin')]"
            ]
          },
          "metadata": {
            "tags": []
          },
          "execution_count": 11
        }
      ]
    },
    {
      "cell_type": "markdown",
      "metadata": {
        "id": "KOTLxaOMbj3-"
      },
      "source": [
        "## Operações Básicas"
      ]
    },
    {
      "cell_type": "markdown",
      "metadata": {
        "id": "LRMVd792cvCy"
      },
      "source": [
        "### Criando uma nova sessão para a leitura de um arquivo CSV"
      ]
    },
    {
      "cell_type": "code",
      "metadata": {
        "id": "jmR0gTw2bm1U"
      },
      "source": [
        "spark2 = SparkSession.builder.appName('Ops').getOrCreate()"
      ],
      "execution_count": 12,
      "outputs": []
    },
    {
      "cell_type": "code",
      "metadata": {
        "colab": {
          "base_uri": "https://localhost:8080/"
        },
        "id": "T643F4w3cuDD",
        "outputId": "681f8721-a9d8-4cdf-b710-a658c01d05bb"
      },
      "source": [
        "PATH = '/content/drive/MyDrive/Colab Notebooks/Estudos/Spark/base/appl_stock.csv'\n",
        "df = spark2.read.csv(PATH, inferSchema = True, header = True)\n",
        "df.printSchema()"
      ],
      "execution_count": 13,
      "outputs": [
        {
          "output_type": "stream",
          "text": [
            "root\n",
            " |-- Date: timestamp (nullable = true)\n",
            " |-- Open: double (nullable = true)\n",
            " |-- High: double (nullable = true)\n",
            " |-- Low: double (nullable = true)\n",
            " |-- Close: double (nullable = true)\n",
            " |-- Volume: integer (nullable = true)\n",
            " |-- Adj Close: double (nullable = true)\n",
            "\n"
          ],
          "name": "stdout"
        }
      ]
    },
    {
      "cell_type": "code",
      "metadata": {
        "colab": {
          "base_uri": "https://localhost:8080/"
        },
        "id": "Rm45p5HedNkU",
        "outputId": "4c911709-ddf5-4f44-8f92-7a105e5129d5"
      },
      "source": [
        "df.show()"
      ],
      "execution_count": 14,
      "outputs": [
        {
          "output_type": "stream",
          "text": [
            "+-------------------+------------------+------------------+------------------+------------------+---------+------------------+\n",
            "|               Date|              Open|              High|               Low|             Close|   Volume|         Adj Close|\n",
            "+-------------------+------------------+------------------+------------------+------------------+---------+------------------+\n",
            "|2010-01-04 00:00:00|        213.429998|        214.499996|212.38000099999996|        214.009998|123432400|         27.727039|\n",
            "|2010-01-05 00:00:00|        214.599998|        215.589994|        213.249994|        214.379993|150476200|27.774976000000002|\n",
            "|2010-01-06 00:00:00|        214.379993|            215.23|        210.750004|        210.969995|138040000|27.333178000000004|\n",
            "|2010-01-07 00:00:00|            211.75|        212.000006|        209.050005|            210.58|119282800|          27.28265|\n",
            "|2010-01-08 00:00:00|        210.299994|        212.000006|209.06000500000002|211.98000499999998|111902700|         27.464034|\n",
            "|2010-01-11 00:00:00|212.79999700000002|        213.000002|        208.450005|210.11000299999998|115557400|         27.221758|\n",
            "|2010-01-12 00:00:00|209.18999499999998|209.76999500000002|        206.419998|        207.720001|148614900|          26.91211|\n",
            "|2010-01-13 00:00:00|        207.870005|210.92999500000002|        204.099998|        210.650002|151473000|          27.29172|\n",
            "|2010-01-14 00:00:00|210.11000299999998|210.45999700000002|        209.020004|            209.43|108223500|         27.133657|\n",
            "|2010-01-15 00:00:00|210.92999500000002|211.59999700000003|        205.869999|            205.93|148516900|26.680197999999997|\n",
            "|2010-01-19 00:00:00|        208.330002|215.18999900000003|        207.240004|        215.039995|182501900|27.860484999999997|\n",
            "|2010-01-20 00:00:00|        214.910006|        215.549994|        209.500002|            211.73|153038200|         27.431644|\n",
            "|2010-01-21 00:00:00|        212.079994|213.30999599999998|        207.210003|        208.069996|152038600|         26.957455|\n",
            "|2010-01-22 00:00:00|206.78000600000001|        207.499996|            197.16|            197.75|220441900|         25.620401|\n",
            "|2010-01-25 00:00:00|202.51000200000001|        204.699999|        200.190002|        203.070002|266424900|26.309658000000002|\n",
            "|2010-01-26 00:00:00|205.95000100000001|        213.710005|        202.580004|        205.940001|466777500|         26.681494|\n",
            "|2010-01-27 00:00:00|        206.849995|            210.58|        199.530001|        207.880005|430642100|26.932840000000002|\n",
            "|2010-01-28 00:00:00|        204.930004|        205.500004|        198.699995|        199.289995|293375600|25.819922000000002|\n",
            "|2010-01-29 00:00:00|        201.079996|        202.199995|        190.250002|        192.060003|311488100|         24.883208|\n",
            "|2010-02-01 00:00:00|192.36999699999998|             196.0|191.29999899999999|        194.729998|187469100|         25.229131|\n",
            "+-------------------+------------------+------------------+------------------+------------------+---------+------------------+\n",
            "only showing top 20 rows\n",
            "\n"
          ],
          "name": "stdout"
        }
      ]
    },
    {
      "cell_type": "markdown",
      "metadata": {
        "id": "ZtiFjXZPfabg"
      },
      "source": [
        "### Listando as Colunas"
      ]
    },
    {
      "cell_type": "code",
      "metadata": {
        "colab": {
          "base_uri": "https://localhost:8080/"
        },
        "id": "dOSirKI8enuc",
        "outputId": "d64ed426-5095-4b2f-9df9-b71b29c4107c"
      },
      "source": [
        "df.columns"
      ],
      "execution_count": 15,
      "outputs": [
        {
          "output_type": "execute_result",
          "data": {
            "text/plain": [
              "['Date', 'Open', 'High', 'Low', 'Close', 'Volume', 'Adj Close']"
            ]
          },
          "metadata": {
            "tags": []
          },
          "execution_count": 15
        }
      ]
    },
    {
      "cell_type": "markdown",
      "metadata": {
        "id": "11NSx6lHgaUz"
      },
      "source": [
        "### Tipos de Colunas"
      ]
    },
    {
      "cell_type": "code",
      "metadata": {
        "colab": {
          "base_uri": "https://localhost:8080/"
        },
        "id": "PR3ec0zmfewF",
        "outputId": "bf278e2a-0c07-4003-cf40-60fe2db37ab6"
      },
      "source": [
        "type(df['High'])"
      ],
      "execution_count": 16,
      "outputs": [
        {
          "output_type": "execute_result",
          "data": {
            "text/plain": [
              "pyspark.sql.column.Column"
            ]
          },
          "metadata": {
            "tags": []
          },
          "execution_count": 16
        }
      ]
    },
    {
      "cell_type": "code",
      "metadata": {
        "colab": {
          "base_uri": "https://localhost:8080/"
        },
        "id": "GllFmy2ZgerA",
        "outputId": "3d43d733-2fb2-4645-d3e2-686ffef20fb3"
      },
      "source": [
        "type(df.head(2)[0])"
      ],
      "execution_count": 17,
      "outputs": [
        {
          "output_type": "execute_result",
          "data": {
            "text/plain": [
              "pyspark.sql.types.Row"
            ]
          },
          "metadata": {
            "tags": []
          },
          "execution_count": 17
        }
      ]
    },
    {
      "cell_type": "markdown",
      "metadata": {
        "id": "Jau2ehFMgxlt"
      },
      "source": [
        "### Selecionando as Colunas"
      ]
    },
    {
      "cell_type": "code",
      "metadata": {
        "colab": {
          "base_uri": "https://localhost:8080/"
        },
        "id": "dGcqbekggiGy",
        "outputId": "ad210b2a-c60d-430a-cc93-1d244f9fe23e"
      },
      "source": [
        "df.select('High')"
      ],
      "execution_count": 18,
      "outputs": [
        {
          "output_type": "execute_result",
          "data": {
            "text/plain": [
              "DataFrame[High: double]"
            ]
          },
          "metadata": {
            "tags": []
          },
          "execution_count": 18
        }
      ]
    },
    {
      "cell_type": "code",
      "metadata": {
        "colab": {
          "base_uri": "https://localhost:8080/"
        },
        "id": "a7IQsbxwg9Hr",
        "outputId": "7afbe511-c05f-48ef-91a3-f8804253db19"
      },
      "source": [
        "df.select('High').show()"
      ],
      "execution_count": 19,
      "outputs": [
        {
          "output_type": "stream",
          "text": [
            "+------------------+\n",
            "|              High|\n",
            "+------------------+\n",
            "|        214.499996|\n",
            "|        215.589994|\n",
            "|            215.23|\n",
            "|        212.000006|\n",
            "|        212.000006|\n",
            "|        213.000002|\n",
            "|209.76999500000002|\n",
            "|210.92999500000002|\n",
            "|210.45999700000002|\n",
            "|211.59999700000003|\n",
            "|215.18999900000003|\n",
            "|        215.549994|\n",
            "|213.30999599999998|\n",
            "|        207.499996|\n",
            "|        204.699999|\n",
            "|        213.710005|\n",
            "|            210.58|\n",
            "|        205.500004|\n",
            "|        202.199995|\n",
            "|             196.0|\n",
            "+------------------+\n",
            "only showing top 20 rows\n",
            "\n"
          ],
          "name": "stdout"
        }
      ]
    },
    {
      "cell_type": "code",
      "metadata": {
        "colab": {
          "base_uri": "https://localhost:8080/"
        },
        "id": "d8lXpkYbhCo2",
        "outputId": "e5561730-c0c2-4df6-a34f-54f3ad03bf7e"
      },
      "source": [
        "df.select(['High', 'Close']).show()"
      ],
      "execution_count": 20,
      "outputs": [
        {
          "output_type": "stream",
          "text": [
            "+------------------+------------------+\n",
            "|              High|             Close|\n",
            "+------------------+------------------+\n",
            "|        214.499996|        214.009998|\n",
            "|        215.589994|        214.379993|\n",
            "|            215.23|        210.969995|\n",
            "|        212.000006|            210.58|\n",
            "|        212.000006|211.98000499999998|\n",
            "|        213.000002|210.11000299999998|\n",
            "|209.76999500000002|        207.720001|\n",
            "|210.92999500000002|        210.650002|\n",
            "|210.45999700000002|            209.43|\n",
            "|211.59999700000003|            205.93|\n",
            "|215.18999900000003|        215.039995|\n",
            "|        215.549994|            211.73|\n",
            "|213.30999599999998|        208.069996|\n",
            "|        207.499996|            197.75|\n",
            "|        204.699999|        203.070002|\n",
            "|        213.710005|        205.940001|\n",
            "|            210.58|        207.880005|\n",
            "|        205.500004|        199.289995|\n",
            "|        202.199995|        192.060003|\n",
            "|             196.0|        194.729998|\n",
            "+------------------+------------------+\n",
            "only showing top 20 rows\n",
            "\n"
          ],
          "name": "stdout"
        }
      ]
    },
    {
      "cell_type": "markdown",
      "metadata": {
        "id": "1Fs-pcWVhRbo"
      },
      "source": [
        "### Método asDict e head"
      ]
    },
    {
      "cell_type": "code",
      "metadata": {
        "colab": {
          "base_uri": "https://localhost:8080/"
        },
        "id": "Zv-Z2FjDhLiT",
        "outputId": "2a45389c-0f3f-4cfe-9037-900bb56c1e01"
      },
      "source": [
        "df.head(2)"
      ],
      "execution_count": 21,
      "outputs": [
        {
          "output_type": "execute_result",
          "data": {
            "text/plain": [
              "[Row(Date=datetime.datetime(2010, 1, 4, 0, 0), Open=213.429998, High=214.499996, Low=212.38000099999996, Close=214.009998, Volume=123432400, Adj Close=27.727039),\n",
              " Row(Date=datetime.datetime(2010, 1, 5, 0, 0), Open=214.599998, High=215.589994, Low=213.249994, Close=214.379993, Volume=150476200, Adj Close=27.774976000000002)]"
            ]
          },
          "metadata": {
            "tags": []
          },
          "execution_count": 21
        }
      ]
    },
    {
      "cell_type": "code",
      "metadata": {
        "colab": {
          "base_uri": "https://localhost:8080/"
        },
        "id": "TS-WgFoKhlNH",
        "outputId": "2d49eaaf-9064-48e1-8711-7673dd5ab128"
      },
      "source": [
        "dict1 = df.head(2)[0].asDict()\n",
        "dict1"
      ],
      "execution_count": 22,
      "outputs": [
        {
          "output_type": "execute_result",
          "data": {
            "text/plain": [
              "{'Adj Close': 27.727039,\n",
              " 'Close': 214.009998,\n",
              " 'Date': datetime.datetime(2010, 1, 4, 0, 0),\n",
              " 'High': 214.499996,\n",
              " 'Low': 212.38000099999996,\n",
              " 'Open': 213.429998,\n",
              " 'Volume': 123432400}"
            ]
          },
          "metadata": {
            "tags": []
          },
          "execution_count": 22
        }
      ]
    },
    {
      "cell_type": "markdown",
      "metadata": {
        "id": "bCt3NUpDih-j"
      },
      "source": [
        "### Método Count"
      ]
    },
    {
      "cell_type": "code",
      "metadata": {
        "colab": {
          "base_uri": "https://localhost:8080/"
        },
        "id": "7_6Ga4KFhvbD",
        "outputId": "4c300f97-9da6-4951-cef1-4851bdd399b7"
      },
      "source": [
        "df.count()"
      ],
      "execution_count": 23,
      "outputs": [
        {
          "output_type": "execute_result",
          "data": {
            "text/plain": [
              "1762"
            ]
          },
          "metadata": {
            "tags": []
          },
          "execution_count": 23
        }
      ]
    },
    {
      "cell_type": "markdown",
      "metadata": {
        "id": "iwEW82GW4c6u"
      },
      "source": [
        "### Nova importação de Base\n"
      ]
    },
    {
      "cell_type": "code",
      "metadata": {
        "colab": {
          "base_uri": "https://localhost:8080/"
        },
        "id": "3EOMNfvd4gjK",
        "outputId": "2fc35bb7-a605-4429-ea2b-aeaebec7265b"
      },
      "source": [
        "PATH = '/content/drive/MyDrive/Colab Notebooks/Estudos/Spark/base/sales_info.csv'\n",
        "df2 = spark2.read.csv(PATH, inferSchema = True, header = True)\n",
        "df2.show()"
      ],
      "execution_count": 24,
      "outputs": [
        {
          "output_type": "stream",
          "text": [
            "+-------+-------+-----+\n",
            "|Company| Person|Sales|\n",
            "+-------+-------+-----+\n",
            "|   GOOG|    Sam|200.0|\n",
            "|   GOOG|Charlie|120.0|\n",
            "|   GOOG|  Frank|340.0|\n",
            "|   MSFT|   Tina|600.0|\n",
            "|   MSFT|    Amy|124.0|\n",
            "|   MSFT|Vanessa|243.0|\n",
            "|     FB|   Carl|870.0|\n",
            "|     FB|  Sarah|350.0|\n",
            "|   APPL|   John|250.0|\n",
            "|   APPL|  Linda|130.0|\n",
            "|   APPL|   Mike|750.0|\n",
            "|   APPL|  Chris|350.0|\n",
            "+-------+-------+-----+\n",
            "\n"
          ],
          "name": "stdout"
        }
      ]
    },
    {
      "cell_type": "markdown",
      "metadata": {
        "id": "Aif8YEBv41Zc"
      },
      "source": [
        "### Selecionando apenas as 'Company' distintas e contando"
      ]
    },
    {
      "cell_type": "code",
      "metadata": {
        "colab": {
          "base_uri": "https://localhost:8080/"
        },
        "id": "xM8q28lb4ye3",
        "outputId": "1a6442d0-ddaf-41ba-bc5a-bd597725f476"
      },
      "source": [
        "df2.select('Company').distinct().show()"
      ],
      "execution_count": 25,
      "outputs": [
        {
          "output_type": "stream",
          "text": [
            "+-------+\n",
            "|Company|\n",
            "+-------+\n",
            "|   APPL|\n",
            "|   GOOG|\n",
            "|     FB|\n",
            "|   MSFT|\n",
            "+-------+\n",
            "\n"
          ],
          "name": "stdout"
        }
      ]
    },
    {
      "cell_type": "code",
      "metadata": {
        "colab": {
          "base_uri": "https://localhost:8080/"
        },
        "id": "L8dQE94d5Azf",
        "outputId": "0df73bd1-9056-4641-f730-fa66d34c2317"
      },
      "source": [
        "df2.select('Company').distinct().count()"
      ],
      "execution_count": 26,
      "outputs": [
        {
          "output_type": "execute_result",
          "data": {
            "text/plain": [
              "4"
            ]
          },
          "metadata": {
            "tags": []
          },
          "execution_count": 26
        }
      ]
    },
    {
      "cell_type": "markdown",
      "metadata": {
        "id": "G1-Shqz_5Zyt"
      },
      "source": [
        "### Utilizando o método sample para capturar amostragens aleatórios "
      ]
    },
    {
      "cell_type": "code",
      "metadata": {
        "colab": {
          "base_uri": "https://localhost:8080/"
        },
        "id": "nMIKNMHR5RTP",
        "outputId": "2be2efee-52c1-4cbb-b279-3c7c95d71dbc"
      },
      "source": [
        "df.sample(withReplacement = False, fraction = 0.005, seed = 101).show()"
      ],
      "execution_count": 27,
      "outputs": [
        {
          "output_type": "stream",
          "text": [
            "+-------------------+------------------+------------------+------------------+----------+---------+------------------+\n",
            "|               Date|              Open|              High|               Low|     Close|   Volume|         Adj Close|\n",
            "+-------------------+------------------+------------------+------------------+----------+---------+------------------+\n",
            "|2010-03-19 00:00:00|224.79000499999998|        225.240002|221.23000299999998|    222.25|139861400|          28.79461|\n",
            "|2010-04-09 00:00:00|        241.430012|        241.889996|240.46000299999997|241.789993| 83545700|31.326203000000003|\n",
            "|2010-06-07 00:00:00|        258.289997|         259.14999|        250.550007|250.940002|221735500|         32.511674|\n",
            "|2011-07-19 00:00:00|             378.0|378.65000200000003|            373.32|376.849987|204786400|48.824515000000005|\n",
            "|2012-07-24 00:00:00|         607.37999|        609.680016|        598.509987|600.919975|141283100|         77.854922|\n",
            "|2013-09-04 00:00:00|        499.560005|        502.240013|        496.279984|498.690025| 86258200| 66.43344300000001|\n",
            "|2013-11-12 00:00:00|        517.670006|        523.919975|        516.999977|520.009979| 51069200|         69.678045|\n",
            "|2013-11-19 00:00:00|        519.029984|         523.37999| 517.9699860000001|519.549995| 52234700|          69.61641|\n",
            "|2014-02-06 00:00:00|        510.060005|        513.499977|         507.81002|512.509995| 64441300|         69.084152|\n",
            "|2014-05-09 00:00:00|        584.540001|            586.25|        580.330025|585.540024| 72899400| 79.36913100000001|\n",
            "|2014-08-11 00:00:00|         95.269997| 96.08000200000001|         94.839996| 95.989998| 36585000|         91.532205|\n",
            "|2015-01-16 00:00:00|        107.029999|107.58000200000001|        105.199997|105.989998| 78513300|        101.506054|\n",
            "|2016-11-11 00:00:00|        107.120003|        108.870003|        106.550003|    108.43| 34143900|        107.961922|\n",
            "+-------------------+------------------+------------------+------------------+----------+---------+------------------+\n",
            "\n"
          ],
          "name": "stdout"
        }
      ]
    },
    {
      "cell_type": "markdown",
      "metadata": {
        "id": "kckmPK5k6GZ1"
      },
      "source": [
        "### Adicionando uma nova coluna ao DataFrame \n",
        "Fazendo a adição da diferença entre as ações, calculando o valor da açõa em alta pela a ação em baixa"
      ]
    },
    {
      "cell_type": "code",
      "metadata": {
        "colab": {
          "base_uri": "https://localhost:8080/"
        },
        "id": "FNDon9Hs5yD4",
        "outputId": "cbe77bdd-933b-43cf-cfb8-cb56a831bd42"
      },
      "source": [
        "df.withColumn('Range', df['High'] - df['Low']).limit(5).select(['High', 'Low', 'Range']).show()"
      ],
      "execution_count": 28,
      "outputs": [
        {
          "output_type": "stream",
          "text": [
            "+----------+------------------+------------------+\n",
            "|      High|               Low|             Range|\n",
            "+----------+------------------+------------------+\n",
            "|214.499996|212.38000099999996|2.1199950000000456|\n",
            "|215.589994|        213.249994|2.3400000000000034|\n",
            "|    215.23|        210.750004|          4.479996|\n",
            "|212.000006|        209.050005|2.9500010000000145|\n",
            "|212.000006|209.06000500000002| 2.940000999999995|\n",
            "+----------+------------------+------------------+\n",
            "\n"
          ],
          "name": "stdout"
        }
      ]
    },
    {
      "cell_type": "markdown",
      "metadata": {
        "id": "XbP_pg7U7K6c"
      },
      "source": [
        "### Gerando uma copia do esquema acima"
      ]
    },
    {
      "cell_type": "code",
      "metadata": {
        "colab": {
          "base_uri": "https://localhost:8080/"
        },
        "id": "AsLJMaTi6oSG",
        "outputId": "8d7c5544-3a64-4ab9-9394-063fbc2f43ae"
      },
      "source": [
        "df3 = df.withColumn('Range', df['High'] - df['Low']).limit(5).select(['High', 'Low', 'Range'])\n",
        "df3.show()"
      ],
      "execution_count": 29,
      "outputs": [
        {
          "output_type": "stream",
          "text": [
            "+----------+------------------+------------------+\n",
            "|      High|               Low|             Range|\n",
            "+----------+------------------+------------------+\n",
            "|214.499996|212.38000099999996|2.1199950000000456|\n",
            "|215.589994|        213.249994|2.3400000000000034|\n",
            "|    215.23|        210.750004|          4.479996|\n",
            "|212.000006|        209.050005|2.9500010000000145|\n",
            "|212.000006|209.06000500000002| 2.940000999999995|\n",
            "+----------+------------------+------------------+\n",
            "\n"
          ],
          "name": "stdout"
        }
      ]
    },
    {
      "cell_type": "markdown",
      "metadata": {
        "id": "oeWlD8AV7mRV"
      },
      "source": [
        "### Renomeando a coluna Range"
      ]
    },
    {
      "cell_type": "code",
      "metadata": {
        "colab": {
          "base_uri": "https://localhost:8080/"
        },
        "id": "m6pj2Sun7kQK",
        "outputId": "d6b5a3f2-7776-406b-a397-639099a49af1"
      },
      "source": [
        "df3 = df3.withColumnRenamed('Range', 'Min-to-Max')\n",
        "df3.show()"
      ],
      "execution_count": 30,
      "outputs": [
        {
          "output_type": "stream",
          "text": [
            "+----------+------------------+------------------+\n",
            "|      High|               Low|        Min-to-Max|\n",
            "+----------+------------------+------------------+\n",
            "|214.499996|212.38000099999996|2.1199950000000456|\n",
            "|215.589994|        213.249994|2.3400000000000034|\n",
            "|    215.23|        210.750004|          4.479996|\n",
            "|212.000006|        209.050005|2.9500010000000145|\n",
            "|212.000006|209.06000500000002| 2.940000999999995|\n",
            "+----------+------------------+------------------+\n",
            "\n"
          ],
          "name": "stdout"
        }
      ]
    },
    {
      "cell_type": "markdown",
      "metadata": {
        "id": "j7cSioHw8NZU"
      },
      "source": [
        "### Testando uma série de filtros com os métodos filter e where"
      ]
    },
    {
      "cell_type": "code",
      "metadata": {
        "colab": {
          "base_uri": "https://localhost:8080/"
        },
        "id": "Pg-Ka4_v75Z3",
        "outputId": "9dcda7f3-98a2-4f96-9232-ab5f299b0934"
      },
      "source": [
        "df.filter('Close < 500').show()"
      ],
      "execution_count": 31,
      "outputs": [
        {
          "output_type": "stream",
          "text": [
            "+-------------------+------------------+------------------+------------------+------------------+---------+------------------+\n",
            "|               Date|              Open|              High|               Low|             Close|   Volume|         Adj Close|\n",
            "+-------------------+------------------+------------------+------------------+------------------+---------+------------------+\n",
            "|2010-01-04 00:00:00|        213.429998|        214.499996|212.38000099999996|        214.009998|123432400|         27.727039|\n",
            "|2010-01-05 00:00:00|        214.599998|        215.589994|        213.249994|        214.379993|150476200|27.774976000000002|\n",
            "|2010-01-06 00:00:00|        214.379993|            215.23|        210.750004|        210.969995|138040000|27.333178000000004|\n",
            "|2010-01-07 00:00:00|            211.75|        212.000006|        209.050005|            210.58|119282800|          27.28265|\n",
            "|2010-01-08 00:00:00|        210.299994|        212.000006|209.06000500000002|211.98000499999998|111902700|         27.464034|\n",
            "|2010-01-11 00:00:00|212.79999700000002|        213.000002|        208.450005|210.11000299999998|115557400|         27.221758|\n",
            "|2010-01-12 00:00:00|209.18999499999998|209.76999500000002|        206.419998|        207.720001|148614900|          26.91211|\n",
            "|2010-01-13 00:00:00|        207.870005|210.92999500000002|        204.099998|        210.650002|151473000|          27.29172|\n",
            "|2010-01-14 00:00:00|210.11000299999998|210.45999700000002|        209.020004|            209.43|108223500|         27.133657|\n",
            "|2010-01-15 00:00:00|210.92999500000002|211.59999700000003|        205.869999|            205.93|148516900|26.680197999999997|\n",
            "|2010-01-19 00:00:00|        208.330002|215.18999900000003|        207.240004|        215.039995|182501900|27.860484999999997|\n",
            "|2010-01-20 00:00:00|        214.910006|        215.549994|        209.500002|            211.73|153038200|         27.431644|\n",
            "|2010-01-21 00:00:00|        212.079994|213.30999599999998|        207.210003|        208.069996|152038600|         26.957455|\n",
            "|2010-01-22 00:00:00|206.78000600000001|        207.499996|            197.16|            197.75|220441900|         25.620401|\n",
            "|2010-01-25 00:00:00|202.51000200000001|        204.699999|        200.190002|        203.070002|266424900|26.309658000000002|\n",
            "|2010-01-26 00:00:00|205.95000100000001|        213.710005|        202.580004|        205.940001|466777500|         26.681494|\n",
            "|2010-01-27 00:00:00|        206.849995|            210.58|        199.530001|        207.880005|430642100|26.932840000000002|\n",
            "|2010-01-28 00:00:00|        204.930004|        205.500004|        198.699995|        199.289995|293375600|25.819922000000002|\n",
            "|2010-01-29 00:00:00|        201.079996|        202.199995|        190.250002|        192.060003|311488100|         24.883208|\n",
            "|2010-02-01 00:00:00|192.36999699999998|             196.0|191.29999899999999|        194.729998|187469100|         25.229131|\n",
            "+-------------------+------------------+------------------+------------------+------------------+---------+------------------+\n",
            "only showing top 20 rows\n",
            "\n"
          ],
          "name": "stdout"
        }
      ]
    },
    {
      "cell_type": "code",
      "metadata": {
        "colab": {
          "base_uri": "https://localhost:8080/"
        },
        "id": "V6T9rHHb8oC3",
        "outputId": "072315aa-96f0-4be1-c8bd-9fff4db45510"
      },
      "source": [
        "df.filter('Close < 500 AND Open > 500').select(['Date', 'Open', 'Close']).show(5)"
      ],
      "execution_count": 32,
      "outputs": [
        {
          "output_type": "stream",
          "text": [
            "+-------------------+----------+------------------+\n",
            "|               Date|      Open|             Close|\n",
            "+-------------------+----------+------------------+\n",
            "|2012-02-15 00:00:00|514.259995|        497.669975|\n",
            "|2013-09-05 00:00:00|500.250008|495.26997400000005|\n",
            "|2013-09-10 00:00:00|506.199997|494.63999900000005|\n",
            "|2014-01-30 00:00:00|502.539993|        499.779984|\n",
            "+-------------------+----------+------------------+\n",
            "\n"
          ],
          "name": "stdout"
        }
      ]
    },
    {
      "cell_type": "code",
      "metadata": {
        "colab": {
          "base_uri": "https://localhost:8080/"
        },
        "id": "YCOnR4Y087b8",
        "outputId": "828c836d-d651-4d10-cd05-343d6b7c1bf9"
      },
      "source": [
        "df.where('Open < 500 AND (Open - Close) > 10').select(['Date', 'Open', 'Close']).show(5)"
      ],
      "execution_count": 33,
      "outputs": [
        {
          "output_type": "stream",
          "text": [
            "+-------------------+------------------+------------------+\n",
            "|               Date|              Open|             Close|\n",
            "+-------------------+------------------+------------------+\n",
            "|2010-07-21 00:00:00|        265.089993|254.23999799999999|\n",
            "|2011-03-16 00:00:00|        342.000004|         330.01001|\n",
            "|2011-08-04 00:00:00|        389.410007|        377.369999|\n",
            "|2011-09-29 00:00:00|        401.919987|        390.570007|\n",
            "|2011-11-10 00:00:00|397.02999500000004|385.22000499999996|\n",
            "+-------------------+------------------+------------------+\n",
            "only showing top 5 rows\n",
            "\n"
          ],
          "name": "stdout"
        }
      ]
    },
    {
      "cell_type": "code",
      "metadata": {
        "colab": {
          "base_uri": "https://localhost:8080/"
        },
        "id": "Fg2ZC0UH9QFI",
        "outputId": "e8c165ca-f770-4631-e5a4-7afa3c36ae71"
      },
      "source": [
        "df.filter(df['Close'] < 500).show(5)"
      ],
      "execution_count": 34,
      "outputs": [
        {
          "output_type": "stream",
          "text": [
            "+-------------------+----------+----------+------------------+------------------+---------+------------------+\n",
            "|               Date|      Open|      High|               Low|             Close|   Volume|         Adj Close|\n",
            "+-------------------+----------+----------+------------------+------------------+---------+------------------+\n",
            "|2010-01-04 00:00:00|213.429998|214.499996|212.38000099999996|        214.009998|123432400|         27.727039|\n",
            "|2010-01-05 00:00:00|214.599998|215.589994|        213.249994|        214.379993|150476200|27.774976000000002|\n",
            "|2010-01-06 00:00:00|214.379993|    215.23|        210.750004|        210.969995|138040000|27.333178000000004|\n",
            "|2010-01-07 00:00:00|    211.75|212.000006|        209.050005|            210.58|119282800|          27.28265|\n",
            "|2010-01-08 00:00:00|210.299994|212.000006|209.06000500000002|211.98000499999998|111902700|         27.464034|\n",
            "+-------------------+----------+----------+------------------+------------------+---------+------------------+\n",
            "only showing top 5 rows\n",
            "\n"
          ],
          "name": "stdout"
        }
      ]
    },
    {
      "cell_type": "code",
      "metadata": {
        "colab": {
          "base_uri": "https://localhost:8080/"
        },
        "id": "Mc1YCxkS9ZCI",
        "outputId": "04b4d672-e18b-4fa6-d52f-e190906f14d2"
      },
      "source": [
        "df.filter((df['Close'] < 500) & (df['Open'] > 500)).select(['Date', 'Open', 'Close']).show(5)"
      ],
      "execution_count": 35,
      "outputs": [
        {
          "output_type": "stream",
          "text": [
            "+-------------------+----------+------------------+\n",
            "|               Date|      Open|             Close|\n",
            "+-------------------+----------+------------------+\n",
            "|2012-02-15 00:00:00|514.259995|        497.669975|\n",
            "|2013-09-05 00:00:00|500.250008|495.26997400000005|\n",
            "|2013-09-10 00:00:00|506.199997|494.63999900000005|\n",
            "|2014-01-30 00:00:00|502.539993|        499.779984|\n",
            "+-------------------+----------+------------------+\n",
            "\n"
          ],
          "name": "stdout"
        }
      ]
    },
    {
      "cell_type": "code",
      "metadata": {
        "colab": {
          "base_uri": "https://localhost:8080/"
        },
        "id": "1ltzVwP_9224",
        "outputId": "0ebb025f-ade1-4268-bb81-2ed1c253081e"
      },
      "source": [
        "df.filter((df['Open'] < 200) & ~(df['Close'] > 200)).show(5)"
      ],
      "execution_count": 36,
      "outputs": [
        {
          "output_type": "stream",
          "text": [
            "+-------------------+------------------+----------+------------------+----------+---------+------------------+\n",
            "|               Date|              Open|      High|               Low|     Close|   Volume|         Adj Close|\n",
            "+-------------------+------------------+----------+------------------+----------+---------+------------------+\n",
            "|2010-02-01 00:00:00|192.36999699999998|     196.0|191.29999899999999|194.729998|187469100|         25.229131|\n",
            "|2010-02-02 00:00:00|        195.909998|196.319994|193.37999299999998|195.859997|174585600|25.375532999999997|\n",
            "|2010-02-03 00:00:00|        195.169994|200.200003|        194.420004|199.229994|153832000|25.812148999999998|\n",
            "|2010-02-04 00:00:00|        196.730003|198.370001|        191.570005|192.050003|189413000|         24.881912|\n",
            "|2010-02-05 00:00:00|192.63000300000002|     196.0|        190.850002|195.460001|212576700|25.323710000000002|\n",
            "+-------------------+------------------+----------+------------------+----------+---------+------------------+\n",
            "only showing top 5 rows\n",
            "\n"
          ],
          "name": "stdout"
        }
      ]
    },
    {
      "cell_type": "markdown",
      "metadata": {
        "id": "eRnw2r_M-1uk"
      },
      "source": [
        "### Criando um DataFrame Menor para análises mais pontuais"
      ]
    },
    {
      "cell_type": "code",
      "metadata": {
        "colab": {
          "base_uri": "https://localhost:8080/"
        },
        "id": "C9YccFjb-MPA",
        "outputId": "96c1b3f8-d227-4f02-c931-9ef8171385cc"
      },
      "source": [
        "df4 = df.select('High', 'Low').limit(10)\n",
        "df4.show()"
      ],
      "execution_count": 37,
      "outputs": [
        {
          "output_type": "stream",
          "text": [
            "+------------------+------------------+\n",
            "|              High|               Low|\n",
            "+------------------+------------------+\n",
            "|        214.499996|212.38000099999996|\n",
            "|        215.589994|        213.249994|\n",
            "|            215.23|        210.750004|\n",
            "|        212.000006|        209.050005|\n",
            "|        212.000006|209.06000500000002|\n",
            "|        213.000002|        208.450005|\n",
            "|209.76999500000002|        206.419998|\n",
            "|210.92999500000002|        204.099998|\n",
            "|210.45999700000002|        209.020004|\n",
            "|211.59999700000003|        205.869999|\n",
            "+------------------+------------------+\n",
            "\n"
          ],
          "name": "stdout"
        }
      ]
    },
    {
      "cell_type": "markdown",
      "metadata": {
        "id": "k8z50moH_Kc1"
      },
      "source": [
        "### Ordenando pela coluna 'High'"
      ]
    },
    {
      "cell_type": "code",
      "metadata": {
        "colab": {
          "base_uri": "https://localhost:8080/"
        },
        "id": "ers0hKY9_Epn",
        "outputId": "593183bb-7bbb-4102-b5d3-77524e442fd0"
      },
      "source": [
        "# Ordenação Crescente\n",
        "\n",
        "df4.sort('High').show()"
      ],
      "execution_count": 38,
      "outputs": [
        {
          "output_type": "stream",
          "text": [
            "+------------------+------------------+\n",
            "|              High|               Low|\n",
            "+------------------+------------------+\n",
            "|209.76999500000002|        206.419998|\n",
            "|210.45999700000002|        209.020004|\n",
            "|210.92999500000002|        204.099998|\n",
            "|211.59999700000003|        205.869999|\n",
            "|        212.000006|        209.050005|\n",
            "|        212.000006|209.06000500000002|\n",
            "|        213.000002|        208.450005|\n",
            "|        214.499996|212.38000099999996|\n",
            "|            215.23|        210.750004|\n",
            "|        215.589994|        213.249994|\n",
            "+------------------+------------------+\n",
            "\n"
          ],
          "name": "stdout"
        }
      ]
    },
    {
      "cell_type": "code",
      "metadata": {
        "colab": {
          "base_uri": "https://localhost:8080/"
        },
        "id": "eRhouKmI_Rm5",
        "outputId": "cf6ef3a4-c337-48d4-ffa2-6231b13a8cb0"
      },
      "source": [
        "# Ordenação Decrescente\n",
        "\n",
        "df4.sort('High', ascending = False).show()"
      ],
      "execution_count": 39,
      "outputs": [
        {
          "output_type": "stream",
          "text": [
            "+------------------+------------------+\n",
            "|              High|               Low|\n",
            "+------------------+------------------+\n",
            "|        215.589994|        213.249994|\n",
            "|            215.23|        210.750004|\n",
            "|        214.499996|212.38000099999996|\n",
            "|        213.000002|        208.450005|\n",
            "|        212.000006|        209.050005|\n",
            "|        212.000006|209.06000500000002|\n",
            "|211.59999700000003|        205.869999|\n",
            "|210.92999500000002|        204.099998|\n",
            "|210.45999700000002|        209.020004|\n",
            "|209.76999500000002|        206.419998|\n",
            "+------------------+------------------+\n",
            "\n"
          ],
          "name": "stdout"
        }
      ]
    },
    {
      "cell_type": "code",
      "metadata": {
        "colab": {
          "base_uri": "https://localhost:8080/"
        },
        "id": "YBJnFJPS_ip6",
        "outputId": "97ee2334-6ff7-4695-a7c3-a66e3f96eba6"
      },
      "source": [
        "# Usando a função desc importada do modulo pyspark.sql.functions\n",
        "\n",
        "df4.sort(desc('High')).show()"
      ],
      "execution_count": 40,
      "outputs": [
        {
          "output_type": "stream",
          "text": [
            "+------------------+------------------+\n",
            "|              High|               Low|\n",
            "+------------------+------------------+\n",
            "|        215.589994|        213.249994|\n",
            "|            215.23|        210.750004|\n",
            "|        214.499996|212.38000099999996|\n",
            "|        213.000002|        208.450005|\n",
            "|        212.000006|        209.050005|\n",
            "|        212.000006|209.06000500000002|\n",
            "|211.59999700000003|        205.869999|\n",
            "|210.92999500000002|        204.099998|\n",
            "|210.45999700000002|        209.020004|\n",
            "|209.76999500000002|        206.419998|\n",
            "+------------------+------------------+\n",
            "\n"
          ],
          "name": "stdout"
        }
      ]
    },
    {
      "cell_type": "markdown",
      "metadata": {
        "id": "sjxC4b5bALqs"
      },
      "source": [
        "### Utilizando o método OrderBy"
      ]
    },
    {
      "cell_type": "code",
      "metadata": {
        "colab": {
          "base_uri": "https://localhost:8080/"
        },
        "id": "Ck-pBURI_-dC",
        "outputId": "1d408bd0-389b-40ff-ecd1-98b6100c0f24"
      },
      "source": [
        "df2.show()"
      ],
      "execution_count": 41,
      "outputs": [
        {
          "output_type": "stream",
          "text": [
            "+-------+-------+-----+\n",
            "|Company| Person|Sales|\n",
            "+-------+-------+-----+\n",
            "|   GOOG|    Sam|200.0|\n",
            "|   GOOG|Charlie|120.0|\n",
            "|   GOOG|  Frank|340.0|\n",
            "|   MSFT|   Tina|600.0|\n",
            "|   MSFT|    Amy|124.0|\n",
            "|   MSFT|Vanessa|243.0|\n",
            "|     FB|   Carl|870.0|\n",
            "|     FB|  Sarah|350.0|\n",
            "|   APPL|   John|250.0|\n",
            "|   APPL|  Linda|130.0|\n",
            "|   APPL|   Mike|750.0|\n",
            "|   APPL|  Chris|350.0|\n",
            "+-------+-------+-----+\n",
            "\n"
          ],
          "name": "stdout"
        }
      ]
    },
    {
      "cell_type": "code",
      "metadata": {
        "colab": {
          "base_uri": "https://localhost:8080/"
        },
        "id": "lmCriHYwAViV",
        "outputId": "a965e04a-3ca2-4789-a0a8-13a3fbac7e37"
      },
      "source": [
        "df2.orderBy(['Company', 'Sales'], ascending = [1, 1]).show()"
      ],
      "execution_count": 42,
      "outputs": [
        {
          "output_type": "stream",
          "text": [
            "+-------+-------+-----+\n",
            "|Company| Person|Sales|\n",
            "+-------+-------+-----+\n",
            "|   APPL|  Linda|130.0|\n",
            "|   APPL|   John|250.0|\n",
            "|   APPL|  Chris|350.0|\n",
            "|   APPL|   Mike|750.0|\n",
            "|     FB|  Sarah|350.0|\n",
            "|     FB|   Carl|870.0|\n",
            "|   GOOG|Charlie|120.0|\n",
            "|   GOOG|    Sam|200.0|\n",
            "|   GOOG|  Frank|340.0|\n",
            "|   MSFT|    Amy|124.0|\n",
            "|   MSFT|Vanessa|243.0|\n",
            "|   MSFT|   Tina|600.0|\n",
            "+-------+-------+-----+\n",
            "\n"
          ],
          "name": "stdout"
        }
      ]
    },
    {
      "cell_type": "markdown",
      "metadata": {
        "id": "CDeZQbAoFIul"
      },
      "source": [
        "### Calculo do coeficiente de correlação de Pearson\n",
        "Fazendo a correlação para a coluna 'Range'"
      ]
    },
    {
      "cell_type": "code",
      "metadata": {
        "colab": {
          "base_uri": "https://localhost:8080/"
        },
        "id": "Hs3mmkKhFjBA",
        "outputId": "690c74db-42b1-4d9c-c882-fa63d49c81e4"
      },
      "source": [
        "df.withColumn('Range', df['High'] - df['Low']).agg(\n",
        "    corr('Volume', 'Range')\\\n",
        "    .alias('Pearson-Corr')\n",
        ").collect()"
      ],
      "execution_count": 43,
      "outputs": [
        {
          "output_type": "execute_result",
          "data": {
            "text/plain": [
              "[Row(Pearson-Corr=0.6980419651782168)]"
            ]
          },
          "metadata": {
            "tags": []
          },
          "execution_count": 43
        }
      ]
    },
    {
      "cell_type": "markdown",
      "metadata": {
        "id": "-O4_rQLuGyvQ"
      },
      "source": [
        "Portanto, temos uma correlação positiva bastante forte entre os dados de Volume e Faixa."
      ]
    },
    {
      "cell_type": "markdown",
      "metadata": {
        "id": "OAab2eOYHOS9"
      },
      "source": [
        "### Produzindo novas colunas Day-of-Week"
      ]
    },
    {
      "cell_type": "code",
      "metadata": {
        "colab": {
          "base_uri": "https://localhost:8080/"
        },
        "id": "-9yrOr9YGY2n",
        "outputId": "119bb8c0-7ccf-401c-898c-8320b0924d88"
      },
      "source": [
        "df.show(5)"
      ],
      "execution_count": 44,
      "outputs": [
        {
          "output_type": "stream",
          "text": [
            "+-------------------+----------+----------+------------------+------------------+---------+------------------+\n",
            "|               Date|      Open|      High|               Low|             Close|   Volume|         Adj Close|\n",
            "+-------------------+----------+----------+------------------+------------------+---------+------------------+\n",
            "|2010-01-04 00:00:00|213.429998|214.499996|212.38000099999996|        214.009998|123432400|         27.727039|\n",
            "|2010-01-05 00:00:00|214.599998|215.589994|        213.249994|        214.379993|150476200|27.774976000000002|\n",
            "|2010-01-06 00:00:00|214.379993|    215.23|        210.750004|        210.969995|138040000|27.333178000000004|\n",
            "|2010-01-07 00:00:00|    211.75|212.000006|        209.050005|            210.58|119282800|          27.28265|\n",
            "|2010-01-08 00:00:00|210.299994|212.000006|209.06000500000002|211.98000499999998|111902700|         27.464034|\n",
            "+-------------------+----------+----------+------------------+------------------+---------+------------------+\n",
            "only showing top 5 rows\n",
            "\n"
          ],
          "name": "stdout"
        }
      ]
    },
    {
      "cell_type": "code",
      "metadata": {
        "colab": {
          "base_uri": "https://localhost:8080/"
        },
        "id": "KVzE-ye9HT5q",
        "outputId": "b5a9d710-d839-4901-b2aa-fc173e98bb45"
      },
      "source": [
        "df5 = df.withColumn('Day-of-Week', dayofweek('Date'))\\\n",
        "        .withColumn('Month', month('Date'))\\\n",
        "        .select(['Day-of-week', 'Month', 'Open', 'Close'])\n",
        "\n",
        "df5.show(5)"
      ],
      "execution_count": 45,
      "outputs": [
        {
          "output_type": "stream",
          "text": [
            "+-----------+-----+----------+------------------+\n",
            "|Day-of-week|Month|      Open|             Close|\n",
            "+-----------+-----+----------+------------------+\n",
            "|          2|    1|213.429998|        214.009998|\n",
            "|          3|    1|214.599998|        214.379993|\n",
            "|          4|    1|214.379993|        210.969995|\n",
            "|          5|    1|    211.75|            210.58|\n",
            "|          6|    1|210.299994|211.98000499999998|\n",
            "+-----------+-----+----------+------------------+\n",
            "only showing top 5 rows\n",
            "\n"
          ],
          "name": "stdout"
        }
      ]
    },
    {
      "cell_type": "markdown",
      "metadata": {
        "id": "_2Hra94oJDV9"
      },
      "source": [
        "### Utilizando um conjunto de funções para determinar uma Média"
      ]
    },
    {
      "cell_type": "code",
      "metadata": {
        "colab": {
          "base_uri": "https://localhost:8080/"
        },
        "id": "uFUq-p9YH50S",
        "outputId": "a0fbee5a-11b4-43ce-c357-bec78bacca15"
      },
      "source": [
        "df5 = df.withColumn('Day-of-week', dayofweek('Date'))\\\n",
        "        .withColumn('Month', month('Date'))\\\n",
        "        .select(['Day-of-week', 'Month', 'Volume'])\\\n",
        "        .groupby(['Day-of-week', 'Month'])\\\n",
        "        .mean()\\\n",
        "        .select(['Day-of-week', 'Month', 'avg(Volume)'])\\\n",
        "        .orderBy('Day-of-week', 'Month')\n",
        "\n",
        "df5.show(50)"
      ],
      "execution_count": 46,
      "outputs": [
        {
          "output_type": "stream",
          "text": [
            "+-----------+-----+--------------------+\n",
            "|Day-of-week|Month|         avg(Volume)|\n",
            "+-----------+-----+--------------------+\n",
            "|          2|    1|1.0967633636363636E8|\n",
            "|          2|    2| 8.957742272727273E7|\n",
            "|          2|    3| 9.421765161290322E7|\n",
            "|          2|    4|1.0364189333333333E8|\n",
            "|          2|    5| 9.646600416666667E7|\n",
            "|          2|    6| 8.898051666666667E7|\n",
            "|          2|    7| 8.163605555555555E7|\n",
            "|          2|    8|      8.5287746875E7|\n",
            "|          2|    9|  9.82580956521739E7|\n",
            "|          2|   10| 8.972772333333333E7|\n",
            "|          2|   11|          7.374762E7|\n",
            "|          2|   12| 7.757132068965517E7|\n",
            "|          3|    1|1.3081937586206897E8|\n",
            "|          3|    2|1.0092741428571428E8|\n",
            "|          3|    3|      1.0023139375E8|\n",
            "|          3|    4|1.0715501333333333E8|\n",
            "|          3|    5|1.0042301290322581E8|\n",
            "|          3|    6| 8.865190333333333E7|\n",
            "|          3|    7| 9.382107096774194E7|\n",
            "|          3|    8| 9.748764193548387E7|\n",
            "|          3|    9|          9.932478E7|\n",
            "|          3|   10|1.1340706896551724E8|\n",
            "|          3|   11|           7.94779E7|\n",
            "|          3|   12|6.3774113333333336E7|\n",
            "|          4|    1|1.2374592413793103E8|\n",
            "|          4|    2|1.0764395862068966E8|\n",
            "|          4|    3|1.0374595806451613E8|\n",
            "|          4|    4|1.1222539666666667E8|\n",
            "|          4|    5|1.0136810333333333E8|\n",
            "|          4|    6| 8.363113225806452E7|\n",
            "|          4|    7|          9.693284E7|\n",
            "|          4|    8| 8.988111935483871E7|\n",
            "|          4|    9|1.0007247333333333E8|\n",
            "|          4|   10| 9.734730967741935E7|\n",
            "|          4|   11| 7.615277666666667E7|\n",
            "|          4|   12|          7.015238E7|\n",
            "|          5|    1|1.0383316666666667E8|\n",
            "|          5|    2|        1.06865275E8|\n",
            "|          5|    3| 9.263686774193548E7|\n",
            "|          5|    4|1.0065214333333333E8|\n",
            "|          5|    5| 9.880788064516129E7|\n",
            "|          5|    6| 8.147986333333333E7|\n",
            "|          5|    7| 8.913521333333333E7|\n",
            "|          5|    8| 8.461566333333333E7|\n",
            "|          5|    9| 9.657708387096775E7|\n",
            "|          5|   10| 8.505357096774194E7|\n",
            "|          5|   11| 9.265071363636364E7|\n",
            "|          5|   12| 7.037784516129032E7|\n",
            "|          6|    1|         1.1184468E8|\n",
            "|          6|    2| 9.653823571428572E7|\n",
            "+-----------+-----+--------------------+\n",
            "only showing top 50 rows\n",
            "\n"
          ],
          "name": "stdout"
        }
      ]
    },
    {
      "cell_type": "code",
      "metadata": {
        "id": "gMjpfcB9KKfw"
      },
      "source": [
        ""
      ],
      "execution_count": 46,
      "outputs": []
    }
  ]
}