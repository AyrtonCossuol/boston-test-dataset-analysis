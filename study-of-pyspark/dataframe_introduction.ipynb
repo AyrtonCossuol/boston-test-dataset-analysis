{
  "nbformat": 4,
  "nbformat_minor": 0,
  "metadata": {
    "colab": {
      "name": "dataframe_introduction.ipynb",
      "provenance": []
    },
    "kernelspec": {
      "name": "python3",
      "display_name": "Python 3"
    },
    "language_info": {
      "name": "python"
    }
  },
  "cells": [
    {
      "cell_type": "markdown",
      "metadata": {
        "id": "u9MX2zk9VOrV"
      },
      "source": [
        "# Estudos relacionado ao DataFrame utilizando o Apache Spark."
      ]
    },
    {
      "cell_type": "markdown",
      "metadata": {
        "id": "nWT4-W4raOdY"
      },
      "source": [
        "### Instalação dos componentes relacionado ao Spark"
      ]
    },
    {
      "cell_type": "code",
      "metadata": {
        "id": "H9evnn8YTkYH"
      },
      "source": [
        "!apt-get install openjdk-8-jdk-headless -qq > /dev/null\n",
        "!wget -q https://archive.apache.org/dist/spark/spark-2.4.4/spark-2.4.4-bin-hadoop2.7.tgz\n",
        "!tar xf spark-2.4.4-bin-hadoop2.7.tgz\n",
        "!pip install -q findspark"
      ],
      "execution_count": 4,
      "outputs": []
    },
    {
      "cell_type": "code",
      "metadata": {
        "id": "aO0kiiwkUmlS"
      },
      "source": [
        "import os\n",
        "import findspark\n",
        "\n",
        "os.environ[\"JAVA_HOME\"] = \"/usr/lib/jvm/java-8-openjdk-amd64\"\n",
        "os.environ[\"SPARK_HOME\"] = \"/content/spark-2.4.4-bin-hadoop2.7\"\n",
        "findspark.init('spark-2.4.4-bin-hadoop2.7')"
      ],
      "execution_count": 5,
      "outputs": []
    },
    {
      "cell_type": "markdown",
      "metadata": {
        "id": "vW7YrAoyaet_"
      },
      "source": [
        "## Importação das Bibliotecas"
      ]
    },
    {
      "cell_type": "code",
      "metadata": {
        "id": "Lvp8sM5fU1Im"
      },
      "source": [
        "import pyspark\n",
        "from pyspark import SparkContext as sc\n",
        "from pyspark.sql import SparkSession"
      ],
      "execution_count": 6,
      "outputs": []
    },
    {
      "cell_type": "markdown",
      "metadata": {
        "id": "GWtx_rSFahlx"
      },
      "source": [
        "## Introdução ao DataFrame"
      ]
    },
    {
      "cell_type": "markdown",
      "metadata": {
        "id": "foT7AD7yWHjt"
      },
      "source": [
        "### Criando uma sessão com SparkSession"
      ]
    },
    {
      "cell_type": "code",
      "metadata": {
        "id": "gFlbXm6SVumC"
      },
      "source": [
        "spark1 = SparkSession.builder.appName('Basics').getOrCreate()"
      ],
      "execution_count": 7,
      "outputs": []
    },
    {
      "cell_type": "markdown",
      "metadata": {
        "id": "uBf7kZvDWyGp"
      },
      "source": [
        "### Leitura de um arquivo JSON "
      ]
    },
    {
      "cell_type": "code",
      "metadata": {
        "colab": {
          "base_uri": "https://localhost:8080/"
        },
        "id": "PzzCjfbYWVh4",
        "outputId": "44221dd1-2039-41ae-f13e-c4f3c1473578"
      },
      "source": [
        "PATH = '/content/drive/MyDrive/Colab Notebooks/Estudos/Spark/base/people.json'\n",
        "df = spark1.read.json(PATH)\n",
        "df.show()"
      ],
      "execution_count": 8,
      "outputs": [
        {
          "output_type": "stream",
          "text": [
            "+----+-------+\n",
            "| age|   name|\n",
            "+----+-------+\n",
            "|null|Michael|\n",
            "|  30|   Andy|\n",
            "|  19| Justin|\n",
            "+----+-------+\n",
            "\n"
          ],
          "name": "stdout"
        }
      ]
    },
    {
      "cell_type": "markdown",
      "metadata": {
        "id": "EadJWJBQXSgW"
      },
      "source": [
        "### Esquema dos dados"
      ]
    },
    {
      "cell_type": "code",
      "metadata": {
        "colab": {
          "base_uri": "https://localhost:8080/"
        },
        "id": "sJSSypYaWuci",
        "outputId": "7f882816-c11c-428d-bc74-7c18b635b8b3"
      },
      "source": [
        "# Esquema análogo ao SQL, onde pode incluir valores nulos\n",
        " \n",
        "df.printSchema()"
      ],
      "execution_count": 9,
      "outputs": [
        {
          "output_type": "stream",
          "text": [
            "root\n",
            " |-- age: long (nullable = true)\n",
            " |-- name: string (nullable = true)\n",
            "\n"
          ],
          "name": "stdout"
        }
      ]
    },
    {
      "cell_type": "markdown",
      "metadata": {
        "id": "XZOnk1zAX8k_"
      },
      "source": [
        "### Listagem das colunas do arquivo JSON"
      ]
    },
    {
      "cell_type": "code",
      "metadata": {
        "colab": {
          "base_uri": "https://localhost:8080/"
        },
        "id": "yzQOOPHTXUuu",
        "outputId": "015d67b1-51f6-400e-a342-eef43a26e694"
      },
      "source": [
        "df.columns"
      ],
      "execution_count": 10,
      "outputs": [
        {
          "output_type": "execute_result",
          "data": {
            "text/plain": [
              "['age', 'name']"
            ]
          },
          "metadata": {
            "tags": []
          },
          "execution_count": 10
        }
      ]
    },
    {
      "cell_type": "markdown",
      "metadata": {
        "id": "cplcJMdiYCZf"
      },
      "source": [
        "### Descrição Matemática do conteúdo"
      ]
    },
    {
      "cell_type": "code",
      "metadata": {
        "colab": {
          "base_uri": "https://localhost:8080/"
        },
        "id": "85EV5XvJXyI7",
        "outputId": "7d2a75b7-0c5e-4c62-9a11-fe58e8d6dc3a"
      },
      "source": [
        "df.describe().show()"
      ],
      "execution_count": 11,
      "outputs": [
        {
          "output_type": "stream",
          "text": [
            "+-------+------------------+-------+\n",
            "|summary|               age|   name|\n",
            "+-------+------------------+-------+\n",
            "|  count|                 2|      3|\n",
            "|   mean|              24.5|   null|\n",
            "| stddev|7.7781745930520225|   null|\n",
            "|    min|                19|   Andy|\n",
            "|    max|                30|Michael|\n",
            "+-------+------------------+-------+\n",
            "\n"
          ],
          "name": "stdout"
        }
      ]
    },
    {
      "cell_type": "code",
      "metadata": {
        "colab": {
          "base_uri": "https://localhost:8080/"
        },
        "id": "kZNZ-cUJXz6l",
        "outputId": "591234f1-b2b6-418e-8b91-33653b406ba9"
      },
      "source": [
        "df.summary().show()"
      ],
      "execution_count": 12,
      "outputs": [
        {
          "output_type": "stream",
          "text": [
            "+-------+------------------+-------+\n",
            "|summary|               age|   name|\n",
            "+-------+------------------+-------+\n",
            "|  count|                 2|      3|\n",
            "|   mean|              24.5|   null|\n",
            "| stddev|7.7781745930520225|   null|\n",
            "|    min|                19|   Andy|\n",
            "|    25%|                19|   null|\n",
            "|    50%|                19|   null|\n",
            "|    75%|                30|   null|\n",
            "|    max|                30|Michael|\n",
            "+-------+------------------+-------+\n",
            "\n"
          ],
          "name": "stdout"
        }
      ]
    },
    {
      "cell_type": "markdown",
      "metadata": {
        "id": "sLqU-zNLY4lu"
      },
      "source": [
        "### Métodos Take e Collect"
      ]
    },
    {
      "cell_type": "code",
      "metadata": {
        "colab": {
          "base_uri": "https://localhost:8080/"
        },
        "id": "4o1h9O5nYPqW",
        "outputId": "44735fff-157b-4e55-cf71-1dfbcaab1da0"
      },
      "source": [
        "df.take(2)"
      ],
      "execution_count": 13,
      "outputs": [
        {
          "output_type": "execute_result",
          "data": {
            "text/plain": [
              "[Row(age=None, name='Michael'), Row(age=30, name='Andy')]"
            ]
          },
          "metadata": {
            "tags": []
          },
          "execution_count": 13
        }
      ]
    },
    {
      "cell_type": "code",
      "metadata": {
        "colab": {
          "base_uri": "https://localhost:8080/"
        },
        "id": "tRex71F6ZCWG",
        "outputId": "30969f04-6d12-4486-f55e-36b103668def"
      },
      "source": [
        "df.collect()"
      ],
      "execution_count": 14,
      "outputs": [
        {
          "output_type": "execute_result",
          "data": {
            "text/plain": [
              "[Row(age=None, name='Michael'),\n",
              " Row(age=30, name='Andy'),\n",
              " Row(age=19, name='Justin')]"
            ]
          },
          "metadata": {
            "tags": []
          },
          "execution_count": 14
        }
      ]
    },
    {
      "cell_type": "markdown",
      "metadata": {
        "id": "KOTLxaOMbj3-"
      },
      "source": [
        "## Operações Básicas"
      ]
    },
    {
      "cell_type": "markdown",
      "metadata": {
        "id": "LRMVd792cvCy"
      },
      "source": [
        "### Criando uma nova sessão para a leitura de um arquivo CSV"
      ]
    },
    {
      "cell_type": "code",
      "metadata": {
        "id": "jmR0gTw2bm1U"
      },
      "source": [
        "spark2 = SparkSession.builder.appName('Ops').getOrCreate()"
      ],
      "execution_count": 15,
      "outputs": []
    },
    {
      "cell_type": "code",
      "metadata": {
        "colab": {
          "base_uri": "https://localhost:8080/"
        },
        "id": "T643F4w3cuDD",
        "outputId": "cb5a2640-8df6-432e-fa5a-079c1ea53977"
      },
      "source": [
        "PATH = '/content/drive/MyDrive/Colab Notebooks/Estudos/Spark/base/appl_stock.csv'\n",
        "df = spark2.read.csv(PATH, inferSchema = True, header = True)\n",
        "df.printSchema()"
      ],
      "execution_count": 16,
      "outputs": [
        {
          "output_type": "stream",
          "text": [
            "root\n",
            " |-- Date: timestamp (nullable = true)\n",
            " |-- Open: double (nullable = true)\n",
            " |-- High: double (nullable = true)\n",
            " |-- Low: double (nullable = true)\n",
            " |-- Close: double (nullable = true)\n",
            " |-- Volume: integer (nullable = true)\n",
            " |-- Adj Close: double (nullable = true)\n",
            "\n"
          ],
          "name": "stdout"
        }
      ]
    },
    {
      "cell_type": "code",
      "metadata": {
        "colab": {
          "base_uri": "https://localhost:8080/"
        },
        "id": "Rm45p5HedNkU",
        "outputId": "f85c901a-3206-4153-bda0-76f327624f05"
      },
      "source": [
        "df.show()"
      ],
      "execution_count": 17,
      "outputs": [
        {
          "output_type": "stream",
          "text": [
            "+-------------------+------------------+------------------+------------------+------------------+---------+------------------+\n",
            "|               Date|              Open|              High|               Low|             Close|   Volume|         Adj Close|\n",
            "+-------------------+------------------+------------------+------------------+------------------+---------+------------------+\n",
            "|2010-01-04 00:00:00|        213.429998|        214.499996|212.38000099999996|        214.009998|123432400|         27.727039|\n",
            "|2010-01-05 00:00:00|        214.599998|        215.589994|        213.249994|        214.379993|150476200|27.774976000000002|\n",
            "|2010-01-06 00:00:00|        214.379993|            215.23|        210.750004|        210.969995|138040000|27.333178000000004|\n",
            "|2010-01-07 00:00:00|            211.75|        212.000006|        209.050005|            210.58|119282800|          27.28265|\n",
            "|2010-01-08 00:00:00|        210.299994|        212.000006|209.06000500000002|211.98000499999998|111902700|         27.464034|\n",
            "|2010-01-11 00:00:00|212.79999700000002|        213.000002|        208.450005|210.11000299999998|115557400|         27.221758|\n",
            "|2010-01-12 00:00:00|209.18999499999998|209.76999500000002|        206.419998|        207.720001|148614900|          26.91211|\n",
            "|2010-01-13 00:00:00|        207.870005|210.92999500000002|        204.099998|        210.650002|151473000|          27.29172|\n",
            "|2010-01-14 00:00:00|210.11000299999998|210.45999700000002|        209.020004|            209.43|108223500|         27.133657|\n",
            "|2010-01-15 00:00:00|210.92999500000002|211.59999700000003|        205.869999|            205.93|148516900|26.680197999999997|\n",
            "|2010-01-19 00:00:00|        208.330002|215.18999900000003|        207.240004|        215.039995|182501900|27.860484999999997|\n",
            "|2010-01-20 00:00:00|        214.910006|        215.549994|        209.500002|            211.73|153038200|         27.431644|\n",
            "|2010-01-21 00:00:00|        212.079994|213.30999599999998|        207.210003|        208.069996|152038600|         26.957455|\n",
            "|2010-01-22 00:00:00|206.78000600000001|        207.499996|            197.16|            197.75|220441900|         25.620401|\n",
            "|2010-01-25 00:00:00|202.51000200000001|        204.699999|        200.190002|        203.070002|266424900|26.309658000000002|\n",
            "|2010-01-26 00:00:00|205.95000100000001|        213.710005|        202.580004|        205.940001|466777500|         26.681494|\n",
            "|2010-01-27 00:00:00|        206.849995|            210.58|        199.530001|        207.880005|430642100|26.932840000000002|\n",
            "|2010-01-28 00:00:00|        204.930004|        205.500004|        198.699995|        199.289995|293375600|25.819922000000002|\n",
            "|2010-01-29 00:00:00|        201.079996|        202.199995|        190.250002|        192.060003|311488100|         24.883208|\n",
            "|2010-02-01 00:00:00|192.36999699999998|             196.0|191.29999899999999|        194.729998|187469100|         25.229131|\n",
            "+-------------------+------------------+------------------+------------------+------------------+---------+------------------+\n",
            "only showing top 20 rows\n",
            "\n"
          ],
          "name": "stdout"
        }
      ]
    },
    {
      "cell_type": "markdown",
      "metadata": {
        "id": "ZtiFjXZPfabg"
      },
      "source": [
        "### Listando as Colunas"
      ]
    },
    {
      "cell_type": "code",
      "metadata": {
        "colab": {
          "base_uri": "https://localhost:8080/"
        },
        "id": "dOSirKI8enuc",
        "outputId": "b1d39893-8aeb-469e-bd29-22d20e12cd69"
      },
      "source": [
        "df.columns"
      ],
      "execution_count": 18,
      "outputs": [
        {
          "output_type": "execute_result",
          "data": {
            "text/plain": [
              "['Date', 'Open', 'High', 'Low', 'Close', 'Volume', 'Adj Close']"
            ]
          },
          "metadata": {
            "tags": []
          },
          "execution_count": 18
        }
      ]
    },
    {
      "cell_type": "markdown",
      "metadata": {
        "id": "11NSx6lHgaUz"
      },
      "source": [
        "### Tipos de Colunas"
      ]
    },
    {
      "cell_type": "code",
      "metadata": {
        "colab": {
          "base_uri": "https://localhost:8080/"
        },
        "id": "PR3ec0zmfewF",
        "outputId": "96182014-0289-4dd6-9c34-d658e41af012"
      },
      "source": [
        "type(df['High'])"
      ],
      "execution_count": 19,
      "outputs": [
        {
          "output_type": "execute_result",
          "data": {
            "text/plain": [
              "pyspark.sql.column.Column"
            ]
          },
          "metadata": {
            "tags": []
          },
          "execution_count": 19
        }
      ]
    },
    {
      "cell_type": "code",
      "metadata": {
        "colab": {
          "base_uri": "https://localhost:8080/"
        },
        "id": "GllFmy2ZgerA",
        "outputId": "43698179-8474-4240-c789-1facd84c83d2"
      },
      "source": [
        "type(df.head(2)[0])"
      ],
      "execution_count": 20,
      "outputs": [
        {
          "output_type": "execute_result",
          "data": {
            "text/plain": [
              "pyspark.sql.types.Row"
            ]
          },
          "metadata": {
            "tags": []
          },
          "execution_count": 20
        }
      ]
    },
    {
      "cell_type": "markdown",
      "metadata": {
        "id": "Jau2ehFMgxlt"
      },
      "source": [
        "### Selecionando as Colunas"
      ]
    },
    {
      "cell_type": "code",
      "metadata": {
        "colab": {
          "base_uri": "https://localhost:8080/"
        },
        "id": "dGcqbekggiGy",
        "outputId": "728733a3-fbba-43b6-ef16-825cb20619dc"
      },
      "source": [
        "df.select('High')"
      ],
      "execution_count": 21,
      "outputs": [
        {
          "output_type": "execute_result",
          "data": {
            "text/plain": [
              "DataFrame[High: double]"
            ]
          },
          "metadata": {
            "tags": []
          },
          "execution_count": 21
        }
      ]
    },
    {
      "cell_type": "code",
      "metadata": {
        "colab": {
          "base_uri": "https://localhost:8080/"
        },
        "id": "a7IQsbxwg9Hr",
        "outputId": "7602bee2-86be-48b3-ae7a-7dc07ab3dbc3"
      },
      "source": [
        "df.select('High').show()"
      ],
      "execution_count": 22,
      "outputs": [
        {
          "output_type": "stream",
          "text": [
            "+------------------+\n",
            "|              High|\n",
            "+------------------+\n",
            "|        214.499996|\n",
            "|        215.589994|\n",
            "|            215.23|\n",
            "|        212.000006|\n",
            "|        212.000006|\n",
            "|        213.000002|\n",
            "|209.76999500000002|\n",
            "|210.92999500000002|\n",
            "|210.45999700000002|\n",
            "|211.59999700000003|\n",
            "|215.18999900000003|\n",
            "|        215.549994|\n",
            "|213.30999599999998|\n",
            "|        207.499996|\n",
            "|        204.699999|\n",
            "|        213.710005|\n",
            "|            210.58|\n",
            "|        205.500004|\n",
            "|        202.199995|\n",
            "|             196.0|\n",
            "+------------------+\n",
            "only showing top 20 rows\n",
            "\n"
          ],
          "name": "stdout"
        }
      ]
    },
    {
      "cell_type": "code",
      "metadata": {
        "colab": {
          "base_uri": "https://localhost:8080/"
        },
        "id": "d8lXpkYbhCo2",
        "outputId": "e8cf4fc1-1bb3-4499-802c-6065e5c19215"
      },
      "source": [
        "df.select(['High', 'Close']).show()"
      ],
      "execution_count": 23,
      "outputs": [
        {
          "output_type": "stream",
          "text": [
            "+------------------+------------------+\n",
            "|              High|             Close|\n",
            "+------------------+------------------+\n",
            "|        214.499996|        214.009998|\n",
            "|        215.589994|        214.379993|\n",
            "|            215.23|        210.969995|\n",
            "|        212.000006|            210.58|\n",
            "|        212.000006|211.98000499999998|\n",
            "|        213.000002|210.11000299999998|\n",
            "|209.76999500000002|        207.720001|\n",
            "|210.92999500000002|        210.650002|\n",
            "|210.45999700000002|            209.43|\n",
            "|211.59999700000003|            205.93|\n",
            "|215.18999900000003|        215.039995|\n",
            "|        215.549994|            211.73|\n",
            "|213.30999599999998|        208.069996|\n",
            "|        207.499996|            197.75|\n",
            "|        204.699999|        203.070002|\n",
            "|        213.710005|        205.940001|\n",
            "|            210.58|        207.880005|\n",
            "|        205.500004|        199.289995|\n",
            "|        202.199995|        192.060003|\n",
            "|             196.0|        194.729998|\n",
            "+------------------+------------------+\n",
            "only showing top 20 rows\n",
            "\n"
          ],
          "name": "stdout"
        }
      ]
    },
    {
      "cell_type": "markdown",
      "metadata": {
        "id": "1Fs-pcWVhRbo"
      },
      "source": [
        "### Método asDict e head"
      ]
    },
    {
      "cell_type": "code",
      "metadata": {
        "colab": {
          "base_uri": "https://localhost:8080/"
        },
        "id": "Zv-Z2FjDhLiT",
        "outputId": "7d3447d3-c649-4320-9ffd-7a3584726540"
      },
      "source": [
        "df.head(2)"
      ],
      "execution_count": 24,
      "outputs": [
        {
          "output_type": "execute_result",
          "data": {
            "text/plain": [
              "[Row(Date=datetime.datetime(2010, 1, 4, 0, 0), Open=213.429998, High=214.499996, Low=212.38000099999996, Close=214.009998, Volume=123432400, Adj Close=27.727039),\n",
              " Row(Date=datetime.datetime(2010, 1, 5, 0, 0), Open=214.599998, High=215.589994, Low=213.249994, Close=214.379993, Volume=150476200, Adj Close=27.774976000000002)]"
            ]
          },
          "metadata": {
            "tags": []
          },
          "execution_count": 24
        }
      ]
    },
    {
      "cell_type": "code",
      "metadata": {
        "colab": {
          "base_uri": "https://localhost:8080/"
        },
        "id": "TS-WgFoKhlNH",
        "outputId": "6c7ec704-9adf-414b-e9a4-8f252428f2db"
      },
      "source": [
        "dict1 = df.head(2)[0].asDict()\n",
        "dict1"
      ],
      "execution_count": 25,
      "outputs": [
        {
          "output_type": "execute_result",
          "data": {
            "text/plain": [
              "{'Adj Close': 27.727039,\n",
              " 'Close': 214.009998,\n",
              " 'Date': datetime.datetime(2010, 1, 4, 0, 0),\n",
              " 'High': 214.499996,\n",
              " 'Low': 212.38000099999996,\n",
              " 'Open': 213.429998,\n",
              " 'Volume': 123432400}"
            ]
          },
          "metadata": {
            "tags": []
          },
          "execution_count": 25
        }
      ]
    },
    {
      "cell_type": "markdown",
      "metadata": {
        "id": "bCt3NUpDih-j"
      },
      "source": [
        "### Método Count"
      ]
    },
    {
      "cell_type": "code",
      "metadata": {
        "colab": {
          "base_uri": "https://localhost:8080/"
        },
        "id": "7_6Ga4KFhvbD",
        "outputId": "acf2ca91-1b54-4307-d0e4-708d1d4f2fd0"
      },
      "source": [
        "df.count()"
      ],
      "execution_count": 26,
      "outputs": [
        {
          "output_type": "execute_result",
          "data": {
            "text/plain": [
              "1762"
            ]
          },
          "metadata": {
            "tags": []
          },
          "execution_count": 26
        }
      ]
    },
    {
      "cell_type": "markdown",
      "metadata": {
        "id": "iwEW82GW4c6u"
      },
      "source": [
        "### Nova importação de Base\n"
      ]
    },
    {
      "cell_type": "code",
      "metadata": {
        "colab": {
          "base_uri": "https://localhost:8080/"
        },
        "id": "3EOMNfvd4gjK",
        "outputId": "0637db08-a555-4884-c5a6-c0aede78b5bf"
      },
      "source": [
        "PATH = '/content/drive/MyDrive/Colab Notebooks/Estudos/Spark/base/sales_info.csv'\n",
        "df2 = spark2.read.csv(PATH, inferSchema = True, header = True)\n",
        "df2.show()"
      ],
      "execution_count": 27,
      "outputs": [
        {
          "output_type": "stream",
          "text": [
            "+-------+-------+-----+\n",
            "|Company| Person|Sales|\n",
            "+-------+-------+-----+\n",
            "|   GOOG|    Sam|200.0|\n",
            "|   GOOG|Charlie|120.0|\n",
            "|   GOOG|  Frank|340.0|\n",
            "|   MSFT|   Tina|600.0|\n",
            "|   MSFT|    Amy|124.0|\n",
            "|   MSFT|Vanessa|243.0|\n",
            "|     FB|   Carl|870.0|\n",
            "|     FB|  Sarah|350.0|\n",
            "|   APPL|   John|250.0|\n",
            "|   APPL|  Linda|130.0|\n",
            "|   APPL|   Mike|750.0|\n",
            "|   APPL|  Chris|350.0|\n",
            "+-------+-------+-----+\n",
            "\n"
          ],
          "name": "stdout"
        }
      ]
    },
    {
      "cell_type": "markdown",
      "metadata": {
        "id": "Aif8YEBv41Zc"
      },
      "source": [
        "### Selecionando apenas as 'Company' distintas e contando"
      ]
    },
    {
      "cell_type": "code",
      "metadata": {
        "colab": {
          "base_uri": "https://localhost:8080/"
        },
        "id": "xM8q28lb4ye3",
        "outputId": "eb4ac761-bdd3-47b2-e667-2b6673bc653c"
      },
      "source": [
        "df2.select('Company').distinct().show()"
      ],
      "execution_count": 29,
      "outputs": [
        {
          "output_type": "stream",
          "text": [
            "+-------+\n",
            "|Company|\n",
            "+-------+\n",
            "|   APPL|\n",
            "|   GOOG|\n",
            "|     FB|\n",
            "|   MSFT|\n",
            "+-------+\n",
            "\n"
          ],
          "name": "stdout"
        }
      ]
    },
    {
      "cell_type": "code",
      "metadata": {
        "colab": {
          "base_uri": "https://localhost:8080/"
        },
        "id": "L8dQE94d5Azf",
        "outputId": "7d52e1ad-1a45-4ca1-ecab-0088013c964f"
      },
      "source": [
        "df2.select('Company').distinct().count()"
      ],
      "execution_count": 30,
      "outputs": [
        {
          "output_type": "execute_result",
          "data": {
            "text/plain": [
              "4"
            ]
          },
          "metadata": {
            "tags": []
          },
          "execution_count": 30
        }
      ]
    },
    {
      "cell_type": "markdown",
      "metadata": {
        "id": "G1-Shqz_5Zyt"
      },
      "source": [
        "### Utilizando o método sample para capturar amostragens aleatórios "
      ]
    },
    {
      "cell_type": "code",
      "metadata": {
        "colab": {
          "base_uri": "https://localhost:8080/"
        },
        "id": "nMIKNMHR5RTP",
        "outputId": "4225cfe5-529d-4cc2-d380-63e939fff2e9"
      },
      "source": [
        "df.sample(withReplacement = False, fraction = 0.005, seed = 101).show()"
      ],
      "execution_count": 31,
      "outputs": [
        {
          "output_type": "stream",
          "text": [
            "+-------------------+------------------+------------------+------------------+----------+---------+------------------+\n",
            "|               Date|              Open|              High|               Low|     Close|   Volume|         Adj Close|\n",
            "+-------------------+------------------+------------------+------------------+----------+---------+------------------+\n",
            "|2010-03-19 00:00:00|224.79000499999998|        225.240002|221.23000299999998|    222.25|139861400|          28.79461|\n",
            "|2010-04-09 00:00:00|        241.430012|        241.889996|240.46000299999997|241.789993| 83545700|31.326203000000003|\n",
            "|2010-06-07 00:00:00|        258.289997|         259.14999|        250.550007|250.940002|221735500|         32.511674|\n",
            "|2011-07-19 00:00:00|             378.0|378.65000200000003|            373.32|376.849987|204786400|48.824515000000005|\n",
            "|2012-07-24 00:00:00|         607.37999|        609.680016|        598.509987|600.919975|141283100|         77.854922|\n",
            "|2013-09-04 00:00:00|        499.560005|        502.240013|        496.279984|498.690025| 86258200| 66.43344300000001|\n",
            "|2013-11-12 00:00:00|        517.670006|        523.919975|        516.999977|520.009979| 51069200|         69.678045|\n",
            "|2013-11-19 00:00:00|        519.029984|         523.37999| 517.9699860000001|519.549995| 52234700|          69.61641|\n",
            "|2014-02-06 00:00:00|        510.060005|        513.499977|         507.81002|512.509995| 64441300|         69.084152|\n",
            "|2014-05-09 00:00:00|        584.540001|            586.25|        580.330025|585.540024| 72899400| 79.36913100000001|\n",
            "|2014-08-11 00:00:00|         95.269997| 96.08000200000001|         94.839996| 95.989998| 36585000|         91.532205|\n",
            "|2015-01-16 00:00:00|        107.029999|107.58000200000001|        105.199997|105.989998| 78513300|        101.506054|\n",
            "|2016-11-11 00:00:00|        107.120003|        108.870003|        106.550003|    108.43| 34143900|        107.961922|\n",
            "+-------------------+------------------+------------------+------------------+----------+---------+------------------+\n",
            "\n"
          ],
          "name": "stdout"
        }
      ]
    },
    {
      "cell_type": "markdown",
      "metadata": {
        "id": "kckmPK5k6GZ1"
      },
      "source": [
        "### Adicionando uma nova coluna ao DataFrame \n",
        "Fazendo a adição da diferença entre as ações, calculando o valor da açõa em alta pela a ação em baixa"
      ]
    },
    {
      "cell_type": "code",
      "metadata": {
        "colab": {
          "base_uri": "https://localhost:8080/"
        },
        "id": "FNDon9Hs5yD4",
        "outputId": "d2640837-5819-4d1f-f87f-3032e9a898a6"
      },
      "source": [
        "df.withColumn('Range', df['High'] - df['Low']).limit(5).select(['High', 'Low', 'Range']).show()"
      ],
      "execution_count": 32,
      "outputs": [
        {
          "output_type": "stream",
          "text": [
            "+----------+------------------+------------------+\n",
            "|      High|               Low|             Range|\n",
            "+----------+------------------+------------------+\n",
            "|214.499996|212.38000099999996|2.1199950000000456|\n",
            "|215.589994|        213.249994|2.3400000000000034|\n",
            "|    215.23|        210.750004|          4.479996|\n",
            "|212.000006|        209.050005|2.9500010000000145|\n",
            "|212.000006|209.06000500000002| 2.940000999999995|\n",
            "+----------+------------------+------------------+\n",
            "\n"
          ],
          "name": "stdout"
        }
      ]
    },
    {
      "cell_type": "code",
      "metadata": {
        "id": "AsLJMaTi6oSG"
      },
      "source": [
        ""
      ],
      "execution_count": null,
      "outputs": []
    }
  ]
}