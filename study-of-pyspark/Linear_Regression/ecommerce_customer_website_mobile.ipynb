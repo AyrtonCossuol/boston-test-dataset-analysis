{
  "nbformat": 4,
  "nbformat_minor": 0,
  "metadata": {
    "colab": {
      "name": "ecommerce_customer_website_mobile.ipynb",
      "provenance": []
    },
    "kernelspec": {
      "name": "python3",
      "display_name": "Python 3"
    },
    "language_info": {
      "name": "python"
    }
  },
  "cells": [
    {
      "cell_type": "markdown",
      "metadata": {
        "id": "IHzagCyhYqW_"
      },
      "source": [
        "# Regressão Linear para um Comércio Eletrônico\n",
        " \n",
        "Basicamente vamos analisar um conjunto de dados de um cliente de comércio eletrônico. Em seguida construir um modelo em que possa prever os gastos anuais do cliente com o produto da empresa.\n"
      ]
    },
    {
      "cell_type": "markdown",
      "metadata": {
        "id": "-q7sMmPOZU8W"
      },
      "source": [
        "### Instalação dos componentes relacionado ao Spark"
      ]
    },
    {
      "cell_type": "code",
      "metadata": {
        "id": "hmvA4ifiX06W"
      },
      "source": [
        "!apt-get install openjdk-8-jdk-headless -qq > /dev/null\n",
        "!wget -q https://archive.apache.org/dist/spark/spark-2.4.4/spark-2.4.4-bin-hadoop2.7.tgz\n",
        "!tar xf spark-2.4.4-bin-hadoop2.7.tgz\n",
        "!pip install -q findspark"
      ],
      "execution_count": 1,
      "outputs": []
    },
    {
      "cell_type": "code",
      "metadata": {
        "id": "kmXhBIlOZZAa"
      },
      "source": [
        "import os\n",
        "import findspark\n",
        "\n",
        "os.environ[\"JAVA_HOME\"] = \"/usr/lib/jvm/java-8-openjdk-amd64\"\n",
        "os.environ[\"SPARK_HOME\"] = \"/content/spark-2.4.4-bin-hadoop2.7\"\n",
        "findspark.init('spark-2.4.4-bin-hadoop2.7')"
      ],
      "execution_count": 2,
      "outputs": []
    },
    {
      "cell_type": "markdown",
      "metadata": {
        "id": "_mB0e8m_ZoHW"
      },
      "source": [
        "## Importação das Bibliotecas"
      ]
    },
    {
      "cell_type": "code",
      "metadata": {
        "id": "D-xDz2IgZaz3"
      },
      "source": [
        "import pyspark\n",
        "from pyspark import SparkContext as sc\n",
        "from pyspark.sql import SparkSession\n",
        "\n",
        "from pyspark.ml.regression import LinearRegression\n",
        "from pyspark.ml.linalg import Vectors\n",
        "from pyspark.ml.feature import VectorAssembler"
      ],
      "execution_count": 3,
      "outputs": []
    },
    {
      "cell_type": "markdown",
      "metadata": {
        "id": "A0bKSK7_Z5fu"
      },
      "source": [
        "## Criação da SparkSession e lendo o Arquivo"
      ]
    },
    {
      "cell_type": "code",
      "metadata": {
        "id": "czaMMcgmZ3ZE"
      },
      "source": [
        "spark = SparkSession.builder.appName('lr_example').getOrCreate()"
      ],
      "execution_count": 4,
      "outputs": []
    },
    {
      "cell_type": "code",
      "metadata": {
        "colab": {
          "base_uri": "https://localhost:8080/"
        },
        "id": "XRRE7c4naSCw",
        "outputId": "fe24b9f4-6955-4aa8-824b-e0becd92e20f"
      },
      "source": [
        "PATH = '/content/drive/MyDrive/Colab Notebooks/Estudos/Spark/Linear_Regression/base/Ecommerce_Customers.csv'\n",
        "data = spark.read.csv(PATH, inferSchema = True, header = True) \n",
        "data.printSchema()"
      ],
      "execution_count": 5,
      "outputs": [
        {
          "output_type": "stream",
          "text": [
            "root\n",
            " |-- Email: string (nullable = true)\n",
            " |-- Address: string (nullable = true)\n",
            " |-- Avatar: string (nullable = true)\n",
            " |-- Avg Session Length: double (nullable = true)\n",
            " |-- Time on App: double (nullable = true)\n",
            " |-- Time on Website: double (nullable = true)\n",
            " |-- Length of Membership: double (nullable = true)\n",
            " |-- Yearly Amount Spent: double (nullable = true)\n",
            "\n"
          ],
          "name": "stdout"
        }
      ]
    },
    {
      "cell_type": "code",
      "metadata": {
        "colab": {
          "base_uri": "https://localhost:8080/"
        },
        "id": "ZIdn6AFnap7W",
        "outputId": "322f1f1a-bf2b-4294-bbba-a3c99d81823e"
      },
      "source": [
        "# Mostrando os 5 primeiros registros\n",
        "\n",
        "data.show(5)"
      ],
      "execution_count": 6,
      "outputs": [
        {
          "output_type": "stream",
          "text": [
            "+--------------------+--------------------+----------------+------------------+------------------+------------------+--------------------+-------------------+\n",
            "|               Email|             Address|          Avatar|Avg Session Length|       Time on App|   Time on Website|Length of Membership|Yearly Amount Spent|\n",
            "+--------------------+--------------------+----------------+------------------+------------------+------------------+--------------------+-------------------+\n",
            "|mstephenson@ferna...|835 Frank TunnelW...|          Violet| 34.49726772511229| 12.65565114916675| 39.57766801952616|  4.0826206329529615|  587.9510539684005|\n",
            "|   hduke@hotmail.com|4547 Archer Commo...|       DarkGreen| 31.92627202636016|11.109460728682564|37.268958868297744|    2.66403418213262|  392.2049334443264|\n",
            "|    pallen@yahoo.com|24645 Valerie Uni...|          Bisque|33.000914755642675|11.330278057777512|37.110597442120856|   4.104543202376424| 487.54750486747207|\n",
            "|riverarebecca@gma...|1414 David Throug...|     SaddleBrown| 34.30555662975554|13.717513665142507| 36.72128267790313|   3.120178782748092|  581.8523440352177|\n",
            "|mstephens@davidso...|14023 Rodriguez P...|MediumAquaMarine| 33.33067252364639|12.795188551078114| 37.53665330059473|   4.446308318351434|  599.4060920457634|\n",
            "+--------------------+--------------------+----------------+------------------+------------------+------------------+--------------------+-------------------+\n",
            "only showing top 5 rows\n",
            "\n"
          ],
          "name": "stdout"
        }
      ]
    },
    {
      "cell_type": "code",
      "metadata": {
        "colab": {
          "base_uri": "https://localhost:8080/"
        },
        "id": "ZePEiCzrbpdb",
        "outputId": "8811c09b-b135-4dc1-d85c-f1116cdc61d3"
      },
      "source": [
        "data.head()"
      ],
      "execution_count": 7,
      "outputs": [
        {
          "output_type": "execute_result",
          "data": {
            "text/plain": [
              "Row(Email='mstephenson@fernandez.com', Address='835 Frank TunnelWrightmouth, MI 82180-9605', Avatar='Violet', Avg Session Length=34.49726772511229, Time on App=12.65565114916675, Time on Website=39.57766801952616, Length of Membership=4.0826206329529615, Yearly Amount Spent=587.9510539684005)"
            ]
          },
          "metadata": {
            "tags": []
          },
          "execution_count": 7
        }
      ]
    },
    {
      "cell_type": "code",
      "metadata": {
        "colab": {
          "base_uri": "https://localhost:8080/"
        },
        "id": "0OtFlLtbbuw6",
        "outputId": "7a719913-030e-4fff-fb30-2a5f3f78faf8"
      },
      "source": [
        "# Listando os dados do primeiro registro\n",
        "\n",
        "for item in data.head():\n",
        "  print(item)"
      ],
      "execution_count": 8,
      "outputs": [
        {
          "output_type": "stream",
          "text": [
            "mstephenson@fernandez.com\n",
            "835 Frank TunnelWrightmouth, MI 82180-9605\n",
            "Violet\n",
            "34.49726772511229\n",
            "12.65565114916675\n",
            "39.57766801952616\n",
            "4.0826206329529615\n",
            "587.9510539684005\n"
          ],
          "name": "stdout"
        }
      ]
    },
    {
      "cell_type": "code",
      "metadata": {
        "colab": {
          "base_uri": "https://localhost:8080/"
        },
        "id": "d1nKBbxicBro",
        "outputId": "c2c8c63d-1379-41d9-f164-c02bfb58daf5"
      },
      "source": [
        "# Listagem das colunas\n",
        "\n",
        "data.columns"
      ],
      "execution_count": 9,
      "outputs": [
        {
          "output_type": "execute_result",
          "data": {
            "text/plain": [
              "['Email',\n",
              " 'Address',\n",
              " 'Avatar',\n",
              " 'Avg Session Length',\n",
              " 'Time on App',\n",
              " 'Time on Website',\n",
              " 'Length of Membership',\n",
              " 'Yearly Amount Spent']"
            ]
          },
          "metadata": {
            "tags": []
          },
          "execution_count": 9
        }
      ]
    },
    {
      "cell_type": "markdown",
      "metadata": {
        "id": "3_NC5huXcsIX"
      },
      "source": [
        "## Configurando o Dataframe para o Machine Learning"
      ]
    },
    {
      "cell_type": "markdown",
      "metadata": {
        "id": "Onlhq7pEc3xG"
      },
      "source": [
        "### Formatando para duas colunas \"rótulo\", \"recursos\""
      ]
    },
    {
      "cell_type": "code",
      "metadata": {
        "id": "KC-U7MnZcZ3H"
      },
      "source": [
        "assembler = VectorAssembler(\n",
        "    inputCols = ['Avg Session Length',\n",
        "                 'Time on App',\n",
        "                 'Time on Website',\n",
        "                 'Length of Membership'],\n",
        "    outputCol = 'features'\n",
        ")"
      ],
      "execution_count": 10,
      "outputs": []
    },
    {
      "cell_type": "code",
      "metadata": {
        "id": "FUwvHyV5dgK8"
      },
      "source": [
        "output = assembler.transform(data)"
      ],
      "execution_count": 11,
      "outputs": []
    },
    {
      "cell_type": "code",
      "metadata": {
        "colab": {
          "base_uri": "https://localhost:8080/"
        },
        "id": "ltInDwPhdmTg",
        "outputId": "686628e8-b007-49fd-be6c-20d1e4747f69"
      },
      "source": [
        "output.select('features').show(10)"
      ],
      "execution_count": 12,
      "outputs": [
        {
          "output_type": "stream",
          "text": [
            "+--------------------+\n",
            "|            features|\n",
            "+--------------------+\n",
            "|[34.4972677251122...|\n",
            "|[31.9262720263601...|\n",
            "|[33.0009147556426...|\n",
            "|[34.3055566297555...|\n",
            "|[33.3306725236463...|\n",
            "|[33.8710378793419...|\n",
            "|[32.0215955013870...|\n",
            "|[32.7391429383803...|\n",
            "|[33.9877728956856...|\n",
            "|[31.9365486184489...|\n",
            "+--------------------+\n",
            "only showing top 10 rows\n",
            "\n"
          ],
          "name": "stdout"
        }
      ]
    },
    {
      "cell_type": "code",
      "metadata": {
        "colab": {
          "base_uri": "https://localhost:8080/"
        },
        "id": "_hQrS1mtdqrl",
        "outputId": "3ccb1e49-be21-4dda-ff24-a1ff21341605"
      },
      "source": [
        "output.show(10)"
      ],
      "execution_count": 13,
      "outputs": [
        {
          "output_type": "stream",
          "text": [
            "+--------------------+--------------------+----------------+------------------+------------------+------------------+--------------------+-------------------+--------------------+\n",
            "|               Email|             Address|          Avatar|Avg Session Length|       Time on App|   Time on Website|Length of Membership|Yearly Amount Spent|            features|\n",
            "+--------------------+--------------------+----------------+------------------+------------------+------------------+--------------------+-------------------+--------------------+\n",
            "|mstephenson@ferna...|835 Frank TunnelW...|          Violet| 34.49726772511229| 12.65565114916675| 39.57766801952616|  4.0826206329529615|  587.9510539684005|[34.4972677251122...|\n",
            "|   hduke@hotmail.com|4547 Archer Commo...|       DarkGreen| 31.92627202636016|11.109460728682564|37.268958868297744|    2.66403418213262|  392.2049334443264|[31.9262720263601...|\n",
            "|    pallen@yahoo.com|24645 Valerie Uni...|          Bisque|33.000914755642675|11.330278057777512|37.110597442120856|   4.104543202376424| 487.54750486747207|[33.0009147556426...|\n",
            "|riverarebecca@gma...|1414 David Throug...|     SaddleBrown| 34.30555662975554|13.717513665142507| 36.72128267790313|   3.120178782748092|  581.8523440352177|[34.3055566297555...|\n",
            "|mstephens@davidso...|14023 Rodriguez P...|MediumAquaMarine| 33.33067252364639|12.795188551078114| 37.53665330059473|   4.446308318351434|  599.4060920457634|[33.3306725236463...|\n",
            "|alvareznancy@luca...|645 Martha Park A...|     FloralWhite|33.871037879341976|12.026925339755056| 34.47687762925054|   5.493507201364199|   637.102447915074|[33.8710378793419...|\n",
            "|katherine20@yahoo...|68388 Reyes Light...|   DarkSlateBlue| 32.02159550138701|11.366348309710526| 36.68377615286961|   4.685017246570912|  521.5721747578274|[32.0215955013870...|\n",
            "|  awatkins@yahoo.com|Unit 6538 Box 898...|            Aqua|32.739142938380326| 12.35195897300293| 37.37335885854755|  4.4342734348999375|  549.9041461052942|[32.7391429383803...|\n",
            "|vchurch@walter-ma...|860 Lee KeyWest D...|          Salmon| 33.98777289568564|13.386235275676436|37.534497341555735|  3.2734335777477144|  570.2004089636196|[33.9877728956856...|\n",
            "|    bonnie69@lin.biz|PSC 2734, Box 525...|           Brown|31.936548618448917|11.814128294972196| 37.14516822352819|   3.202806071553459|  427.1993848953282|[31.9365486184489...|\n",
            "+--------------------+--------------------+----------------+------------------+------------------+------------------+--------------------+-------------------+--------------------+\n",
            "only showing top 10 rows\n",
            "\n"
          ],
          "name": "stdout"
        }
      ]
    },
    {
      "cell_type": "markdown",
      "metadata": {
        "id": "woHU1oRgGUFP"
      },
      "source": [
        "### Separando a base para treino e teste"
      ]
    },
    {
      "cell_type": "code",
      "metadata": {
        "id": "JEPmpoOldyca"
      },
      "source": [
        "final_data = output.select('features', 'Yearly Amount Spent')"
      ],
      "execution_count": 14,
      "outputs": []
    },
    {
      "cell_type": "code",
      "metadata": {
        "id": "FyUTBErXGsdd"
      },
      "source": [
        "train_data, test_data = final_data.randomSplit([0.7, 0.3])"
      ],
      "execution_count": 15,
      "outputs": []
    },
    {
      "cell_type": "code",
      "metadata": {
        "colab": {
          "base_uri": "https://localhost:8080/"
        },
        "id": "7Rd4UanJG9mx",
        "outputId": "21242fd7-ebcc-4e9a-a5a5-fe98fb49e42d"
      },
      "source": [
        "train_data.describe().show()"
      ],
      "execution_count": 17,
      "outputs": [
        {
          "output_type": "stream",
          "text": [
            "+-------+-------------------+\n",
            "|summary|Yearly Amount Spent|\n",
            "+-------+-------------------+\n",
            "|  count|                360|\n",
            "|   mean|  497.9170062533849|\n",
            "| stddev|  78.78680052844595|\n",
            "|    min| 256.67058229005585|\n",
            "|    max|  765.5184619388373|\n",
            "+-------+-------------------+\n",
            "\n"
          ],
          "name": "stdout"
        }
      ]
    },
    {
      "cell_type": "code",
      "metadata": {
        "colab": {
          "base_uri": "https://localhost:8080/"
        },
        "id": "wUbqhbFKG_-E",
        "outputId": "d5ce96fc-eb69-4c61-a636-11a80c3d971e"
      },
      "source": [
        "test_data.describe().show()"
      ],
      "execution_count": 18,
      "outputs": [
        {
          "output_type": "stream",
          "text": [
            "+-------+-------------------+\n",
            "|summary|Yearly Amount Spent|\n",
            "+-------+-------------------+\n",
            "|  count|                140|\n",
            "|   mean|  502.9064062719779|\n",
            "| stddev|  80.83088783220472|\n",
            "|    min|   266.086340948469|\n",
            "|    max|  712.3963268096637|\n",
            "+-------+-------------------+\n",
            "\n"
          ],
          "name": "stdout"
        }
      ]
    },
    {
      "cell_type": "markdown",
      "metadata": {
        "id": "R6y415KkHS8y"
      },
      "source": [
        "## Criando o Modelo de Regressão Linear"
      ]
    },
    {
      "cell_type": "code",
      "metadata": {
        "id": "8cCKqlHXHJnv"
      },
      "source": [
        "lr = LinearRegression(labelCol = 'Yearly Amount Spent')\n",
        "\n",
        "lr_model = lr.fit(train_data, )"
      ],
      "execution_count": 19,
      "outputs": []
    },
    {
      "cell_type": "code",
      "metadata": {
        "colab": {
          "base_uri": "https://localhost:8080/"
        },
        "id": "UNaMLOgmHski",
        "outputId": "c0b2d4d0-26a8-4e8d-e173-35c63acdc28a"
      },
      "source": [
        "# Printando os coeficientes e o valor de interceptação\n",
        "\n",
        "print(\"Coefficients: {} \\nIntercept: {}\".format(lr_model.coefficients, lr_model.intercept))"
      ],
      "execution_count": 20,
      "outputs": [
        {
          "output_type": "stream",
          "text": [
            "Coefficients: [25.706500920765187,38.73525338001183,1.1565402914414142,61.60840128375682] \n",
            " Intercept: -1078.2291414472083\n"
          ],
          "name": "stdout"
        }
      ]
    },
    {
      "cell_type": "code",
      "metadata": {
        "id": "JAe294X2JpDz"
      },
      "source": [
        "test_results = lr_model.evaluate(test_data)"
      ],
      "execution_count": 21,
      "outputs": []
    },
    {
      "cell_type": "code",
      "metadata": {
        "colab": {
          "base_uri": "https://localhost:8080/"
        },
        "id": "vKexfPa-KqMk",
        "outputId": "ab1ab17a-7659-46c7-a3af-1ba4c731da04"
      },
      "source": [
        "test_results.residuals.show(10)"
      ],
      "execution_count": 22,
      "outputs": [
        {
          "output_type": "stream",
          "text": [
            "+-------------------+\n",
            "|          residuals|\n",
            "+-------------------+\n",
            "| 10.533760084842925|\n",
            "|-10.717164151685779|\n",
            "| -3.937679463434563|\n",
            "| 0.4951060695759111|\n",
            "|  -16.4530077923622|\n",
            "|  3.750530711606757|\n",
            "| -5.134247277314728|\n",
            "| 23.237179271225614|\n",
            "|  4.710163117579782|\n",
            "|-1.6498333068126385|\n",
            "+-------------------+\n",
            "only showing top 10 rows\n",
            "\n"
          ],
          "name": "stdout"
        }
      ]
    },
    {
      "cell_type": "markdown",
      "metadata": {
        "id": "Paxyik_GLMUL"
      },
      "source": [
        "### Exibindo os resultados"
      ]
    },
    {
      "cell_type": "code",
      "metadata": {
        "id": "e9nPv88zK0tq"
      },
      "source": [
        "unlabeled_data = test_data.select('features')\n",
        "\n",
        "predictions = lr_model.transform(unlabeled_data)"
      ],
      "execution_count": 23,
      "outputs": []
    },
    {
      "cell_type": "code",
      "metadata": {
        "colab": {
          "base_uri": "https://localhost:8080/"
        },
        "id": "VCNcT8CQLi53",
        "outputId": "d4ae8cb7-0b9b-4cae-9963-41fd32f3b8bf"
      },
      "source": [
        "predictions.show(10)"
      ],
      "execution_count": 24,
      "outputs": [
        {
          "output_type": "stream",
          "text": [
            "+--------------------+------------------+\n",
            "|            features|        prediction|\n",
            "+--------------------+------------------+\n",
            "|[29.5324289670579...|398.10659098778456|\n",
            "|[30.3931845423455...| 330.6460339548794|\n",
            "|[30.4925366965402...| 286.4089251833491|\n",
            "|[30.5743636841713...|441.56930768848974|\n",
            "|[30.8162006488763...| 282.5393487408312|\n",
            "|[31.0472221394875...|388.74686847741464|\n",
            "|[31.0613251567161...|492.68970533521633|\n",
            "|[31.2834474760581...| 568.5439101544418|\n",
            "|[31.3584771924370...| 490.4657873318956|\n",
            "|[31.5761319713222...|  542.876417296141|\n",
            "+--------------------+------------------+\n",
            "only showing top 10 rows\n",
            "\n"
          ],
          "name": "stdout"
        }
      ]
    },
    {
      "cell_type": "code",
      "metadata": {
        "colab": {
          "base_uri": "https://localhost:8080/"
        },
        "id": "5vIobFmJLlhJ",
        "outputId": "0d92b8d4-48d2-4567-cc2f-0b5af6c08404"
      },
      "source": [
        "# Exibindo os valores de RMSE e MSE\n",
        "\n",
        "print('RMSE: {}'.format(test_results.rootMeanSquaredError))\n",
        "print('MSE: {}'.format(test_results.meanSquaredError))\n",
        "print('MAE: {}'.format(test_results.meanAbsoluteError))"
      ],
      "execution_count": 25,
      "outputs": [
        {
          "output_type": "stream",
          "text": [
            "RMSE: 10.18451753748092\n",
            "MSE: 103.72439747125642\n",
            "MAE: 7.783552580159247\n"
          ],
          "name": "stdout"
        }
      ]
    }
  ]
}