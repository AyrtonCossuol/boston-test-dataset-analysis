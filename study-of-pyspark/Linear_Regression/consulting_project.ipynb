{
  "nbformat": 4,
  "nbformat_minor": 0,
  "metadata": {
    "colab": {
      "name": "consulting_project.ipynb",
      "provenance": []
    },
    "kernelspec": {
      "name": "python3",
      "display_name": "Python 3"
    },
    "language_info": {
      "name": "python"
    }
  },
  "cells": [
    {
      "cell_type": "markdown",
      "metadata": {
        "id": "4LFwN9WCKYPN"
      },
      "source": [
        "# Consultoria para a Hyundai Heavy Industries\n",
        "O Objetivo é pode fazer previsões de quantos passageiros um determinado navio em construção poderá comportar.\n"
      ]
    },
    {
      "cell_type": "markdown",
      "metadata": {
        "id": "RalFuTt0LABp"
      },
      "source": [
        "### Instalação dos componentes relacionado ao Spark"
      ]
    },
    {
      "cell_type": "code",
      "metadata": {
        "id": "1VTZ0EzwJ09x"
      },
      "source": [
        "!apt-get install openjdk-8-jdk-headless -qq > /dev/null\n",
        "!wget -q https://archive.apache.org/dist/spark/spark-2.4.4/spark-2.4.4-bin-hadoop2.7.tgz\n",
        "!tar xf spark-2.4.4-bin-hadoop2.7.tgz\n",
        "!pip install -q findspark"
      ],
      "execution_count": 1,
      "outputs": []
    },
    {
      "cell_type": "code",
      "metadata": {
        "id": "T-TGFcrRKRDA"
      },
      "source": [
        "import os\n",
        "import findspark\n",
        "\n",
        "os.environ[\"JAVA_HOME\"] = \"/usr/lib/jvm/java-8-openjdk-amd64\"\n",
        "os.environ[\"SPARK_HOME\"] = \"/content/spark-2.4.4-bin-hadoop2.7\"\n",
        "findspark.init('spark-2.4.4-bin-hadoop2.7')"
      ],
      "execution_count": 2,
      "outputs": []
    },
    {
      "cell_type": "markdown",
      "metadata": {
        "id": "B_9EsFc_LHHE"
      },
      "source": [
        "## Importação das Bibliotecas"
      ]
    },
    {
      "cell_type": "code",
      "metadata": {
        "id": "DMmrZQyKKTh1"
      },
      "source": [
        "import pyspark\n",
        "from pyspark import SparkContext as sc\n",
        "from pyspark.sql import SparkSession\n",
        "\n",
        "from pyspark.ml.feature import StringIndexer, VectorAssembler\n",
        "from pyspark.ml.linalg import Vectors"
      ],
      "execution_count": 11,
      "outputs": []
    },
    {
      "cell_type": "markdown",
      "metadata": {
        "id": "oTRa9ZzzMTnS"
      },
      "source": [
        "## Criando uma Session e lendo o arquivo de referência"
      ]
    },
    {
      "cell_type": "code",
      "metadata": {
        "id": "vH3DrEysMJ60"
      },
      "source": [
        "spark = SparkSession.builder.appName('cruise').getOrCreate()"
      ],
      "execution_count": 4,
      "outputs": []
    },
    {
      "cell_type": "code",
      "metadata": {
        "colab": {
          "base_uri": "https://localhost:8080/"
        },
        "id": "HvelclmYL7pA",
        "outputId": "e42e988d-633d-43ce-8f9a-9ffea9794d60"
      },
      "source": [
        "PATH = '/content/drive/MyDrive/Colab Notebooks/Estudos/Spark/Linear_Regression/base/cruise_ship_info.csv'\n",
        "df = spark.read.csv(PATH, inferSchema = True, header = True)\n",
        "df.printSchema()"
      ],
      "execution_count": 5,
      "outputs": [
        {
          "output_type": "stream",
          "text": [
            "root\n",
            " |-- Ship_name: string (nullable = true)\n",
            " |-- Cruise_line: string (nullable = true)\n",
            " |-- Age: integer (nullable = true)\n",
            " |-- Tonnage: double (nullable = true)\n",
            " |-- passengers: double (nullable = true)\n",
            " |-- length: double (nullable = true)\n",
            " |-- cabins: double (nullable = true)\n",
            " |-- passenger_density: double (nullable = true)\n",
            " |-- crew: double (nullable = true)\n",
            "\n"
          ],
          "name": "stdout"
        }
      ]
    },
    {
      "cell_type": "code",
      "metadata": {
        "colab": {
          "base_uri": "https://localhost:8080/"
        },
        "id": "9xddMoAQMugd",
        "outputId": "9689f4cb-0628-48d9-87d3-5292f8b6a17a"
      },
      "source": [
        "df.show(10)"
      ],
      "execution_count": 6,
      "outputs": [
        {
          "output_type": "stream",
          "text": [
            "+-----------+-----------+---+------------------+----------+------+------+-----------------+----+\n",
            "|  Ship_name|Cruise_line|Age|           Tonnage|passengers|length|cabins|passenger_density|crew|\n",
            "+-----------+-----------+---+------------------+----------+------+------+-----------------+----+\n",
            "|    Journey|    Azamara|  6|30.276999999999997|      6.94|  5.94|  3.55|            42.64|3.55|\n",
            "|      Quest|    Azamara|  6|30.276999999999997|      6.94|  5.94|  3.55|            42.64|3.55|\n",
            "|Celebration|   Carnival| 26|            47.262|     14.86|  7.22|  7.43|             31.8| 6.7|\n",
            "|   Conquest|   Carnival| 11|             110.0|     29.74|  9.53| 14.88|            36.99|19.1|\n",
            "|    Destiny|   Carnival| 17|           101.353|     26.42|  8.92| 13.21|            38.36|10.0|\n",
            "|    Ecstasy|   Carnival| 22|            70.367|     20.52|  8.55|  10.2|            34.29| 9.2|\n",
            "|    Elation|   Carnival| 15|            70.367|     20.52|  8.55|  10.2|            34.29| 9.2|\n",
            "|    Fantasy|   Carnival| 23|            70.367|     20.56|  8.55| 10.22|            34.23| 9.2|\n",
            "|Fascination|   Carnival| 19|            70.367|     20.52|  8.55|  10.2|            34.29| 9.2|\n",
            "|    Freedom|   Carnival|  6|110.23899999999999|      37.0|  9.51| 14.87|            29.79|11.5|\n",
            "+-----------+-----------+---+------------------+----------+------+------+-----------------+----+\n",
            "only showing top 10 rows\n",
            "\n"
          ],
          "name": "stdout"
        }
      ]
    },
    {
      "cell_type": "code",
      "metadata": {
        "colab": {
          "base_uri": "https://localhost:8080/"
        },
        "id": "iivTXhY0NdaF",
        "outputId": "569c6f41-6d7e-43b3-896b-99bfbcfaea9a"
      },
      "source": [
        "# descrição simples da base de dados\n",
        "\n",
        "df.describe().show()"
      ],
      "execution_count": 7,
      "outputs": [
        {
          "output_type": "stream",
          "text": [
            "+-------+---------+-----------+------------------+------------------+-----------------+-----------------+------------------+-----------------+-----------------+\n",
            "|summary|Ship_name|Cruise_line|               Age|           Tonnage|       passengers|           length|            cabins|passenger_density|             crew|\n",
            "+-------+---------+-----------+------------------+------------------+-----------------+-----------------+------------------+-----------------+-----------------+\n",
            "|  count|      158|        158|               158|               158|              158|              158|               158|              158|              158|\n",
            "|   mean| Infinity|       null|15.689873417721518| 71.28467088607599|18.45740506329114|8.130632911392404| 8.830000000000005|39.90094936708861|7.794177215189873|\n",
            "| stddev|      NaN|       null| 7.615691058751413|37.229540025907866|9.677094775143416|1.793473548054825|4.4714172221480615| 8.63921711391542|3.503486564627034|\n",
            "|    min|Adventure|    Azamara|                 4|             2.329|             0.66|             2.79|              0.33|             17.7|             0.59|\n",
            "|    max|Zuiderdam|   Windstar|                48|             220.0|             54.0|            11.82|              27.0|            71.43|             21.0|\n",
            "+-------+---------+-----------+------------------+------------------+-----------------+-----------------+------------------+-----------------+-----------------+\n",
            "\n"
          ],
          "name": "stdout"
        }
      ]
    },
    {
      "cell_type": "markdown",
      "metadata": {
        "id": "gSZJ9tAENy69"
      },
      "source": [
        "## Tratando e transformando a base"
      ]
    },
    {
      "cell_type": "markdown",
      "metadata": {
        "id": "wsxvy66tN3ix"
      },
      "source": [
        "### Transformando a feature 'Cruise_line'"
      ]
    },
    {
      "cell_type": "code",
      "metadata": {
        "colab": {
          "base_uri": "https://localhost:8080/"
        },
        "id": "zlHTQn-sNnVR",
        "outputId": "685abe66-0d13-4f2c-c749-ab3f130a07d6"
      },
      "source": [
        "df.groupBy('Cruise_line').count().show()"
      ],
      "execution_count": 8,
      "outputs": [
        {
          "output_type": "stream",
          "text": [
            "+-----------------+-----+\n",
            "|      Cruise_line|count|\n",
            "+-----------------+-----+\n",
            "|            Costa|   11|\n",
            "|              P&O|    6|\n",
            "|           Cunard|    3|\n",
            "|Regent_Seven_Seas|    5|\n",
            "|              MSC|    8|\n",
            "|         Carnival|   22|\n",
            "|          Crystal|    2|\n",
            "|           Orient|    1|\n",
            "|         Princess|   17|\n",
            "|        Silversea|    4|\n",
            "|         Seabourn|    3|\n",
            "| Holland_American|   14|\n",
            "|         Windstar|    3|\n",
            "|           Disney|    2|\n",
            "|        Norwegian|   13|\n",
            "|          Oceania|    3|\n",
            "|          Azamara|    2|\n",
            "|        Celebrity|   10|\n",
            "|             Star|    6|\n",
            "|  Royal_Caribbean|   23|\n",
            "+-----------------+-----+\n",
            "\n"
          ],
          "name": "stdout"
        }
      ]
    },
    {
      "cell_type": "code",
      "metadata": {
        "colab": {
          "base_uri": "https://localhost:8080/"
        },
        "id": "_HCfl9T5OHmE",
        "outputId": "c06aec87-c39e-4cbb-d78b-55f079a243e3"
      },
      "source": [
        "index_er = StringIndexer(inputCol = 'Cruise_line', outputCol = 'cruise_cat')\n",
        "index_ed = index_er.fit(df).transform(df)\n",
        "index_ed.head(5)"
      ],
      "execution_count": 10,
      "outputs": [
        {
          "output_type": "execute_result",
          "data": {
            "text/plain": [
              "[Row(Ship_name='Journey', Cruise_line='Azamara', Age=6, Tonnage=30.276999999999997, passengers=6.94, length=5.94, cabins=3.55, passenger_density=42.64, crew=3.55, cruise_cat=16.0),\n",
              " Row(Ship_name='Quest', Cruise_line='Azamara', Age=6, Tonnage=30.276999999999997, passengers=6.94, length=5.94, cabins=3.55, passenger_density=42.64, crew=3.55, cruise_cat=16.0),\n",
              " Row(Ship_name='Celebration', Cruise_line='Carnival', Age=26, Tonnage=47.262, passengers=14.86, length=7.22, cabins=7.43, passenger_density=31.8, crew=6.7, cruise_cat=1.0),\n",
              " Row(Ship_name='Conquest', Cruise_line='Carnival', Age=11, Tonnage=110.0, passengers=29.74, length=9.53, cabins=14.88, passenger_density=36.99, crew=19.1, cruise_cat=1.0),\n",
              " Row(Ship_name='Destiny', Cruise_line='Carnival', Age=17, Tonnage=101.353, passengers=26.42, length=8.92, cabins=13.21, passenger_density=38.36, crew=10.0, cruise_cat=1.0)]"
            ]
          },
          "metadata": {
            "tags": []
          },
          "execution_count": 10
        }
      ]
    },
    {
      "cell_type": "markdown",
      "metadata": {
        "id": "QMfS-rVOPVdC"
      },
      "source": [
        "### Vetorizando as colunas para a criação da base de treino e teste"
      ]
    },
    {
      "cell_type": "code",
      "metadata": {
        "colab": {
          "base_uri": "https://localhost:8080/"
        },
        "id": "AnH3KhMtOxp_",
        "outputId": "0111cc8e-aee3-48eb-dec9-cece6ade870a"
      },
      "source": [
        "index_ed.columns"
      ],
      "execution_count": 12,
      "outputs": [
        {
          "output_type": "execute_result",
          "data": {
            "text/plain": [
              "['Ship_name',\n",
              " 'Cruise_line',\n",
              " 'Age',\n",
              " 'Tonnage',\n",
              " 'passengers',\n",
              " 'length',\n",
              " 'cabins',\n",
              " 'passenger_density',\n",
              " 'crew',\n",
              " 'cruise_cat']"
            ]
          },
          "metadata": {
            "tags": []
          },
          "execution_count": 12
        }
      ]
    },
    {
      "cell_type": "code",
      "metadata": {
        "id": "DL8z4QgzPiU3"
      },
      "source": [
        "inputCols = ['Age', 'Tonnage', 'passengers', 'length', 'cabins', 'passenger_density', 'cruise_cat']\n",
        "outputCol = 'features'\n",
        "assembler = VectorAssembler(inputCols = inputCols, outputCol = outputCol)"
      ],
      "execution_count": 13,
      "outputs": []
    },
    {
      "cell_type": "code",
      "metadata": {
        "colab": {
          "base_uri": "https://localhost:8080/"
        },
        "id": "TDGZR4gwQFXN",
        "outputId": "922eb544-41d0-44dc-e330-112f98ba2234"
      },
      "source": [
        "output = assembler.transform(index_ed)\n",
        "\n",
        "output.select('features', 'crew').show(10)"
      ],
      "execution_count": 15,
      "outputs": [
        {
          "output_type": "stream",
          "text": [
            "+--------------------+----+\n",
            "|            features|crew|\n",
            "+--------------------+----+\n",
            "|[6.0,30.276999999...|3.55|\n",
            "|[6.0,30.276999999...|3.55|\n",
            "|[26.0,47.262,14.8...| 6.7|\n",
            "|[11.0,110.0,29.74...|19.1|\n",
            "|[17.0,101.353,26....|10.0|\n",
            "|[22.0,70.367,20.5...| 9.2|\n",
            "|[15.0,70.367,20.5...| 9.2|\n",
            "|[23.0,70.367,20.5...| 9.2|\n",
            "|[19.0,70.367,20.5...| 9.2|\n",
            "|[6.0,110.23899999...|11.5|\n",
            "+--------------------+----+\n",
            "only showing top 10 rows\n",
            "\n"
          ],
          "name": "stdout"
        }
      ]
    },
    {
      "cell_type": "code",
      "metadata": {
        "id": "Qs-jhFC4QPqh"
      },
      "source": [
        "final_data = output.select('features', 'crew')\n",
        "\n",
        "train_data, test_data = final_data.randomSplit([0.7, 0.3])"
      ],
      "execution_count": 17,
      "outputs": []
    },
    {
      "cell_type": "code",
      "metadata": {
        "id": "RnwTH0lWQg9A"
      },
      "source": [
        ""
      ],
      "execution_count": null,
      "outputs": []
    }
  ]
}