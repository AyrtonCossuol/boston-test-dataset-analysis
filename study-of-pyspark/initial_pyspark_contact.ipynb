{
  "nbformat": 4,
  "nbformat_minor": 0,
  "metadata": {
    "colab": {
      "name": " initial_pyspark_contact.ipynb",
      "provenance": []
    },
    "kernelspec": {
      "name": "python3",
      "display_name": "Python 3"
    },
    "language_info": {
      "name": "python"
    }
  },
  "cells": [
    {
      "cell_type": "markdown",
      "metadata": {
        "id": "5zqvjl3C3OSh"
      },
      "source": [
        "# **Estudos Iniciais sobre PySpark**\n",
        "Notebook voltado para o aprendizado da ferramenta no ambiente Colab.\n",
        " \n",
        "Importante ressaltar as dependências utilizadas como:\n",
        "* Apache Spark 2.3.2;\n",
        "* hadoop 2.7;\n",
        "* Java 8;\n",
        "* Findspark.\n"
      ]
    },
    {
      "cell_type": "markdown",
      "metadata": {
        "id": "zF7o-1jv4q3x"
      },
      "source": [
        "## **Verificando a Versão do Java**"
      ]
    },
    {
      "cell_type": "code",
      "metadata": {
        "colab": {
          "base_uri": "https://localhost:8080/"
        },
        "id": "i4Y0QUZB2ZLs",
        "outputId": "16ff85dc-a4c4-40bb-d5e3-a7cbff9fa646"
      },
      "source": [
        "!java -version"
      ],
      "execution_count": 1,
      "outputs": [
        {
          "output_type": "stream",
          "text": [
            "openjdk version \"11.0.11\" 2021-04-20\n",
            "OpenJDK Runtime Environment (build 11.0.11+9-Ubuntu-0ubuntu2.18.04)\n",
            "OpenJDK 64-Bit Server VM (build 11.0.11+9-Ubuntu-0ubuntu2.18.04, mixed mode, sharing)\n"
          ],
          "name": "stdout"
        }
      ]
    },
    {
      "cell_type": "markdown",
      "metadata": {
        "id": "ljMyN5_d5SMn"
      },
      "source": [
        "## **Configuração / Instalação do Ambiente Java 8**"
      ]
    },
    {
      "cell_type": "code",
      "metadata": {
        "id": "4uSpnKoJ2oGu"
      },
      "source": [
        "!apt-get install openjdk-8-jdk-headless -qq > /dev/null"
      ],
      "execution_count": 2,
      "outputs": []
    },
    {
      "cell_type": "markdown",
      "metadata": {
        "id": "I46AYmAA5tiN"
      },
      "source": [
        "## **Downloading Spark**"
      ]
    },
    {
      "cell_type": "code",
      "metadata": {
        "id": "JN-Ab-gj2ttd"
      },
      "source": [
        "!wget -q https://archive.apache.org/dist/spark/spark-2.4.4/spark-2.4.4-bin-hadoop2.7.tgz\n",
        "!tar xf spark-2.4.4-bin-hadoop2.7.tgz\n",
        "!pip install -q findspark"
      ],
      "execution_count": 3,
      "outputs": []
    },
    {
      "cell_type": "markdown",
      "metadata": {
        "id": "e-N2gkgQ6-sf"
      },
      "source": [
        "## **Configuração das Variáveis de Ambiente**"
      ]
    },
    {
      "cell_type": "code",
      "metadata": {
        "id": "Ft1CH1209uXJ"
      },
      "source": [
        "import os\n",
        "os.environ[\"JAVA_HOME\"] = \"/usr/lib/jvm/java-8-openjdk-amd64\"\n",
        "os.environ[\"SPARK_HOME\"] = \"/content/spark-2.4.4-bin-hadoop2.7\"\n",
        "\n",
        "# tornar o pyspark \"importável\"\n",
        "import findspark\n",
        "findspark.init('spark-2.4.4-bin-hadoop2.7')"
      ],
      "execution_count": 4,
      "outputs": []
    },
    {
      "cell_type": "markdown",
      "metadata": {
        "id": "DnmK3QFn7Ppl"
      },
      "source": [
        "## **Criando a sessão do Spark**"
      ]
    },
    {
      "cell_type": "code",
      "metadata": {
        "id": "ts9a9HaG6hUq"
      },
      "source": [
        "from pyspark.sql import SparkSession"
      ],
      "execution_count": 6,
      "outputs": []
    },
    {
      "cell_type": "code",
      "metadata": {
        "id": "CUQbMiTY7toy"
      },
      "source": [
        "spark = SparkSession.builder.master('local[*]').getOrCreate()"
      ],
      "execution_count": 7,
      "outputs": []
    },
    {
      "cell_type": "markdown",
      "metadata": {
        "id": "v8kOOYku_cM-"
      },
      "source": [
        "## **Stop na sessão**"
      ]
    },
    {
      "cell_type": "code",
      "metadata": {
        "id": "cY0363oB_PG0"
      },
      "source": [
        "spark.stop()"
      ],
      "execution_count": 8,
      "outputs": []
    },
    {
      "cell_type": "markdown",
      "metadata": {
        "id": "HGIt2K-S_y8V"
      },
      "source": [
        "# **Trabalhando com o PySpark**"
      ]
    },
    {
      "cell_type": "markdown",
      "metadata": {
        "id": "qEJEwyzu__Qi"
      },
      "source": [
        "## Import PySpark"
      ]
    },
    {
      "cell_type": "code",
      "metadata": {
        "id": "W3lSoK8Q_Xd-"
      },
      "source": [
        "import pyspark\n",
        "\n",
        "from pyspark import SparkConf\n",
        "from pyspark import SparkContext"
      ],
      "execution_count": 10,
      "outputs": []
    },
    {
      "cell_type": "markdown",
      "metadata": {
        "id": "viKQA0sSAI6-"
      },
      "source": [
        "## Criando um contexto com o Spark"
      ]
    },
    {
      "cell_type": "code",
      "metadata": {
        "id": "Dq5MAlDuAIBb"
      },
      "source": [
        "conf = SparkConf()\n",
        "conf.setMaster('local')\n",
        "conf.setAppName('spark-basic')\n",
        "\n",
        "sc = SparkContext(conf = conf)"
      ],
      "execution_count": 11,
      "outputs": []
    },
    {
      "cell_type": "markdown",
      "metadata": {
        "id": "JXeEwAM3A64Q"
      },
      "source": [
        "## Função simples de cálculo de Módulo\n"
      ]
    },
    {
      "cell_type": "code",
      "metadata": {
        "id": "wJp0AADYAqgD"
      },
      "source": [
        "def mod(x):\n",
        "  import numpy as np\n",
        "\n",
        "  return (x, np.mod(x, 2))"
      ],
      "execution_count": 12,
      "outputs": []
    },
    {
      "cell_type": "markdown",
      "metadata": {
        "id": "RF3BQJAzByDj"
      },
      "source": [
        "## Criando um RDD"
      ]
    },
    {
      "cell_type": "code",
      "metadata": {
        "colab": {
          "base_uri": "https://localhost:8080/"
        },
        "id": "zcZciUAYBOzh",
        "outputId": "9054844a-5ae0-412d-a7ec-624160ce77f9"
      },
      "source": [
        "rdd = sc.parallelize(range(1000)).map(mod).take(10)\n",
        "print(rdd)"
      ],
      "execution_count": 13,
      "outputs": [
        {
          "output_type": "stream",
          "text": [
            "[(0, 0), (1, 1), (2, 0), (3, 1), (4, 0), (5, 1), (6, 0), (7, 1), (8, 0), (9, 1)]\n"
          ],
          "name": "stdout"
        }
      ]
    },
    {
      "cell_type": "markdown",
      "metadata": {
        "id": "NcWBTkWXCxpD"
      },
      "source": [
        "## Criando um RDD utilizando lista"
      ]
    },
    {
      "cell_type": "code",
      "metadata": {
        "colab": {
          "base_uri": "https://localhost:8080/"
        },
        "id": "xj5pgfOtCDYL",
        "outputId": "c54f2769-7640-4d99-8fe4-e894684c102c"
      },
      "source": [
        "values = [1, 2, 3, 4, 5]\n",
        "\n",
        "rdd = sc.parallelize(values)\n",
        "print(rdd)"
      ],
      "execution_count": 14,
      "outputs": [
        {
          "output_type": "stream",
          "text": [
            "ParallelCollectionRDD[2] at parallelize at PythonRDD.scala:195\n"
          ],
          "name": "stdout"
        }
      ]
    },
    {
      "cell_type": "code",
      "metadata": {
        "colab": {
          "base_uri": "https://localhost:8080/"
        },
        "id": "4M9yG7bkC7vQ",
        "outputId": "b7f7dedd-5d5e-4c88-c55c-0205aa8a4d21"
      },
      "source": [
        "rdd.take(3)"
      ],
      "execution_count": 18,
      "outputs": [
        {
          "output_type": "execute_result",
          "data": {
            "text/plain": [
              "[1, 2, 3]"
            ]
          },
          "metadata": {
            "tags": []
          },
          "execution_count": 18
        }
      ]
    },
    {
      "cell_type": "markdown",
      "metadata": {
        "id": "nDFTbPnYD5q_"
      },
      "source": [
        "## Importação de Texto "
      ]
    },
    {
      "cell_type": "code",
      "metadata": {
        "colab": {
          "base_uri": "https://localhost:8080/"
        },
        "id": "S_HhDMvFDFeG",
        "outputId": "bcb4f374-7100-4135-97ae-fbe4e00c2774"
      },
      "source": [
        "rdd = sc.textFile('text_spark.txt')\n",
        "rdd.collect()"
      ],
      "execution_count": 20,
      "outputs": [
        {
          "output_type": "execute_result",
          "data": {
            "text/plain": [
              "[\"Lorem Ipsum is simply dummy text of the printing and typesetting industry. Lorem Ipsum has been the industry's standard dummy text ever since the 1500s, when an unknown printer took a galley of type and scrambled it to make a type specimen book. It has survived not only five centuries, but also the leap into electronic typesetting, remaining essentially unchanged. It was popularised in the 1960s with the release of Letraset sheets containing Lorem Ipsum passages, and more recently with desktop publishing software like Aldus PageMaker including versions of Lorem Ipsum.\",\n",
              " 'Contrary to popular belief, Lorem Ipsum is not simply random text. It has roots in a piece of classical Latin literature from 45 BC, making it over 2000 years old. Richard McClintock, a Latin professor at Hampden-Sydney College in Virginia, looked up one of the more obscure Latin words, consectetur, from a Lorem Ipsum passage, and going through the cites of the word in classical literature, discovered the undoubtable source. Lorem Ipsum comes from sections 1.10.32 and 1.10.33 of \"de Finibus Bonorum et Malorum\" (The Extremes of Good and Evil) by Cicero, written in 45 BC. This book is a treatise on the theory of ethics, very popular during the Renaissance. The first line of Lorem Ipsum, \"Lorem ipsum dolor sit amet..\", comes from a line in section 1.10.32.',\n",
              " \"It is a long established fact that a reader will be distracted by the readable content of a page when looking at its layout. The point of using Lorem Ipsum is that it has a more-or-less normal distribution of letters, as opposed to using 'Content here, content here', making it look like readable English. Many desktop publishing packages and web page editors now use Lorem Ipsum as their default model text, and a search for 'lorem ipsum' will uncover many web sites still in their infancy. Various versions have evolved over the years, sometimes by accident, sometimes on purpose (injected humour and the like).\"]"
            ]
          },
          "metadata": {
            "tags": []
          },
          "execution_count": 20
        }
      ]
    },
    {
      "cell_type": "code",
      "metadata": {
        "id": "Q_hCDwwoEuIQ"
      },
      "source": [
        ""
      ],
      "execution_count": null,
      "outputs": []
    }
  ]
}