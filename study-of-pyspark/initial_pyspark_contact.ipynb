{
  "nbformat": 4,
  "nbformat_minor": 0,
  "metadata": {
    "colab": {
      "name": " initial_pyspark_contact.ipynb",
      "provenance": []
    },
    "kernelspec": {
      "name": "python3",
      "display_name": "Python 3"
    },
    "language_info": {
      "name": "python"
    }
  },
  "cells": [
    {
      "cell_type": "markdown",
      "metadata": {
        "id": "5zqvjl3C3OSh"
      },
      "source": [
        "# **Estudos Iniciais sobre PySpark**\n",
        "Notebook voltado para o aprendizado da ferramenta no ambiente Colab.\n",
        " \n",
        "Importante ressaltar as dependências utilizadas como:\n",
        "* Apache Spark 2.3.2;\n",
        "* hadoop 2.7;\n",
        "* Java 8;\n",
        "* Findspark.\n"
      ]
    },
    {
      "cell_type": "markdown",
      "metadata": {
        "id": "zF7o-1jv4q3x"
      },
      "source": [
        "## Verificando a Versão do Java "
      ]
    },
    {
      "cell_type": "code",
      "metadata": {
        "colab": {
          "base_uri": "https://localhost:8080/"
        },
        "id": "i4Y0QUZB2ZLs",
        "outputId": "b5a704e4-397a-4944-a942-dcb6256f893b"
      },
      "source": [
        "!java -version"
      ],
      "execution_count": 1,
      "outputs": [
        {
          "output_type": "stream",
          "text": [
            "openjdk version \"11.0.11\" 2021-04-20\n",
            "OpenJDK Runtime Environment (build 11.0.11+9-Ubuntu-0ubuntu2.18.04)\n",
            "OpenJDK 64-Bit Server VM (build 11.0.11+9-Ubuntu-0ubuntu2.18.04, mixed mode, sharing)\n"
          ],
          "name": "stdout"
        }
      ]
    },
    {
      "cell_type": "markdown",
      "metadata": {
        "id": "ljMyN5_d5SMn"
      },
      "source": [
        "## Configuração / Instalação do Ambiente Java 8 "
      ]
    },
    {
      "cell_type": "code",
      "metadata": {
        "id": "4uSpnKoJ2oGu"
      },
      "source": [
        "!apt-get install openjdk-8-jdk-headless -qq > /dev/null"
      ],
      "execution_count": 2,
      "outputs": []
    },
    {
      "cell_type": "markdown",
      "metadata": {
        "id": "I46AYmAA5tiN"
      },
      "source": [
        "## Downloading Spark "
      ]
    },
    {
      "cell_type": "code",
      "metadata": {
        "id": "JN-Ab-gj2ttd"
      },
      "source": [
        "!wget -q https://archive.apache.org/dist/spark/spark-2.4.4/spark-2.4.4-bin-hadoop2.7.tgz\n",
        "!tar xf spark-2.4.4-bin-hadoop2.7.tgz\n",
        "!pip install -q findspark"
      ],
      "execution_count": 3,
      "outputs": []
    },
    {
      "cell_type": "markdown",
      "metadata": {
        "id": "e-N2gkgQ6-sf"
      },
      "source": [
        "## Configuração das Variáveis de Ambiente "
      ]
    },
    {
      "cell_type": "code",
      "metadata": {
        "id": "Ft1CH1209uXJ"
      },
      "source": [
        "import os\n",
        "os.environ[\"JAVA_HOME\"] = \"/usr/lib/jvm/java-8-openjdk-amd64\"\n",
        "os.environ[\"SPARK_HOME\"] = \"/content/spark-2.4.4-bin-hadoop2.7\"\n",
        "\n",
        "# tornar o pyspark \"importável\"\n",
        "import findspark\n",
        "findspark.init('spark-2.4.4-bin-hadoop2.7')"
      ],
      "execution_count": 4,
      "outputs": []
    },
    {
      "cell_type": "markdown",
      "metadata": {
        "id": "DnmK3QFn7Ppl"
      },
      "source": [
        "## Criando a sessão do Spark "
      ]
    },
    {
      "cell_type": "code",
      "metadata": {
        "id": "ts9a9HaG6hUq"
      },
      "source": [
        "from pyspark.sql import SparkSession"
      ],
      "execution_count": 5,
      "outputs": []
    },
    {
      "cell_type": "code",
      "metadata": {
        "id": "CUQbMiTY7toy"
      },
      "source": [
        "spark = SparkSession.builder.master('local[*]').getOrCreate()"
      ],
      "execution_count": 6,
      "outputs": []
    },
    {
      "cell_type": "markdown",
      "metadata": {
        "id": "v8kOOYku_cM-"
      },
      "source": [
        "## Stop na sessão "
      ]
    },
    {
      "cell_type": "code",
      "metadata": {
        "id": "cY0363oB_PG0"
      },
      "source": [
        "spark.stop()"
      ],
      "execution_count": 7,
      "outputs": []
    },
    {
      "cell_type": "markdown",
      "metadata": {
        "id": "HGIt2K-S_y8V"
      },
      "source": [
        "# **Trabalhando com o PySpark**"
      ]
    },
    {
      "cell_type": "markdown",
      "metadata": {
        "id": "qEJEwyzu__Qi"
      },
      "source": [
        "## Import PySpark"
      ]
    },
    {
      "cell_type": "code",
      "metadata": {
        "id": "W3lSoK8Q_Xd-"
      },
      "source": [
        "import pyspark\n",
        "\n",
        "from pyspark import SparkConf\n",
        "from pyspark import SparkContext"
      ],
      "execution_count": 8,
      "outputs": []
    },
    {
      "cell_type": "markdown",
      "metadata": {
        "id": "viKQA0sSAI6-"
      },
      "source": [
        "## Criando um contexto com o Spark"
      ]
    },
    {
      "cell_type": "code",
      "metadata": {
        "id": "Dq5MAlDuAIBb"
      },
      "source": [
        "conf = SparkConf()\n",
        "conf.setMaster('local')\n",
        "conf.setAppName('spark-basic')\n",
        "\n",
        "sc = SparkContext(conf = conf)"
      ],
      "execution_count": 9,
      "outputs": []
    },
    {
      "cell_type": "markdown",
      "metadata": {
        "id": "JXeEwAM3A64Q"
      },
      "source": [
        "## Função simples de cálculo de Módulo\n"
      ]
    },
    {
      "cell_type": "code",
      "metadata": {
        "id": "wJp0AADYAqgD"
      },
      "source": [
        "def mod(x):\n",
        "  import numpy as np\n",
        "\n",
        "  return (x, np.mod(x, 2))"
      ],
      "execution_count": 10,
      "outputs": []
    },
    {
      "cell_type": "markdown",
      "metadata": {
        "id": "RF3BQJAzByDj"
      },
      "source": [
        "## Criando um RDD"
      ]
    },
    {
      "cell_type": "code",
      "metadata": {
        "colab": {
          "base_uri": "https://localhost:8080/"
        },
        "id": "zcZciUAYBOzh",
        "outputId": "06c9cc3e-9293-4e41-c56f-d40097d57d7a"
      },
      "source": [
        "rdd = sc.parallelize(range(1000)).map(mod).take(10)\n",
        "print(rdd)"
      ],
      "execution_count": 11,
      "outputs": [
        {
          "output_type": "stream",
          "text": [
            "[(0, 0), (1, 1), (2, 0), (3, 1), (4, 0), (5, 1), (6, 0), (7, 1), (8, 0), (9, 1)]\n"
          ],
          "name": "stdout"
        }
      ]
    },
    {
      "cell_type": "markdown",
      "metadata": {
        "id": "NcWBTkWXCxpD"
      },
      "source": [
        "## Criando um RDD utilizando lista"
      ]
    },
    {
      "cell_type": "code",
      "metadata": {
        "colab": {
          "base_uri": "https://localhost:8080/"
        },
        "id": "xj5pgfOtCDYL",
        "outputId": "9035b33c-7e68-4dea-851c-0363fff86c9e"
      },
      "source": [
        "values = [1, 2, 3, 4, 5]\n",
        "\n",
        "rdd = sc.parallelize(values)\n",
        "print(rdd)"
      ],
      "execution_count": 12,
      "outputs": [
        {
          "output_type": "stream",
          "text": [
            "ParallelCollectionRDD[2] at parallelize at PythonRDD.scala:195\n"
          ],
          "name": "stdout"
        }
      ]
    },
    {
      "cell_type": "code",
      "metadata": {
        "colab": {
          "base_uri": "https://localhost:8080/"
        },
        "id": "4M9yG7bkC7vQ",
        "outputId": "95caf877-0b18-47aa-de31-5213af13d124"
      },
      "source": [
        "rdd.take(3)"
      ],
      "execution_count": 13,
      "outputs": [
        {
          "output_type": "execute_result",
          "data": {
            "text/plain": [
              "[1, 2, 3]"
            ]
          },
          "metadata": {
            "tags": []
          },
          "execution_count": 13
        }
      ]
    },
    {
      "cell_type": "markdown",
      "metadata": {
        "id": "nDFTbPnYD5q_"
      },
      "source": [
        "## Importação de Texto "
      ]
    },
    {
      "cell_type": "code",
      "metadata": {
        "colab": {
          "base_uri": "https://localhost:8080/"
        },
        "id": "S_HhDMvFDFeG",
        "outputId": "3f9aea2a-1a5b-4bc7-bf7c-0397d3bd6119"
      },
      "source": [
        "rdd = sc.textFile('text_spark.txt')\n",
        "rdd.collect()"
      ],
      "execution_count": 14,
      "outputs": [
        {
          "output_type": "execute_result",
          "data": {
            "text/plain": [
              "[\"Lorem Ipsum is simply dummy text of the printing and typesetting industry. Lorem Ipsum has been the industry's standard dummy text ever since the 1500s, when an unknown printer took a galley of type and scrambled it to make a type specimen book. It has survived not only five centuries, but also the leap into electronic typesetting, remaining essentially unchanged. It was popularised in the 1960s with the release of Letraset sheets containing Lorem Ipsum passages, and more recently with desktop publishing software like Aldus PageMaker including versions of Lorem Ipsum.\",\n",
              " 'Contrary to popular belief, Lorem Ipsum is not simply random text. It has roots in a piece of classical Latin literature from 45 BC, making it over 2000 years old. Richard McClintock, a Latin professor at Hampden-Sydney College in Virginia, looked up one of the more obscure Latin words, consectetur, from a Lorem Ipsum passage, and going through the cites of the word in classical literature, discovered the undoubtable source. Lorem Ipsum comes from sections 1.10.32 and 1.10.33 of \"de Finibus Bonorum et Malorum\" (The Extremes of Good and Evil) by Cicero, written in 45 BC. This book is a treatise on the theory of ethics, very popular during the Renaissance. The first line of Lorem Ipsum, \"Lorem ipsum dolor sit amet..\", comes from a line in section 1.10.32.',\n",
              " \"It is a long established fact that a reader will be distracted by the readable content of a page when looking at its layout. The point of using Lorem Ipsum is that it has a more-or-less normal distribution of letters, as opposed to using 'Content here, content here', making it look like readable English. Many desktop publishing packages and web page editors now use Lorem Ipsum as their default model text, and a search for 'lorem ipsum' will uncover many web sites still in their infancy. Various versions have evolved over the years, sometimes by accident, sometimes on purpose (injected humour and the like).\"]"
            ]
          },
          "metadata": {
            "tags": []
          },
          "execution_count": 14
        }
      ]
    },
    {
      "cell_type": "markdown",
      "metadata": {
        "id": "ldHvZIDFGNWj"
      },
      "source": [
        "## RDD e o Armazenamento em Cache"
      ]
    },
    {
      "cell_type": "code",
      "metadata": {
        "colab": {
          "base_uri": "https://localhost:8080/"
        },
        "id": "Q_hCDwwoEuIQ",
        "outputId": "87a461b2-2635-4cd5-e771-c1cc4570fbfb"
      },
      "source": [
        "aba = sc.parallelize(range(1, 10000, 2))\n",
        "aba.persist()"
      ],
      "execution_count": 15,
      "outputs": [
        {
          "output_type": "execute_result",
          "data": {
            "text/plain": [
              "PythonRDD[7] at RDD at PythonRDD.scala:53"
            ]
          },
          "metadata": {
            "tags": []
          },
          "execution_count": 15
        }
      ]
    },
    {
      "cell_type": "code",
      "metadata": {
        "colab": {
          "base_uri": "https://localhost:8080/"
        },
        "id": "QSXi6u2WGiOg",
        "outputId": "ff842285-4a34-4a0d-c4cd-2a84b27df852"
      },
      "source": [
        "text_file = sc.textFile('text_spark.txt')\n",
        "text_file.cache()"
      ],
      "execution_count": 16,
      "outputs": [
        {
          "output_type": "execute_result",
          "data": {
            "text/plain": [
              "text_spark.txt MapPartitionsRDD[9] at textFile at NativeMethodAccessorImpl.java:0"
            ]
          },
          "metadata": {
            "tags": []
          },
          "execution_count": 16
        }
      ]
    },
    {
      "cell_type": "markdown",
      "metadata": {
        "id": "TvHCxzzmHQct"
      },
      "source": [
        "## Utilizando a função Map"
      ]
    },
    {
      "cell_type": "code",
      "metadata": {
        "colab": {
          "base_uri": "https://localhost:8080/"
        },
        "id": "0NdPoGSQGs1W",
        "outputId": "8b87baa0-caa8-4990-81e8-b7a8d58bb9a0"
      },
      "source": [
        "x = sc.parallelize(['spark', 'rdd', 'sample', 'example'])\n",
        "y = x.map(lambda x: (x, 1))\n",
        "y.collect()"
      ],
      "execution_count": 17,
      "outputs": [
        {
          "output_type": "execute_result",
          "data": {
            "text/plain": [
              "[('spark', 1), ('rdd', 1), ('sample', 1), ('example', 1)]"
            ]
          },
          "metadata": {
            "tags": []
          },
          "execution_count": 17
        }
      ]
    },
    {
      "cell_type": "markdown",
      "metadata": {
        "id": "u8wdCBrvJCSD"
      },
      "source": [
        "## Utilizando a função FlatMap"
      ]
    },
    {
      "cell_type": "code",
      "metadata": {
        "colab": {
          "base_uri": "https://localhost:8080/"
        },
        "id": "QMmeRwJ4I_tR",
        "outputId": "7926c414-a577-45cb-f303-78b49c9dba2e"
      },
      "source": [
        "rdd = sc.parallelize([2, 3, 4])\n",
        "rdd.flatMap(lambda x: range(1, x)).collect()"
      ],
      "execution_count": 18,
      "outputs": [
        {
          "output_type": "execute_result",
          "data": {
            "text/plain": [
              "[1, 1, 2, 1, 2, 3]"
            ]
          },
          "metadata": {
            "tags": []
          },
          "execution_count": 18
        }
      ]
    },
    {
      "cell_type": "markdown",
      "metadata": {
        "id": "jvMhrxXBJxCk"
      },
      "source": [
        "## Utilizando a função Filter"
      ]
    },
    {
      "cell_type": "code",
      "metadata": {
        "colab": {
          "base_uri": "https://localhost:8080/"
        },
        "id": "lBJnDe2iJVdU",
        "outputId": "d993d3f4-be04-4a47-ea3c-1404fba9e2da"
      },
      "source": [
        "rdd = sc.parallelize(range(0, 11))\n",
        "rdd.filter(lambda x: x % 2 == 0).collect()"
      ],
      "execution_count": 19,
      "outputs": [
        {
          "output_type": "execute_result",
          "data": {
            "text/plain": [
              "[0, 2, 4, 6, 8, 10]"
            ]
          },
          "metadata": {
            "tags": []
          },
          "execution_count": 19
        }
      ]
    },
    {
      "cell_type": "markdown",
      "metadata": {
        "id": "wi2Iqv-GKa8y"
      },
      "source": [
        "## Utilizando a Função SortBy"
      ]
    },
    {
      "cell_type": "code",
      "metadata": {
        "colab": {
          "base_uri": "https://localhost:8080/"
        },
        "id": "-I8TtgjwKHdx",
        "outputId": "852bb8ce-e390-4bee-e2a1-ec9d6bc261c4"
      },
      "source": [
        "y = sc.parallelize([5, 7, 1, 6, 1, 4, 9, 3, 10, 2, 15])\n",
        "y.sortBy(lambda c: c, True).collect()"
      ],
      "execution_count": 20,
      "outputs": [
        {
          "output_type": "execute_result",
          "data": {
            "text/plain": [
              "[1, 1, 2, 3, 4, 5, 6, 7, 9, 10, 15]"
            ]
          },
          "metadata": {
            "tags": []
          },
          "execution_count": 20
        }
      ]
    },
    {
      "cell_type": "code",
      "metadata": {
        "colab": {
          "base_uri": "https://localhost:8080/"
        },
        "id": "cjTs8bdDLs6q",
        "outputId": "0806ba96-a4d2-4ebb-8ca4-dcd84ed35d1c"
      },
      "source": [
        "y.sortBy(lambda c: c, False).collect()"
      ],
      "execution_count": 21,
      "outputs": [
        {
          "output_type": "execute_result",
          "data": {
            "text/plain": [
              "[15, 10, 9, 7, 6, 5, 4, 3, 2, 1, 1]"
            ]
          },
          "metadata": {
            "tags": []
          },
          "execution_count": 21
        }
      ]
    }
  ]
}