{
  "nbformat": 4,
  "nbformat_minor": 0,
  "metadata": {
    "colab": {
      "name": "clustering_with_pyspark.ipynb",
      "provenance": []
    },
    "kernelspec": {
      "name": "python3",
      "display_name": "Python 3"
    },
    "language_info": {
      "name": "python"
    }
  },
  "cells": [
    {
      "cell_type": "markdown",
      "metadata": {
        "id": "zWcY_nFQZ2k8"
      },
      "source": [
        "# Projeto utilizando Clustering\n"
      ]
    },
    {
      "cell_type": "markdown",
      "metadata": {
        "id": "1WU5_MqkafdE"
      },
      "source": [
        "### Instalação dos componentes relacionado ao Spark"
      ]
    },
    {
      "cell_type": "code",
      "metadata": {
        "id": "Wb4VLY42ZZ6m"
      },
      "source": [
        "!apt-get install openjdk-8-jdk-headless -qq > /dev/null\n",
        "!wget -q https://archive.apache.org/dist/spark/spark-2.4.4/spark-2.4.4-bin-hadoop2.7.tgz\n",
        "!tar xf spark-2.4.4-bin-hadoop2.7.tgz\n",
        "!pip install -q findspark"
      ],
      "execution_count": 1,
      "outputs": []
    },
    {
      "cell_type": "code",
      "metadata": {
        "id": "w1mVn0NGZzXl"
      },
      "source": [
        "import os\n",
        "import findspark\n",
        "\n",
        "os.environ[\"JAVA_HOME\"] = \"/usr/lib/jvm/java-8-openjdk-amd64\"\n",
        "os.environ[\"SPARK_HOME\"] = \"/content/spark-2.4.4-bin-hadoop2.7\"\n",
        "findspark.init('spark-2.4.4-bin-hadoop2.7')"
      ],
      "execution_count": 2,
      "outputs": []
    },
    {
      "cell_type": "markdown",
      "metadata": {
        "id": "7cYXF8J3ajrd"
      },
      "source": [
        "## Importação das Bibliotecas"
      ]
    },
    {
      "cell_type": "code",
      "metadata": {
        "id": "CzGaGzteZ1Mg"
      },
      "source": [
        "import pyspark\n",
        "from pyspark.sql import SparkSession\n",
        "\n",
        "from pyspark.ml.linalg import Vectors\n",
        "from pyspark.ml.feature import VectorAssembler, StandardScaler\n",
        "\n",
        "from pyspark.ml.clustering import KMeans"
      ],
      "execution_count": 3,
      "outputs": []
    },
    {
      "cell_type": "markdown",
      "metadata": {
        "id": "JGnOKnLha0wV"
      },
      "source": [
        "## Criando uma sessão e importando a base "
      ]
    },
    {
      "cell_type": "code",
      "metadata": {
        "id": "38_UsuuYazxP"
      },
      "source": [
        "spark = SparkSession.builder.appName('clustering').getOrCreate()"
      ],
      "execution_count": 4,
      "outputs": []
    },
    {
      "cell_type": "code",
      "metadata": {
        "colab": {
          "base_uri": "https://localhost:8080/"
        },
        "id": "nYWjkQClbG2j",
        "outputId": "4504f8eb-f448-423b-a4b9-695d1631b633"
      },
      "source": [
        "PATH = '/content/drive/MyDrive/Colab Notebooks/Estudos/Spark/Clustering/base/hack_data.csv'\n",
        "dataset = spark.read.csv(PATH, header = True, inferSchema = True)\n",
        "dataset.head()"
      ],
      "execution_count": 5,
      "outputs": [
        {
          "output_type": "execute_result",
          "data": {
            "text/plain": [
              "Row(Session_Connection_Time=8.0, Bytes Transferred=391.09, Kali_Trace_Used=1, Servers_Corrupted=2.96, Pages_Corrupted=7.0, Location='Slovenia', WPM_Typing_Speed=72.37)"
            ]
          },
          "metadata": {
            "tags": []
          },
          "execution_count": 5
        }
      ]
    },
    {
      "cell_type": "code",
      "metadata": {
        "colab": {
          "base_uri": "https://localhost:8080/"
        },
        "id": "vAqRlM0LbgUY",
        "outputId": "a33f1d1a-e88a-4459-ffcc-2ff9ce9f3f6f"
      },
      "source": [
        "dataset.describe().show()"
      ],
      "execution_count": 6,
      "outputs": [
        {
          "output_type": "stream",
          "text": [
            "+-------+-----------------------+------------------+------------------+-----------------+------------------+-----------+------------------+\n",
            "|summary|Session_Connection_Time| Bytes Transferred|   Kali_Trace_Used|Servers_Corrupted|   Pages_Corrupted|   Location|  WPM_Typing_Speed|\n",
            "+-------+-----------------------+------------------+------------------+-----------------+------------------+-----------+------------------+\n",
            "|  count|                    334|               334|               334|              334|               334|        334|               334|\n",
            "|   mean|     30.008982035928145| 607.2452694610777|0.5119760479041916|5.258502994011977|10.838323353293413|       null|57.342395209580864|\n",
            "| stddev|     14.088200614636158|286.33593163576757|0.5006065264451406| 2.30190693339697|  3.06352633036022|       null| 13.41106336843464|\n",
            "|    min|                    1.0|              10.0|                 0|              1.0|               6.0|Afghanistan|              40.0|\n",
            "|    max|                   60.0|            1330.5|                 1|             10.0|              15.0|   Zimbabwe|              75.0|\n",
            "+-------+-----------------------+------------------+------------------+-----------------+------------------+-----------+------------------+\n",
            "\n"
          ],
          "name": "stdout"
        }
      ]
    },
    {
      "cell_type": "code",
      "metadata": {
        "colab": {
          "base_uri": "https://localhost:8080/"
        },
        "id": "SiRSfJISblJq",
        "outputId": "148095ce-56a9-42d8-c94e-e1345e242611"
      },
      "source": [
        "dataset.columns"
      ],
      "execution_count": 7,
      "outputs": [
        {
          "output_type": "execute_result",
          "data": {
            "text/plain": [
              "['Session_Connection_Time',\n",
              " 'Bytes Transferred',\n",
              " 'Kali_Trace_Used',\n",
              " 'Servers_Corrupted',\n",
              " 'Pages_Corrupted',\n",
              " 'Location',\n",
              " 'WPM_Typing_Speed']"
            ]
          },
          "metadata": {
            "tags": []
          },
          "execution_count": 7
        }
      ]
    },
    {
      "cell_type": "markdown",
      "metadata": {
        "id": "mHQOEmY7cHkN"
      },
      "source": [
        "## Transformando os dados"
      ]
    },
    {
      "cell_type": "markdown",
      "metadata": {
        "id": "Uti3aCm1cfh9"
      },
      "source": [
        "### Vetorizando os dados"
      ]
    },
    {
      "cell_type": "code",
      "metadata": {
        "id": "vtxt-d7kcA51"
      },
      "source": [
        "feat_cols = ['Session_Connection_Time',\n",
        "              'Bytes Transferred',\n",
        "              'Kali_Trace_Used',\n",
        "              'Servers_Corrupted',\n",
        "              'Pages_Corrupted',\n",
        "              'WPM_Typing_Speed']\n",
        "\n",
        "vec_assembler = VectorAssembler(inputCols = feat_cols, outputCol = 'features')"
      ],
      "execution_count": 8,
      "outputs": []
    },
    {
      "cell_type": "code",
      "metadata": {
        "id": "QhBOY3FMc1qa"
      },
      "source": [
        "final_data = vec_assembler.transform(dataset)"
      ],
      "execution_count": 9,
      "outputs": []
    },
    {
      "cell_type": "markdown",
      "metadata": {
        "id": "kJGdjl9UdIQu"
      },
      "source": [
        "### Padronizando os valores"
      ]
    },
    {
      "cell_type": "code",
      "metadata": {
        "id": "HmSOBVO2c8s8"
      },
      "source": [
        "scaler = StandardScaler(inputCol = 'features', outputCol = 'scaledFeatures', \n",
        "                        withStd = True, withMean = False)"
      ],
      "execution_count": 10,
      "outputs": []
    },
    {
      "cell_type": "code",
      "metadata": {
        "id": "85uSkIyTd2bO"
      },
      "source": [
        "scalerModel = scaler.fit(final_data)"
      ],
      "execution_count": 11,
      "outputs": []
    },
    {
      "cell_type": "code",
      "metadata": {
        "id": "53cqmjK-d616"
      },
      "source": [
        "cluster_final_data = scalerModel.transform(final_data)"
      ],
      "execution_count": 12,
      "outputs": []
    },
    {
      "cell_type": "markdown",
      "metadata": {
        "id": "S49jB1hsfhzf"
      },
      "source": [
        "## Modelo"
      ]
    },
    {
      "cell_type": "code",
      "metadata": {
        "id": "7fDxN8m3eb1g"
      },
      "source": [
        "# Criação de divisão de 2 e 3 grupos para testes\n",
        "\n",
        "k_means3 = KMeans(featuresCol = 'scaledFeatures', k = 3)\n",
        "k_means2 = KMeans(featuresCol = 'scaledFeatures', k = 2)"
      ],
      "execution_count": 13,
      "outputs": []
    },
    {
      "cell_type": "code",
      "metadata": {
        "id": "YZE6Xiw_gW3B"
      },
      "source": [
        "model_k3 = k_means3.fit(cluster_final_data)\n",
        "model_k2 = k_means2.fit(cluster_final_data)"
      ],
      "execution_count": 14,
      "outputs": []
    },
    {
      "cell_type": "code",
      "metadata": {
        "id": "C2c8WgOKgfj9"
      },
      "source": [
        "# Calculando a soma dos erros quadrados\n",
        "\n",
        "wsssw_k3 = model_k3.computeCost(cluster_final_data)\n",
        "wsssw_k2 = model_k2.computeCost(cluster_final_data)"
      ],
      "execution_count": 15,
      "outputs": []
    },
    {
      "cell_type": "code",
      "metadata": {
        "colab": {
          "base_uri": "https://localhost:8080/"
        },
        "id": "ANzhuqrUhQUP",
        "outputId": "a322edc0-87c4-467c-bb29-6371ad904bee"
      },
      "source": [
        "print('With k=3')\n",
        "print('O valor da soma dos erros quadrados = {}'.format(wsssw_k3))\n",
        "print('-' * 60)\n",
        "print('With k=2')\n",
        "print('O valor da soma dos erros quadrados = {}'.format(wsssw_k2))"
      ],
      "execution_count": 16,
      "outputs": [
        {
          "output_type": "stream",
          "text": [
            "With k=3\n",
            "O valor da soma dos erros quadrados = 434.75507308487647\n",
            "------------------------------------------------------------\n",
            "With k=2\n",
            "O valor da soma dos erros quadrados = 601.7707512676716\n"
          ],
          "name": "stdout"
        }
      ]
    },
    {
      "cell_type": "markdown",
      "metadata": {
        "id": "dGQcCaYs0YD_"
      },
      "source": [
        "### Analisando a melhor quantidade de clusters"
      ]
    },
    {
      "cell_type": "code",
      "metadata": {
        "colab": {
          "base_uri": "https://localhost:8080/"
        },
        "id": "O1DSM7VM0f20",
        "outputId": "3995ca3b-23d3-48e3-d4a6-cf6a07009910"
      },
      "source": [
        "for i in range(2, 10):\n",
        "  k_means = KMeans(featuresCol = 'scaledFeatures', k = i)\n",
        "  model = k_means.fit(cluster_final_data)\n",
        "  wssse = model.computeCost(cluster_final_data)\n",
        "\n",
        "  print('With k = {}'.format(i))\n",
        "  print('Within Set Sum of Squared Erros = {}'.format(wssse))\n",
        "  print('-' * 60)"
      ],
      "execution_count": 17,
      "outputs": [
        {
          "output_type": "stream",
          "text": [
            "With k = 2\n",
            "Within Set Sum of Squared Erros = 601.7707512676716\n",
            "------------------------------------------------------------\n",
            "With k = 3\n",
            "Within Set Sum of Squared Erros = 434.75507308487647\n",
            "------------------------------------------------------------\n",
            "With k = 4\n",
            "Within Set Sum of Squared Erros = 267.1336116887891\n",
            "------------------------------------------------------------\n",
            "With k = 5\n",
            "Within Set Sum of Squared Erros = 252.96510328402076\n",
            "------------------------------------------------------------\n",
            "With k = 6\n",
            "Within Set Sum of Squared Erros = 232.74699654312008\n",
            "------------------------------------------------------------\n",
            "With k = 7\n",
            "Within Set Sum of Squared Erros = 223.33347954318356\n",
            "------------------------------------------------------------\n",
            "With k = 8\n",
            "Within Set Sum of Squared Erros = 209.19327182734682\n",
            "------------------------------------------------------------\n",
            "With k = 9\n",
            "Within Set Sum of Squared Erros = 203.55896242419647\n",
            "------------------------------------------------------------\n"
          ],
          "name": "stdout"
        }
      ]
    },
    {
      "cell_type": "markdown",
      "metadata": {
        "id": "U_CIYp7e111v"
      },
      "source": [
        "### Analisando os ataques que devem ser numerados igualmente entre os hackers"
      ]
    },
    {
      "cell_type": "code",
      "metadata": {
        "id": "WayFgmLt1UTl"
      },
      "source": [
        "k_means4 = KMeans(featuresCol = 'scaledFeatures', k = 4)\n",
        "k_means6 = KMeans(featuresCol = 'scaledFeatures', k = 6)\n",
        "\n",
        "model_k4 = k_means4.fit(cluster_final_data)\n",
        "model_k6 = k_means6.fit(cluster_final_data)"
      ],
      "execution_count": 18,
      "outputs": []
    },
    {
      "cell_type": "code",
      "metadata": {
        "colab": {
          "base_uri": "https://localhost:8080/"
        },
        "id": "qlNPFNoz2e4x",
        "outputId": "e1d41b2a-33db-441d-af8c-9d9a526028b4"
      },
      "source": [
        "model_k2.transform(cluster_final_data).groupBy('prediction').count().show()"
      ],
      "execution_count": 19,
      "outputs": [
        {
          "output_type": "stream",
          "text": [
            "+----------+-----+\n",
            "|prediction|count|\n",
            "+----------+-----+\n",
            "|         1|  167|\n",
            "|         0|  167|\n",
            "+----------+-----+\n",
            "\n"
          ],
          "name": "stdout"
        }
      ]
    },
    {
      "cell_type": "code",
      "metadata": {
        "colab": {
          "base_uri": "https://localhost:8080/"
        },
        "id": "_jfSJ68i27Y2",
        "outputId": "8ea49c15-c655-453a-d62c-fa9b305221e4"
      },
      "source": [
        "model_k4.transform(cluster_final_data).groupBy('prediction').count().show()"
      ],
      "execution_count": 20,
      "outputs": [
        {
          "output_type": "stream",
          "text": [
            "+----------+-----+\n",
            "|prediction|count|\n",
            "+----------+-----+\n",
            "|         1|   79|\n",
            "|         3|   84|\n",
            "|         2|   88|\n",
            "|         0|   83|\n",
            "+----------+-----+\n",
            "\n"
          ],
          "name": "stdout"
        }
      ]
    },
    {
      "cell_type": "code",
      "metadata": {
        "colab": {
          "base_uri": "https://localhost:8080/"
        },
        "id": "Mq6rdn6R2slo",
        "outputId": "3b4a2705-310d-49c7-a345-07ffb126fa29"
      },
      "source": [
        "model_k6.transform(cluster_final_data).groupBy('prediction').count().show()"
      ],
      "execution_count": 21,
      "outputs": [
        {
          "output_type": "stream",
          "text": [
            "+----------+-----+\n",
            "|prediction|count|\n",
            "+----------+-----+\n",
            "|         1|   40|\n",
            "|         3|   49|\n",
            "|         5|   48|\n",
            "|         4|   84|\n",
            "|         2|   79|\n",
            "|         0|   34|\n",
            "+----------+-----+\n",
            "\n"
          ],
          "name": "stdout"
        }
      ]
    },
    {
      "cell_type": "markdown",
      "metadata": {
        "id": "KBvLDJo53BTl"
      },
      "source": [
        "# Resultados \n",
        "Com os resultados mostrados acima, temos que foram 2 hackers como foi mostrado no modelo de clusters!"
      ]
    }
  ]
}