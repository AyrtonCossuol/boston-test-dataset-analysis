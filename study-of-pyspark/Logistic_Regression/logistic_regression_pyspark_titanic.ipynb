{
  "nbformat": 4,
  "nbformat_minor": 0,
  "metadata": {
    "colab": {
      "name": "logistic_regression_pyspark_titanic.ipynb",
      "provenance": []
    },
    "kernelspec": {
      "name": "python3",
      "display_name": "Python 3"
    },
    "language_info": {
      "name": "python"
    }
  },
  "cells": [
    {
      "cell_type": "markdown",
      "metadata": {
        "id": "Vwh5A8zk0j6-"
      },
      "source": [
        "# Regressão Logística utilizando PySpark\n",
        "\n",
        "Iniciando um estudo em regressão logística utilizando um dataset conhecido como o titanic"
      ]
    },
    {
      "cell_type": "markdown",
      "metadata": {
        "id": "agfDh9021I3u"
      },
      "source": [
        "### Iniciando as configurações do Spark"
      ]
    },
    {
      "cell_type": "code",
      "metadata": {
        "id": "xd_4Si5m0E_v"
      },
      "source": [
        "!apt-get install openjdk-8-jdk-headless -qq > /dev/null\n",
        "!wget -q https://archive.apache.org/dist/spark/spark-2.4.4/spark-2.4.4-bin-hadoop2.7.tgz\n",
        "!tar xf spark-2.4.4-bin-hadoop2.7.tgz\n",
        "!pip install -q findspark"
      ],
      "execution_count": 1,
      "outputs": []
    },
    {
      "cell_type": "code",
      "metadata": {
        "id": "VkD3UFpa0bw5"
      },
      "source": [
        "import os\n",
        "import findspark\n",
        "\n",
        "os.environ[\"JAVA_HOME\"] = \"/usr/lib/jvm/java-8-openjdk-amd64\"\n",
        "os.environ[\"SPARK_HOME\"] = \"/content/spark-2.4.4-bin-hadoop2.7\"\n",
        "findspark.init('spark-2.4.4-bin-hadoop2.7')"
      ],
      "execution_count": 2,
      "outputs": []
    },
    {
      "cell_type": "markdown",
      "metadata": {
        "id": "LccZG5uK1OQ-"
      },
      "source": [
        "## Importação das Bibliotecas"
      ]
    },
    {
      "cell_type": "code",
      "metadata": {
        "id": "0n8RTsKf0cPn"
      },
      "source": [
        "import pyspark\n",
        "\n",
        "from pyspark.sql import SparkSession"
      ],
      "execution_count": 3,
      "outputs": []
    },
    {
      "cell_type": "markdown",
      "metadata": {
        "id": "Ai4hnrBb1V8m"
      },
      "source": [
        "## Criação de uma sessão spark e leitura da base"
      ]
    },
    {
      "cell_type": "code",
      "metadata": {
        "id": "6WfP_CCl1bAH"
      },
      "source": [
        "spark = SparkSession.builder.appName('my_project').getOrCreate()"
      ],
      "execution_count": 4,
      "outputs": []
    },
    {
      "cell_type": "code",
      "metadata": {
        "colab": {
          "base_uri": "https://localhost:8080/"
        },
        "id": "CWcDTbDu1lDU",
        "outputId": "befe208b-7ddc-44e6-ea07-e5dc2ffdf5cd"
      },
      "source": [
        "PATH = '/content/drive/MyDrive/Colab Notebooks/Estudos/Spark/Logistic_Regression/base/titanic.csv'\n",
        "data = spark.read.csv(PATH, header = True, inferSchema = True)\n",
        "data.printSchema()"
      ],
      "execution_count": 5,
      "outputs": [
        {
          "output_type": "stream",
          "text": [
            "root\n",
            " |-- PassengerId: integer (nullable = true)\n",
            " |-- Survived: integer (nullable = true)\n",
            " |-- Pclass: integer (nullable = true)\n",
            " |-- Name: string (nullable = true)\n",
            " |-- Sex: string (nullable = true)\n",
            " |-- Age: double (nullable = true)\n",
            " |-- SibSp: integer (nullable = true)\n",
            " |-- Parch: integer (nullable = true)\n",
            " |-- Ticket: string (nullable = true)\n",
            " |-- Fare: double (nullable = true)\n",
            " |-- Cabin: string (nullable = true)\n",
            " |-- Embarked: string (nullable = true)\n",
            "\n"
          ],
          "name": "stdout"
        }
      ]
    },
    {
      "cell_type": "code",
      "metadata": {
        "id": "9NPU1Qn9165t"
      },
      "source": [
        ""
      ],
      "execution_count": null,
      "outputs": []
    }
  ]
}