{
  "nbformat": 4,
  "nbformat_minor": 0,
  "metadata": {
    "colab": {
      "name": "tree_methods_with_pyspark.ipynb",
      "provenance": []
    },
    "kernelspec": {
      "name": "python3",
      "display_name": "Python 3"
    },
    "language_info": {
      "name": "python"
    }
  },
  "cells": [
    {
      "cell_type": "markdown",
      "metadata": {
        "id": "RiJ358b_97ZU"
      },
      "source": [
        "# Projeto utilizando Método das Árvores"
      ]
    },
    {
      "cell_type": "markdown",
      "metadata": {
        "id": "eUXvhVnW-QZs"
      },
      "source": [
        "### Instalação dos componentes relacionado ao Spark"
      ]
    },
    {
      "cell_type": "code",
      "metadata": {
        "id": "5tpyawQ-7t2o"
      },
      "source": [
        "!apt-get install openjdk-8-jdk-headless -qq > /dev/null\n",
        "!wget -q https://archive.apache.org/dist/spark/spark-2.4.4/spark-2.4.4-bin-hadoop2.7.tgz\n",
        "!tar xf spark-2.4.4-bin-hadoop2.7.tgz\n",
        "!pip install -q findspark"
      ],
      "execution_count": 1,
      "outputs": []
    },
    {
      "cell_type": "code",
      "metadata": {
        "id": "GPNnYGzc73UE"
      },
      "source": [
        "import os\n",
        "import findspark\n",
        "\n",
        "os.environ[\"JAVA_HOME\"] = \"/usr/lib/jvm/java-8-openjdk-amd64\"\n",
        "os.environ[\"SPARK_HOME\"] = \"/content/spark-2.4.4-bin-hadoop2.7\"\n",
        "findspark.init('spark-2.4.4-bin-hadoop2.7')"
      ],
      "execution_count": 2,
      "outputs": []
    },
    {
      "cell_type": "markdown",
      "metadata": {
        "id": "zJO8CIHP936U"
      },
      "source": [
        "## Importação das Bibliotecas"
      ]
    },
    {
      "cell_type": "code",
      "metadata": {
        "id": "_lstvZHq-Yr7"
      },
      "source": [
        "import pyspark\n",
        "from pyspark.sql import SparkSession\n",
        "\n",
        "from pyspark.ml.linalg import Vectors\n",
        "from pyspark.ml.feature import VectorAssembler, StringIndexer\n",
        "from pyspark.ml.classification import DecisionTreeClassifier, GBTClassifier, RandomForestClassifier\n",
        "from pyspark.ml.evaluation import MulticlassClassificationEvaluator"
      ],
      "execution_count": 3,
      "outputs": []
    },
    {
      "cell_type": "markdown",
      "metadata": {
        "id": "jGuchSl_-oIz"
      },
      "source": [
        "## Criando uma sessão e lendo a base\n",
        "\n",
        "\n"
      ]
    },
    {
      "cell_type": "code",
      "metadata": {
        "id": "xL6FcfPG_FCb"
      },
      "source": [
        "spark = SparkSession.builder.appName('tree_code').getOrCreate()"
      ],
      "execution_count": 4,
      "outputs": []
    },
    {
      "cell_type": "code",
      "metadata": {
        "colab": {
          "base_uri": "https://localhost:8080/"
        },
        "id": "ir60ttgH-klv",
        "outputId": "26a62895-c5b2-478e-9b1c-13a833c0f43f"
      },
      "source": [
        "PATH = '/content/drive/MyDrive/Colab Notebooks/Estudos/Spark/Tree_Methods/base/College.csv'\n",
        "data = spark.read.csv(PATH, inferSchema = True, header = True)\n",
        "data.printSchema()"
      ],
      "execution_count": 5,
      "outputs": [
        {
          "output_type": "stream",
          "text": [
            "root\n",
            " |-- School: string (nullable = true)\n",
            " |-- Private: string (nullable = true)\n",
            " |-- Apps: integer (nullable = true)\n",
            " |-- Accept: integer (nullable = true)\n",
            " |-- Enroll: integer (nullable = true)\n",
            " |-- Top10perc: integer (nullable = true)\n",
            " |-- Top25perc: integer (nullable = true)\n",
            " |-- F_Undergrad: integer (nullable = true)\n",
            " |-- P_Undergrad: integer (nullable = true)\n",
            " |-- Outstate: integer (nullable = true)\n",
            " |-- Room_Board: integer (nullable = true)\n",
            " |-- Books: integer (nullable = true)\n",
            " |-- Personal: integer (nullable = true)\n",
            " |-- PhD: integer (nullable = true)\n",
            " |-- Terminal: integer (nullable = true)\n",
            " |-- S_F_Ratio: double (nullable = true)\n",
            " |-- perc_alumni: integer (nullable = true)\n",
            " |-- Expend: integer (nullable = true)\n",
            " |-- Grad_Rate: integer (nullable = true)\n",
            "\n"
          ],
          "name": "stdout"
        }
      ]
    },
    {
      "cell_type": "code",
      "metadata": {
        "colab": {
          "base_uri": "https://localhost:8080/"
        },
        "id": "vz7PbIqSDEL7",
        "outputId": "26d05fc8-83c5-469d-c088-58a63a887bb9"
      },
      "source": [
        "data.show(10)"
      ],
      "execution_count": 6,
      "outputs": [
        {
          "output_type": "stream",
          "text": [
            "+--------------------+-------+----+------+------+---------+---------+-----------+-----------+--------+----------+-----+--------+---+--------+---------+-----------+------+---------+\n",
            "|              School|Private|Apps|Accept|Enroll|Top10perc|Top25perc|F_Undergrad|P_Undergrad|Outstate|Room_Board|Books|Personal|PhD|Terminal|S_F_Ratio|perc_alumni|Expend|Grad_Rate|\n",
            "+--------------------+-------+----+------+------+---------+---------+-----------+-----------+--------+----------+-----+--------+---+--------+---------+-----------+------+---------+\n",
            "|Abilene Christian...|    Yes|1660|  1232|   721|       23|       52|       2885|        537|    7440|      3300|  450|    2200| 70|      78|     18.1|         12|  7041|       60|\n",
            "|  Adelphi University|    Yes|2186|  1924|   512|       16|       29|       2683|       1227|   12280|      6450|  750|    1500| 29|      30|     12.2|         16| 10527|       56|\n",
            "|      Adrian College|    Yes|1428|  1097|   336|       22|       50|       1036|         99|   11250|      3750|  400|    1165| 53|      66|     12.9|         30|  8735|       54|\n",
            "| Agnes Scott College|    Yes| 417|   349|   137|       60|       89|        510|         63|   12960|      5450|  450|     875| 92|      97|      7.7|         37| 19016|       59|\n",
            "|Alaska Pacific Un...|    Yes| 193|   146|    55|       16|       44|        249|        869|    7560|      4120|  800|    1500| 76|      72|     11.9|          2| 10922|       15|\n",
            "|   Albertson College|    Yes| 587|   479|   158|       38|       62|        678|         41|   13500|      3335|  500|     675| 67|      73|      9.4|         11|  9727|       55|\n",
            "|Albertus Magnus C...|    Yes| 353|   340|   103|       17|       45|        416|        230|   13290|      5720|  500|    1500| 90|      93|     11.5|         26|  8861|       63|\n",
            "|      Albion College|    Yes|1899|  1720|   489|       37|       68|       1594|         32|   13868|      4826|  450|     850| 89|     100|     13.7|         37| 11487|       73|\n",
            "|    Albright College|    Yes|1038|   839|   227|       30|       63|        973|        306|   15595|      4400|  300|     500| 79|      84|     11.3|         23| 11644|       80|\n",
            "|Alderson-Broaddus...|    Yes| 582|   498|   172|       21|       44|        799|         78|   10468|      3380|  660|    1800| 40|      41|     11.5|         15|  8991|       52|\n",
            "+--------------------+-------+----+------+------+---------+---------+-----------+-----------+--------+----------+-----+--------+---+--------+---------+-----------+------+---------+\n",
            "only showing top 10 rows\n",
            "\n"
          ],
          "name": "stdout"
        }
      ]
    },
    {
      "cell_type": "code",
      "metadata": {
        "colab": {
          "base_uri": "https://localhost:8080/"
        },
        "id": "M9QqBivmAPq8",
        "outputId": "6f307a80-cb5c-4243-daae-a1120e9993ee"
      },
      "source": [
        "data.head()"
      ],
      "execution_count": 7,
      "outputs": [
        {
          "output_type": "execute_result",
          "data": {
            "text/plain": [
              "Row(School='Abilene Christian University', Private='Yes', Apps=1660, Accept=1232, Enroll=721, Top10perc=23, Top25perc=52, F_Undergrad=2885, P_Undergrad=537, Outstate=7440, Room_Board=3300, Books=450, Personal=2200, PhD=70, Terminal=78, S_F_Ratio=18.1, perc_alumni=12, Expend=7041, Grad_Rate=60)"
            ]
          },
          "metadata": {
            "tags": []
          },
          "execution_count": 7
        }
      ]
    },
    {
      "cell_type": "code",
      "metadata": {
        "colab": {
          "base_uri": "https://localhost:8080/"
        },
        "id": "5K1o4lm6AQ2E",
        "outputId": "a054785d-74f9-432b-963b-081e4decec8d"
      },
      "source": [
        "data.columns"
      ],
      "execution_count": 8,
      "outputs": [
        {
          "output_type": "execute_result",
          "data": {
            "text/plain": [
              "['School',\n",
              " 'Private',\n",
              " 'Apps',\n",
              " 'Accept',\n",
              " 'Enroll',\n",
              " 'Top10perc',\n",
              " 'Top25perc',\n",
              " 'F_Undergrad',\n",
              " 'P_Undergrad',\n",
              " 'Outstate',\n",
              " 'Room_Board',\n",
              " 'Books',\n",
              " 'Personal',\n",
              " 'PhD',\n",
              " 'Terminal',\n",
              " 'S_F_Ratio',\n",
              " 'perc_alumni',\n",
              " 'Expend',\n",
              " 'Grad_Rate']"
            ]
          },
          "metadata": {
            "tags": []
          },
          "execution_count": 8
        }
      ]
    },
    {
      "cell_type": "markdown",
      "metadata": {
        "id": "ZOTmpiGwAcQT"
      },
      "source": [
        "# Transformando os dados"
      ]
    },
    {
      "cell_type": "markdown",
      "metadata": {
        "id": "_Bf4a3iyAfjD"
      },
      "source": [
        "## Vetorizando os dados"
      ]
    },
    {
      "cell_type": "code",
      "metadata": {
        "id": "ninKol5FAT2N"
      },
      "source": [
        "inputCols = ['Apps',\n",
        "            'Accept',\n",
        "            'Enroll',\n",
        "            'Top10perc',\n",
        "            'Top25perc',\n",
        "            'F_Undergrad',\n",
        "            'P_Undergrad',\n",
        "            'Outstate',\n",
        "            'Room_Board',\n",
        "            'Books',\n",
        "            'Personal',\n",
        "            'PhD',\n",
        "            'Terminal',\n",
        "            'S_F_Ratio',\n",
        "            'perc_alumni',\n",
        "            'Expend',\n",
        "            'Grad_Rate']\n",
        "assembler = VectorAssembler(inputCols = inputCols, outputCol = 'features')"
      ],
      "execution_count": 9,
      "outputs": []
    },
    {
      "cell_type": "code",
      "metadata": {
        "id": "_E_G8fiiBXU2"
      },
      "source": [
        "output = assembler.transform(data)"
      ],
      "execution_count": 10,
      "outputs": []
    },
    {
      "cell_type": "markdown",
      "metadata": {
        "id": "DgtKfqFSDRoz"
      },
      "source": [
        "## Tratando a coluna 'Private'"
      ]
    },
    {
      "cell_type": "code",
      "metadata": {
        "id": "gzQ5tr5jB_my"
      },
      "source": [
        "indexer = StringIndexer(inputCol = 'Private', outputCol = 'PrivateIndex')\n",
        "output_fixed = indexer.fit(output).transform(output)"
      ],
      "execution_count": 11,
      "outputs": []
    },
    {
      "cell_type": "code",
      "metadata": {
        "id": "pgku2UcEDq9s"
      },
      "source": [
        "final_data = output_fixed.select('features', 'PrivateIndex')"
      ],
      "execution_count": 12,
      "outputs": []
    },
    {
      "cell_type": "markdown",
      "metadata": {
        "id": "-6XhdV38ElLc"
      },
      "source": [
        "## Separando os dados e criando os classificadores"
      ]
    },
    {
      "cell_type": "code",
      "metadata": {
        "id": "E9-1qs8dD0AO"
      },
      "source": [
        "train_data, test_data = final_data.randomSplit([0.7, 0.3])"
      ],
      "execution_count": 13,
      "outputs": []
    },
    {
      "cell_type": "code",
      "metadata": {
        "id": "1LVZlJ1iFie8"
      },
      "source": [
        "dtc = DecisionTreeClassifier(labelCol = 'PrivateIndex', featuresCol = 'features')\n",
        "rfc = RandomForestClassifier(labelCol = 'PrivateIndex', featuresCol = 'features')\n",
        "gbt = GBTClassifier(labelCol = 'PrivateIndex', featuresCol = 'features')"
      ],
      "execution_count": 14,
      "outputs": []
    },
    {
      "cell_type": "code",
      "metadata": {
        "id": "EkR9WKQjGDHM"
      },
      "source": [
        "dtc_model = dtc.fit(train_data)\n",
        "rfc_model = rfc.fit(train_data)\n",
        "gbt_model = gbt.fit(train_data)"
      ],
      "execution_count": 15,
      "outputs": []
    },
    {
      "cell_type": "markdown",
      "metadata": {
        "id": "H0aJ3GGIHX-A"
      },
      "source": [
        "## Comparação os modelos"
      ]
    },
    {
      "cell_type": "code",
      "metadata": {
        "id": "TQ9ol4dVGhxb"
      },
      "source": [
        "dtc_predictions = dtc_model.transform(test_data)\n",
        "rfc_predictions = rfc_model.transform(test_data)\n",
        "gbt_predictions = gbt_model.transform(test_data)"
      ],
      "execution_count": 16,
      "outputs": []
    },
    {
      "cell_type": "code",
      "metadata": {
        "id": "8Kbz826yIHgo"
      },
      "source": [
        "acc_evaluator = MulticlassClassificationEvaluator(labelCol = 'PrivateIndex',\n",
        "                                                  predictionCol = 'prediction',\n",
        "                                                  metricName = 'accuracy')"
      ],
      "execution_count": 17,
      "outputs": []
    },
    {
      "cell_type": "code",
      "metadata": {
        "id": "S7lW_egrJCRb"
      },
      "source": [
        "dtc_acc = acc_evaluator.evaluate(dtc_predictions)\n",
        "rfc_acc = acc_evaluator.evaluate(rfc_predictions)\n",
        "gbt_acc = acc_evaluator.evaluate(gbt_predictions)"
      ],
      "execution_count": 18,
      "outputs": []
    },
    {
      "cell_type": "code",
      "metadata": {
        "colab": {
          "base_uri": "https://localhost:8080/"
        },
        "id": "ft-Qq1GfJZLr",
        "outputId": "29675757-27b4-4b93-f529-19aab0c38ac3"
      },
      "source": [
        "print('Here are the results!')\n",
        "print('-' * 70)\n",
        "print('A single decision tree had an accuracy of: {}'.format(dtc_acc))\n",
        "print('-' * 70)\n",
        "print('A random forest ensemble had an accuracy of: {}'.format(rfc_acc))\n",
        "print('-' * 70)\n",
        "print('A ensemble using GBT had an accuracy of: {}'.format(gbt_acc))\n",
        "print('-' * 70)"
      ],
      "execution_count": 19,
      "outputs": [
        {
          "output_type": "stream",
          "text": [
            "Here are the results!\n",
            "----------------------------------------------------------------------\n",
            "A single decision tree had an accuracy of: 0.8765432098765432\n",
            "----------------------------------------------------------------------\n",
            "A random forest ensemble had an accuracy of: 0.9218106995884774\n",
            "----------------------------------------------------------------------\n",
            "A ensemble using GBT had an accuracy of: 0.8847736625514403\n",
            "----------------------------------------------------------------------\n"
          ],
          "name": "stdout"
        }
      ]
    }
  ]
}