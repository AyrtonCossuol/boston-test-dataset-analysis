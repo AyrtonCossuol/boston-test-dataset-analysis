{
  "nbformat": 4,
  "nbformat_minor": 0,
  "metadata": {
    "colab": {
      "name": " third_analysis.ipynb",
      "provenance": []
    },
    "kernelspec": {
      "name": "python3",
      "display_name": "Python 3"
    },
    "language_info": {
      "name": "python"
    }
  },
  "cells": [
    {
      "cell_type": "markdown",
      "metadata": {
        "id": "9Gb_tUNqygyd"
      },
      "source": [
        "#  **Desafio House Rocket**\n",
        " \n",
        "A ideia do desafio é poder comprar casas com preço baixo e fazer a revenda com os preços mais altos.\n",
        " \n",
        "Assim, encontrar bons negócios dentro do portfólio disponível, ou seja, encontrar casas com preço mais baixo, em ótimas localizações e que tenham um ótimo potencial de revenda por um preço mais alto."
      ]
    },
    {
      "cell_type": "code",
      "metadata": {
        "colab": {
          "base_uri": "https://localhost:8080/"
        },
        "id": "KUjs3jOZyyPs",
        "outputId": "e3292bce-165a-4852-e02f-2ffa5cd52df3"
      },
      "source": [
        "from google.colab import drive\n",
        "drive.mount('/content/drive')"
      ],
      "execution_count": 1,
      "outputs": [
        {
          "output_type": "stream",
          "text": [
            "Drive already mounted at /content/drive; to attempt to forcibly remount, call drive.mount(\"/content/drive\", force_remount=True).\n"
          ],
          "name": "stdout"
        }
      ]
    },
    {
      "cell_type": "markdown",
      "metadata": {
        "id": "E_dG2_FCyqkN"
      },
      "source": [
        "# 1 - Importando as bibliotecas"
      ]
    },
    {
      "cell_type": "code",
      "metadata": {
        "id": "yK2211jrxybe"
      },
      "source": [
        "import pandas as pd\n",
        "pd.set_option('display.float_format', lambda x: '%.2f' % x)\n",
        "\n",
        "import numpy as np\n",
        "\n",
        "from geopy.geocoders import Nominatim"
      ],
      "execution_count": 2,
      "outputs": []
    },
    {
      "cell_type": "markdown",
      "metadata": {
        "id": "i7FYuHY3y9Pl"
      },
      "source": [
        "# 2 - Importando a base de dados"
      ]
    },
    {
      "cell_type": "code",
      "metadata": {
        "colab": {
          "base_uri": "https://localhost:8080/",
          "height": 224
        },
        "id": "vw2BjkgbyupI",
        "outputId": "0136fbf2-ce36-40ad-e600-d6f8907dd36a"
      },
      "source": [
        "PATH = '/content/drive/MyDrive/Colab Notebooks/meigarom/base/kc_house_data.csv'\n",
        "data = pd.read_csv(PATH)\n",
        "data.head()"
      ],
      "execution_count": 3,
      "outputs": [
        {
          "output_type": "execute_result",
          "data": {
            "text/html": [
              "<div>\n",
              "<style scoped>\n",
              "    .dataframe tbody tr th:only-of-type {\n",
              "        vertical-align: middle;\n",
              "    }\n",
              "\n",
              "    .dataframe tbody tr th {\n",
              "        vertical-align: top;\n",
              "    }\n",
              "\n",
              "    .dataframe thead th {\n",
              "        text-align: right;\n",
              "    }\n",
              "</style>\n",
              "<table border=\"1\" class=\"dataframe\">\n",
              "  <thead>\n",
              "    <tr style=\"text-align: right;\">\n",
              "      <th></th>\n",
              "      <th>id</th>\n",
              "      <th>date</th>\n",
              "      <th>price</th>\n",
              "      <th>bedrooms</th>\n",
              "      <th>bathrooms</th>\n",
              "      <th>sqft_living</th>\n",
              "      <th>sqft_lot</th>\n",
              "      <th>floors</th>\n",
              "      <th>waterfront</th>\n",
              "      <th>view</th>\n",
              "      <th>condition</th>\n",
              "      <th>grade</th>\n",
              "      <th>sqft_above</th>\n",
              "      <th>sqft_basement</th>\n",
              "      <th>yr_built</th>\n",
              "      <th>yr_renovated</th>\n",
              "      <th>zipcode</th>\n",
              "      <th>lat</th>\n",
              "      <th>long</th>\n",
              "      <th>sqft_living15</th>\n",
              "      <th>sqft_lot15</th>\n",
              "    </tr>\n",
              "  </thead>\n",
              "  <tbody>\n",
              "    <tr>\n",
              "      <th>0</th>\n",
              "      <td>7129300520</td>\n",
              "      <td>20141013T000000</td>\n",
              "      <td>221900.00</td>\n",
              "      <td>3</td>\n",
              "      <td>1.00</td>\n",
              "      <td>1180</td>\n",
              "      <td>5650</td>\n",
              "      <td>1.00</td>\n",
              "      <td>0</td>\n",
              "      <td>0</td>\n",
              "      <td>3</td>\n",
              "      <td>7</td>\n",
              "      <td>1180</td>\n",
              "      <td>0</td>\n",
              "      <td>1955</td>\n",
              "      <td>0</td>\n",
              "      <td>98178</td>\n",
              "      <td>47.51</td>\n",
              "      <td>-122.26</td>\n",
              "      <td>1340</td>\n",
              "      <td>5650</td>\n",
              "    </tr>\n",
              "    <tr>\n",
              "      <th>1</th>\n",
              "      <td>6414100192</td>\n",
              "      <td>20141209T000000</td>\n",
              "      <td>538000.00</td>\n",
              "      <td>3</td>\n",
              "      <td>2.25</td>\n",
              "      <td>2570</td>\n",
              "      <td>7242</td>\n",
              "      <td>2.00</td>\n",
              "      <td>0</td>\n",
              "      <td>0</td>\n",
              "      <td>3</td>\n",
              "      <td>7</td>\n",
              "      <td>2170</td>\n",
              "      <td>400</td>\n",
              "      <td>1951</td>\n",
              "      <td>1991</td>\n",
              "      <td>98125</td>\n",
              "      <td>47.72</td>\n",
              "      <td>-122.32</td>\n",
              "      <td>1690</td>\n",
              "      <td>7639</td>\n",
              "    </tr>\n",
              "    <tr>\n",
              "      <th>2</th>\n",
              "      <td>5631500400</td>\n",
              "      <td>20150225T000000</td>\n",
              "      <td>180000.00</td>\n",
              "      <td>2</td>\n",
              "      <td>1.00</td>\n",
              "      <td>770</td>\n",
              "      <td>10000</td>\n",
              "      <td>1.00</td>\n",
              "      <td>0</td>\n",
              "      <td>0</td>\n",
              "      <td>3</td>\n",
              "      <td>6</td>\n",
              "      <td>770</td>\n",
              "      <td>0</td>\n",
              "      <td>1933</td>\n",
              "      <td>0</td>\n",
              "      <td>98028</td>\n",
              "      <td>47.74</td>\n",
              "      <td>-122.23</td>\n",
              "      <td>2720</td>\n",
              "      <td>8062</td>\n",
              "    </tr>\n",
              "    <tr>\n",
              "      <th>3</th>\n",
              "      <td>2487200875</td>\n",
              "      <td>20141209T000000</td>\n",
              "      <td>604000.00</td>\n",
              "      <td>4</td>\n",
              "      <td>3.00</td>\n",
              "      <td>1960</td>\n",
              "      <td>5000</td>\n",
              "      <td>1.00</td>\n",
              "      <td>0</td>\n",
              "      <td>0</td>\n",
              "      <td>5</td>\n",
              "      <td>7</td>\n",
              "      <td>1050</td>\n",
              "      <td>910</td>\n",
              "      <td>1965</td>\n",
              "      <td>0</td>\n",
              "      <td>98136</td>\n",
              "      <td>47.52</td>\n",
              "      <td>-122.39</td>\n",
              "      <td>1360</td>\n",
              "      <td>5000</td>\n",
              "    </tr>\n",
              "    <tr>\n",
              "      <th>4</th>\n",
              "      <td>1954400510</td>\n",
              "      <td>20150218T000000</td>\n",
              "      <td>510000.00</td>\n",
              "      <td>3</td>\n",
              "      <td>2.00</td>\n",
              "      <td>1680</td>\n",
              "      <td>8080</td>\n",
              "      <td>1.00</td>\n",
              "      <td>0</td>\n",
              "      <td>0</td>\n",
              "      <td>3</td>\n",
              "      <td>8</td>\n",
              "      <td>1680</td>\n",
              "      <td>0</td>\n",
              "      <td>1987</td>\n",
              "      <td>0</td>\n",
              "      <td>98074</td>\n",
              "      <td>47.62</td>\n",
              "      <td>-122.05</td>\n",
              "      <td>1800</td>\n",
              "      <td>7503</td>\n",
              "    </tr>\n",
              "  </tbody>\n",
              "</table>\n",
              "</div>"
            ],
            "text/plain": [
              "           id             date     price  ...    long  sqft_living15  sqft_lot15\n",
              "0  7129300520  20141013T000000 221900.00  ... -122.26           1340        5650\n",
              "1  6414100192  20141209T000000 538000.00  ... -122.32           1690        7639\n",
              "2  5631500400  20150225T000000 180000.00  ... -122.23           2720        8062\n",
              "3  2487200875  20141209T000000 604000.00  ... -122.39           1360        5000\n",
              "4  1954400510  20150218T000000 510000.00  ... -122.05           1800        7503\n",
              "\n",
              "[5 rows x 21 columns]"
            ]
          },
          "metadata": {
            "tags": []
          },
          "execution_count": 3
        }
      ]
    },
    {
      "cell_type": "markdown",
      "metadata": {
        "id": "krqhf40L06GO"
      },
      "source": [
        "# 3 - Convertendo a Data"
      ]
    },
    {
      "cell_type": "code",
      "metadata": {
        "id": "TaB5Tu-SzGSG"
      },
      "source": [
        "data['date'] = pd.to_datetime(data['date'])"
      ],
      "execution_count": 4,
      "outputs": []
    },
    {
      "cell_type": "markdown",
      "metadata": {
        "id": "kY7yziUB1Fhe"
      },
      "source": [
        "# 4 - Estatística Descritiva dos dados"
      ]
    },
    {
      "cell_type": "markdown",
      "metadata": {
        "id": "gUkQg8Sd1WHt"
      },
      "source": [
        "## 4.1 - Tendência Central - Média e Mediana"
      ]
    },
    {
      "cell_type": "code",
      "metadata": {
        "colab": {
          "base_uri": "https://localhost:8080/"
        },
        "id": "GiH-b88C1t2D",
        "outputId": "abaec57f-cbc9-4924-a3c9-8e7236bb3b5a"
      },
      "source": [
        "num_attributes = data.select_dtypes(include=['int64', 'float64'])\n",
        "num_attributes.dtypes"
      ],
      "execution_count": 5,
      "outputs": [
        {
          "output_type": "execute_result",
          "data": {
            "text/plain": [
              "id                 int64\n",
              "price            float64\n",
              "bedrooms           int64\n",
              "bathrooms        float64\n",
              "sqft_living        int64\n",
              "sqft_lot           int64\n",
              "floors           float64\n",
              "waterfront         int64\n",
              "view               int64\n",
              "condition          int64\n",
              "grade              int64\n",
              "sqft_above         int64\n",
              "sqft_basement      int64\n",
              "yr_built           int64\n",
              "yr_renovated       int64\n",
              "zipcode            int64\n",
              "lat              float64\n",
              "long             float64\n",
              "sqft_living15      int64\n",
              "sqft_lot15         int64\n",
              "dtype: object"
            ]
          },
          "metadata": {
            "tags": []
          },
          "execution_count": 5
        }
      ]
    },
    {
      "cell_type": "code",
      "metadata": {
        "id": "xuvmJUex1DpD"
      },
      "source": [
        "media = pd.DataFrame(num_attributes.apply(np.mean, axis = 0))\n",
        "mediana = pd.DataFrame(num_attributes.apply(np.median, axis = 0))"
      ],
      "execution_count": 6,
      "outputs": []
    },
    {
      "cell_type": "markdown",
      "metadata": {
        "id": "MGVw2U901cEE"
      },
      "source": [
        "## 4.2 - Dispersão - Mínimo, Máximo e o Desvio Padrão"
      ]
    },
    {
      "cell_type": "code",
      "metadata": {
        "id": "yPv8b_tb2ofm"
      },
      "source": [
        "std = pd.DataFrame(num_attributes.apply(np.std, axis = 0))\n",
        "min = pd.DataFrame(num_attributes.apply(np.min, axis = 0))\n",
        "max = pd.DataFrame(num_attributes.apply(np.max, axis = 0))"
      ],
      "execution_count": 7,
      "outputs": []
    },
    {
      "cell_type": "markdown",
      "metadata": {
        "id": "YfrKO8wB3QEu"
      },
      "source": [
        "## 4.3 - União das métricas"
      ]
    },
    {
      "cell_type": "code",
      "metadata": {
        "colab": {
          "base_uri": "https://localhost:8080/",
          "height": 669
        },
        "id": "Wg0JUKKW3PIP",
        "outputId": "6846c5c3-eefa-4b5a-80b7-bcc469ccbffc"
      },
      "source": [
        "df1 = pd.concat([max, min, media, mediana, std], axis = 1).reset_index()\n",
        "df1.columns = ['attributes', 'maximo', 'minimo', 'media', 'mediana', 'std']\n",
        "df1"
      ],
      "execution_count": 8,
      "outputs": [
        {
          "output_type": "execute_result",
          "data": {
            "text/html": [
              "<div>\n",
              "<style scoped>\n",
              "    .dataframe tbody tr th:only-of-type {\n",
              "        vertical-align: middle;\n",
              "    }\n",
              "\n",
              "    .dataframe tbody tr th {\n",
              "        vertical-align: top;\n",
              "    }\n",
              "\n",
              "    .dataframe thead th {\n",
              "        text-align: right;\n",
              "    }\n",
              "</style>\n",
              "<table border=\"1\" class=\"dataframe\">\n",
              "  <thead>\n",
              "    <tr style=\"text-align: right;\">\n",
              "      <th></th>\n",
              "      <th>attributes</th>\n",
              "      <th>maximo</th>\n",
              "      <th>minimo</th>\n",
              "      <th>media</th>\n",
              "      <th>mediana</th>\n",
              "      <th>std</th>\n",
              "    </tr>\n",
              "  </thead>\n",
              "  <tbody>\n",
              "    <tr>\n",
              "      <th>0</th>\n",
              "      <td>id</td>\n",
              "      <td>9900000190.00</td>\n",
              "      <td>1000102.00</td>\n",
              "      <td>4580301520.86</td>\n",
              "      <td>3904930410.00</td>\n",
              "      <td>2876499023.43</td>\n",
              "    </tr>\n",
              "    <tr>\n",
              "      <th>1</th>\n",
              "      <td>price</td>\n",
              "      <td>7700000.00</td>\n",
              "      <td>75000.00</td>\n",
              "      <td>540088.14</td>\n",
              "      <td>450000.00</td>\n",
              "      <td>367118.70</td>\n",
              "    </tr>\n",
              "    <tr>\n",
              "      <th>2</th>\n",
              "      <td>bedrooms</td>\n",
              "      <td>33.00</td>\n",
              "      <td>0.00</td>\n",
              "      <td>3.37</td>\n",
              "      <td>3.00</td>\n",
              "      <td>0.93</td>\n",
              "    </tr>\n",
              "    <tr>\n",
              "      <th>3</th>\n",
              "      <td>bathrooms</td>\n",
              "      <td>8.00</td>\n",
              "      <td>0.00</td>\n",
              "      <td>2.11</td>\n",
              "      <td>2.25</td>\n",
              "      <td>0.77</td>\n",
              "    </tr>\n",
              "    <tr>\n",
              "      <th>4</th>\n",
              "      <td>sqft_living</td>\n",
              "      <td>13540.00</td>\n",
              "      <td>290.00</td>\n",
              "      <td>2079.90</td>\n",
              "      <td>1910.00</td>\n",
              "      <td>918.42</td>\n",
              "    </tr>\n",
              "    <tr>\n",
              "      <th>5</th>\n",
              "      <td>sqft_lot</td>\n",
              "      <td>1651359.00</td>\n",
              "      <td>520.00</td>\n",
              "      <td>15106.97</td>\n",
              "      <td>7618.00</td>\n",
              "      <td>41419.55</td>\n",
              "    </tr>\n",
              "    <tr>\n",
              "      <th>6</th>\n",
              "      <td>floors</td>\n",
              "      <td>3.50</td>\n",
              "      <td>1.00</td>\n",
              "      <td>1.49</td>\n",
              "      <td>1.50</td>\n",
              "      <td>0.54</td>\n",
              "    </tr>\n",
              "    <tr>\n",
              "      <th>7</th>\n",
              "      <td>waterfront</td>\n",
              "      <td>1.00</td>\n",
              "      <td>0.00</td>\n",
              "      <td>0.01</td>\n",
              "      <td>0.00</td>\n",
              "      <td>0.09</td>\n",
              "    </tr>\n",
              "    <tr>\n",
              "      <th>8</th>\n",
              "      <td>view</td>\n",
              "      <td>4.00</td>\n",
              "      <td>0.00</td>\n",
              "      <td>0.23</td>\n",
              "      <td>0.00</td>\n",
              "      <td>0.77</td>\n",
              "    </tr>\n",
              "    <tr>\n",
              "      <th>9</th>\n",
              "      <td>condition</td>\n",
              "      <td>5.00</td>\n",
              "      <td>1.00</td>\n",
              "      <td>3.41</td>\n",
              "      <td>3.00</td>\n",
              "      <td>0.65</td>\n",
              "    </tr>\n",
              "    <tr>\n",
              "      <th>10</th>\n",
              "      <td>grade</td>\n",
              "      <td>13.00</td>\n",
              "      <td>1.00</td>\n",
              "      <td>7.66</td>\n",
              "      <td>7.00</td>\n",
              "      <td>1.18</td>\n",
              "    </tr>\n",
              "    <tr>\n",
              "      <th>11</th>\n",
              "      <td>sqft_above</td>\n",
              "      <td>9410.00</td>\n",
              "      <td>290.00</td>\n",
              "      <td>1788.39</td>\n",
              "      <td>1560.00</td>\n",
              "      <td>828.07</td>\n",
              "    </tr>\n",
              "    <tr>\n",
              "      <th>12</th>\n",
              "      <td>sqft_basement</td>\n",
              "      <td>4820.00</td>\n",
              "      <td>0.00</td>\n",
              "      <td>291.51</td>\n",
              "      <td>0.00</td>\n",
              "      <td>442.56</td>\n",
              "    </tr>\n",
              "    <tr>\n",
              "      <th>13</th>\n",
              "      <td>yr_built</td>\n",
              "      <td>2015.00</td>\n",
              "      <td>1900.00</td>\n",
              "      <td>1971.01</td>\n",
              "      <td>1975.00</td>\n",
              "      <td>29.37</td>\n",
              "    </tr>\n",
              "    <tr>\n",
              "      <th>14</th>\n",
              "      <td>yr_renovated</td>\n",
              "      <td>2015.00</td>\n",
              "      <td>0.00</td>\n",
              "      <td>84.40</td>\n",
              "      <td>0.00</td>\n",
              "      <td>401.67</td>\n",
              "    </tr>\n",
              "    <tr>\n",
              "      <th>15</th>\n",
              "      <td>zipcode</td>\n",
              "      <td>98199.00</td>\n",
              "      <td>98001.00</td>\n",
              "      <td>98077.94</td>\n",
              "      <td>98065.00</td>\n",
              "      <td>53.50</td>\n",
              "    </tr>\n",
              "    <tr>\n",
              "      <th>16</th>\n",
              "      <td>lat</td>\n",
              "      <td>47.78</td>\n",
              "      <td>47.16</td>\n",
              "      <td>47.56</td>\n",
              "      <td>47.57</td>\n",
              "      <td>0.14</td>\n",
              "    </tr>\n",
              "    <tr>\n",
              "      <th>17</th>\n",
              "      <td>long</td>\n",
              "      <td>-121.31</td>\n",
              "      <td>-122.52</td>\n",
              "      <td>-122.21</td>\n",
              "      <td>-122.23</td>\n",
              "      <td>0.14</td>\n",
              "    </tr>\n",
              "    <tr>\n",
              "      <th>18</th>\n",
              "      <td>sqft_living15</td>\n",
              "      <td>6210.00</td>\n",
              "      <td>399.00</td>\n",
              "      <td>1986.55</td>\n",
              "      <td>1840.00</td>\n",
              "      <td>685.38</td>\n",
              "    </tr>\n",
              "    <tr>\n",
              "      <th>19</th>\n",
              "      <td>sqft_lot15</td>\n",
              "      <td>871200.00</td>\n",
              "      <td>651.00</td>\n",
              "      <td>12768.46</td>\n",
              "      <td>7620.00</td>\n",
              "      <td>27303.55</td>\n",
              "    </tr>\n",
              "  </tbody>\n",
              "</table>\n",
              "</div>"
            ],
            "text/plain": [
              "       attributes        maximo  ...       mediana           std\n",
              "0              id 9900000190.00  ... 3904930410.00 2876499023.43\n",
              "1           price    7700000.00  ...     450000.00     367118.70\n",
              "2        bedrooms         33.00  ...          3.00          0.93\n",
              "3       bathrooms          8.00  ...          2.25          0.77\n",
              "4     sqft_living      13540.00  ...       1910.00        918.42\n",
              "5        sqft_lot    1651359.00  ...       7618.00      41419.55\n",
              "6          floors          3.50  ...          1.50          0.54\n",
              "7      waterfront          1.00  ...          0.00          0.09\n",
              "8            view          4.00  ...          0.00          0.77\n",
              "9       condition          5.00  ...          3.00          0.65\n",
              "10          grade         13.00  ...          7.00          1.18\n",
              "11     sqft_above       9410.00  ...       1560.00        828.07\n",
              "12  sqft_basement       4820.00  ...          0.00        442.56\n",
              "13       yr_built       2015.00  ...       1975.00         29.37\n",
              "14   yr_renovated       2015.00  ...          0.00        401.67\n",
              "15        zipcode      98199.00  ...      98065.00         53.50\n",
              "16            lat         47.78  ...         47.57          0.14\n",
              "17           long       -121.31  ...       -122.23          0.14\n",
              "18  sqft_living15       6210.00  ...       1840.00        685.38\n",
              "19     sqft_lot15     871200.00  ...       7620.00      27303.55\n",
              "\n",
              "[20 rows x 6 columns]"
            ]
          },
          "metadata": {
            "tags": []
          },
          "execution_count": 8
        }
      ]
    },
    {
      "cell_type": "markdown",
      "metadata": {
        "id": "vgAPvClD40KG"
      },
      "source": [
        "# 5 - Respondendo dúvidas"
      ]
    },
    {
      "cell_type": "markdown",
      "metadata": {
        "id": "h_5kjUQm5A31"
      },
      "source": [
        "## 5.1 - Criar uma nova coluna chamada 'dormitory_type'"
      ]
    },
    {
      "cell_type": "code",
      "metadata": {
        "colab": {
          "base_uri": "https://localhost:8080/",
          "height": 309
        },
        "id": "8EEbRIL93VGd",
        "outputId": "26532901-63e8-4feb-84d1-ab0666e57440"
      },
      "source": [
        "# Condições para criar a nova coluna:\n",
        "#  - Se o valor da coluna 'bedrooms' for igual a 1 => 'studio'\n",
        "#  - Se o valor da coluna 'bedrooms' for igual a 2 => 'apartament'\n",
        "#  - Se o valor da coluna 'bedrooms' for maior a 2 => 'house'\n",
        "\n",
        "data['dormitory_type'] = 'NaN'\n",
        "\n",
        "data['dormitory_type'] = data['bedrooms'].apply(lambda x: 'studio' if x == 1 else\n",
        "                                                          'apartament' if x == 2 else\n",
        "                                                          'house' )\n",
        "\n",
        "data.head()"
      ],
      "execution_count": 9,
      "outputs": [
        {
          "output_type": "execute_result",
          "data": {
            "text/html": [
              "<div>\n",
              "<style scoped>\n",
              "    .dataframe tbody tr th:only-of-type {\n",
              "        vertical-align: middle;\n",
              "    }\n",
              "\n",
              "    .dataframe tbody tr th {\n",
              "        vertical-align: top;\n",
              "    }\n",
              "\n",
              "    .dataframe thead th {\n",
              "        text-align: right;\n",
              "    }\n",
              "</style>\n",
              "<table border=\"1\" class=\"dataframe\">\n",
              "  <thead>\n",
              "    <tr style=\"text-align: right;\">\n",
              "      <th></th>\n",
              "      <th>id</th>\n",
              "      <th>date</th>\n",
              "      <th>price</th>\n",
              "      <th>bedrooms</th>\n",
              "      <th>bathrooms</th>\n",
              "      <th>sqft_living</th>\n",
              "      <th>sqft_lot</th>\n",
              "      <th>floors</th>\n",
              "      <th>waterfront</th>\n",
              "      <th>view</th>\n",
              "      <th>condition</th>\n",
              "      <th>grade</th>\n",
              "      <th>sqft_above</th>\n",
              "      <th>sqft_basement</th>\n",
              "      <th>yr_built</th>\n",
              "      <th>yr_renovated</th>\n",
              "      <th>zipcode</th>\n",
              "      <th>lat</th>\n",
              "      <th>long</th>\n",
              "      <th>sqft_living15</th>\n",
              "      <th>sqft_lot15</th>\n",
              "      <th>dormitory_type</th>\n",
              "    </tr>\n",
              "  </thead>\n",
              "  <tbody>\n",
              "    <tr>\n",
              "      <th>0</th>\n",
              "      <td>7129300520</td>\n",
              "      <td>2014-10-13</td>\n",
              "      <td>221900.00</td>\n",
              "      <td>3</td>\n",
              "      <td>1.00</td>\n",
              "      <td>1180</td>\n",
              "      <td>5650</td>\n",
              "      <td>1.00</td>\n",
              "      <td>0</td>\n",
              "      <td>0</td>\n",
              "      <td>3</td>\n",
              "      <td>7</td>\n",
              "      <td>1180</td>\n",
              "      <td>0</td>\n",
              "      <td>1955</td>\n",
              "      <td>0</td>\n",
              "      <td>98178</td>\n",
              "      <td>47.51</td>\n",
              "      <td>-122.26</td>\n",
              "      <td>1340</td>\n",
              "      <td>5650</td>\n",
              "      <td>house</td>\n",
              "    </tr>\n",
              "    <tr>\n",
              "      <th>1</th>\n",
              "      <td>6414100192</td>\n",
              "      <td>2014-12-09</td>\n",
              "      <td>538000.00</td>\n",
              "      <td>3</td>\n",
              "      <td>2.25</td>\n",
              "      <td>2570</td>\n",
              "      <td>7242</td>\n",
              "      <td>2.00</td>\n",
              "      <td>0</td>\n",
              "      <td>0</td>\n",
              "      <td>3</td>\n",
              "      <td>7</td>\n",
              "      <td>2170</td>\n",
              "      <td>400</td>\n",
              "      <td>1951</td>\n",
              "      <td>1991</td>\n",
              "      <td>98125</td>\n",
              "      <td>47.72</td>\n",
              "      <td>-122.32</td>\n",
              "      <td>1690</td>\n",
              "      <td>7639</td>\n",
              "      <td>house</td>\n",
              "    </tr>\n",
              "    <tr>\n",
              "      <th>2</th>\n",
              "      <td>5631500400</td>\n",
              "      <td>2015-02-25</td>\n",
              "      <td>180000.00</td>\n",
              "      <td>2</td>\n",
              "      <td>1.00</td>\n",
              "      <td>770</td>\n",
              "      <td>10000</td>\n",
              "      <td>1.00</td>\n",
              "      <td>0</td>\n",
              "      <td>0</td>\n",
              "      <td>3</td>\n",
              "      <td>6</td>\n",
              "      <td>770</td>\n",
              "      <td>0</td>\n",
              "      <td>1933</td>\n",
              "      <td>0</td>\n",
              "      <td>98028</td>\n",
              "      <td>47.74</td>\n",
              "      <td>-122.23</td>\n",
              "      <td>2720</td>\n",
              "      <td>8062</td>\n",
              "      <td>apartament</td>\n",
              "    </tr>\n",
              "    <tr>\n",
              "      <th>3</th>\n",
              "      <td>2487200875</td>\n",
              "      <td>2014-12-09</td>\n",
              "      <td>604000.00</td>\n",
              "      <td>4</td>\n",
              "      <td>3.00</td>\n",
              "      <td>1960</td>\n",
              "      <td>5000</td>\n",
              "      <td>1.00</td>\n",
              "      <td>0</td>\n",
              "      <td>0</td>\n",
              "      <td>5</td>\n",
              "      <td>7</td>\n",
              "      <td>1050</td>\n",
              "      <td>910</td>\n",
              "      <td>1965</td>\n",
              "      <td>0</td>\n",
              "      <td>98136</td>\n",
              "      <td>47.52</td>\n",
              "      <td>-122.39</td>\n",
              "      <td>1360</td>\n",
              "      <td>5000</td>\n",
              "      <td>house</td>\n",
              "    </tr>\n",
              "    <tr>\n",
              "      <th>4</th>\n",
              "      <td>1954400510</td>\n",
              "      <td>2015-02-18</td>\n",
              "      <td>510000.00</td>\n",
              "      <td>3</td>\n",
              "      <td>2.00</td>\n",
              "      <td>1680</td>\n",
              "      <td>8080</td>\n",
              "      <td>1.00</td>\n",
              "      <td>0</td>\n",
              "      <td>0</td>\n",
              "      <td>3</td>\n",
              "      <td>8</td>\n",
              "      <td>1680</td>\n",
              "      <td>0</td>\n",
              "      <td>1987</td>\n",
              "      <td>0</td>\n",
              "      <td>98074</td>\n",
              "      <td>47.62</td>\n",
              "      <td>-122.05</td>\n",
              "      <td>1800</td>\n",
              "      <td>7503</td>\n",
              "      <td>house</td>\n",
              "    </tr>\n",
              "  </tbody>\n",
              "</table>\n",
              "</div>"
            ],
            "text/plain": [
              "           id       date     price  ...  sqft_living15  sqft_lot15  dormitory_type\n",
              "0  7129300520 2014-10-13 221900.00  ...           1340        5650           house\n",
              "1  6414100192 2014-12-09 538000.00  ...           1690        7639           house\n",
              "2  5631500400 2015-02-25 180000.00  ...           2720        8062      apartament\n",
              "3  2487200875 2014-12-09 604000.00  ...           1360        5000           house\n",
              "4  1954400510 2015-02-18 510000.00  ...           1800        7503           house\n",
              "\n",
              "[5 rows x 22 columns]"
            ]
          },
          "metadata": {
            "tags": []
          },
          "execution_count": 9
        }
      ]
    },
    {
      "cell_type": "markdown",
      "metadata": {
        "id": "HfAMB_WE7jXW"
      },
      "source": [
        "## 5.2 - Definindo níveis de preço "
      ]
    },
    {
      "cell_type": "code",
      "metadata": {
        "id": "nbSZrt4_6gK0"
      },
      "source": [
        "# Os níveis podem ser:\n",
        "# 0 até 321.950       = 0\n",
        "# 321.950 até 450.000 = 1\n",
        "# 450.000 até 645.000 = 2\n",
        "# Acima de 645.000    = 3\n",
        "\n",
        "data['level'] = np.NaN\n",
        "\n",
        "data['level'] = data['price'].apply(lambda x: 0 if x < 321950 else\n",
        "                                    1 if x >= 321950 and x < 450000 else\n",
        "                                    2 if x >= 450000 and x < 645000 else\n",
        "                                    3)"
      ],
      "execution_count": 10,
      "outputs": []
    },
    {
      "cell_type": "markdown",
      "metadata": {
        "id": "F0y69NgH91vG"
      },
      "source": [
        "## 5.3 - Utilizando API para agregar informação de endereço"
      ]
    },
    {
      "cell_type": "code",
      "metadata": {
        "id": "bwkuGyBE9ad5"
      },
      "source": [
        "#geolocator = Nominatim(user_agent = 'geopiExercices')"
      ],
      "execution_count": 11,
      "outputs": []
    },
    {
      "cell_type": "code",
      "metadata": {
        "id": "FRYkkbE--WP_"
      },
      "source": [
        "#response = geolocator.reverse('47.51,-122.26')"
      ],
      "execution_count": 12,
      "outputs": []
    },
    {
      "cell_type": "code",
      "metadata": {
        "id": "ecP3hur--olc"
      },
      "source": [
        "#response.raw['address']"
      ],
      "execution_count": 13,
      "outputs": []
    },
    {
      "cell_type": "code",
      "metadata": {
        "id": "AlDSK6u0-umI"
      },
      "source": [
        ""
      ],
      "execution_count": 13,
      "outputs": []
    }
  ]
}