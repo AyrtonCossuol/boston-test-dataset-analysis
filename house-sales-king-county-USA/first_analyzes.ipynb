{
  "nbformat": 4,
  "nbformat_minor": 0,
  "metadata": {
    "colab": {
      "name": " first_analyzes.ipynb",
      "provenance": []
    },
    "kernelspec": {
      "name": "python3",
      "display_name": "Python 3"
    },
    "language_info": {
      "name": "python"
    }
  },
  "cells": [
    {
      "cell_type": "markdown",
      "metadata": {
        "id": "ezaNYd6Jcd97"
      },
      "source": [
        "#  **Desafio House Rocket**\n",
        " \n",
        "A ideia do desafio é poder comprar casas com preço baixo e fazer a revenda com os preços mais altos.\n",
        " \n",
        "Assim, encontrar bons negócios dentro do portfólio disponível, ou seja, encontrar casas com preço mais baixo, em ótimas localizações e que tenham um ótimo potencial de revenda por um preço mais alto."
      ]
    },
    {
      "cell_type": "markdown",
      "metadata": {
        "id": "403Z6356cfcw"
      },
      "source": [
        "Novas perguntas impostas:\n",
        "1. Qual o número de imóveis por ano de construção?\n",
        "2. Qual o menor número de quartos por ano de construção de imóveis?\n",
        "3. Qual o preço de compra mais alto por cada número de quartos?\n",
        "4. Qual a soma de todos os preços de compra por número de quartos?\n",
        "5. Qual a soma de todos os preços de compras por número de quartos e banheiros?\n",
        "6. Qual o tamanho médio das salas dos imóveis por ano de construção?\n",
        "7. Qual o tamanho mediano das salas dos imóveis por ano de construção?\n",
        "8. Qual o desvio padrão do tamanho das salas dos imóveis por ano de construção?\n",
        "9. Como é o crescimento médio de preços de compras dos imóveis, por ano, por dia e pela semana do ano?\n",
        "10. Eu gostaria de olhar no mapa e conseguir identificar as casas com o maior preço.\n"
      ]
    },
    {
      "cell_type": "code",
      "metadata": {
        "colab": {
          "base_uri": "https://localhost:8080/"
        },
        "id": "m1KjIHTobnn2",
        "outputId": "58278ebe-c4fd-4e97-9669-af5749872398"
      },
      "source": [
        "from google.colab import drive\n",
        "drive.mount('/content/drive')"
      ],
      "execution_count": 1,
      "outputs": [
        {
          "output_type": "stream",
          "text": [
            "Mounted at /content/drive\n"
          ],
          "name": "stdout"
        }
      ]
    },
    {
      "cell_type": "markdown",
      "metadata": {
        "id": "93g5oqjqgtaT"
      },
      "source": [
        "# 1 - Importação das bibliotecas"
      ]
    },
    {
      "cell_type": "code",
      "metadata": {
        "id": "BojV-RsqcSnh"
      },
      "source": [
        "import pandas as pd"
      ],
      "execution_count": 2,
      "outputs": []
    },
    {
      "cell_type": "markdown",
      "metadata": {
        "id": "upXCbbDohU7R"
      },
      "source": [
        "# 2 - Lendo a base de dados"
      ]
    },
    {
      "cell_type": "code",
      "metadata": {
        "colab": {
          "base_uri": "https://localhost:8080/",
          "height": 224
        },
        "id": "tUOGEnmigy5D",
        "outputId": "bf825c99-9d74-4965-ef29-6774260799f7"
      },
      "source": [
        "PATH = '/content/drive/MyDrive/Colab Notebooks/meigarom/base/kc_house_data.csv'\n",
        "data = pd.read_csv(PATH)\n",
        "data.head()"
      ],
      "execution_count": 3,
      "outputs": [
        {
          "output_type": "execute_result",
          "data": {
            "text/html": [
              "<div>\n",
              "<style scoped>\n",
              "    .dataframe tbody tr th:only-of-type {\n",
              "        vertical-align: middle;\n",
              "    }\n",
              "\n",
              "    .dataframe tbody tr th {\n",
              "        vertical-align: top;\n",
              "    }\n",
              "\n",
              "    .dataframe thead th {\n",
              "        text-align: right;\n",
              "    }\n",
              "</style>\n",
              "<table border=\"1\" class=\"dataframe\">\n",
              "  <thead>\n",
              "    <tr style=\"text-align: right;\">\n",
              "      <th></th>\n",
              "      <th>id</th>\n",
              "      <th>date</th>\n",
              "      <th>price</th>\n",
              "      <th>bedrooms</th>\n",
              "      <th>bathrooms</th>\n",
              "      <th>sqft_living</th>\n",
              "      <th>sqft_lot</th>\n",
              "      <th>floors</th>\n",
              "      <th>waterfront</th>\n",
              "      <th>view</th>\n",
              "      <th>condition</th>\n",
              "      <th>grade</th>\n",
              "      <th>sqft_above</th>\n",
              "      <th>sqft_basement</th>\n",
              "      <th>yr_built</th>\n",
              "      <th>yr_renovated</th>\n",
              "      <th>zipcode</th>\n",
              "      <th>lat</th>\n",
              "      <th>long</th>\n",
              "      <th>sqft_living15</th>\n",
              "      <th>sqft_lot15</th>\n",
              "    </tr>\n",
              "  </thead>\n",
              "  <tbody>\n",
              "    <tr>\n",
              "      <th>0</th>\n",
              "      <td>7129300520</td>\n",
              "      <td>20141013T000000</td>\n",
              "      <td>221900.0</td>\n",
              "      <td>3</td>\n",
              "      <td>1.00</td>\n",
              "      <td>1180</td>\n",
              "      <td>5650</td>\n",
              "      <td>1.0</td>\n",
              "      <td>0</td>\n",
              "      <td>0</td>\n",
              "      <td>3</td>\n",
              "      <td>7</td>\n",
              "      <td>1180</td>\n",
              "      <td>0</td>\n",
              "      <td>1955</td>\n",
              "      <td>0</td>\n",
              "      <td>98178</td>\n",
              "      <td>47.5112</td>\n",
              "      <td>-122.257</td>\n",
              "      <td>1340</td>\n",
              "      <td>5650</td>\n",
              "    </tr>\n",
              "    <tr>\n",
              "      <th>1</th>\n",
              "      <td>6414100192</td>\n",
              "      <td>20141209T000000</td>\n",
              "      <td>538000.0</td>\n",
              "      <td>3</td>\n",
              "      <td>2.25</td>\n",
              "      <td>2570</td>\n",
              "      <td>7242</td>\n",
              "      <td>2.0</td>\n",
              "      <td>0</td>\n",
              "      <td>0</td>\n",
              "      <td>3</td>\n",
              "      <td>7</td>\n",
              "      <td>2170</td>\n",
              "      <td>400</td>\n",
              "      <td>1951</td>\n",
              "      <td>1991</td>\n",
              "      <td>98125</td>\n",
              "      <td>47.7210</td>\n",
              "      <td>-122.319</td>\n",
              "      <td>1690</td>\n",
              "      <td>7639</td>\n",
              "    </tr>\n",
              "    <tr>\n",
              "      <th>2</th>\n",
              "      <td>5631500400</td>\n",
              "      <td>20150225T000000</td>\n",
              "      <td>180000.0</td>\n",
              "      <td>2</td>\n",
              "      <td>1.00</td>\n",
              "      <td>770</td>\n",
              "      <td>10000</td>\n",
              "      <td>1.0</td>\n",
              "      <td>0</td>\n",
              "      <td>0</td>\n",
              "      <td>3</td>\n",
              "      <td>6</td>\n",
              "      <td>770</td>\n",
              "      <td>0</td>\n",
              "      <td>1933</td>\n",
              "      <td>0</td>\n",
              "      <td>98028</td>\n",
              "      <td>47.7379</td>\n",
              "      <td>-122.233</td>\n",
              "      <td>2720</td>\n",
              "      <td>8062</td>\n",
              "    </tr>\n",
              "    <tr>\n",
              "      <th>3</th>\n",
              "      <td>2487200875</td>\n",
              "      <td>20141209T000000</td>\n",
              "      <td>604000.0</td>\n",
              "      <td>4</td>\n",
              "      <td>3.00</td>\n",
              "      <td>1960</td>\n",
              "      <td>5000</td>\n",
              "      <td>1.0</td>\n",
              "      <td>0</td>\n",
              "      <td>0</td>\n",
              "      <td>5</td>\n",
              "      <td>7</td>\n",
              "      <td>1050</td>\n",
              "      <td>910</td>\n",
              "      <td>1965</td>\n",
              "      <td>0</td>\n",
              "      <td>98136</td>\n",
              "      <td>47.5208</td>\n",
              "      <td>-122.393</td>\n",
              "      <td>1360</td>\n",
              "      <td>5000</td>\n",
              "    </tr>\n",
              "    <tr>\n",
              "      <th>4</th>\n",
              "      <td>1954400510</td>\n",
              "      <td>20150218T000000</td>\n",
              "      <td>510000.0</td>\n",
              "      <td>3</td>\n",
              "      <td>2.00</td>\n",
              "      <td>1680</td>\n",
              "      <td>8080</td>\n",
              "      <td>1.0</td>\n",
              "      <td>0</td>\n",
              "      <td>0</td>\n",
              "      <td>3</td>\n",
              "      <td>8</td>\n",
              "      <td>1680</td>\n",
              "      <td>0</td>\n",
              "      <td>1987</td>\n",
              "      <td>0</td>\n",
              "      <td>98074</td>\n",
              "      <td>47.6168</td>\n",
              "      <td>-122.045</td>\n",
              "      <td>1800</td>\n",
              "      <td>7503</td>\n",
              "    </tr>\n",
              "  </tbody>\n",
              "</table>\n",
              "</div>"
            ],
            "text/plain": [
              "           id             date     price  ...     long  sqft_living15  sqft_lot15\n",
              "0  7129300520  20141013T000000  221900.0  ... -122.257           1340        5650\n",
              "1  6414100192  20141209T000000  538000.0  ... -122.319           1690        7639\n",
              "2  5631500400  20150225T000000  180000.0  ... -122.233           2720        8062\n",
              "3  2487200875  20141209T000000  604000.0  ... -122.393           1360        5000\n",
              "4  1954400510  20150218T000000  510000.0  ... -122.045           1800        7503\n",
              "\n",
              "[5 rows x 21 columns]"
            ]
          },
          "metadata": {
            "tags": []
          },
          "execution_count": 3
        }
      ]
    },
    {
      "cell_type": "markdown",
      "metadata": {
        "id": "6i_n4eQUhcD6"
      },
      "source": [
        "# 3 - Respondendo as Perguntas"
      ]
    },
    {
      "cell_type": "markdown",
      "metadata": {
        "id": "rSRyAGm1hlIY"
      },
      "source": [
        "##  3.1- Quantos imóveis existem por número de quartos?"
      ]
    },
    {
      "cell_type": "code",
      "metadata": {
        "colab": {
          "base_uri": "https://localhost:8080/"
        },
        "id": "JanJo3RhhhUr",
        "outputId": "8d131f82-513b-4ec2-e2f6-eee63b5bf866"
      },
      "source": [
        "df_grouped = data[['id', 'bedrooms']].groupby('bedrooms')\n",
        "\n",
        "for bedrooms, frame in df_grouped:\n",
        "  print('Para {} quartos, existem {} imóveis'.format(bedrooms, frame.shape[0]))"
      ],
      "execution_count": 12,
      "outputs": [
        {
          "output_type": "stream",
          "text": [
            "Para 0 quartos, existem 13 imóveis\n",
            "Para 1 quartos, existem 199 imóveis\n",
            "Para 2 quartos, existem 2760 imóveis\n",
            "Para 3 quartos, existem 9824 imóveis\n",
            "Para 4 quartos, existem 6882 imóveis\n",
            "Para 5 quartos, existem 1601 imóveis\n",
            "Para 6 quartos, existem 272 imóveis\n",
            "Para 7 quartos, existem 38 imóveis\n",
            "Para 8 quartos, existem 13 imóveis\n",
            "Para 9 quartos, existem 6 imóveis\n",
            "Para 10 quartos, existem 3 imóveis\n",
            "Para 11 quartos, existem 1 imóveis\n",
            "Para 33 quartos, existem 1 imóveis\n"
          ],
          "name": "stdout"
        }
      ]
    },
    {
      "cell_type": "markdown",
      "metadata": {
        "id": "usM4M39eynSU"
      },
      "source": [
        "## 3.2 - Qual o número de imóveis por ano de construção?"
      ]
    },
    {
      "cell_type": "code",
      "metadata": {
        "id": "GlTFYlaTjLHp"
      },
      "source": [
        ""
      ],
      "execution_count": null,
      "outputs": []
    },
    {
      "cell_type": "markdown",
      "metadata": {
        "id": "XiAJ8jc0y2Wx"
      },
      "source": [
        "## 3.3 - Qual o menor número de quartos por ano de construção de imóveis?"
      ]
    },
    {
      "cell_type": "code",
      "metadata": {
        "id": "UtsYL1EMzGfO"
      },
      "source": [
        ""
      ],
      "execution_count": null,
      "outputs": []
    },
    {
      "cell_type": "markdown",
      "metadata": {
        "id": "h6tKZvSezG_w"
      },
      "source": [
        "## 3.4 - Qual o preço de compra mais alto por cada número de quartos?"
      ]
    },
    {
      "cell_type": "code",
      "metadata": {
        "id": "B8pqCmyQzM1e"
      },
      "source": [
        ""
      ],
      "execution_count": null,
      "outputs": []
    },
    {
      "cell_type": "markdown",
      "metadata": {
        "id": "EUaM0xfJzS_5"
      },
      "source": [
        "## 3.5 - Qual a soma de todos os preços de compra por número de quartos?"
      ]
    },
    {
      "cell_type": "code",
      "metadata": {
        "id": "PUbnXgrr0JOi"
      },
      "source": [
        ""
      ],
      "execution_count": null,
      "outputs": []
    },
    {
      "cell_type": "markdown",
      "metadata": {
        "id": "R_PT7NYW0J8w"
      },
      "source": [
        "## 3.6 - Qual a soma de todos os preços de compras por número de quartos e banheiros?"
      ]
    },
    {
      "cell_type": "code",
      "metadata": {
        "id": "S4PdeMBP0LPL"
      },
      "source": [
        ""
      ],
      "execution_count": null,
      "outputs": []
    },
    {
      "cell_type": "markdown",
      "metadata": {
        "id": "43XtUSqY0LmY"
      },
      "source": [
        "## 3.7 - Qual o tamanho médio das salas dos imóveis por ano de construção?"
      ]
    },
    {
      "cell_type": "code",
      "metadata": {
        "id": "whx9xUl80MrF"
      },
      "source": [
        ""
      ],
      "execution_count": null,
      "outputs": []
    },
    {
      "cell_type": "markdown",
      "metadata": {
        "id": "1gH5LheB0NJA"
      },
      "source": [
        "## 3.8 - Qual o tamanho mediano das salas dos imóveis por ano de construção?"
      ]
    },
    {
      "cell_type": "code",
      "metadata": {
        "id": "uzArnVJa0OY6"
      },
      "source": [
        ""
      ],
      "execution_count": null,
      "outputs": []
    },
    {
      "cell_type": "markdown",
      "metadata": {
        "id": "krRAe69l0aPw"
      },
      "source": [
        "## 3.9 - Qual o desvio padrão do tamanho das salas dos imóveis por ano de construção?"
      ]
    },
    {
      "cell_type": "code",
      "metadata": {
        "id": "WIqaFKNe0cOH"
      },
      "source": [
        ""
      ],
      "execution_count": null,
      "outputs": []
    },
    {
      "cell_type": "markdown",
      "metadata": {
        "id": "HbC1f6wJ0c_p"
      },
      "source": [
        "## 3.10 - Como é o crescimento médio de preços de compras dos imóveis, por ano, por dia e pela semana do ano?"
      ]
    },
    {
      "cell_type": "code",
      "metadata": {
        "id": "Vcy50eGh0ezW"
      },
      "source": [
        ""
      ],
      "execution_count": null,
      "outputs": []
    },
    {
      "cell_type": "markdown",
      "metadata": {
        "id": "dD1VoDtf0fDX"
      },
      "source": [
        "## 3.11 - Eu gostaria de olhar no mapa e conseguir identificar as casas com o maior preço."
      ]
    },
    {
      "cell_type": "code",
      "metadata": {
        "id": "LK7Au7XI0gZQ"
      },
      "source": [
        ""
      ],
      "execution_count": null,
      "outputs": []
    }
  ]
}