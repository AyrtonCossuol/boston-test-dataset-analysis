{
  "nbformat": 4,
  "nbformat_minor": 0,
  "metadata": {
    "colab": {
      "name": " first_analyzes.ipynb",
      "provenance": []
    },
    "kernelspec": {
      "name": "python3",
      "display_name": "Python 3"
    },
    "language_info": {
      "name": "python"
    }
  },
  "cells": [
    {
      "cell_type": "markdown",
      "metadata": {
        "id": "ezaNYd6Jcd97"
      },
      "source": [
        "#  **Desafio House Rocket**\n",
        " \n",
        "A ideia do desafio é poder comprar casas com preço baixo e fazer a revenda com os preços mais altos.\n",
        " \n",
        "Assim, encontrar bons negócios dentro do portfólio disponível, ou seja, encontrar casas com preço mais baixo, em ótimas localizações e que tenham um ótimo potencial de revenda por um preço mais alto."
      ]
    },
    {
      "cell_type": "markdown",
      "metadata": {
        "id": "403Z6356cfcw"
      },
      "source": [
        "Novas perguntas impostas:\n",
        "1. Qual o número de imóveis por ano de construção?\n",
        "2. Qual o menor número de quartos por ano de construção de imóveis?\n",
        "3. Qual o preço de compra mais alto por cada número de quartos?\n",
        "4. Qual a soma de todos os preços de compra por número de quartos?\n",
        "5. Qual a soma de todos os preços de compras por número de quartos e banheiros?\n",
        "6. Qual o tamanho médio das salas dos imóveis por ano de construção?\n",
        "7. Qual o tamanho mediano das salas dos imóveis por ano de construção?\n",
        "8. Qual o desvio padrão do tamanho das salas dos imóveis por ano de construção?\n",
        "9. Como é o crescimento médio de preços de compras dos imóveis, por ano, por dia e pela semana do ano?\n",
        "10. Eu gostaria de olhar no mapa e conseguir identificar as casas com o maior preço.\n"
      ]
    },
    {
      "cell_type": "code",
      "metadata": {
        "colab": {
          "base_uri": "https://localhost:8080/"
        },
        "id": "m1KjIHTobnn2",
        "outputId": "83d9f228-9080-49ab-e7bd-1f604bff38a7"
      },
      "source": [
        "from google.colab import drive\n",
        "drive.mount('/content/drive')"
      ],
      "execution_count": 1,
      "outputs": [
        {
          "output_type": "stream",
          "text": [
            "Mounted at /content/drive\n"
          ],
          "name": "stdout"
        }
      ]
    },
    {
      "cell_type": "markdown",
      "metadata": {
        "id": "93g5oqjqgtaT"
      },
      "source": [
        "# 1 - Importação das bibliotecas"
      ]
    },
    {
      "cell_type": "code",
      "metadata": {
        "id": "BojV-RsqcSnh"
      },
      "source": [
        "import pandas as pd\n",
        "\n",
        "import matplotlib.pyplot as plt\n",
        "from matplotlib import gridspec\n",
        "\n",
        "# Formatação para numeros em notaçao cientifica\n",
        "pd.set_option('display.float_format', lambda x: '%.3f' % x)"
      ],
      "execution_count": 38,
      "outputs": []
    },
    {
      "cell_type": "markdown",
      "metadata": {
        "id": "upXCbbDohU7R"
      },
      "source": [
        "# 2 - Lendo a base de dados"
      ]
    },
    {
      "cell_type": "code",
      "metadata": {
        "colab": {
          "base_uri": "https://localhost:8080/",
          "height": 224
        },
        "id": "tUOGEnmigy5D",
        "outputId": "f8bfdb1d-8acc-4e0e-e8a7-f0eae363281d"
      },
      "source": [
        "PATH = '/content/drive/MyDrive/Colab Notebooks/meigarom/base/kc_house_data.csv'\n",
        "data = pd.read_csv(PATH)\n",
        "data.head()"
      ],
      "execution_count": 3,
      "outputs": [
        {
          "output_type": "execute_result",
          "data": {
            "text/html": [
              "<div>\n",
              "<style scoped>\n",
              "    .dataframe tbody tr th:only-of-type {\n",
              "        vertical-align: middle;\n",
              "    }\n",
              "\n",
              "    .dataframe tbody tr th {\n",
              "        vertical-align: top;\n",
              "    }\n",
              "\n",
              "    .dataframe thead th {\n",
              "        text-align: right;\n",
              "    }\n",
              "</style>\n",
              "<table border=\"1\" class=\"dataframe\">\n",
              "  <thead>\n",
              "    <tr style=\"text-align: right;\">\n",
              "      <th></th>\n",
              "      <th>id</th>\n",
              "      <th>date</th>\n",
              "      <th>price</th>\n",
              "      <th>bedrooms</th>\n",
              "      <th>bathrooms</th>\n",
              "      <th>sqft_living</th>\n",
              "      <th>sqft_lot</th>\n",
              "      <th>floors</th>\n",
              "      <th>waterfront</th>\n",
              "      <th>view</th>\n",
              "      <th>condition</th>\n",
              "      <th>grade</th>\n",
              "      <th>sqft_above</th>\n",
              "      <th>sqft_basement</th>\n",
              "      <th>yr_built</th>\n",
              "      <th>yr_renovated</th>\n",
              "      <th>zipcode</th>\n",
              "      <th>lat</th>\n",
              "      <th>long</th>\n",
              "      <th>sqft_living15</th>\n",
              "      <th>sqft_lot15</th>\n",
              "    </tr>\n",
              "  </thead>\n",
              "  <tbody>\n",
              "    <tr>\n",
              "      <th>0</th>\n",
              "      <td>7129300520</td>\n",
              "      <td>20141013T000000</td>\n",
              "      <td>221900.0</td>\n",
              "      <td>3</td>\n",
              "      <td>1.00</td>\n",
              "      <td>1180</td>\n",
              "      <td>5650</td>\n",
              "      <td>1.0</td>\n",
              "      <td>0</td>\n",
              "      <td>0</td>\n",
              "      <td>3</td>\n",
              "      <td>7</td>\n",
              "      <td>1180</td>\n",
              "      <td>0</td>\n",
              "      <td>1955</td>\n",
              "      <td>0</td>\n",
              "      <td>98178</td>\n",
              "      <td>47.5112</td>\n",
              "      <td>-122.257</td>\n",
              "      <td>1340</td>\n",
              "      <td>5650</td>\n",
              "    </tr>\n",
              "    <tr>\n",
              "      <th>1</th>\n",
              "      <td>6414100192</td>\n",
              "      <td>20141209T000000</td>\n",
              "      <td>538000.0</td>\n",
              "      <td>3</td>\n",
              "      <td>2.25</td>\n",
              "      <td>2570</td>\n",
              "      <td>7242</td>\n",
              "      <td>2.0</td>\n",
              "      <td>0</td>\n",
              "      <td>0</td>\n",
              "      <td>3</td>\n",
              "      <td>7</td>\n",
              "      <td>2170</td>\n",
              "      <td>400</td>\n",
              "      <td>1951</td>\n",
              "      <td>1991</td>\n",
              "      <td>98125</td>\n",
              "      <td>47.7210</td>\n",
              "      <td>-122.319</td>\n",
              "      <td>1690</td>\n",
              "      <td>7639</td>\n",
              "    </tr>\n",
              "    <tr>\n",
              "      <th>2</th>\n",
              "      <td>5631500400</td>\n",
              "      <td>20150225T000000</td>\n",
              "      <td>180000.0</td>\n",
              "      <td>2</td>\n",
              "      <td>1.00</td>\n",
              "      <td>770</td>\n",
              "      <td>10000</td>\n",
              "      <td>1.0</td>\n",
              "      <td>0</td>\n",
              "      <td>0</td>\n",
              "      <td>3</td>\n",
              "      <td>6</td>\n",
              "      <td>770</td>\n",
              "      <td>0</td>\n",
              "      <td>1933</td>\n",
              "      <td>0</td>\n",
              "      <td>98028</td>\n",
              "      <td>47.7379</td>\n",
              "      <td>-122.233</td>\n",
              "      <td>2720</td>\n",
              "      <td>8062</td>\n",
              "    </tr>\n",
              "    <tr>\n",
              "      <th>3</th>\n",
              "      <td>2487200875</td>\n",
              "      <td>20141209T000000</td>\n",
              "      <td>604000.0</td>\n",
              "      <td>4</td>\n",
              "      <td>3.00</td>\n",
              "      <td>1960</td>\n",
              "      <td>5000</td>\n",
              "      <td>1.0</td>\n",
              "      <td>0</td>\n",
              "      <td>0</td>\n",
              "      <td>5</td>\n",
              "      <td>7</td>\n",
              "      <td>1050</td>\n",
              "      <td>910</td>\n",
              "      <td>1965</td>\n",
              "      <td>0</td>\n",
              "      <td>98136</td>\n",
              "      <td>47.5208</td>\n",
              "      <td>-122.393</td>\n",
              "      <td>1360</td>\n",
              "      <td>5000</td>\n",
              "    </tr>\n",
              "    <tr>\n",
              "      <th>4</th>\n",
              "      <td>1954400510</td>\n",
              "      <td>20150218T000000</td>\n",
              "      <td>510000.0</td>\n",
              "      <td>3</td>\n",
              "      <td>2.00</td>\n",
              "      <td>1680</td>\n",
              "      <td>8080</td>\n",
              "      <td>1.0</td>\n",
              "      <td>0</td>\n",
              "      <td>0</td>\n",
              "      <td>3</td>\n",
              "      <td>8</td>\n",
              "      <td>1680</td>\n",
              "      <td>0</td>\n",
              "      <td>1987</td>\n",
              "      <td>0</td>\n",
              "      <td>98074</td>\n",
              "      <td>47.6168</td>\n",
              "      <td>-122.045</td>\n",
              "      <td>1800</td>\n",
              "      <td>7503</td>\n",
              "    </tr>\n",
              "  </tbody>\n",
              "</table>\n",
              "</div>"
            ],
            "text/plain": [
              "           id             date     price  ...     long  sqft_living15  sqft_lot15\n",
              "0  7129300520  20141013T000000  221900.0  ... -122.257           1340        5650\n",
              "1  6414100192  20141209T000000  538000.0  ... -122.319           1690        7639\n",
              "2  5631500400  20150225T000000  180000.0  ... -122.233           2720        8062\n",
              "3  2487200875  20141209T000000  604000.0  ... -122.393           1360        5000\n",
              "4  1954400510  20150218T000000  510000.0  ... -122.045           1800        7503\n",
              "\n",
              "[5 rows x 21 columns]"
            ]
          },
          "metadata": {
            "tags": []
          },
          "execution_count": 3
        }
      ]
    },
    {
      "cell_type": "markdown",
      "metadata": {
        "id": "6i_n4eQUhcD6"
      },
      "source": [
        "# 3 - Respondendo as Perguntas"
      ]
    },
    {
      "cell_type": "markdown",
      "metadata": {
        "id": "rSRyAGm1hlIY"
      },
      "source": [
        "##  3.1- Quantos imóveis existem por número de quartos?"
      ]
    },
    {
      "cell_type": "code",
      "metadata": {
        "colab": {
          "base_uri": "https://localhost:8080/"
        },
        "id": "JanJo3RhhhUr",
        "outputId": "41bcd7cb-0cbf-427a-df9d-ce7ee4e16881"
      },
      "source": [
        "df_grouped = data[['id', 'bedrooms']].groupby('bedrooms')\n",
        "\n",
        "for bedrooms, frame in df_grouped:\n",
        "  print('Para {} quartos, existem {} imóveis'.format(bedrooms, frame.shape[0]))"
      ],
      "execution_count": 4,
      "outputs": [
        {
          "output_type": "stream",
          "text": [
            "Para 0 quartos, existem 13 imóveis\n",
            "Para 1 quartos, existem 199 imóveis\n",
            "Para 2 quartos, existem 2760 imóveis\n",
            "Para 3 quartos, existem 9824 imóveis\n",
            "Para 4 quartos, existem 6882 imóveis\n",
            "Para 5 quartos, existem 1601 imóveis\n",
            "Para 6 quartos, existem 272 imóveis\n",
            "Para 7 quartos, existem 38 imóveis\n",
            "Para 8 quartos, existem 13 imóveis\n",
            "Para 9 quartos, existem 6 imóveis\n",
            "Para 10 quartos, existem 3 imóveis\n",
            "Para 11 quartos, existem 1 imóveis\n",
            "Para 33 quartos, existem 1 imóveis\n"
          ],
          "name": "stdout"
        }
      ]
    },
    {
      "cell_type": "markdown",
      "metadata": {
        "id": "usM4M39eynSU"
      },
      "source": [
        "## 3.2 - Qual o número de imóveis por ano de construção?"
      ]
    },
    {
      "cell_type": "code",
      "metadata": {
        "colab": {
          "base_uri": "https://localhost:8080/",
          "height": 450
        },
        "id": "GlTFYlaTjLHp",
        "outputId": "dfaab945-45b3-48cd-eb45-533ada15ef53"
      },
      "source": [
        "data[['id', 'yr_built']].groupby('yr_built').count()"
      ],
      "execution_count": 7,
      "outputs": [
        {
          "output_type": "execute_result",
          "data": {
            "text/html": [
              "<div>\n",
              "<style scoped>\n",
              "    .dataframe tbody tr th:only-of-type {\n",
              "        vertical-align: middle;\n",
              "    }\n",
              "\n",
              "    .dataframe tbody tr th {\n",
              "        vertical-align: top;\n",
              "    }\n",
              "\n",
              "    .dataframe thead th {\n",
              "        text-align: right;\n",
              "    }\n",
              "</style>\n",
              "<table border=\"1\" class=\"dataframe\">\n",
              "  <thead>\n",
              "    <tr style=\"text-align: right;\">\n",
              "      <th></th>\n",
              "      <th>id</th>\n",
              "    </tr>\n",
              "    <tr>\n",
              "      <th>yr_built</th>\n",
              "      <th></th>\n",
              "    </tr>\n",
              "  </thead>\n",
              "  <tbody>\n",
              "    <tr>\n",
              "      <th>1900</th>\n",
              "      <td>87</td>\n",
              "    </tr>\n",
              "    <tr>\n",
              "      <th>1901</th>\n",
              "      <td>29</td>\n",
              "    </tr>\n",
              "    <tr>\n",
              "      <th>1902</th>\n",
              "      <td>27</td>\n",
              "    </tr>\n",
              "    <tr>\n",
              "      <th>1903</th>\n",
              "      <td>46</td>\n",
              "    </tr>\n",
              "    <tr>\n",
              "      <th>1904</th>\n",
              "      <td>45</td>\n",
              "    </tr>\n",
              "    <tr>\n",
              "      <th>...</th>\n",
              "      <td>...</td>\n",
              "    </tr>\n",
              "    <tr>\n",
              "      <th>2011</th>\n",
              "      <td>130</td>\n",
              "    </tr>\n",
              "    <tr>\n",
              "      <th>2012</th>\n",
              "      <td>170</td>\n",
              "    </tr>\n",
              "    <tr>\n",
              "      <th>2013</th>\n",
              "      <td>201</td>\n",
              "    </tr>\n",
              "    <tr>\n",
              "      <th>2014</th>\n",
              "      <td>559</td>\n",
              "    </tr>\n",
              "    <tr>\n",
              "      <th>2015</th>\n",
              "      <td>38</td>\n",
              "    </tr>\n",
              "  </tbody>\n",
              "</table>\n",
              "<p>116 rows × 1 columns</p>\n",
              "</div>"
            ],
            "text/plain": [
              "           id\n",
              "yr_built     \n",
              "1900       87\n",
              "1901       29\n",
              "1902       27\n",
              "1903       46\n",
              "1904       45\n",
              "...       ...\n",
              "2011      130\n",
              "2012      170\n",
              "2013      201\n",
              "2014      559\n",
              "2015       38\n",
              "\n",
              "[116 rows x 1 columns]"
            ]
          },
          "metadata": {
            "tags": []
          },
          "execution_count": 7
        }
      ]
    },
    {
      "cell_type": "markdown",
      "metadata": {
        "id": "XiAJ8jc0y2Wx"
      },
      "source": [
        "## 3.3 - Qual o menor número de quartos por ano de construção de imóveis?"
      ]
    },
    {
      "cell_type": "code",
      "metadata": {
        "colab": {
          "base_uri": "https://localhost:8080/",
          "height": 450
        },
        "id": "UtsYL1EMzGfO",
        "outputId": "7ea9bf56-9b90-41f3-eb45-4698b719ff72"
      },
      "source": [
        "data[['bedrooms', 'yr_built']].groupby('yr_built').min()"
      ],
      "execution_count": 8,
      "outputs": [
        {
          "output_type": "execute_result",
          "data": {
            "text/html": [
              "<div>\n",
              "<style scoped>\n",
              "    .dataframe tbody tr th:only-of-type {\n",
              "        vertical-align: middle;\n",
              "    }\n",
              "\n",
              "    .dataframe tbody tr th {\n",
              "        vertical-align: top;\n",
              "    }\n",
              "\n",
              "    .dataframe thead th {\n",
              "        text-align: right;\n",
              "    }\n",
              "</style>\n",
              "<table border=\"1\" class=\"dataframe\">\n",
              "  <thead>\n",
              "    <tr style=\"text-align: right;\">\n",
              "      <th></th>\n",
              "      <th>bedrooms</th>\n",
              "    </tr>\n",
              "    <tr>\n",
              "      <th>yr_built</th>\n",
              "      <th></th>\n",
              "    </tr>\n",
              "  </thead>\n",
              "  <tbody>\n",
              "    <tr>\n",
              "      <th>1900</th>\n",
              "      <td>1</td>\n",
              "    </tr>\n",
              "    <tr>\n",
              "      <th>1901</th>\n",
              "      <td>2</td>\n",
              "    </tr>\n",
              "    <tr>\n",
              "      <th>1902</th>\n",
              "      <td>2</td>\n",
              "    </tr>\n",
              "    <tr>\n",
              "      <th>1903</th>\n",
              "      <td>1</td>\n",
              "    </tr>\n",
              "    <tr>\n",
              "      <th>1904</th>\n",
              "      <td>2</td>\n",
              "    </tr>\n",
              "    <tr>\n",
              "      <th>...</th>\n",
              "      <td>...</td>\n",
              "    </tr>\n",
              "    <tr>\n",
              "      <th>2011</th>\n",
              "      <td>1</td>\n",
              "    </tr>\n",
              "    <tr>\n",
              "      <th>2012</th>\n",
              "      <td>2</td>\n",
              "    </tr>\n",
              "    <tr>\n",
              "      <th>2013</th>\n",
              "      <td>2</td>\n",
              "    </tr>\n",
              "    <tr>\n",
              "      <th>2014</th>\n",
              "      <td>1</td>\n",
              "    </tr>\n",
              "    <tr>\n",
              "      <th>2015</th>\n",
              "      <td>1</td>\n",
              "    </tr>\n",
              "  </tbody>\n",
              "</table>\n",
              "<p>116 rows × 1 columns</p>\n",
              "</div>"
            ],
            "text/plain": [
              "          bedrooms\n",
              "yr_built          \n",
              "1900             1\n",
              "1901             2\n",
              "1902             2\n",
              "1903             1\n",
              "1904             2\n",
              "...            ...\n",
              "2011             1\n",
              "2012             2\n",
              "2013             2\n",
              "2014             1\n",
              "2015             1\n",
              "\n",
              "[116 rows x 1 columns]"
            ]
          },
          "metadata": {
            "tags": []
          },
          "execution_count": 8
        }
      ]
    },
    {
      "cell_type": "markdown",
      "metadata": {
        "id": "h6tKZvSezG_w"
      },
      "source": [
        "## 3.4 - Qual o preço de compra mais alto por cada número de quartos?"
      ]
    },
    {
      "cell_type": "code",
      "metadata": {
        "colab": {
          "base_uri": "https://localhost:8080/",
          "height": 483
        },
        "id": "B8pqCmyQzM1e",
        "outputId": "48ee7f80-c995-4f82-9af0-60f41e98c67a"
      },
      "source": [
        "data[['price', 'bedrooms']].groupby('bedrooms').max()"
      ],
      "execution_count": 9,
      "outputs": [
        {
          "output_type": "execute_result",
          "data": {
            "text/html": [
              "<div>\n",
              "<style scoped>\n",
              "    .dataframe tbody tr th:only-of-type {\n",
              "        vertical-align: middle;\n",
              "    }\n",
              "\n",
              "    .dataframe tbody tr th {\n",
              "        vertical-align: top;\n",
              "    }\n",
              "\n",
              "    .dataframe thead th {\n",
              "        text-align: right;\n",
              "    }\n",
              "</style>\n",
              "<table border=\"1\" class=\"dataframe\">\n",
              "  <thead>\n",
              "    <tr style=\"text-align: right;\">\n",
              "      <th></th>\n",
              "      <th>price</th>\n",
              "    </tr>\n",
              "    <tr>\n",
              "      <th>bedrooms</th>\n",
              "      <th></th>\n",
              "    </tr>\n",
              "  </thead>\n",
              "  <tbody>\n",
              "    <tr>\n",
              "      <th>0</th>\n",
              "      <td>1295650.0</td>\n",
              "    </tr>\n",
              "    <tr>\n",
              "      <th>1</th>\n",
              "      <td>1247000.0</td>\n",
              "    </tr>\n",
              "    <tr>\n",
              "      <th>2</th>\n",
              "      <td>3278000.0</td>\n",
              "    </tr>\n",
              "    <tr>\n",
              "      <th>3</th>\n",
              "      <td>3800000.0</td>\n",
              "    </tr>\n",
              "    <tr>\n",
              "      <th>4</th>\n",
              "      <td>4489000.0</td>\n",
              "    </tr>\n",
              "    <tr>\n",
              "      <th>5</th>\n",
              "      <td>7062500.0</td>\n",
              "    </tr>\n",
              "    <tr>\n",
              "      <th>6</th>\n",
              "      <td>7700000.0</td>\n",
              "    </tr>\n",
              "    <tr>\n",
              "      <th>7</th>\n",
              "      <td>3200000.0</td>\n",
              "    </tr>\n",
              "    <tr>\n",
              "      <th>8</th>\n",
              "      <td>3300000.0</td>\n",
              "    </tr>\n",
              "    <tr>\n",
              "      <th>9</th>\n",
              "      <td>1400000.0</td>\n",
              "    </tr>\n",
              "    <tr>\n",
              "      <th>10</th>\n",
              "      <td>1148000.0</td>\n",
              "    </tr>\n",
              "    <tr>\n",
              "      <th>11</th>\n",
              "      <td>520000.0</td>\n",
              "    </tr>\n",
              "    <tr>\n",
              "      <th>33</th>\n",
              "      <td>640000.0</td>\n",
              "    </tr>\n",
              "  </tbody>\n",
              "</table>\n",
              "</div>"
            ],
            "text/plain": [
              "              price\n",
              "bedrooms           \n",
              "0         1295650.0\n",
              "1         1247000.0\n",
              "2         3278000.0\n",
              "3         3800000.0\n",
              "4         4489000.0\n",
              "5         7062500.0\n",
              "6         7700000.0\n",
              "7         3200000.0\n",
              "8         3300000.0\n",
              "9         1400000.0\n",
              "10        1148000.0\n",
              "11         520000.0\n",
              "33         640000.0"
            ]
          },
          "metadata": {
            "tags": []
          },
          "execution_count": 9
        }
      ]
    },
    {
      "cell_type": "markdown",
      "metadata": {
        "id": "EUaM0xfJzS_5"
      },
      "source": [
        "## 3.5 - Qual a soma de todos os preços de compra por número de quartos?"
      ]
    },
    {
      "cell_type": "code",
      "metadata": {
        "colab": {
          "base_uri": "https://localhost:8080/",
          "height": 483
        },
        "id": "PUbnXgrr0JOi",
        "outputId": "5df80bef-b274-411d-c34f-8a90b5162c0c"
      },
      "source": [
        "data[['price', 'bedrooms']].groupby('bedrooms').sum()"
      ],
      "execution_count": 12,
      "outputs": [
        {
          "output_type": "execute_result",
          "data": {
            "text/html": [
              "<div>\n",
              "<style scoped>\n",
              "    .dataframe tbody tr th:only-of-type {\n",
              "        vertical-align: middle;\n",
              "    }\n",
              "\n",
              "    .dataframe tbody tr th {\n",
              "        vertical-align: top;\n",
              "    }\n",
              "\n",
              "    .dataframe thead th {\n",
              "        text-align: right;\n",
              "    }\n",
              "</style>\n",
              "<table border=\"1\" class=\"dataframe\">\n",
              "  <thead>\n",
              "    <tr style=\"text-align: right;\">\n",
              "      <th></th>\n",
              "      <th>price</th>\n",
              "    </tr>\n",
              "    <tr>\n",
              "      <th>bedrooms</th>\n",
              "      <th></th>\n",
              "    </tr>\n",
              "  </thead>\n",
              "  <tbody>\n",
              "    <tr>\n",
              "      <th>0</th>\n",
              "      <td>5323550.000</td>\n",
              "    </tr>\n",
              "    <tr>\n",
              "      <th>1</th>\n",
              "      <td>63210934.000</td>\n",
              "    </tr>\n",
              "    <tr>\n",
              "      <th>2</th>\n",
              "      <td>1107788602.000</td>\n",
              "    </tr>\n",
              "    <tr>\n",
              "      <th>3</th>\n",
              "      <td>4580263939.000</td>\n",
              "    </tr>\n",
              "    <tr>\n",
              "      <th>4</th>\n",
              "      <td>4372957028.000</td>\n",
              "    </tr>\n",
              "    <tr>\n",
              "      <th>5</th>\n",
              "      <td>1259346326.000</td>\n",
              "    </tr>\n",
              "    <tr>\n",
              "      <th>6</th>\n",
              "      <td>224541613.000</td>\n",
              "    </tr>\n",
              "    <tr>\n",
              "      <th>7</th>\n",
              "      <td>36145017.000</td>\n",
              "    </tr>\n",
              "    <tr>\n",
              "      <th>8</th>\n",
              "      <td>14366000.000</td>\n",
              "    </tr>\n",
              "    <tr>\n",
              "      <th>9</th>\n",
              "      <td>5363999.000</td>\n",
              "    </tr>\n",
              "    <tr>\n",
              "      <th>10</th>\n",
              "      <td>2458000.000</td>\n",
              "    </tr>\n",
              "    <tr>\n",
              "      <th>11</th>\n",
              "      <td>520000.000</td>\n",
              "    </tr>\n",
              "    <tr>\n",
              "      <th>33</th>\n",
              "      <td>640000.000</td>\n",
              "    </tr>\n",
              "  </tbody>\n",
              "</table>\n",
              "</div>"
            ],
            "text/plain": [
              "                  price\n",
              "bedrooms               \n",
              "0           5323550.000\n",
              "1          63210934.000\n",
              "2        1107788602.000\n",
              "3        4580263939.000\n",
              "4        4372957028.000\n",
              "5        1259346326.000\n",
              "6         224541613.000\n",
              "7          36145017.000\n",
              "8          14366000.000\n",
              "9           5363999.000\n",
              "10          2458000.000\n",
              "11           520000.000\n",
              "33           640000.000"
            ]
          },
          "metadata": {
            "tags": []
          },
          "execution_count": 12
        }
      ]
    },
    {
      "cell_type": "markdown",
      "metadata": {
        "id": "R_PT7NYW0J8w"
      },
      "source": [
        "## 3.6 - Qual a soma de todos os preços de compras por número de quartos e banheiros?"
      ]
    },
    {
      "cell_type": "code",
      "metadata": {
        "colab": {
          "base_uri": "https://localhost:8080/",
          "height": 450
        },
        "id": "S4PdeMBP0LPL",
        "outputId": "85849c49-ad98-4f7c-b71f-d7d0587767cb"
      },
      "source": [
        "data[['price', 'bedrooms', 'bathrooms']].groupby(['bedrooms', 'bathrooms']).sum()"
      ],
      "execution_count": 14,
      "outputs": [
        {
          "output_type": "execute_result",
          "data": {
            "text/html": [
              "<div>\n",
              "<style scoped>\n",
              "    .dataframe tbody tr th:only-of-type {\n",
              "        vertical-align: middle;\n",
              "    }\n",
              "\n",
              "    .dataframe tbody tr th {\n",
              "        vertical-align: top;\n",
              "    }\n",
              "\n",
              "    .dataframe thead th {\n",
              "        text-align: right;\n",
              "    }\n",
              "</style>\n",
              "<table border=\"1\" class=\"dataframe\">\n",
              "  <thead>\n",
              "    <tr style=\"text-align: right;\">\n",
              "      <th></th>\n",
              "      <th></th>\n",
              "      <th>price</th>\n",
              "    </tr>\n",
              "    <tr>\n",
              "      <th>bedrooms</th>\n",
              "      <th>bathrooms</th>\n",
              "      <th></th>\n",
              "    </tr>\n",
              "  </thead>\n",
              "  <tbody>\n",
              "    <tr>\n",
              "      <th rowspan=\"5\" valign=\"top\">0</th>\n",
              "      <th>0.000</th>\n",
              "      <td>3642600.000</td>\n",
              "    </tr>\n",
              "    <tr>\n",
              "      <th>0.750</th>\n",
              "      <td>265000.000</td>\n",
              "    </tr>\n",
              "    <tr>\n",
              "      <th>1.000</th>\n",
              "      <td>228000.000</td>\n",
              "    </tr>\n",
              "    <tr>\n",
              "      <th>1.500</th>\n",
              "      <td>288000.000</td>\n",
              "    </tr>\n",
              "    <tr>\n",
              "      <th>2.500</th>\n",
              "      <td>899950.000</td>\n",
              "    </tr>\n",
              "    <tr>\n",
              "      <th>...</th>\n",
              "      <th>...</th>\n",
              "      <td>...</td>\n",
              "    </tr>\n",
              "    <tr>\n",
              "      <th rowspan=\"3\" valign=\"top\">10</th>\n",
              "      <th>2.000</th>\n",
              "      <td>650000.000</td>\n",
              "    </tr>\n",
              "    <tr>\n",
              "      <th>3.000</th>\n",
              "      <td>660000.000</td>\n",
              "    </tr>\n",
              "    <tr>\n",
              "      <th>5.250</th>\n",
              "      <td>1148000.000</td>\n",
              "    </tr>\n",
              "    <tr>\n",
              "      <th>11</th>\n",
              "      <th>3.000</th>\n",
              "      <td>520000.000</td>\n",
              "    </tr>\n",
              "    <tr>\n",
              "      <th>33</th>\n",
              "      <th>1.750</th>\n",
              "      <td>640000.000</td>\n",
              "    </tr>\n",
              "  </tbody>\n",
              "</table>\n",
              "<p>144 rows × 1 columns</p>\n",
              "</div>"
            ],
            "text/plain": [
              "                         price\n",
              "bedrooms bathrooms            \n",
              "0        0.000     3642600.000\n",
              "         0.750      265000.000\n",
              "         1.000      228000.000\n",
              "         1.500      288000.000\n",
              "         2.500      899950.000\n",
              "...                        ...\n",
              "10       2.000      650000.000\n",
              "         3.000      660000.000\n",
              "         5.250     1148000.000\n",
              "11       3.000      520000.000\n",
              "33       1.750      640000.000\n",
              "\n",
              "[144 rows x 1 columns]"
            ]
          },
          "metadata": {
            "tags": []
          },
          "execution_count": 14
        }
      ]
    },
    {
      "cell_type": "markdown",
      "metadata": {
        "id": "43XtUSqY0LmY"
      },
      "source": [
        "## 3.7 - Qual o tamanho médio das salas dos imóveis por ano de construção?"
      ]
    },
    {
      "cell_type": "code",
      "metadata": {
        "colab": {
          "base_uri": "https://localhost:8080/",
          "height": 450
        },
        "id": "whx9xUl80MrF",
        "outputId": "0ab050cd-1a44-499b-89f5-0ee31f145952"
      },
      "source": [
        "data[['sqft_living', 'yr_built']].groupby('yr_built').mean()"
      ],
      "execution_count": 17,
      "outputs": [
        {
          "output_type": "execute_result",
          "data": {
            "text/html": [
              "<div>\n",
              "<style scoped>\n",
              "    .dataframe tbody tr th:only-of-type {\n",
              "        vertical-align: middle;\n",
              "    }\n",
              "\n",
              "    .dataframe tbody tr th {\n",
              "        vertical-align: top;\n",
              "    }\n",
              "\n",
              "    .dataframe thead th {\n",
              "        text-align: right;\n",
              "    }\n",
              "</style>\n",
              "<table border=\"1\" class=\"dataframe\">\n",
              "  <thead>\n",
              "    <tr style=\"text-align: right;\">\n",
              "      <th></th>\n",
              "      <th>sqft_living</th>\n",
              "    </tr>\n",
              "    <tr>\n",
              "      <th>yr_built</th>\n",
              "      <th></th>\n",
              "    </tr>\n",
              "  </thead>\n",
              "  <tbody>\n",
              "    <tr>\n",
              "      <th>1900</th>\n",
              "      <td>1732.011</td>\n",
              "    </tr>\n",
              "    <tr>\n",
              "      <th>1901</th>\n",
              "      <td>1763.621</td>\n",
              "    </tr>\n",
              "    <tr>\n",
              "      <th>1902</th>\n",
              "      <td>1919.630</td>\n",
              "    </tr>\n",
              "    <tr>\n",
              "      <th>1903</th>\n",
              "      <td>1507.739</td>\n",
              "    </tr>\n",
              "    <tr>\n",
              "      <th>1904</th>\n",
              "      <td>1603.178</td>\n",
              "    </tr>\n",
              "    <tr>\n",
              "      <th>...</th>\n",
              "      <td>...</td>\n",
              "    </tr>\n",
              "    <tr>\n",
              "      <th>2011</th>\n",
              "      <td>2313.685</td>\n",
              "    </tr>\n",
              "    <tr>\n",
              "      <th>2012</th>\n",
              "      <td>2378.741</td>\n",
              "    </tr>\n",
              "    <tr>\n",
              "      <th>2013</th>\n",
              "      <td>2636.592</td>\n",
              "    </tr>\n",
              "    <tr>\n",
              "      <th>2014</th>\n",
              "      <td>2615.390</td>\n",
              "    </tr>\n",
              "    <tr>\n",
              "      <th>2015</th>\n",
              "      <td>2596.316</td>\n",
              "    </tr>\n",
              "  </tbody>\n",
              "</table>\n",
              "<p>116 rows × 1 columns</p>\n",
              "</div>"
            ],
            "text/plain": [
              "          sqft_living\n",
              "yr_built             \n",
              "1900         1732.011\n",
              "1901         1763.621\n",
              "1902         1919.630\n",
              "1903         1507.739\n",
              "1904         1603.178\n",
              "...               ...\n",
              "2011         2313.685\n",
              "2012         2378.741\n",
              "2013         2636.592\n",
              "2014         2615.390\n",
              "2015         2596.316\n",
              "\n",
              "[116 rows x 1 columns]"
            ]
          },
          "metadata": {
            "tags": []
          },
          "execution_count": 17
        }
      ]
    },
    {
      "cell_type": "markdown",
      "metadata": {
        "id": "1gH5LheB0NJA"
      },
      "source": [
        "## 3.8 - Qual o tamanho mediano das salas dos imóveis por ano de construção?"
      ]
    },
    {
      "cell_type": "code",
      "metadata": {
        "colab": {
          "base_uri": "https://localhost:8080/",
          "height": 450
        },
        "id": "uzArnVJa0OY6",
        "outputId": "1d91d6fa-f310-4a96-a012-f5ad1bc17838"
      },
      "source": [
        "data[['sqft_living', 'yr_built']].groupby('yr_built').median()"
      ],
      "execution_count": 19,
      "outputs": [
        {
          "output_type": "execute_result",
          "data": {
            "text/html": [
              "<div>\n",
              "<style scoped>\n",
              "    .dataframe tbody tr th:only-of-type {\n",
              "        vertical-align: middle;\n",
              "    }\n",
              "\n",
              "    .dataframe tbody tr th {\n",
              "        vertical-align: top;\n",
              "    }\n",
              "\n",
              "    .dataframe thead th {\n",
              "        text-align: right;\n",
              "    }\n",
              "</style>\n",
              "<table border=\"1\" class=\"dataframe\">\n",
              "  <thead>\n",
              "    <tr style=\"text-align: right;\">\n",
              "      <th></th>\n",
              "      <th>sqft_living</th>\n",
              "    </tr>\n",
              "    <tr>\n",
              "      <th>yr_built</th>\n",
              "      <th></th>\n",
              "    </tr>\n",
              "  </thead>\n",
              "  <tbody>\n",
              "    <tr>\n",
              "      <th>1900</th>\n",
              "      <td>1540.000</td>\n",
              "    </tr>\n",
              "    <tr>\n",
              "      <th>1901</th>\n",
              "      <td>1610.000</td>\n",
              "    </tr>\n",
              "    <tr>\n",
              "      <th>1902</th>\n",
              "      <td>1600.000</td>\n",
              "    </tr>\n",
              "    <tr>\n",
              "      <th>1903</th>\n",
              "      <td>1505.000</td>\n",
              "    </tr>\n",
              "    <tr>\n",
              "      <th>1904</th>\n",
              "      <td>1280.000</td>\n",
              "    </tr>\n",
              "    <tr>\n",
              "      <th>...</th>\n",
              "      <td>...</td>\n",
              "    </tr>\n",
              "    <tr>\n",
              "      <th>2011</th>\n",
              "      <td>2270.000</td>\n",
              "    </tr>\n",
              "    <tr>\n",
              "      <th>2012</th>\n",
              "      <td>2237.500</td>\n",
              "    </tr>\n",
              "    <tr>\n",
              "      <th>2013</th>\n",
              "      <td>2580.000</td>\n",
              "    </tr>\n",
              "    <tr>\n",
              "      <th>2014</th>\n",
              "      <td>2650.000</td>\n",
              "    </tr>\n",
              "    <tr>\n",
              "      <th>2015</th>\n",
              "      <td>2590.000</td>\n",
              "    </tr>\n",
              "  </tbody>\n",
              "</table>\n",
              "<p>116 rows × 1 columns</p>\n",
              "</div>"
            ],
            "text/plain": [
              "          sqft_living\n",
              "yr_built             \n",
              "1900         1540.000\n",
              "1901         1610.000\n",
              "1902         1600.000\n",
              "1903         1505.000\n",
              "1904         1280.000\n",
              "...               ...\n",
              "2011         2270.000\n",
              "2012         2237.500\n",
              "2013         2580.000\n",
              "2014         2650.000\n",
              "2015         2590.000\n",
              "\n",
              "[116 rows x 1 columns]"
            ]
          },
          "metadata": {
            "tags": []
          },
          "execution_count": 19
        }
      ]
    },
    {
      "cell_type": "markdown",
      "metadata": {
        "id": "krRAe69l0aPw"
      },
      "source": [
        "## 3.9 - Qual o desvio padrão do tamanho das salas dos imóveis por ano de construção?"
      ]
    },
    {
      "cell_type": "code",
      "metadata": {
        "colab": {
          "base_uri": "https://localhost:8080/",
          "height": 450
        },
        "id": "WIqaFKNe0cOH",
        "outputId": "f9be7a68-2d2b-4371-e05c-63e3db1e46d6"
      },
      "source": [
        "data[['sqft_living', 'yr_built']].groupby('yr_built').std()"
      ],
      "execution_count": 20,
      "outputs": [
        {
          "output_type": "execute_result",
          "data": {
            "text/html": [
              "<div>\n",
              "<style scoped>\n",
              "    .dataframe tbody tr th:only-of-type {\n",
              "        vertical-align: middle;\n",
              "    }\n",
              "\n",
              "    .dataframe tbody tr th {\n",
              "        vertical-align: top;\n",
              "    }\n",
              "\n",
              "    .dataframe thead th {\n",
              "        text-align: right;\n",
              "    }\n",
              "</style>\n",
              "<table border=\"1\" class=\"dataframe\">\n",
              "  <thead>\n",
              "    <tr style=\"text-align: right;\">\n",
              "      <th></th>\n",
              "      <th>sqft_living</th>\n",
              "    </tr>\n",
              "    <tr>\n",
              "      <th>yr_built</th>\n",
              "      <th></th>\n",
              "    </tr>\n",
              "  </thead>\n",
              "  <tbody>\n",
              "    <tr>\n",
              "      <th>1900</th>\n",
              "      <td>732.944</td>\n",
              "    </tr>\n",
              "    <tr>\n",
              "      <th>1901</th>\n",
              "      <td>668.232</td>\n",
              "    </tr>\n",
              "    <tr>\n",
              "      <th>1902</th>\n",
              "      <td>878.659</td>\n",
              "    </tr>\n",
              "    <tr>\n",
              "      <th>1903</th>\n",
              "      <td>469.723</td>\n",
              "    </tr>\n",
              "    <tr>\n",
              "      <th>1904</th>\n",
              "      <td>1076.871</td>\n",
              "    </tr>\n",
              "    <tr>\n",
              "      <th>...</th>\n",
              "      <td>...</td>\n",
              "    </tr>\n",
              "    <tr>\n",
              "      <th>2011</th>\n",
              "      <td>804.864</td>\n",
              "    </tr>\n",
              "    <tr>\n",
              "      <th>2012</th>\n",
              "      <td>771.430</td>\n",
              "    </tr>\n",
              "    <tr>\n",
              "      <th>2013</th>\n",
              "      <td>883.499</td>\n",
              "    </tr>\n",
              "    <tr>\n",
              "      <th>2014</th>\n",
              "      <td>893.810</td>\n",
              "    </tr>\n",
              "    <tr>\n",
              "      <th>2015</th>\n",
              "      <td>1155.605</td>\n",
              "    </tr>\n",
              "  </tbody>\n",
              "</table>\n",
              "<p>116 rows × 1 columns</p>\n",
              "</div>"
            ],
            "text/plain": [
              "          sqft_living\n",
              "yr_built             \n",
              "1900          732.944\n",
              "1901          668.232\n",
              "1902          878.659\n",
              "1903          469.723\n",
              "1904         1076.871\n",
              "...               ...\n",
              "2011          804.864\n",
              "2012          771.430\n",
              "2013          883.499\n",
              "2014          893.810\n",
              "2015         1155.605\n",
              "\n",
              "[116 rows x 1 columns]"
            ]
          },
          "metadata": {
            "tags": []
          },
          "execution_count": 20
        }
      ]
    },
    {
      "cell_type": "markdown",
      "metadata": {
        "id": "HbC1f6wJ0c_p"
      },
      "source": [
        "## 3.10 - Como é o crescimento médio de preços de compras dos imóveis, por ano, por dia e pela semana do ano?"
      ]
    },
    {
      "cell_type": "markdown",
      "metadata": {
        "id": "QJVP3F6i5Hwi"
      },
      "source": [
        "Fazendo as analises por graficos"
      ]
    },
    {
      "cell_type": "code",
      "metadata": {
        "id": "Vcy50eGh0ezW"
      },
      "source": [
        "# Fazendo a criação de uma nova feature year\n",
        "data['year'] = pd.to_datetime(data['date']).dt.year"
      ],
      "execution_count": 22,
      "outputs": []
    },
    {
      "cell_type": "code",
      "metadata": {
        "colab": {
          "base_uri": "https://localhost:8080/",
          "height": 111
        },
        "id": "d35qXJDd5uvv",
        "outputId": "1fd53e8d-349d-4ae9-d691-59eded1d8eed"
      },
      "source": [
        "by_year = data[['price', 'year']].groupby('year').sum().reset_index()\n",
        "by_year"
      ],
      "execution_count": 27,
      "outputs": [
        {
          "output_type": "execute_result",
          "data": {
            "text/html": [
              "<div>\n",
              "<style scoped>\n",
              "    .dataframe tbody tr th:only-of-type {\n",
              "        vertical-align: middle;\n",
              "    }\n",
              "\n",
              "    .dataframe tbody tr th {\n",
              "        vertical-align: top;\n",
              "    }\n",
              "\n",
              "    .dataframe thead th {\n",
              "        text-align: right;\n",
              "    }\n",
              "</style>\n",
              "<table border=\"1\" class=\"dataframe\">\n",
              "  <thead>\n",
              "    <tr style=\"text-align: right;\">\n",
              "      <th></th>\n",
              "      <th>year</th>\n",
              "      <th>price</th>\n",
              "    </tr>\n",
              "  </thead>\n",
              "  <tbody>\n",
              "    <tr>\n",
              "      <th>0</th>\n",
              "      <td>2014</td>\n",
              "      <td>7889841842.000</td>\n",
              "    </tr>\n",
              "    <tr>\n",
              "      <th>1</th>\n",
              "      <td>2015</td>\n",
              "      <td>3783083166.000</td>\n",
              "    </tr>\n",
              "  </tbody>\n",
              "</table>\n",
              "</div>"
            ],
            "text/plain": [
              "   year          price\n",
              "0  2014 7889841842.000\n",
              "1  2015 3783083166.000"
            ]
          },
          "metadata": {
            "tags": []
          },
          "execution_count": 27
        }
      ]
    },
    {
      "cell_type": "code",
      "metadata": {
        "colab": {
          "base_uri": "https://localhost:8080/",
          "height": 494
        },
        "id": "HFDUQPRJ5uyX",
        "outputId": "a27a997c-35e9-42aa-e1a9-513e5e951b7e"
      },
      "source": [
        "plt.figure(figsize=(12, 8))\n",
        "plt.bar(by_year['year'], by_year['price'])\n",
        "plt.show()"
      ],
      "execution_count": 37,
      "outputs": [
        {
          "output_type": "display_data",
          "data": {
            "image/png": "[encoded data removed]",
            "text/plain": [
              "<Figure size 864x576 with 1 Axes>"
            ]
          },
          "metadata": {
            "tags": [],
            "needs_background": "light"
          }
        }
      ]
    },
    {
      "cell_type": "code",
      "metadata": {
        "colab": {
          "base_uri": "https://localhost:8080/",
          "height": 419
        },
        "id": "DBeBvR_N5u1M",
        "outputId": "7f38bf44-f992-454a-8121-28bc6a550ceb"
      },
      "source": [
        "# Fazendo a criação de uma nova feature year\n",
        "data['day'] = pd.to_datetime(data['date'])\n",
        "\n",
        "by_day = data[['price', 'day']].groupby('day').mean().reset_index()\n",
        "by_day"
      ],
      "execution_count": 29,
      "outputs": [
        {
          "output_type": "execute_result",
          "data": {
            "text/html": [
              "<div>\n",
              "<style scoped>\n",
              "    .dataframe tbody tr th:only-of-type {\n",
              "        vertical-align: middle;\n",
              "    }\n",
              "\n",
              "    .dataframe tbody tr th {\n",
              "        vertical-align: top;\n",
              "    }\n",
              "\n",
              "    .dataframe thead th {\n",
              "        text-align: right;\n",
              "    }\n",
              "</style>\n",
              "<table border=\"1\" class=\"dataframe\">\n",
              "  <thead>\n",
              "    <tr style=\"text-align: right;\">\n",
              "      <th></th>\n",
              "      <th>day</th>\n",
              "      <th>price</th>\n",
              "    </tr>\n",
              "  </thead>\n",
              "  <tbody>\n",
              "    <tr>\n",
              "      <th>0</th>\n",
              "      <td>2014-05-02</td>\n",
              "      <td>526251.493</td>\n",
              "    </tr>\n",
              "    <tr>\n",
              "      <th>1</th>\n",
              "      <td>2014-05-03</td>\n",
              "      <td>466970.000</td>\n",
              "    </tr>\n",
              "    <tr>\n",
              "      <th>2</th>\n",
              "      <td>2014-05-04</td>\n",
              "      <td>576690.000</td>\n",
              "    </tr>\n",
              "    <tr>\n",
              "      <th>3</th>\n",
              "      <td>2014-05-05</td>\n",
              "      <td>580938.607</td>\n",
              "    </tr>\n",
              "    <tr>\n",
              "      <th>4</th>\n",
              "      <td>2014-05-06</td>\n",
              "      <td>534047.904</td>\n",
              "    </tr>\n",
              "    <tr>\n",
              "      <th>...</th>\n",
              "      <td>...</td>\n",
              "      <td>...</td>\n",
              "    </tr>\n",
              "    <tr>\n",
              "      <th>367</th>\n",
              "      <td>2015-05-13</td>\n",
              "      <td>511623.871</td>\n",
              "    </tr>\n",
              "    <tr>\n",
              "      <th>368</th>\n",
              "      <td>2015-05-14</td>\n",
              "      <td>603436.273</td>\n",
              "    </tr>\n",
              "    <tr>\n",
              "      <th>369</th>\n",
              "      <td>2015-05-15</td>\n",
              "      <td>450000.000</td>\n",
              "    </tr>\n",
              "    <tr>\n",
              "      <th>370</th>\n",
              "      <td>2015-05-24</td>\n",
              "      <td>445500.000</td>\n",
              "    </tr>\n",
              "    <tr>\n",
              "      <th>371</th>\n",
              "      <td>2015-05-27</td>\n",
              "      <td>1310000.000</td>\n",
              "    </tr>\n",
              "  </tbody>\n",
              "</table>\n",
              "<p>372 rows × 2 columns</p>\n",
              "</div>"
            ],
            "text/plain": [
              "           day       price\n",
              "0   2014-05-02  526251.493\n",
              "1   2014-05-03  466970.000\n",
              "2   2014-05-04  576690.000\n",
              "3   2014-05-05  580938.607\n",
              "4   2014-05-06  534047.904\n",
              "..         ...         ...\n",
              "367 2015-05-13  511623.871\n",
              "368 2015-05-14  603436.273\n",
              "369 2015-05-15  450000.000\n",
              "370 2015-05-24  445500.000\n",
              "371 2015-05-27 1310000.000\n",
              "\n",
              "[372 rows x 2 columns]"
            ]
          },
          "metadata": {
            "tags": []
          },
          "execution_count": 29
        }
      ]
    },
    {
      "cell_type": "code",
      "metadata": {
        "colab": {
          "base_uri": "https://localhost:8080/",
          "height": 494
        },
        "id": "qgI8jj5B7CYy",
        "outputId": "3134017f-6b0d-4ca3-b6c4-d64751d3cd1b"
      },
      "source": [
        "plt.figure(figsize=(12, 8))\n",
        "plt.plot(by_day['day'], by_day['price'])\n",
        "plt.show()"
      ],
      "execution_count": 36,
      "outputs": [
        {
          "output_type": "display_data",
          "data": {
            "image/png": "[encoded data removed]",
            "text/plain": [
              "<Figure size 864x576 with 1 Axes>"
            ]
          },
          "metadata": {
            "tags": [],
            "needs_background": "light"
          }
        }
      ]
    },
    {
      "cell_type": "code",
      "metadata": {
        "colab": {
          "base_uri": "https://localhost:8080/",
          "height": 1000
        },
        "id": "L8ISA86M7Cd2",
        "outputId": "2f68211b-908c-4e39-bc26-da9329d958d1"
      },
      "source": [
        "# Fazendo a criação de uma nova feature year\n",
        "data['year_week'] = pd.to_datetime(data['date']).dt.strftime('%Y-%U')\n",
        "\n",
        "by_week_year = data[['price', 'year_week']].groupby('year_week').mean().reset_index()\n",
        "by_week_year"
      ],
      "execution_count": 31,
      "outputs": [
        {
          "output_type": "execute_result",
          "data": {
            "text/html": [
              "<div>\n",
              "<style scoped>\n",
              "    .dataframe tbody tr th:only-of-type {\n",
              "        vertical-align: middle;\n",
              "    }\n",
              "\n",
              "    .dataframe tbody tr th {\n",
              "        vertical-align: top;\n",
              "    }\n",
              "\n",
              "    .dataframe thead th {\n",
              "        text-align: right;\n",
              "    }\n",
              "</style>\n",
              "<table border=\"1\" class=\"dataframe\">\n",
              "  <thead>\n",
              "    <tr style=\"text-align: right;\">\n",
              "      <th></th>\n",
              "      <th>year_week</th>\n",
              "      <th>price</th>\n",
              "    </tr>\n",
              "  </thead>\n",
              "  <tbody>\n",
              "    <tr>\n",
              "      <th>0</th>\n",
              "      <td>2014-17</td>\n",
              "      <td>522911.690</td>\n",
              "    </tr>\n",
              "    <tr>\n",
              "      <th>1</th>\n",
              "      <td>2014-18</td>\n",
              "      <td>543577.095</td>\n",
              "    </tr>\n",
              "    <tr>\n",
              "      <th>2</th>\n",
              "      <td>2014-19</td>\n",
              "      <td>558750.111</td>\n",
              "    </tr>\n",
              "    <tr>\n",
              "      <th>3</th>\n",
              "      <td>2014-20</td>\n",
              "      <td>528149.942</td>\n",
              "    </tr>\n",
              "    <tr>\n",
              "      <th>4</th>\n",
              "      <td>2014-21</td>\n",
              "      <td>572404.350</td>\n",
              "    </tr>\n",
              "    <tr>\n",
              "      <th>5</th>\n",
              "      <td>2014-22</td>\n",
              "      <td>544356.854</td>\n",
              "    </tr>\n",
              "    <tr>\n",
              "      <th>6</th>\n",
              "      <td>2014-23</td>\n",
              "      <td>568966.377</td>\n",
              "    </tr>\n",
              "    <tr>\n",
              "      <th>7</th>\n",
              "      <td>2014-24</td>\n",
              "      <td>586926.500</td>\n",
              "    </tr>\n",
              "    <tr>\n",
              "      <th>8</th>\n",
              "      <td>2014-25</td>\n",
              "      <td>532152.039</td>\n",
              "    </tr>\n",
              "    <tr>\n",
              "      <th>9</th>\n",
              "      <td>2014-26</td>\n",
              "      <td>621287.216</td>\n",
              "    </tr>\n",
              "    <tr>\n",
              "      <th>10</th>\n",
              "      <td>2014-27</td>\n",
              "      <td>554004.522</td>\n",
              "    </tr>\n",
              "    <tr>\n",
              "      <th>11</th>\n",
              "      <td>2014-28</td>\n",
              "      <td>514606.145</td>\n",
              "    </tr>\n",
              "    <tr>\n",
              "      <th>12</th>\n",
              "      <td>2014-29</td>\n",
              "      <td>518187.050</td>\n",
              "    </tr>\n",
              "    <tr>\n",
              "      <th>13</th>\n",
              "      <td>2014-30</td>\n",
              "      <td>549067.146</td>\n",
              "    </tr>\n",
              "    <tr>\n",
              "      <th>14</th>\n",
              "      <td>2014-31</td>\n",
              "      <td>535197.895</td>\n",
              "    </tr>\n",
              "    <tr>\n",
              "      <th>15</th>\n",
              "      <td>2014-32</td>\n",
              "      <td>559313.614</td>\n",
              "    </tr>\n",
              "    <tr>\n",
              "      <th>16</th>\n",
              "      <td>2014-33</td>\n",
              "      <td>506299.195</td>\n",
              "    </tr>\n",
              "    <tr>\n",
              "      <th>17</th>\n",
              "      <td>2014-34</td>\n",
              "      <td>540604.461</td>\n",
              "    </tr>\n",
              "    <tr>\n",
              "      <th>18</th>\n",
              "      <td>2014-35</td>\n",
              "      <td>540991.523</td>\n",
              "    </tr>\n",
              "    <tr>\n",
              "      <th>19</th>\n",
              "      <td>2014-36</td>\n",
              "      <td>549067.976</td>\n",
              "    </tr>\n",
              "    <tr>\n",
              "      <th>20</th>\n",
              "      <td>2014-37</td>\n",
              "      <td>521680.550</td>\n",
              "    </tr>\n",
              "    <tr>\n",
              "      <th>21</th>\n",
              "      <td>2014-38</td>\n",
              "      <td>510428.146</td>\n",
              "    </tr>\n",
              "    <tr>\n",
              "      <th>22</th>\n",
              "      <td>2014-39</td>\n",
              "      <td>529415.097</td>\n",
              "    </tr>\n",
              "    <tr>\n",
              "      <th>23</th>\n",
              "      <td>2014-40</td>\n",
              "      <td>552488.941</td>\n",
              "    </tr>\n",
              "    <tr>\n",
              "      <th>24</th>\n",
              "      <td>2014-41</td>\n",
              "      <td>562489.148</td>\n",
              "    </tr>\n",
              "    <tr>\n",
              "      <th>25</th>\n",
              "      <td>2014-42</td>\n",
              "      <td>512587.278</td>\n",
              "    </tr>\n",
              "    <tr>\n",
              "      <th>26</th>\n",
              "      <td>2014-43</td>\n",
              "      <td>535126.527</td>\n",
              "    </tr>\n",
              "    <tr>\n",
              "      <th>27</th>\n",
              "      <td>2014-44</td>\n",
              "      <td>493564.459</td>\n",
              "    </tr>\n",
              "    <tr>\n",
              "      <th>28</th>\n",
              "      <td>2014-45</td>\n",
              "      <td>535329.096</td>\n",
              "    </tr>\n",
              "    <tr>\n",
              "      <th>29</th>\n",
              "      <td>2014-46</td>\n",
              "      <td>517215.921</td>\n",
              "    </tr>\n",
              "    <tr>\n",
              "      <th>30</th>\n",
              "      <td>2014-47</td>\n",
              "      <td>552669.917</td>\n",
              "    </tr>\n",
              "    <tr>\n",
              "      <th>31</th>\n",
              "      <td>2014-48</td>\n",
              "      <td>518101.096</td>\n",
              "    </tr>\n",
              "    <tr>\n",
              "      <th>32</th>\n",
              "      <td>2014-49</td>\n",
              "      <td>548184.148</td>\n",
              "    </tr>\n",
              "    <tr>\n",
              "      <th>33</th>\n",
              "      <td>2014-50</td>\n",
              "      <td>526101.318</td>\n",
              "    </tr>\n",
              "    <tr>\n",
              "      <th>34</th>\n",
              "      <td>2014-51</td>\n",
              "      <td>472613.320</td>\n",
              "    </tr>\n",
              "    <tr>\n",
              "      <th>35</th>\n",
              "      <td>2014-52</td>\n",
              "      <td>551240.197</td>\n",
              "    </tr>\n",
              "    <tr>\n",
              "      <th>36</th>\n",
              "      <td>2015-00</td>\n",
              "      <td>515415.556</td>\n",
              "    </tr>\n",
              "    <tr>\n",
              "      <th>37</th>\n",
              "      <td>2015-01</td>\n",
              "      <td>546472.502</td>\n",
              "    </tr>\n",
              "    <tr>\n",
              "      <th>38</th>\n",
              "      <td>2015-02</td>\n",
              "      <td>526725.472</td>\n",
              "    </tr>\n",
              "    <tr>\n",
              "      <th>39</th>\n",
              "      <td>2015-03</td>\n",
              "      <td>503844.752</td>\n",
              "    </tr>\n",
              "    <tr>\n",
              "      <th>40</th>\n",
              "      <td>2015-04</td>\n",
              "      <td>525588.150</td>\n",
              "    </tr>\n",
              "    <tr>\n",
              "      <th>41</th>\n",
              "      <td>2015-05</td>\n",
              "      <td>500224.272</td>\n",
              "    </tr>\n",
              "    <tr>\n",
              "      <th>42</th>\n",
              "      <td>2015-06</td>\n",
              "      <td>553647.914</td>\n",
              "    </tr>\n",
              "    <tr>\n",
              "      <th>43</th>\n",
              "      <td>2015-07</td>\n",
              "      <td>483315.374</td>\n",
              "    </tr>\n",
              "    <tr>\n",
              "      <th>44</th>\n",
              "      <td>2015-08</td>\n",
              "      <td>498387.740</td>\n",
              "    </tr>\n",
              "    <tr>\n",
              "      <th>45</th>\n",
              "      <td>2015-09</td>\n",
              "      <td>567058.875</td>\n",
              "    </tr>\n",
              "    <tr>\n",
              "      <th>46</th>\n",
              "      <td>2015-10</td>\n",
              "      <td>519548.313</td>\n",
              "    </tr>\n",
              "    <tr>\n",
              "      <th>47</th>\n",
              "      <td>2015-11</td>\n",
              "      <td>531369.906</td>\n",
              "    </tr>\n",
              "    <tr>\n",
              "      <th>48</th>\n",
              "      <td>2015-12</td>\n",
              "      <td>544597.092</td>\n",
              "    </tr>\n",
              "    <tr>\n",
              "      <th>49</th>\n",
              "      <td>2015-13</td>\n",
              "      <td>584792.260</td>\n",
              "    </tr>\n",
              "    <tr>\n",
              "      <th>50</th>\n",
              "      <td>2015-14</td>\n",
              "      <td>556495.794</td>\n",
              "    </tr>\n",
              "    <tr>\n",
              "      <th>51</th>\n",
              "      <td>2015-15</td>\n",
              "      <td>562553.230</td>\n",
              "    </tr>\n",
              "    <tr>\n",
              "      <th>52</th>\n",
              "      <td>2015-16</td>\n",
              "      <td>577139.018</td>\n",
              "    </tr>\n",
              "    <tr>\n",
              "      <th>53</th>\n",
              "      <td>2015-17</td>\n",
              "      <td>542869.480</td>\n",
              "    </tr>\n",
              "    <tr>\n",
              "      <th>54</th>\n",
              "      <td>2015-18</td>\n",
              "      <td>546921.122</td>\n",
              "    </tr>\n",
              "    <tr>\n",
              "      <th>55</th>\n",
              "      <td>2015-19</td>\n",
              "      <td>565181.149</td>\n",
              "    </tr>\n",
              "    <tr>\n",
              "      <th>56</th>\n",
              "      <td>2015-21</td>\n",
              "      <td>877750.000</td>\n",
              "    </tr>\n",
              "  </tbody>\n",
              "</table>\n",
              "</div>"
            ],
            "text/plain": [
              "   year_week      price\n",
              "0    2014-17 522911.690\n",
              "1    2014-18 543577.095\n",
              "2    2014-19 558750.111\n",
              "3    2014-20 528149.942\n",
              "4    2014-21 572404.350\n",
              "5    2014-22 544356.854\n",
              "6    2014-23 568966.377\n",
              "7    2014-24 586926.500\n",
              "8    2014-25 532152.039\n",
              "9    2014-26 621287.216\n",
              "10   2014-27 554004.522\n",
              "11   2014-28 514606.145\n",
              "12   2014-29 518187.050\n",
              "13   2014-30 549067.146\n",
              "14   2014-31 535197.895\n",
              "15   2014-32 559313.614\n",
              "16   2014-33 506299.195\n",
              "17   2014-34 540604.461\n",
              "18   2014-35 540991.523\n",
              "19   2014-36 549067.976\n",
              "20   2014-37 521680.550\n",
              "21   2014-38 510428.146\n",
              "22   2014-39 529415.097\n",
              "23   2014-40 552488.941\n",
              "24   2014-41 562489.148\n",
              "25   2014-42 512587.278\n",
              "26   2014-43 535126.527\n",
              "27   2014-44 493564.459\n",
              "28   2014-45 535329.096\n",
              "29   2014-46 517215.921\n",
              "30   2014-47 552669.917\n",
              "31   2014-48 518101.096\n",
              "32   2014-49 548184.148\n",
              "33   2014-50 526101.318\n",
              "34   2014-51 472613.320\n",
              "35   2014-52 551240.197\n",
              "36   2015-00 515415.556\n",
              "37   2015-01 546472.502\n",
              "38   2015-02 526725.472\n",
              "39   2015-03 503844.752\n",
              "40   2015-04 525588.150\n",
              "41   2015-05 500224.272\n",
              "42   2015-06 553647.914\n",
              "43   2015-07 483315.374\n",
              "44   2015-08 498387.740\n",
              "45   2015-09 567058.875\n",
              "46   2015-10 519548.313\n",
              "47   2015-11 531369.906\n",
              "48   2015-12 544597.092\n",
              "49   2015-13 584792.260\n",
              "50   2015-14 556495.794\n",
              "51   2015-15 562553.230\n",
              "52   2015-16 577139.018\n",
              "53   2015-17 542869.480\n",
              "54   2015-18 546921.122\n",
              "55   2015-19 565181.149\n",
              "56   2015-21 877750.000"
            ]
          },
          "metadata": {
            "tags": []
          },
          "execution_count": 31
        }
      ]
    },
    {
      "cell_type": "code",
      "metadata": {
        "colab": {
          "base_uri": "https://localhost:8080/",
          "height": 515
        },
        "id": "BibO3Ck48cfp",
        "outputId": "686854e2-c76c-4fbe-8805-5c2129206f20"
      },
      "source": [
        "plt.figure(figsize=(12, 8))\n",
        "plt.plot(by_week_year['year_week'], by_week_year['price'])\n",
        "plt.xticks(rotation=70)\n",
        "plt.show()"
      ],
      "execution_count": 35,
      "outputs": [
        {
          "output_type": "display_data",
          "data": {
            "image/png": "[encoded data removed]",
            "text/plain": [
              "<Figure size 864x576 with 1 Axes>"
            ]
          },
          "metadata": {
            "tags": [],
            "needs_background": "light"
          }
        }
      ]
    },
    {
      "cell_type": "code",
      "metadata": {
        "colab": {
          "base_uri": "https://localhost:8080/",
          "height": 535
        },
        "id": "iOZ13Hsy-fz5",
        "outputId": "b73897c9-cbc7-42fe-e8ce-3ce06764a889"
      },
      "source": [
        "fig = plt.figure(figsize=(20,12))\n",
        "specs = gridspec.GridSpec(ncols=2, nrows=2, figure = fig)\n",
        "\n",
        "ax1 = fig.add_subplot(specs[0, :])\n",
        "ax2 = fig.add_subplot(specs[1, 0])\n",
        "ax3 = fig.add_subplot(specs[1, 1])\n",
        "\n",
        "ax1.bar(by_year['year'], by_year['price'])\n",
        "ax2.plot(by_day['day'], by_day['price'])\n",
        "ax3.plot(by_week_year['year_week'], by_week_year['price'])"
      ],
      "execution_count": 39,
      "outputs": [
        {
          "output_type": "execute_result",
          "data": {
            "text/plain": [
              "[<matplotlib.lines.Line2D at 0x7f296ac23990>]"
            ]
          },
          "metadata": {
            "tags": []
          },
          "execution_count": 39
        },
        {
          "output_type": "display_data",
          "data": {
            "image/png": "[encoded data removed]",
            "text/plain": [
              "<Figure size 1440x864 with 3 Axes>"
            ]
          },
          "metadata": {
            "tags": [],
            "needs_background": "light"
          }
        }
      ]
    },
    {
      "cell_type": "markdown",
      "metadata": {
        "id": "dD1VoDtf0fDX"
      },
      "source": [
        "## 3.11 - Eu gostaria de olhar no mapa e conseguir identificar as casas com o maior preço."
      ]
    },
    {
      "cell_type": "code",
      "metadata": {
        "id": "LK7Au7XI0gZQ"
      },
      "source": [
        ""
      ],
      "execution_count": null,
      "outputs": []
    }
  ]
}